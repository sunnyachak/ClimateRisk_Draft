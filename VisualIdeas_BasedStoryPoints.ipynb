{
 "cells": [
  {
   "cell_type": "code",
   "execution_count": 23,
   "metadata": {},
   "outputs": [],
   "source": [
    "# Import necessary libraries\n",
    "import pandas as pd\n",
    "import matplotlib.pyplot as plt\n",
    "import seaborn as sns\n",
    "\n",
    "# Load the dataset (replace with actual file path)\n",
    "df = pd.read_csv(r\"C:\\Users\\SNZ\\Documents\\ClimateRisk\\DataStory_ClimateRisk\\global trends.csv\")"
   ]
  },
  {
   "cell_type": "code",
   "execution_count": 24,
   "metadata": {},
   "outputs": [
    {
     "name": "stdout",
     "output_type": "stream",
     "text": [
      "      Country_Name Country_Code  Year  CO2_Emissions  Energy_Use  GDP\n",
      "0            Aruba          ABW  1960            NaN         NaN  NaN\n",
      "1            Aruba          ABW  1961            NaN         NaN  NaN\n",
      "2            Aruba          ABW  1962            NaN         NaN  NaN\n",
      "3            Aruba          ABW  1963            NaN         NaN  NaN\n",
      "4            Aruba          ABW  1964            NaN         NaN  NaN\n",
      "...            ...          ...   ...            ...         ...  ...\n",
      "17019     Zimbabwe          ZWE  2019   2.183223e+10    0.663338  NaN\n",
      "17020     Zimbabwe          ZWE  2020   2.150970e+10    0.530484  NaN\n",
      "17021     Zimbabwe          ZWE  2021   2.837124e+10         NaN  NaN\n",
      "17022     Zimbabwe          ZWE  2022   2.736663e+10         NaN  NaN\n",
      "17023     Zimbabwe          ZWE  2023   2.653827e+10         NaN  NaN\n",
      "\n",
      "[17024 rows x 6 columns]\n"
     ]
    }
   ],
   "source": [
    "print(df)"
   ]
  },
  {
   "cell_type": "code",
   "execution_count": 25,
   "metadata": {},
   "outputs": [
    {
     "name": "stdout",
     "output_type": "stream",
     "text": [
      "       Country_Name  Country_Code   Year  CO2_Emissions  Energy_Use   GDP\n",
      "0             False         False  False           True        True  True\n",
      "1             False         False  False           True        True  True\n",
      "2             False         False  False           True        True  True\n",
      "3             False         False  False           True        True  True\n",
      "4             False         False  False           True        True  True\n",
      "...             ...           ...    ...            ...         ...   ...\n",
      "17019         False         False  False          False       False  True\n",
      "17020         False         False  False          False       False  True\n",
      "17021         False         False  False          False        True  True\n",
      "17022         False         False  False          False        True  True\n",
      "17023         False         False  False          False        True  True\n",
      "\n",
      "[17024 rows x 6 columns]\n"
     ]
    }
   ],
   "source": [
    "missing_values = df.isnull()  # or df.isna()\n",
    "print(missing_values)"
   ]
  },
  {
   "cell_type": "code",
   "execution_count": 26,
   "metadata": {},
   "outputs": [
    {
     "name": "stdout",
     "output_type": "stream",
     "text": [
      "                      Country_Name Country_Code  Year  CO2_Emissions  \\\n",
      "94     Africa Eastern and Southern          AFE  1990   2.512118e+11   \n",
      "95     Africa Eastern and Southern          AFE  1991   2.735426e+11   \n",
      "96     Africa Eastern and Southern          AFE  1992   2.394332e+11   \n",
      "97     Africa Eastern and Southern          AFE  1993   2.402714e+11   \n",
      "98     Africa Eastern and Southern          AFE  1994   2.435648e+11   \n",
      "...                            ...          ...   ...            ...   \n",
      "17009                     Zimbabwe          ZWE  2009   9.665793e+09   \n",
      "17010                     Zimbabwe          ZWE  2010   1.204166e+10   \n",
      "17011                     Zimbabwe          ZWE  2011   1.410192e+10   \n",
      "17012                     Zimbabwe          ZWE  2012   1.711485e+10   \n",
      "17013                     Zimbabwe          ZWE  2013   1.909102e+10   \n",
      "\n",
      "       Energy_Use         GDP  \n",
      "94       0.982975  770.037195  \n",
      "95       0.942212  773.326417  \n",
      "96       0.907936  732.667501  \n",
      "97       0.909550  742.813558  \n",
      "98       0.913413  743.131843  \n",
      "...           ...         ...  \n",
      "17009    0.597225  720.587138  \n",
      "17010    0.741290  736.691254  \n",
      "17011    0.871932  787.030033  \n",
      "17012    0.901214  814.910235  \n",
      "17013    0.901248  832.572236  \n",
      "\n",
      "[4596 rows x 6 columns]\n"
     ]
    }
   ],
   "source": [
    "df_clean = df.dropna()\n",
    "\n",
    "# Check the result\n",
    "print(df_clean)\n"
   ]
  },
  {
   "cell_type": "code",
   "execution_count": 27,
   "metadata": {},
   "outputs": [
    {
     "name": "stdout",
     "output_type": "stream",
     "text": [
      "[1990 1991 1992 1993 1994 1995 1996 1997 1998 1999 2000 2001 2002 2003\n",
      " 2004 2005 2006 2007 2008 2009 2010 2011 2012 2013 2014 2015]\n"
     ]
    }
   ],
   "source": [
    "unique_values = df_clean['Year'].unique()\n",
    "print(unique_values)"
   ]
  },
  {
   "cell_type": "code",
   "execution_count": 28,
   "metadata": {},
   "outputs": [
    {
     "name": "stdout",
     "output_type": "stream",
     "text": [
      "<class 'pandas.core.frame.DataFrame'>\n",
      "Index: 4596 entries, 94 to 17013\n",
      "Data columns (total 6 columns):\n",
      " #   Column         Non-Null Count  Dtype  \n",
      "---  ------         --------------  -----  \n",
      " 0   Country_Name   4596 non-null   object \n",
      " 1   Country_Code   4596 non-null   object \n",
      " 2   Year           4596 non-null   int64  \n",
      " 3   CO2_Emissions  4596 non-null   float64\n",
      " 4   Energy_Use     4596 non-null   float64\n",
      " 5   GDP            4596 non-null   float64\n",
      "dtypes: float64(3), int64(1), object(2)\n",
      "memory usage: 251.3+ KB\n"
     ]
    },
    {
     "data": {
      "text/html": [
       "<div>\n",
       "<style scoped>\n",
       "    .dataframe tbody tr th:only-of-type {\n",
       "        vertical-align: middle;\n",
       "    }\n",
       "\n",
       "    .dataframe tbody tr th {\n",
       "        vertical-align: top;\n",
       "    }\n",
       "\n",
       "    .dataframe thead th {\n",
       "        text-align: right;\n",
       "    }\n",
       "</style>\n",
       "<table border=\"1\" class=\"dataframe\">\n",
       "  <thead>\n",
       "    <tr style=\"text-align: right;\">\n",
       "      <th></th>\n",
       "      <th>Year</th>\n",
       "      <th>CO2_Emissions</th>\n",
       "      <th>Energy_Use</th>\n",
       "      <th>GDP</th>\n",
       "    </tr>\n",
       "  </thead>\n",
       "  <tbody>\n",
       "    <tr>\n",
       "      <th>count</th>\n",
       "      <td>4596.000000</td>\n",
       "      <td>4.596000e+03</td>\n",
       "      <td>4596.000000</td>\n",
       "      <td>4596.000000</td>\n",
       "    </tr>\n",
       "    <tr>\n",
       "      <th>mean</th>\n",
       "      <td>2002.261749</td>\n",
       "      <td>1.938688e+12</td>\n",
       "      <td>4.974066</td>\n",
       "      <td>2191.726843</td>\n",
       "    </tr>\n",
       "    <tr>\n",
       "      <th>std</th>\n",
       "      <td>7.195666</td>\n",
       "      <td>6.487109e+12</td>\n",
       "      <td>5.693197</td>\n",
       "      <td>2555.045134</td>\n",
       "    </tr>\n",
       "    <tr>\n",
       "      <th>min</th>\n",
       "      <td>1990.000000</td>\n",
       "      <td>3.668845e+07</td>\n",
       "      <td>0.000000</td>\n",
       "      <td>9.579196</td>\n",
       "    </tr>\n",
       "    <tr>\n",
       "      <th>25%</th>\n",
       "      <td>1996.000000</td>\n",
       "      <td>1.210322e+10</td>\n",
       "      <td>0.953315</td>\n",
       "      <td>584.076343</td>\n",
       "    </tr>\n",
       "    <tr>\n",
       "      <th>50%</th>\n",
       "      <td>2003.000000</td>\n",
       "      <td>7.946107e+10</td>\n",
       "      <td>3.123630</td>\n",
       "      <td>1181.218426</td>\n",
       "    </tr>\n",
       "    <tr>\n",
       "      <th>75%</th>\n",
       "      <td>2008.000000</td>\n",
       "      <td>5.824451e+11</td>\n",
       "      <td>7.311440</td>\n",
       "      <td>2911.698444</td>\n",
       "    </tr>\n",
       "    <tr>\n",
       "      <th>max</th>\n",
       "      <td>2015.000000</td>\n",
       "      <td>7.989439e+13</td>\n",
       "      <td>47.656962</td>\n",
       "      <td>21420.628504</td>\n",
       "    </tr>\n",
       "  </tbody>\n",
       "</table>\n",
       "</div>"
      ],
      "text/plain": [
       "              Year  CO2_Emissions   Energy_Use           GDP\n",
       "count  4596.000000   4.596000e+03  4596.000000   4596.000000\n",
       "mean   2002.261749   1.938688e+12     4.974066   2191.726843\n",
       "std       7.195666   6.487109e+12     5.693197   2555.045134\n",
       "min    1990.000000   3.668845e+07     0.000000      9.579196\n",
       "25%    1996.000000   1.210322e+10     0.953315    584.076343\n",
       "50%    2003.000000   7.946107e+10     3.123630   1181.218426\n",
       "75%    2008.000000   5.824451e+11     7.311440   2911.698444\n",
       "max    2015.000000   7.989439e+13    47.656962  21420.628504"
      ]
     },
     "execution_count": 28,
     "metadata": {},
     "output_type": "execute_result"
    }
   ],
   "source": [
    "df_clean.head()\n",
    "df_clean.head()\n",
    "df_clean.info()\n",
    "df_clean.describe()"
   ]
  },
  {
   "cell_type": "code",
   "execution_count": 29,
   "metadata": {},
   "outputs": [
    {
     "name": "stderr",
     "output_type": "stream",
     "text": [
      "C:\\Users\\SNZ\\AppData\\Local\\Temp\\ipykernel_17008\\3903850934.py:1: SettingWithCopyWarning: \n",
      "A value is trying to be set on a copy of a slice from a DataFrame.\n",
      "Try using .loc[row_indexer,col_indexer] = value instead\n",
      "\n",
      "See the caveats in the documentation: https://pandas.pydata.org/pandas-docs/stable/user_guide/indexing.html#returning-a-view-versus-a-copy\n",
      "  df_clean['Year'] = pd.to_datetime(df_clean['Year'])\n"
     ]
    }
   ],
   "source": [
    "df_clean['Year'] = pd.to_datetime(df_clean['Year'])"
   ]
  },
  {
   "cell_type": "code",
   "execution_count": 30,
   "metadata": {},
   "outputs": [
    {
     "name": "stderr",
     "output_type": "stream",
     "text": [
      "C:\\Users\\SNZ\\AppData\\Local\\Temp\\ipykernel_17008\\3903850934.py:1: SettingWithCopyWarning: \n",
      "A value is trying to be set on a copy of a slice from a DataFrame.\n",
      "Try using .loc[row_indexer,col_indexer] = value instead\n",
      "\n",
      "See the caveats in the documentation: https://pandas.pydata.org/pandas-docs/stable/user_guide/indexing.html#returning-a-view-versus-a-copy\n",
      "  df_clean['Year'] = pd.to_datetime(df_clean['Year'])\n"
     ]
    }
   ],
   "source": [
    "df_clean['Year'] = pd.to_datetime(df_clean['Year'])"
   ]
  },
  {
   "cell_type": "code",
   "execution_count": 43,
   "metadata": {},
   "outputs": [
    {
     "data": {
      "image/png": "[encoded data removed]",
      "text/plain": [
       "<Figure size 1000x600 with 1 Axes>"
      ]
     },
     "metadata": {},
     "output_type": "display_data"
    }
   ],
   "source": [
    "# Create the line plot with improved aesthetics\n",
    "sns.set(style=\"whitegrid\")  # Set a clean style\n",
    "plt.figure(figsize=(10, 6))  # Set a larger figure size\n",
    "sns.lineplot(x='Year', y='CO2_Emissions', data=df, color='blue', linewidth=2.5)\n",
    "\n",
    "# Add labels and title with enhanced styling\n",
    "plt.title('CO2 Emissions Over Time (Metric Tons per Capita)', fontsize=16, fontweight='bold')\n",
    "plt.xlabel('Year', fontsize=14)\n",
    "plt.ylabel('CO2 Emissions (Metric Tons per Capita)', fontsize=14)\n",
    "\n",
    "# Display the plot\n",
    "plt.tight_layout()\n",
    "plt.show()\n",
    "\n"
   ]
  },
  {
   "cell_type": "code",
   "execution_count": 16,
   "metadata": {},
   "outputs": [
    {
     "data": {
      "image/png": "[encoded data removed]",
      "text/plain": [
       "<Figure size 1000x600 with 1 Axes>"
      ]
     },
     "metadata": {},
     "output_type": "display_data"
    }
   ],
   "source": [
    "# Sample data (replace with your actual CO2 emission data in tonnes)\n",
    "co2_emissions_tonnes = [8.2 * 10**12, 12.0 * 10**12, 3.8 * 10**12, 5.2 * 10**12, 3.0 * 10**12, 1.5 * 10**12, 1.3 * 10**12]  # Billion tonnes\n",
    "\n",
    "# Plotting the data\n",
    "import matplotlib.pyplot as plt\n",
    "\n",
    "plt.figure(figsize=(10, 6))\n",
    "plt.bar(range(len(co2_emissions_tonnes)), co2_emissions_tonnes)\n",
    "plt.xlabel('Region')\n",
    "plt.ylabel('CO2 Emissions (Trillion Tonnes)')\n",
    "plt.title('CO2 Emissions by Region (2023 Estimate)')\n",
    "plt.xticks(range(len(co2_emissions_tonnes)), ['Asia (excl. China & India)', 'China', 'India', 'North America', 'Europe', 'South America', 'Africa'])\n",
    "plt.grid(axis='y', linestyle='--', alpha=0.6)\n",
    "plt.tight_layout()\n",
    "\n",
    "plt.show()"
   ]
  },
  {
   "cell_type": "markdown",
   "metadata": {},
   "source": [
    "This shows an overall trend increase in global CO2 emissions over the past several years."
   ]
  },
  {
   "cell_type": "code",
   "execution_count": 32,
   "metadata": {},
   "outputs": [],
   "source": [
    "df1 = pd.read_csv(r\"E:\\Test1.csv\")"
   ]
  },
  {
   "cell_type": "code",
   "execution_count": 33,
   "metadata": {},
   "outputs": [
    {
     "data": {
      "image/png": "[encoded data removed]",
      "text/plain": [
       "<Figure size 1200x600 with 1 Axes>"
      ]
     },
     "metadata": {},
     "output_type": "display_data"
    }
   ],
   "source": [
    "import pandas as pd\n",
    "import matplotlib.pyplot as plt\n",
    "import seaborn as sns\n",
    "\n",
    "# Assuming your data is in a DataFrame named 'df'\n",
    "# Replace 'your_data.csv' with your actual file path\n",
    "df = df\n",
    "\n",
    "# Filter for the four countries\n",
    "data_four_countries = df[df['Country_Name'].isin(['China', 'Germany', 'India', 'United States','United Kingdom'])]\n",
    "\n",
    "# Create a line plot with enhanced customization\n",
    "plt.figure(figsize=(12, 6))  # Adjust figure size for better readability\n",
    "\n",
    "# Customize line styles and colors\n",
    "sns.lineplot(\n",
    "    x='Year',\n",
    "    y='CO2_Emissions',\n",
    "    data=data_four_countries,\n",
    "    hue='Country_Name',\n",
    "    style='Country_Name',  # Use different line styles for each country\n",
    "    markers=True,  # Add markers to emphasize data points\n",
    "    palette='Set2'  # Use a color palette from Seaborn's built-in options\n",
    ")\n",
    "\n",
    "# Add a grid for better readability\n",
    "plt.grid(True, linestyle='--', linewidth=0.5, color='gray', which='both', axis='y')\n",
    "\n",
    "# Customize labels and title\n",
    "plt.title('CO2 Emissions Over Time (China, Germany, India, United States,United Kingdom)', fontsize=16)\n",
    "plt.xlabel('Year', fontsize=14)\n",
    "plt.ylabel('CO2 Emissions (tons)', fontsize=14)\n",
    "\n",
    "# Rotate x-axis labels for better spacing if needed (adjust angle as necessary)\n",
    "plt.xticks(rotation=45)\n",
    "\n",
    "# Customize legend with title and improved readability\n",
    "plt.legend(title='Country', loc='upper left', bbox_to_anchor=(1.05, 1), fontsize=12)\n",
    "\n",
    "# Show the plot\n",
    "plt.tight_layout()  # Adjust spacing to prevent overlapping elements\n",
    "plt.show()\n"
   ]
  },
  {
   "cell_type": "markdown",
   "metadata": {},
   "source": [
    " The chart demonstrates a comparison between some countries with different economic situations, \n",
    "the global trend of increasing CO2 emissions, particularly from emerging economies like China and India.\n",
    "It seems that European countries like Germany and the UK are under control in these years,\n",
    "Also, CO2 emissions in the US are increasing at an increasingly predictable slope."
   ]
  },
  {
   "cell_type": "code",
   "execution_count": 34,
   "metadata": {},
   "outputs": [
    {
     "data": {
      "image/png": "[encoded data removed]",
      "text/plain": [
       "<Figure size 1200x700 with 1 Axes>"
      ]
     },
     "metadata": {},
     "output_type": "display_data"
    }
   ],
   "source": [
    "import matplotlib.pyplot as plt\n",
    "\n",
    "plt.figure(figsize=(12, 7), facecolor='#f2f2f2')  # Adjust size and background color\n",
    "bars = plt.bar(df['Year'], df['CO2_Emissions'], color='#2ca02c', alpha=0.7, edgecolor='#222222', linewidth=1)\n",
    "plt.xlabel('Year', fontsize=14, fontweight='bold')\n",
    "plt.ylabel('CO2 Emissions (Million Metric Tons)', fontsize=14, fontweight='bold')\n",
    "plt.title('CO2 Emissions Over Time (1960 - 2023)', fontsize=16)  # Replace XX with your actual data range\n",
    "\n",
    "# Customize grid and axes\n",
    "plt.grid(axis='y', linestyle='--', alpha=0.6, color='#cccccc')\n",
    "plt.tick_params(bottom=False, left=True, labelsize=12)  # Remove x-axis ticks, adjust y-axis tick size\n",
    "\n",
    "# Rotate x-axis labels for readability if needed\n",
    "plt.xticks(rotation=45, ha='right')  # Uncomment this line to rotate x-axis labels\n",
    "\n",
    "# Display the plot\n",
    "plt.tight_layout()  # Adjust spacing between elements\n",
    "plt.show()"
   ]
  },
  {
   "cell_type": "code",
   "execution_count": 76,
   "metadata": {},
   "outputs": [
    {
     "data": {
      "application/vnd.plotly.v1+json": {
       "config": {
        "plotlyServerURL": "https://plot.ly"
       },
       "data": [
        {
         "hovertemplate": "Country_Name=China<br>GDP (in Billion USD)=%{marker.size}<br>Energy Use (in tonnes of oil equivalent per capita)=%{y}<extra></extra>",
         "legendgroup": "China",
         "marker": {
          "color": "#636efa",
          "size": [
           766.9953294,
           736.8518014,
           752.6286625,
           788.1287236,
           816.16289,
           866.8343743,
           881.6537374,
           871.7563238,
           869.3586073,
           878.5245355,
           898.9873131,
           928.8114337,
           984.8107146,
           1118.431773,
           1268.132904,
           1393.691324,
           1515.173678,
           1630.171029,
           1672.90412,
           1778.433519,
           1954.722556,
           2085.083022,
           2149.602569,
           2204.243299,
           2224.354898
          ],
          "sizemode": "area",
          "sizeref": 20.142159624999998,
          "symbol": "circle"
         },
         "mode": "markers",
         "name": "China",
         "orientation": "v",
         "showlegend": true,
         "type": "scatter",
         "x": [
          766.9953294,
          736.8518014,
          752.6286625,
          788.1287236,
          816.16289,
          866.8343743,
          881.6537374,
          871.7563238,
          869.3586073,
          878.5245355,
          898.9873131,
          928.8114337,
          984.8107146,
          1118.431773,
          1268.132904,
          1393.691324,
          1515.173678,
          1630.171029,
          1672.90412,
          1778.433519,
          1954.722556,
          2085.083022,
          2149.602569,
          2204.243299,
          2224.354898
         ],
         "xaxis": "x",
         "y": [
          0.001914546263,
          0.0020005432839999998,
          0.002075740405,
          0.002244842079,
          0.002322189229,
          0.002563478759,
          0.0025218718739999997,
          0.002547903664,
          0.002605835732,
          0.0025174207630000002,
          0.002650409102,
          0.0027747621969999997,
          0.002964821228,
          0.003434036479,
          0.003945154871,
          0.004467696361,
          0.0049102761969999995,
          0.005306368006,
          0.005435079096,
          0.005798319937999999,
          0.006335419767,
          0.006901347326,
          0.00704520023,
          0.007320154925,
          0.007304712872
         ],
         "yaxis": "y"
        },
        {
         "hovertemplate": "Country_Name=Germany<br>GDP (in Billion USD)=%{marker.size}<br>Energy Use (in tonnes of oil equivalent per capita)=%{y}<extra></extra>",
         "legendgroup": "Germany",
         "marker": {
          "color": "#EF553B",
          "size": [
           4421.364531,
           4302.891175,
           4190.98422,
           4122.69574,
           4088.79813,
           4119.688948,
           4246.553191,
           4203.357367,
           4177.294129,
           4079.933344,
           4094.06036,
           4209.796087,
           4108.401299,
           4084.503346,
           4114.389928,
           4086.503407,
           4204.654689,
           3985.811955,
           4036.830781,
           3790.501152,
           3997.079421,
           3869.816229,
           3876.948104,
           3939.529563,
           3779.461921,
           3817.549415
          ],
          "sizemode": "area",
          "sizeref": 20.142159624999998,
          "symbol": "circle"
         },
         "mode": "markers",
         "name": "Germany",
         "orientation": "v",
         "showlegend": true,
         "type": "scatter",
         "x": [
          4421.364531,
          4302.891175,
          4190.98422,
          4122.69574,
          4088.79813,
          4119.688948,
          4246.553191,
          4203.357367,
          4177.294129,
          4079.933344,
          4094.06036,
          4209.796087,
          4108.401299,
          4084.503346,
          4114.389928,
          4086.503407,
          4204.654689,
          3985.811955,
          4036.830781,
          3790.501152,
          3997.079421,
          3869.816229,
          3876.948104,
          3939.529563,
          3779.461921,
          3817.549415
         ],
         "xaxis": "x",
         "y": [
          0.01202658028,
          0.01165482681,
          0.0110737594,
          0.010930221209999999,
          0.010755339729999999,
          0.01070862232,
          0.0110399715,
          0.010637519790000001,
          0.01054580477,
          0.0101533792,
          0.01009936589,
          0.01029361229,
          0.01010301134,
          0.01013876361,
          0.00995044613,
          0.009729463121,
          0.009886479572000001,
          0.009527623267,
          0.009617457887,
          0.008971731407,
          0.009453388627,
          0.009299002904,
          0.009451289047,
          0.009624229367,
          0.009088527768000001,
          0.009087344804000001
         ],
         "yaxis": "y"
        },
        {
         "hovertemplate": "Country_Name=United Kingdom<br>GDP (in Billion USD)=%{marker.size}<br>Energy Use (in tonnes of oil equivalent per capita)=%{y}<extra></extra>",
         "legendgroup": "United Kingdom",
         "marker": {
          "color": "#00cc96",
          "size": [
           3597.051621,
           3707.951971,
           3684.724535,
           3713.185819,
           3732.521114,
           3728.963152,
           3879.822786,
           3760.712365,
           3787.108452,
           3784.074088,
           3785.753126,
           3784.928174,
           3685.869487,
           3731.609718,
           3694.478595,
           3686.359905,
           3598.810406,
           3441.640219,
           3361.980517,
           3145.585662,
           3230.615984,
           2972.153065,
           3042.859871,
           2987.700589,
           2777.310987,
           2764.516671
          ],
          "sizemode": "area",
          "sizeref": 20.142159624999998,
          "symbol": "circle"
         },
         "mode": "markers",
         "name": "United Kingdom",
         "orientation": "v",
         "showlegend": true,
         "type": "scatter",
         "x": [
          3597.051621,
          3707.951971,
          3684.724535,
          3713.185819,
          3732.521114,
          3728.963152,
          3879.822786,
          3760.712365,
          3787.108452,
          3784.074088,
          3785.753126,
          3784.928174,
          3685.869487,
          3731.609718,
          3694.478595,
          3686.359905,
          3598.810406,
          3441.640219,
          3361.980517,
          3145.585662,
          3230.615984,
          2972.153065,
          3042.859871,
          2987.700589,
          2777.310987,
          2764.516671
         ],
         "xaxis": "x",
         "y": [
          0.009813068799,
          0.009937877642,
          0.009688810438999999,
          0.009379580735999999,
          0.009248704912,
          0.009079920847,
          0.009377801312,
          0.008988658770000001,
          0.008993440114,
          0.008908156654,
          0.009014527721,
          0.009223024626999999,
          0.008940232738,
          0.009104093196999999,
          0.009053089952,
          0.008955400659000001,
          0.008908613466,
          0.008651030537,
          0.008337820015,
          0.007490694289,
          0.007689567494,
          0.007044843239999999,
          0.007344260926,
          0.007076100428,
          0.006433347000000001,
          0.006159376360999999
         ],
         "yaxis": "y"
        },
        {
         "hovertemplate": "Country_Name=India<br>GDP (in Billion USD)=%{marker.size}<br>Energy Use (in tonnes of oil equivalent per capita)=%{y}<extra></extra>",
         "legendgroup": "India",
         "marker": {
          "color": "#ab63fa",
          "size": [
           351.2121381,
           358.3040361,
           363.7716254,
           364.92868,
           371.3593888,
           384.9494693,
           389.063748,
           396.8091963,
           398.7357669,
           413.9886369,
           416.0832875,
           414.4834306,
           419.3542748,
           422.0570988,
           437.1330757,
           447.0279363,
           463.3997779,
           482.4564401,
           499.0387996,
           541.9943768,
           558.7865616,
           574.6241119,
           595.0623412,
           600.9660369,
           630.9008678
          ],
          "sizemode": "area",
          "sizeref": 20.142159624999998,
          "symbol": "circle"
         },
         "mode": "markers",
         "name": "India",
         "orientation": "v",
         "showlegend": true,
         "type": "scatter",
         "x": [
          351.2121381,
          358.3040361,
          363.7716254,
          364.92868,
          371.3593888,
          384.9494693,
          389.063748,
          396.8091963,
          398.7357669,
          413.9886369,
          416.0832875,
          414.4834306,
          419.3542748,
          422.0570988,
          437.1330757,
          447.0279363,
          463.3997779,
          482.4564401,
          499.0387996,
          541.9943768,
          558.7865616,
          574.6241119,
          595.0623412,
          600.9660369,
          630.9008678
         ],
         "xaxis": "x",
         "y": [
          0.0006474513160000001,
          0.000683086373,
          0.00069007405,
          0.000703136167,
          0.000725622135,
          0.00076518964,
          0.0007872317559999999,
          0.0008173600760000001,
          0.0008187209629999999,
          0.000866242339,
          0.0008850779490000001,
          0.0008837469980000001,
          0.0008972426489999999,
          0.000905456602,
          0.0009554701570000001,
          0.000984261473,
          0.001036533922,
          0.0011235994819999999,
          0.001180361247,
          0.001278873603,
          0.001338033835,
          0.001396878498,
          0.001498204123,
          0.0015276744,
          0.0016424652769999998
         ],
         "yaxis": "y"
        },
        {
         "hovertemplate": "Country_Name=Norway<br>GDP (in Billion USD)=%{marker.size}<br>Energy Use (in tonnes of oil equivalent per capita)=%{y}<extra></extra>",
         "legendgroup": "Norway",
         "marker": {
          "color": "#FFA15A",
          "size": [
           4966.893577,
           5105.108205,
           5159.648619,
           5459.623408,
           5315.24487,
           5391.414081,
           5202.047275,
           5475.188739,
           5684.788594,
           5913.302209,
           5826.077769,
           5954.041771,
           5501.117744,
           5933.215841,
           5769.326707,
           5802.71629,
           5833.773935,
           5862.217261,
           6752.708982,
           6484.118585,
           6934.590199,
           5649.697724,
           5906.141048,
           6415.990714,
           5595.654625,
           5817.636603
          ],
          "sizemode": "area",
          "sizeref": 20.142159624999998,
          "symbol": "circle"
         },
         "mode": "markers",
         "name": "Norway",
         "orientation": "v",
         "showlegend": true,
         "type": "scatter",
         "x": [
          4966.893577,
          5105.108205,
          5159.648619,
          5459.623408,
          5315.24487,
          5391.414081,
          5202.047275,
          5475.188739,
          5684.788594,
          5913.302209,
          5826.077769,
          5954.041771,
          5501.117744,
          5933.215841,
          5769.326707,
          5802.71629,
          5833.773935,
          5862.217261,
          6752.708982,
          6484.118585,
          6934.590199,
          5649.697724,
          5906.141048,
          6415.990714,
          5595.654625,
          5817.636603
         ],
         "xaxis": "x",
         "y": [
          0.006909250631,
          0.006411782814999999,
          0.007045047815,
          0.007520563007,
          0.007935317263,
          0.007888907649,
          0.007896472674,
          0.008295618067999999,
          0.00854965763,
          0.008898066816,
          0.007633790228,
          0.007695417846,
          0.007575979599,
          0.008146326663,
          0.008134915535999999,
          0.007865911966,
          0.007983947396,
          0.008018448328,
          0.0077330454270000005,
          0.007753452981,
          0.008205017864,
          0.007888270913,
          0.007725323513,
          0.007801169496,
          0.007716801577,
          0.007764858661
         ],
         "yaxis": "y"
        },
        {
         "hovertemplate": "Country_Name=Russian Federation<br>GDP (in Billion USD)=%{marker.size}<br>Energy Use (in tonnes of oil equivalent per capita)=%{y}<extra></extra>",
         "legendgroup": "Russian Federation",
         "marker": {
          "color": "#19d3f3",
          "size": [
           5941.586297,
           5870.233857,
           5356.50974,
           5059.864625,
           4426.668195,
           4290.693467,
           4252.611619,
           4069.687292,
           3981.499468,
           4136.751144,
           4224.277198,
           4288.382631,
           4288.193851,
           4461.30532,
           4493.687215,
           4540.908156,
           4688.391023,
           4709.844887,
           4823.125995,
           4531.286494,
           4819.040782,
           5047.404045,
           5160.641578,
           5068.079494,
           4928.566227
          ],
          "sizemode": "area",
          "sizeref": 20.142159624999998,
          "symbol": "circle"
         },
         "mode": "markers",
         "name": "Russian Federation",
         "orientation": "v",
         "showlegend": true,
         "type": "scatter",
         "x": [
          5941.586297,
          5870.233857,
          5356.50974,
          5059.864625,
          4426.668195,
          4290.693467,
          4252.611619,
          4069.687292,
          3981.499468,
          4136.751144,
          4224.277198,
          4288.382631,
          4288.193851,
          4461.30532,
          4493.687215,
          4540.908156,
          4688.391023,
          4709.844887,
          4823.125995,
          4531.286494,
          4819.040782,
          5047.404045,
          5160.641578,
          5068.079494,
          4928.566227
         ],
         "xaxis": "x",
         "y": [
          0.01462148939,
          0.01439708607,
          0.01367197624,
          0.0126650949,
          0.011354154080000001,
          0.01102258551,
          0.010807067399999998,
          0.01006999199,
          0.010076231460000001,
          0.01035032856,
          0.0106676603,
          0.01073578414,
          0.01077263875,
          0.011130398080000001,
          0.01111271137,
          0.01123185215,
          0.0115683691,
          0.011611269050000001,
          0.011595654090000001,
          0.01083210863,
          0.01132540095,
          0.01188018909,
          0.01168764159,
          0.011353377540000001,
          0.011175760779999998
         ],
         "yaxis": "y"
        },
        {
         "hovertemplate": "Country_Name=Saudi Arabia<br>GDP (in Billion USD)=%{marker.size}<br>Energy Use (in tonnes of oil equivalent per capita)=%{y}<extra></extra>",
         "legendgroup": "Saudi Arabia",
         "marker": {
          "color": "#FF6692",
          "size": [
           3624.202933,
           4054.280714,
           4451.433308,
           4474.775643,
           4574.85384,
           4473.878382,
           4660.338027,
           4326.536809,
           4490.426219,
           4454.621541,
           4541.47254,
           4548.1107,
           4917.522885,
           4862.626927,
           5063.118761,
           5022.966275,
           5349.890142,
           5315.186612,
           5705.367424,
           5850.451504,
           6306.593695,
           5907.6882,
           6500.283195,
           6104.381107,
           6645.960208
          ],
          "sizemode": "area",
          "sizeref": 20.142159624999998,
          "symbol": "circle"
         },
         "mode": "markers",
         "name": "Saudi Arabia",
         "orientation": "v",
         "showlegend": true,
         "type": "scatter",
         "x": [
          3624.202933,
          4054.280714,
          4451.433308,
          4474.775643,
          4574.85384,
          4473.878382,
          4660.338027,
          4326.536809,
          4490.426219,
          4454.621541,
          4541.47254,
          4548.1107,
          4917.522885,
          4862.626927,
          5063.118761,
          5022.966275,
          5349.890142,
          5315.186612,
          5705.367424,
          5850.451504,
          6306.593695,
          5907.6882,
          6500.283195,
          6104.381107,
          6645.960208
         ],
         "xaxis": "x",
         "y": [
          0.01070951816,
          0.01128388289,
          0.011690735970000001,
          0.011388958289999999,
          0.01123501214,
          0.010843985950000001,
          0.01121325401,
          0.01103764364,
          0.01142497917,
          0.01140049387,
          0.01158631277,
          0.011504347409999999,
          0.012034045259999999,
          0.01230314813,
          0.012673985010000001,
          0.01292310028,
          0.01321498712,
          0.013432442670000001,
          0.01420375355,
          0.01427220886,
          0.015168386269999999,
          0.01538139849,
          0.01597801577,
          0.01598391907,
          0.01682523613
         ],
         "yaxis": "y"
        },
        {
         "hovertemplate": "Country_Name=United States<br>GDP (in Billion USD)=%{marker.size}<br>Energy Use (in tonnes of oil equivalent per capita)=%{y}<extra></extra>",
         "legendgroup": "United States",
         "marker": {
          "color": "#B6E880",
          "size": [
           7671.773066,
           7631.467806,
           7677.401401,
           7709.496589,
           7757.830822,
           7763.755106,
           7844.468266,
           7828.581096,
           7803.697605,
           7923.223893,
           8056.86385,
           7827.886325,
           7843.344849,
           7794.23553,
           7881.578642,
           7846.499688,
           7697.652535,
           7758.165986,
           7488.081921,
           7056.783653,
           7161.426552,
           7029.954601,
           6872.027284,
           6905.598633,
           6960.683997,
           6803.996607
          ],
          "sizemode": "area",
          "sizeref": 20.142159624999998,
          "symbol": "circle"
         },
         "mode": "markers",
         "name": "United States",
         "orientation": "v",
         "showlegend": true,
         "type": "scatter",
         "x": [
          7671.773066,
          7631.467806,
          7677.401401,
          7709.496589,
          7757.830822,
          7763.755106,
          7844.468266,
          7828.581096,
          7803.697605,
          7923.223893,
          8056.86385,
          7827.886325,
          7843.344849,
          7794.23553,
          7881.578642,
          7846.499688,
          7697.652535,
          7758.165986,
          7488.081921,
          7056.783653,
          7161.426552,
          7029.954601,
          6872.027284,
          6905.598633,
          6960.683997,
          6803.996607
         ],
         "xaxis": "x",
         "y": [
          0.01940733586,
          0.019003389580000002,
          0.01902284515,
          0.01921833148,
          0.019256185250000002,
          0.019216897,
          0.019575366559999998,
          0.02033085305,
          0.020266286879999998,
          0.02010112278,
          0.02046979674,
          0.020171536929999997,
          0.01944553028,
          0.01950650553,
          0.01959761671,
          0.01946927252,
          0.01894591684,
          0.01904291178,
          0.018278491259999998,
          0.01680868142,
          0.017431736990000002,
          0.01660418962,
          0.01578976015,
          0.01611117526,
          0.016040916760000003,
          0.015560015440000002
         ],
         "yaxis": "y"
        },
        {
         "hovertemplate": "Country_Name=South Africa<br>GDP (in Billion USD)=%{marker.size}<br>Energy Use (in tonnes of oil equivalent per capita)=%{y}<extra></extra>",
         "legendgroup": "South Africa",
         "marker": {
          "color": "#FF97FF",
          "size": [
           2280.882812,
           2321.646041,
           2121.275202,
           2232.497747,
           2268.846257,
           2354.007213,
           2369.140893,
           2399.682054,
           2354.516905,
           2356.632778,
           2329.283456,
           2374.609065,
           2308.573391,
           2445.833685,
           2645.557772,
           2616.447057,
           2572.617993,
           2726.96447,
           2904.276292,
           2813.427151,
           2737.735276,
           2693.910674,
           2621.186913,
           2593.835487,
           2686.376196
          ],
          "sizemode": "area",
          "sizeref": 20.142159624999998,
          "symbol": "circle"
         },
         "mode": "markers",
         "name": "South Africa",
         "orientation": "v",
         "showlegend": true,
         "type": "scatter",
         "x": [
          2280.882812,
          2321.646041,
          2121.275202,
          2232.497747,
          2268.846257,
          2354.007213,
          2369.140893,
          2399.682054,
          2354.516905,
          2356.632778,
          2329.283456,
          2374.609065,
          2308.573391,
          2445.833685,
          2645.557772,
          2616.447057,
          2572.617993,
          2726.96447,
          2904.276292,
          2813.427151,
          2737.735276,
          2693.910674,
          2621.186913,
          2593.835487,
          2686.376196
         ],
         "xaxis": "x",
         "y": [
          0.0062093728380000004,
          0.005922276229,
          0.00571782287,
          0.005795258086,
          0.00582621348,
          0.0060076159540000005,
          0.006136002328,
          0.006372628776,
          0.006459823512,
          0.0060017861440000006,
          0.0060765531719999995,
          0.00678372306,
          0.0069505135740000005,
          0.0073389561729999995,
          0.007824764075,
          0.007704297845,
          0.0076727121990000004,
          0.007943858574,
          0.008446649685,
          0.007902048941,
          0.008217612227,
          0.007808053742,
          0.008034649259,
          0.008116434954000001,
          0.008191152527
         ],
         "yaxis": "y"
        }
       ],
       "layout": {
        "legend": {
         "itemsizing": "constant",
         "title": {
          "text": "Country"
         },
         "tracegroupgap": 0
        },
        "template": {
         "data": {
          "bar": [
           {
            "error_x": {
             "color": "#2a3f5f"
            },
            "error_y": {
             "color": "#2a3f5f"
            },
            "marker": {
             "line": {
              "color": "white",
              "width": 0.5
             },
             "pattern": {
              "fillmode": "overlay",
              "size": 10,
              "solidity": 0.2
             }
            },
            "type": "bar"
           }
          ],
          "barpolar": [
           {
            "marker": {
             "line": {
              "color": "white",
              "width": 0.5
             },
             "pattern": {
              "fillmode": "overlay",
              "size": 10,
              "solidity": 0.2
             }
            },
            "type": "barpolar"
           }
          ],
          "carpet": [
           {
            "aaxis": {
             "endlinecolor": "#2a3f5f",
             "gridcolor": "#C8D4E3",
             "linecolor": "#C8D4E3",
             "minorgridcolor": "#C8D4E3",
             "startlinecolor": "#2a3f5f"
            },
            "baxis": {
             "endlinecolor": "#2a3f5f",
             "gridcolor": "#C8D4E3",
             "linecolor": "#C8D4E3",
             "minorgridcolor": "#C8D4E3",
             "startlinecolor": "#2a3f5f"
            },
            "type": "carpet"
           }
          ],
          "choropleth": [
           {
            "colorbar": {
             "outlinewidth": 0,
             "ticks": ""
            },
            "type": "choropleth"
           }
          ],
          "contour": [
           {
            "colorbar": {
             "outlinewidth": 0,
             "ticks": ""
            },
            "colorscale": [
             [
              0,
              "#0d0887"
             ],
             [
              0.1111111111111111,
              "#46039f"
             ],
             [
              0.2222222222222222,
              "#7201a8"
             ],
             [
              0.3333333333333333,
              "#9c179e"
             ],
             [
              0.4444444444444444,
              "#bd3786"
             ],
             [
              0.5555555555555556,
              "#d8576b"
             ],
             [
              0.6666666666666666,
              "#ed7953"
             ],
             [
              0.7777777777777778,
              "#fb9f3a"
             ],
             [
              0.8888888888888888,
              "#fdca26"
             ],
             [
              1,
              "#f0f921"
             ]
            ],
            "type": "contour"
           }
          ],
          "contourcarpet": [
           {
            "colorbar": {
             "outlinewidth": 0,
             "ticks": ""
            },
            "type": "contourcarpet"
           }
          ],
          "heatmap": [
           {
            "colorbar": {
             "outlinewidth": 0,
             "ticks": ""
            },
            "colorscale": [
             [
              0,
              "#0d0887"
             ],
             [
              0.1111111111111111,
              "#46039f"
             ],
             [
              0.2222222222222222,
              "#7201a8"
             ],
             [
              0.3333333333333333,
              "#9c179e"
             ],
             [
              0.4444444444444444,
              "#bd3786"
             ],
             [
              0.5555555555555556,
              "#d8576b"
             ],
             [
              0.6666666666666666,
              "#ed7953"
             ],
             [
              0.7777777777777778,
              "#fb9f3a"
             ],
             [
              0.8888888888888888,
              "#fdca26"
             ],
             [
              1,
              "#f0f921"
             ]
            ],
            "type": "heatmap"
           }
          ],
          "heatmapgl": [
           {
            "colorbar": {
             "outlinewidth": 0,
             "ticks": ""
            },
            "colorscale": [
             [
              0,
              "#0d0887"
             ],
             [
              0.1111111111111111,
              "#46039f"
             ],
             [
              0.2222222222222222,
              "#7201a8"
             ],
             [
              0.3333333333333333,
              "#9c179e"
             ],
             [
              0.4444444444444444,
              "#bd3786"
             ],
             [
              0.5555555555555556,
              "#d8576b"
             ],
             [
              0.6666666666666666,
              "#ed7953"
             ],
             [
              0.7777777777777778,
              "#fb9f3a"
             ],
             [
              0.8888888888888888,
              "#fdca26"
             ],
             [
              1,
              "#f0f921"
             ]
            ],
            "type": "heatmapgl"
           }
          ],
          "histogram": [
           {
            "marker": {
             "pattern": {
              "fillmode": "overlay",
              "size": 10,
              "solidity": 0.2
             }
            },
            "type": "histogram"
           }
          ],
          "histogram2d": [
           {
            "colorbar": {
             "outlinewidth": 0,
             "ticks": ""
            },
            "colorscale": [
             [
              0,
              "#0d0887"
             ],
             [
              0.1111111111111111,
              "#46039f"
             ],
             [
              0.2222222222222222,
              "#7201a8"
             ],
             [
              0.3333333333333333,
              "#9c179e"
             ],
             [
              0.4444444444444444,
              "#bd3786"
             ],
             [
              0.5555555555555556,
              "#d8576b"
             ],
             [
              0.6666666666666666,
              "#ed7953"
             ],
             [
              0.7777777777777778,
              "#fb9f3a"
             ],
             [
              0.8888888888888888,
              "#fdca26"
             ],
             [
              1,
              "#f0f921"
             ]
            ],
            "type": "histogram2d"
           }
          ],
          "histogram2dcontour": [
           {
            "colorbar": {
             "outlinewidth": 0,
             "ticks": ""
            },
            "colorscale": [
             [
              0,
              "#0d0887"
             ],
             [
              0.1111111111111111,
              "#46039f"
             ],
             [
              0.2222222222222222,
              "#7201a8"
             ],
             [
              0.3333333333333333,
              "#9c179e"
             ],
             [
              0.4444444444444444,
              "#bd3786"
             ],
             [
              0.5555555555555556,
              "#d8576b"
             ],
             [
              0.6666666666666666,
              "#ed7953"
             ],
             [
              0.7777777777777778,
              "#fb9f3a"
             ],
             [
              0.8888888888888888,
              "#fdca26"
             ],
             [
              1,
              "#f0f921"
             ]
            ],
            "type": "histogram2dcontour"
           }
          ],
          "mesh3d": [
           {
            "colorbar": {
             "outlinewidth": 0,
             "ticks": ""
            },
            "type": "mesh3d"
           }
          ],
          "parcoords": [
           {
            "line": {
             "colorbar": {
              "outlinewidth": 0,
              "ticks": ""
             }
            },
            "type": "parcoords"
           }
          ],
          "pie": [
           {
            "automargin": true,
            "type": "pie"
           }
          ],
          "scatter": [
           {
            "fillpattern": {
             "fillmode": "overlay",
             "size": 10,
             "solidity": 0.2
            },
            "type": "scatter"
           }
          ],
          "scatter3d": [
           {
            "line": {
             "colorbar": {
              "outlinewidth": 0,
              "ticks": ""
             }
            },
            "marker": {
             "colorbar": {
              "outlinewidth": 0,
              "ticks": ""
             }
            },
            "type": "scatter3d"
           }
          ],
          "scattercarpet": [
           {
            "marker": {
             "colorbar": {
              "outlinewidth": 0,
              "ticks": ""
             }
            },
            "type": "scattercarpet"
           }
          ],
          "scattergeo": [
           {
            "marker": {
             "colorbar": {
              "outlinewidth": 0,
              "ticks": ""
             }
            },
            "type": "scattergeo"
           }
          ],
          "scattergl": [
           {
            "marker": {
             "colorbar": {
              "outlinewidth": 0,
              "ticks": ""
             }
            },
            "type": "scattergl"
           }
          ],
          "scattermapbox": [
           {
            "marker": {
             "colorbar": {
              "outlinewidth": 0,
              "ticks": ""
             }
            },
            "type": "scattermapbox"
           }
          ],
          "scatterpolar": [
           {
            "marker": {
             "colorbar": {
              "outlinewidth": 0,
              "ticks": ""
             }
            },
            "type": "scatterpolar"
           }
          ],
          "scatterpolargl": [
           {
            "marker": {
             "colorbar": {
              "outlinewidth": 0,
              "ticks": ""
             }
            },
            "type": "scatterpolargl"
           }
          ],
          "scatterternary": [
           {
            "marker": {
             "colorbar": {
              "outlinewidth": 0,
              "ticks": ""
             }
            },
            "type": "scatterternary"
           }
          ],
          "surface": [
           {
            "colorbar": {
             "outlinewidth": 0,
             "ticks": ""
            },
            "colorscale": [
             [
              0,
              "#0d0887"
             ],
             [
              0.1111111111111111,
              "#46039f"
             ],
             [
              0.2222222222222222,
              "#7201a8"
             ],
             [
              0.3333333333333333,
              "#9c179e"
             ],
             [
              0.4444444444444444,
              "#bd3786"
             ],
             [
              0.5555555555555556,
              "#d8576b"
             ],
             [
              0.6666666666666666,
              "#ed7953"
             ],
             [
              0.7777777777777778,
              "#fb9f3a"
             ],
             [
              0.8888888888888888,
              "#fdca26"
             ],
             [
              1,
              "#f0f921"
             ]
            ],
            "type": "surface"
           }
          ],
          "table": [
           {
            "cells": {
             "fill": {
              "color": "#EBF0F8"
             },
             "line": {
              "color": "white"
             }
            },
            "header": {
             "fill": {
              "color": "#C8D4E3"
             },
             "line": {
              "color": "white"
             }
            },
            "type": "table"
           }
          ]
         },
         "layout": {
          "annotationdefaults": {
           "arrowcolor": "#2a3f5f",
           "arrowhead": 0,
           "arrowwidth": 1
          },
          "autotypenumbers": "strict",
          "coloraxis": {
           "colorbar": {
            "outlinewidth": 0,
            "ticks": ""
           }
          },
          "colorscale": {
           "diverging": [
            [
             0,
             "#8e0152"
            ],
            [
             0.1,
             "#c51b7d"
            ],
            [
             0.2,
             "#de77ae"
            ],
            [
             0.3,
             "#f1b6da"
            ],
            [
             0.4,
             "#fde0ef"
            ],
            [
             0.5,
             "#f7f7f7"
            ],
            [
             0.6,
             "#e6f5d0"
            ],
            [
             0.7,
             "#b8e186"
            ],
            [
             0.8,
             "#7fbc41"
            ],
            [
             0.9,
             "#4d9221"
            ],
            [
             1,
             "#276419"
            ]
           ],
           "sequential": [
            [
             0,
             "#0d0887"
            ],
            [
             0.1111111111111111,
             "#46039f"
            ],
            [
             0.2222222222222222,
             "#7201a8"
            ],
            [
             0.3333333333333333,
             "#9c179e"
            ],
            [
             0.4444444444444444,
             "#bd3786"
            ],
            [
             0.5555555555555556,
             "#d8576b"
            ],
            [
             0.6666666666666666,
             "#ed7953"
            ],
            [
             0.7777777777777778,
             "#fb9f3a"
            ],
            [
             0.8888888888888888,
             "#fdca26"
            ],
            [
             1,
             "#f0f921"
            ]
           ],
           "sequentialminus": [
            [
             0,
             "#0d0887"
            ],
            [
             0.1111111111111111,
             "#46039f"
            ],
            [
             0.2222222222222222,
             "#7201a8"
            ],
            [
             0.3333333333333333,
             "#9c179e"
            ],
            [
             0.4444444444444444,
             "#bd3786"
            ],
            [
             0.5555555555555556,
             "#d8576b"
            ],
            [
             0.6666666666666666,
             "#ed7953"
            ],
            [
             0.7777777777777778,
             "#fb9f3a"
            ],
            [
             0.8888888888888888,
             "#fdca26"
            ],
            [
             1,
             "#f0f921"
            ]
           ]
          },
          "colorway": [
           "#636efa",
           "#EF553B",
           "#00cc96",
           "#ab63fa",
           "#FFA15A",
           "#19d3f3",
           "#FF6692",
           "#B6E880",
           "#FF97FF",
           "#FECB52"
          ],
          "font": {
           "color": "#2a3f5f"
          },
          "geo": {
           "bgcolor": "white",
           "lakecolor": "white",
           "landcolor": "white",
           "showlakes": true,
           "showland": true,
           "subunitcolor": "#C8D4E3"
          },
          "hoverlabel": {
           "align": "left"
          },
          "hovermode": "closest",
          "mapbox": {
           "style": "light"
          },
          "paper_bgcolor": "white",
          "plot_bgcolor": "white",
          "polar": {
           "angularaxis": {
            "gridcolor": "#EBF0F8",
            "linecolor": "#EBF0F8",
            "ticks": ""
           },
           "bgcolor": "white",
           "radialaxis": {
            "gridcolor": "#EBF0F8",
            "linecolor": "#EBF0F8",
            "ticks": ""
           }
          },
          "scene": {
           "xaxis": {
            "backgroundcolor": "white",
            "gridcolor": "#DFE8F3",
            "gridwidth": 2,
            "linecolor": "#EBF0F8",
            "showbackground": true,
            "ticks": "",
            "zerolinecolor": "#EBF0F8"
           },
           "yaxis": {
            "backgroundcolor": "white",
            "gridcolor": "#DFE8F3",
            "gridwidth": 2,
            "linecolor": "#EBF0F8",
            "showbackground": true,
            "ticks": "",
            "zerolinecolor": "#EBF0F8"
           },
           "zaxis": {
            "backgroundcolor": "white",
            "gridcolor": "#DFE8F3",
            "gridwidth": 2,
            "linecolor": "#EBF0F8",
            "showbackground": true,
            "ticks": "",
            "zerolinecolor": "#EBF0F8"
           }
          },
          "shapedefaults": {
           "line": {
            "color": "#2a3f5f"
           }
          },
          "ternary": {
           "aaxis": {
            "gridcolor": "#DFE8F3",
            "linecolor": "#A2B1C6",
            "ticks": ""
           },
           "baxis": {
            "gridcolor": "#DFE8F3",
            "linecolor": "#A2B1C6",
            "ticks": ""
           },
           "bgcolor": "white",
           "caxis": {
            "gridcolor": "#DFE8F3",
            "linecolor": "#A2B1C6",
            "ticks": ""
           }
          },
          "title": {
           "x": 0.05
          },
          "xaxis": {
           "automargin": true,
           "gridcolor": "#EBF0F8",
           "linecolor": "#EBF0F8",
           "ticks": "",
           "title": {
            "standoff": 15
           },
           "zerolinecolor": "#EBF0F8",
           "zerolinewidth": 2
          },
          "yaxis": {
           "automargin": true,
           "gridcolor": "#EBF0F8",
           "linecolor": "#EBF0F8",
           "ticks": "",
           "title": {
            "standoff": 15
           },
           "zerolinecolor": "#EBF0F8",
           "zerolinewidth": 2
          }
         }
        },
        "title": {
         "text": "Energy Use vs. GDP by Country"
        },
        "xaxis": {
         "anchor": "y",
         "domain": [
          0,
          1
         ],
         "title": {
          "text": "GDP (Billion USD)"
         }
        },
        "yaxis": {
         "anchor": "x",
         "domain": [
          0,
          1
         ],
         "title": {
          "text": "Energy Use (tonnes of oil equivalent per capita)"
         }
        }
       }
      }
     },
     "metadata": {},
     "output_type": "display_data"
    }
   ],
   "source": [
    "countries_to_filter = ['China', 'Germany', 'India', 'United States', 'United Kingdom','Saudi Arabia', 'Norway','Russian Federation','South Africa']\n",
    "filtered_df = df1[df1['Country_Name'].isin(countries_to_filter)].copy()\n",
    "\n",
    "# Convert 'Energy_Use' from kilograms to tonnes\n",
    "filtered_df['Energy_Use'] = filtered_df['Energy_Use'] / 1000\n",
    "\n",
    "fig = px.scatter(\n",
    "    filtered_df,\n",
    "    x=\"GDP\",              # GDP on the x-axis\n",
    "    y=\"Energy_Use\",       # Energy use (in tonnes) on the y-axis\n",
    "    color=\"Country_Name\", # Color by country for easier differentiation\n",
    "    size=\"GDP\",           # Optionally, make the size of the marker proportional to GDP\n",
    "    title=\"Energy Use vs. GDP by Country\",\n",
    "    labels={\n",
    "        \"GDP\": \"GDP (in Billion USD)\",\n",
    "        \"Energy_Use\": \"Energy Use (in tonnes of oil equivalent per capita)\"\n",
    "    },\n",
    "    template=\"plotly_white\"\n",
    ")\n",
    "\n",
    "fig.update_layout(\n",
    "    xaxis_title=\"GDP (Billion USD)\",\n",
    "    yaxis_title=\"Energy Use (tonnes of oil equivalent per capita)\",\n",
    "    legend_title=\"Country\",\n",
    ")\n",
    "\n",
    "fig.show()\n",
    "\n"
   ]
  },
  {
   "cell_type": "markdown",
   "metadata": {},
   "source": [
    "There seems to be a general positive correlation between Energy Use and GDP. As GDP increases, Energy Use tends to increase as well. This suggests that economic growth often leads to increased energy consumption.\n",
    "In case of N/A data we have not all years here!"
   ]
  },
  {
   "cell_type": "code",
   "execution_count": 74,
   "metadata": {},
   "outputs": [
    {
     "data": {
      "application/vnd.plotly.v1+json": {
       "config": {
        "plotlyServerURL": "https://plot.ly"
       },
       "data": [
        {
         "hovertemplate": "Country_Name=China<br>Year=%{x}<br>Energy Use (kg of oil equivalent per capita)=%{y}<extra></extra>",
         "legendgroup": "China",
         "line": {
          "color": "#636efa",
          "dash": "solid"
         },
         "marker": {
          "symbol": "circle"
         },
         "mode": "lines",
         "name": "China",
         "orientation": "v",
         "showlegend": true,
         "type": "scatter",
         "x": [
          1990,
          1991,
          1992,
          1993,
          1994,
          1995,
          1996,
          1997,
          1998,
          1999,
          2000,
          2001,
          2002,
          2003,
          2004,
          2005,
          2006,
          2007,
          2008,
          2009,
          2010,
          2011,
          2012,
          2013,
          2014
         ],
         "xaxis": "x",
         "y": [
          1.914546263,
          2.000543284,
          2.075740405,
          2.244842079,
          2.322189229,
          2.563478759,
          2.521871874,
          2.547903664,
          2.605835732,
          2.517420763,
          2.650409102,
          2.774762197,
          2.964821228,
          3.434036479,
          3.945154871,
          4.467696361,
          4.910276197,
          5.306368006,
          5.435079096,
          5.798319938,
          6.335419767,
          6.901347326,
          7.04520023,
          7.320154925,
          7.304712872
         ],
         "yaxis": "y"
        },
        {
         "hovertemplate": "Country_Name=Germany<br>Year=%{x}<br>Energy Use (kg of oil equivalent per capita)=%{y}<extra></extra>",
         "legendgroup": "Germany",
         "line": {
          "color": "#EF553B",
          "dash": "solid"
         },
         "marker": {
          "symbol": "circle"
         },
         "mode": "lines",
         "name": "Germany",
         "orientation": "v",
         "showlegend": true,
         "type": "scatter",
         "x": [
          1990,
          1991,
          1992,
          1993,
          1994,
          1995,
          1996,
          1997,
          1998,
          1999,
          2000,
          2001,
          2002,
          2003,
          2004,
          2005,
          2006,
          2007,
          2008,
          2009,
          2010,
          2011,
          2012,
          2013,
          2014,
          2015
         ],
         "xaxis": "x",
         "y": [
          12.02658028,
          11.65482681,
          11.0737594,
          10.93022121,
          10.75533973,
          10.70862232,
          11.0399715,
          10.63751979,
          10.54580477,
          10.1533792,
          10.09936589,
          10.29361229,
          10.10301134,
          10.13876361,
          9.95044613,
          9.729463121,
          9.886479572,
          9.527623267,
          9.617457887,
          8.971731407,
          9.453388627,
          9.299002904,
          9.451289047,
          9.624229367,
          9.088527768,
          9.087344804
         ],
         "yaxis": "y"
        },
        {
         "hovertemplate": "Country_Name=United Kingdom<br>Year=%{x}<br>Energy Use (kg of oil equivalent per capita)=%{y}<extra></extra>",
         "legendgroup": "United Kingdom",
         "line": {
          "color": "#00cc96",
          "dash": "solid"
         },
         "marker": {
          "symbol": "circle"
         },
         "mode": "lines",
         "name": "United Kingdom",
         "orientation": "v",
         "showlegend": true,
         "type": "scatter",
         "x": [
          1990,
          1991,
          1992,
          1993,
          1994,
          1995,
          1996,
          1997,
          1998,
          1999,
          2000,
          2001,
          2002,
          2003,
          2004,
          2005,
          2006,
          2007,
          2008,
          2009,
          2010,
          2011,
          2012,
          2013,
          2014,
          2015
         ],
         "xaxis": "x",
         "y": [
          9.813068799,
          9.937877642,
          9.688810439,
          9.379580736,
          9.248704912,
          9.079920847,
          9.377801312,
          8.98865877,
          8.993440114,
          8.908156654,
          9.014527721,
          9.223024627,
          8.940232738,
          9.104093197,
          9.053089952,
          8.955400659,
          8.908613466,
          8.651030537,
          8.337820015,
          7.490694289,
          7.689567494,
          7.04484324,
          7.344260926,
          7.076100428,
          6.433347,
          6.159376361
         ],
         "yaxis": "y"
        },
        {
         "hovertemplate": "Country_Name=India<br>Year=%{x}<br>Energy Use (kg of oil equivalent per capita)=%{y}<extra></extra>",
         "legendgroup": "India",
         "line": {
          "color": "#ab63fa",
          "dash": "solid"
         },
         "marker": {
          "symbol": "circle"
         },
         "mode": "lines",
         "name": "India",
         "orientation": "v",
         "showlegend": true,
         "type": "scatter",
         "x": [
          1990,
          1991,
          1992,
          1993,
          1994,
          1995,
          1996,
          1997,
          1998,
          1999,
          2000,
          2001,
          2002,
          2003,
          2004,
          2005,
          2006,
          2007,
          2008,
          2009,
          2010,
          2011,
          2012,
          2013,
          2014
         ],
         "xaxis": "x",
         "y": [
          0.647451316,
          0.683086373,
          0.69007405,
          0.703136167,
          0.725622135,
          0.76518964,
          0.787231756,
          0.817360076,
          0.818720963,
          0.866242339,
          0.885077949,
          0.883746998,
          0.897242649,
          0.905456602,
          0.955470157,
          0.984261473,
          1.036533922,
          1.123599482,
          1.180361247,
          1.278873603,
          1.338033835,
          1.396878498,
          1.498204123,
          1.5276744,
          1.642465277
         ],
         "yaxis": "y"
        },
        {
         "hovertemplate": "Country_Name=Norway<br>Year=%{x}<br>Energy Use (kg of oil equivalent per capita)=%{y}<extra></extra>",
         "legendgroup": "Norway",
         "line": {
          "color": "#FFA15A",
          "dash": "solid"
         },
         "marker": {
          "symbol": "circle"
         },
         "mode": "lines",
         "name": "Norway",
         "orientation": "v",
         "showlegend": true,
         "type": "scatter",
         "x": [
          1990,
          1991,
          1992,
          1993,
          1994,
          1995,
          1996,
          1997,
          1998,
          1999,
          2000,
          2001,
          2002,
          2003,
          2004,
          2005,
          2006,
          2007,
          2008,
          2009,
          2010,
          2011,
          2012,
          2013,
          2014,
          2015
         ],
         "xaxis": "x",
         "y": [
          6.909250631,
          6.411782815,
          7.045047815,
          7.520563007,
          7.935317263,
          7.888907649,
          7.896472674,
          8.295618068,
          8.54965763,
          8.898066816,
          7.633790228,
          7.695417846,
          7.575979599,
          8.146326663,
          8.134915536,
          7.865911966,
          7.983947396,
          8.018448328,
          7.733045427,
          7.753452981,
          8.205017864,
          7.888270913,
          7.725323513,
          7.801169496,
          7.716801577,
          7.764858661
         ],
         "yaxis": "y"
        },
        {
         "hovertemplate": "Country_Name=Russian Federation<br>Year=%{x}<br>Energy Use (kg of oil equivalent per capita)=%{y}<extra></extra>",
         "legendgroup": "Russian Federation",
         "line": {
          "color": "#19d3f3",
          "dash": "solid"
         },
         "marker": {
          "symbol": "circle"
         },
         "mode": "lines",
         "name": "Russian Federation",
         "orientation": "v",
         "showlegend": true,
         "type": "scatter",
         "x": [
          1990,
          1991,
          1992,
          1993,
          1994,
          1995,
          1996,
          1997,
          1998,
          1999,
          2000,
          2001,
          2002,
          2003,
          2004,
          2005,
          2006,
          2007,
          2008,
          2009,
          2010,
          2011,
          2012,
          2013,
          2014
         ],
         "xaxis": "x",
         "y": [
          14.62148939,
          14.39708607,
          13.67197624,
          12.6650949,
          11.35415408,
          11.02258551,
          10.8070674,
          10.06999199,
          10.07623146,
          10.35032856,
          10.6676603,
          10.73578414,
          10.77263875,
          11.13039808,
          11.11271137,
          11.23185215,
          11.5683691,
          11.61126905,
          11.59565409,
          10.83210863,
          11.32540095,
          11.88018909,
          11.68764159,
          11.35337754,
          11.17576078
         ],
         "yaxis": "y"
        },
        {
         "hovertemplate": "Country_Name=Saudi Arabia<br>Year=%{x}<br>Energy Use (kg of oil equivalent per capita)=%{y}<extra></extra>",
         "legendgroup": "Saudi Arabia",
         "line": {
          "color": "#FF6692",
          "dash": "solid"
         },
         "marker": {
          "symbol": "circle"
         },
         "mode": "lines",
         "name": "Saudi Arabia",
         "orientation": "v",
         "showlegend": true,
         "type": "scatter",
         "x": [
          1990,
          1991,
          1992,
          1993,
          1994,
          1995,
          1996,
          1997,
          1998,
          1999,
          2000,
          2001,
          2002,
          2003,
          2004,
          2005,
          2006,
          2007,
          2008,
          2009,
          2010,
          2011,
          2012,
          2013,
          2014
         ],
         "xaxis": "x",
         "y": [
          10.70951816,
          11.28388289,
          11.69073597,
          11.38895829,
          11.23501214,
          10.84398595,
          11.21325401,
          11.03764364,
          11.42497917,
          11.40049387,
          11.58631277,
          11.50434741,
          12.03404526,
          12.30314813,
          12.67398501,
          12.92310028,
          13.21498712,
          13.43244267,
          14.20375355,
          14.27220886,
          15.16838627,
          15.38139849,
          15.97801577,
          15.98391907,
          16.82523613
         ],
         "yaxis": "y"
        },
        {
         "hovertemplate": "Country_Name=United States<br>Year=%{x}<br>Energy Use (kg of oil equivalent per capita)=%{y}<extra></extra>",
         "legendgroup": "United States",
         "line": {
          "color": "#B6E880",
          "dash": "solid"
         },
         "marker": {
          "symbol": "circle"
         },
         "mode": "lines",
         "name": "United States",
         "orientation": "v",
         "showlegend": true,
         "type": "scatter",
         "x": [
          1990,
          1991,
          1992,
          1993,
          1994,
          1995,
          1996,
          1997,
          1998,
          1999,
          2000,
          2001,
          2002,
          2003,
          2004,
          2005,
          2006,
          2007,
          2008,
          2009,
          2010,
          2011,
          2012,
          2013,
          2014,
          2015
         ],
         "xaxis": "x",
         "y": [
          19.40733586,
          19.00338958,
          19.02284515,
          19.21833148,
          19.25618525,
          19.216897,
          19.57536656,
          20.33085305,
          20.26628688,
          20.10112278,
          20.46979674,
          20.17153693,
          19.44553028,
          19.50650553,
          19.59761671,
          19.46927252,
          18.94591684,
          19.04291178,
          18.27849126,
          16.80868142,
          17.43173699,
          16.60418962,
          15.78976015,
          16.11117526,
          16.04091676,
          15.56001544
         ],
         "yaxis": "y"
        },
        {
         "hovertemplate": "Country_Name=South Africa<br>Year=%{x}<br>Energy Use (kg of oil equivalent per capita)=%{y}<extra></extra>",
         "legendgroup": "South Africa",
         "line": {
          "color": "#FF97FF",
          "dash": "solid"
         },
         "marker": {
          "symbol": "circle"
         },
         "mode": "lines",
         "name": "South Africa",
         "orientation": "v",
         "showlegend": true,
         "type": "scatter",
         "x": [
          1990,
          1991,
          1992,
          1993,
          1994,
          1995,
          1996,
          1997,
          1998,
          1999,
          2000,
          2001,
          2002,
          2003,
          2004,
          2005,
          2006,
          2007,
          2008,
          2009,
          2010,
          2011,
          2012,
          2013,
          2014
         ],
         "xaxis": "x",
         "y": [
          6.209372838,
          5.922276229,
          5.71782287,
          5.795258086,
          5.82621348,
          6.007615954,
          6.136002328,
          6.372628776,
          6.459823512,
          6.001786144,
          6.076553172,
          6.78372306,
          6.950513574,
          7.338956173,
          7.824764075,
          7.704297845,
          7.672712199,
          7.943858574,
          8.446649685,
          7.902048941,
          8.217612227,
          7.808053742,
          8.034649259,
          8.116434954,
          8.191152527
         ],
         "yaxis": "y"
        }
       ],
       "layout": {
        "legend": {
         "title": {
          "text": "Country"
         },
         "tracegroupgap": 0
        },
        "template": {
         "data": {
          "bar": [
           {
            "error_x": {
             "color": "#2a3f5f"
            },
            "error_y": {
             "color": "#2a3f5f"
            },
            "marker": {
             "line": {
              "color": "white",
              "width": 0.5
             },
             "pattern": {
              "fillmode": "overlay",
              "size": 10,
              "solidity": 0.2
             }
            },
            "type": "bar"
           }
          ],
          "barpolar": [
           {
            "marker": {
             "line": {
              "color": "white",
              "width": 0.5
             },
             "pattern": {
              "fillmode": "overlay",
              "size": 10,
              "solidity": 0.2
             }
            },
            "type": "barpolar"
           }
          ],
          "carpet": [
           {
            "aaxis": {
             "endlinecolor": "#2a3f5f",
             "gridcolor": "#C8D4E3",
             "linecolor": "#C8D4E3",
             "minorgridcolor": "#C8D4E3",
             "startlinecolor": "#2a3f5f"
            },
            "baxis": {
             "endlinecolor": "#2a3f5f",
             "gridcolor": "#C8D4E3",
             "linecolor": "#C8D4E3",
             "minorgridcolor": "#C8D4E3",
             "startlinecolor": "#2a3f5f"
            },
            "type": "carpet"
           }
          ],
          "choropleth": [
           {
            "colorbar": {
             "outlinewidth": 0,
             "ticks": ""
            },
            "type": "choropleth"
           }
          ],
          "contour": [
           {
            "colorbar": {
             "outlinewidth": 0,
             "ticks": ""
            },
            "colorscale": [
             [
              0,
              "#0d0887"
             ],
             [
              0.1111111111111111,
              "#46039f"
             ],
             [
              0.2222222222222222,
              "#7201a8"
             ],
             [
              0.3333333333333333,
              "#9c179e"
             ],
             [
              0.4444444444444444,
              "#bd3786"
             ],
             [
              0.5555555555555556,
              "#d8576b"
             ],
             [
              0.6666666666666666,
              "#ed7953"
             ],
             [
              0.7777777777777778,
              "#fb9f3a"
             ],
             [
              0.8888888888888888,
              "#fdca26"
             ],
             [
              1,
              "#f0f921"
             ]
            ],
            "type": "contour"
           }
          ],
          "contourcarpet": [
           {
            "colorbar": {
             "outlinewidth": 0,
             "ticks": ""
            },
            "type": "contourcarpet"
           }
          ],
          "heatmap": [
           {
            "colorbar": {
             "outlinewidth": 0,
             "ticks": ""
            },
            "colorscale": [
             [
              0,
              "#0d0887"
             ],
             [
              0.1111111111111111,
              "#46039f"
             ],
             [
              0.2222222222222222,
              "#7201a8"
             ],
             [
              0.3333333333333333,
              "#9c179e"
             ],
             [
              0.4444444444444444,
              "#bd3786"
             ],
             [
              0.5555555555555556,
              "#d8576b"
             ],
             [
              0.6666666666666666,
              "#ed7953"
             ],
             [
              0.7777777777777778,
              "#fb9f3a"
             ],
             [
              0.8888888888888888,
              "#fdca26"
             ],
             [
              1,
              "#f0f921"
             ]
            ],
            "type": "heatmap"
           }
          ],
          "heatmapgl": [
           {
            "colorbar": {
             "outlinewidth": 0,
             "ticks": ""
            },
            "colorscale": [
             [
              0,
              "#0d0887"
             ],
             [
              0.1111111111111111,
              "#46039f"
             ],
             [
              0.2222222222222222,
              "#7201a8"
             ],
             [
              0.3333333333333333,
              "#9c179e"
             ],
             [
              0.4444444444444444,
              "#bd3786"
             ],
             [
              0.5555555555555556,
              "#d8576b"
             ],
             [
              0.6666666666666666,
              "#ed7953"
             ],
             [
              0.7777777777777778,
              "#fb9f3a"
             ],
             [
              0.8888888888888888,
              "#fdca26"
             ],
             [
              1,
              "#f0f921"
             ]
            ],
            "type": "heatmapgl"
           }
          ],
          "histogram": [
           {
            "marker": {
             "pattern": {
              "fillmode": "overlay",
              "size": 10,
              "solidity": 0.2
             }
            },
            "type": "histogram"
           }
          ],
          "histogram2d": [
           {
            "colorbar": {
             "outlinewidth": 0,
             "ticks": ""
            },
            "colorscale": [
             [
              0,
              "#0d0887"
             ],
             [
              0.1111111111111111,
              "#46039f"
             ],
             [
              0.2222222222222222,
              "#7201a8"
             ],
             [
              0.3333333333333333,
              "#9c179e"
             ],
             [
              0.4444444444444444,
              "#bd3786"
             ],
             [
              0.5555555555555556,
              "#d8576b"
             ],
             [
              0.6666666666666666,
              "#ed7953"
             ],
             [
              0.7777777777777778,
              "#fb9f3a"
             ],
             [
              0.8888888888888888,
              "#fdca26"
             ],
             [
              1,
              "#f0f921"
             ]
            ],
            "type": "histogram2d"
           }
          ],
          "histogram2dcontour": [
           {
            "colorbar": {
             "outlinewidth": 0,
             "ticks": ""
            },
            "colorscale": [
             [
              0,
              "#0d0887"
             ],
             [
              0.1111111111111111,
              "#46039f"
             ],
             [
              0.2222222222222222,
              "#7201a8"
             ],
             [
              0.3333333333333333,
              "#9c179e"
             ],
             [
              0.4444444444444444,
              "#bd3786"
             ],
             [
              0.5555555555555556,
              "#d8576b"
             ],
             [
              0.6666666666666666,
              "#ed7953"
             ],
             [
              0.7777777777777778,
              "#fb9f3a"
             ],
             [
              0.8888888888888888,
              "#fdca26"
             ],
             [
              1,
              "#f0f921"
             ]
            ],
            "type": "histogram2dcontour"
           }
          ],
          "mesh3d": [
           {
            "colorbar": {
             "outlinewidth": 0,
             "ticks": ""
            },
            "type": "mesh3d"
           }
          ],
          "parcoords": [
           {
            "line": {
             "colorbar": {
              "outlinewidth": 0,
              "ticks": ""
             }
            },
            "type": "parcoords"
           }
          ],
          "pie": [
           {
            "automargin": true,
            "type": "pie"
           }
          ],
          "scatter": [
           {
            "fillpattern": {
             "fillmode": "overlay",
             "size": 10,
             "solidity": 0.2
            },
            "type": "scatter"
           }
          ],
          "scatter3d": [
           {
            "line": {
             "colorbar": {
              "outlinewidth": 0,
              "ticks": ""
             }
            },
            "marker": {
             "colorbar": {
              "outlinewidth": 0,
              "ticks": ""
             }
            },
            "type": "scatter3d"
           }
          ],
          "scattercarpet": [
           {
            "marker": {
             "colorbar": {
              "outlinewidth": 0,
              "ticks": ""
             }
            },
            "type": "scattercarpet"
           }
          ],
          "scattergeo": [
           {
            "marker": {
             "colorbar": {
              "outlinewidth": 0,
              "ticks": ""
             }
            },
            "type": "scattergeo"
           }
          ],
          "scattergl": [
           {
            "marker": {
             "colorbar": {
              "outlinewidth": 0,
              "ticks": ""
             }
            },
            "type": "scattergl"
           }
          ],
          "scattermapbox": [
           {
            "marker": {
             "colorbar": {
              "outlinewidth": 0,
              "ticks": ""
             }
            },
            "type": "scattermapbox"
           }
          ],
          "scatterpolar": [
           {
            "marker": {
             "colorbar": {
              "outlinewidth": 0,
              "ticks": ""
             }
            },
            "type": "scatterpolar"
           }
          ],
          "scatterpolargl": [
           {
            "marker": {
             "colorbar": {
              "outlinewidth": 0,
              "ticks": ""
             }
            },
            "type": "scatterpolargl"
           }
          ],
          "scatterternary": [
           {
            "marker": {
             "colorbar": {
              "outlinewidth": 0,
              "ticks": ""
             }
            },
            "type": "scatterternary"
           }
          ],
          "surface": [
           {
            "colorbar": {
             "outlinewidth": 0,
             "ticks": ""
            },
            "colorscale": [
             [
              0,
              "#0d0887"
             ],
             [
              0.1111111111111111,
              "#46039f"
             ],
             [
              0.2222222222222222,
              "#7201a8"
             ],
             [
              0.3333333333333333,
              "#9c179e"
             ],
             [
              0.4444444444444444,
              "#bd3786"
             ],
             [
              0.5555555555555556,
              "#d8576b"
             ],
             [
              0.6666666666666666,
              "#ed7953"
             ],
             [
              0.7777777777777778,
              "#fb9f3a"
             ],
             [
              0.8888888888888888,
              "#fdca26"
             ],
             [
              1,
              "#f0f921"
             ]
            ],
            "type": "surface"
           }
          ],
          "table": [
           {
            "cells": {
             "fill": {
              "color": "#EBF0F8"
             },
             "line": {
              "color": "white"
             }
            },
            "header": {
             "fill": {
              "color": "#C8D4E3"
             },
             "line": {
              "color": "white"
             }
            },
            "type": "table"
           }
          ]
         },
         "layout": {
          "annotationdefaults": {
           "arrowcolor": "#2a3f5f",
           "arrowhead": 0,
           "arrowwidth": 1
          },
          "autotypenumbers": "strict",
          "coloraxis": {
           "colorbar": {
            "outlinewidth": 0,
            "ticks": ""
           }
          },
          "colorscale": {
           "diverging": [
            [
             0,
             "#8e0152"
            ],
            [
             0.1,
             "#c51b7d"
            ],
            [
             0.2,
             "#de77ae"
            ],
            [
             0.3,
             "#f1b6da"
            ],
            [
             0.4,
             "#fde0ef"
            ],
            [
             0.5,
             "#f7f7f7"
            ],
            [
             0.6,
             "#e6f5d0"
            ],
            [
             0.7,
             "#b8e186"
            ],
            [
             0.8,
             "#7fbc41"
            ],
            [
             0.9,
             "#4d9221"
            ],
            [
             1,
             "#276419"
            ]
           ],
           "sequential": [
            [
             0,
             "#0d0887"
            ],
            [
             0.1111111111111111,
             "#46039f"
            ],
            [
             0.2222222222222222,
             "#7201a8"
            ],
            [
             0.3333333333333333,
             "#9c179e"
            ],
            [
             0.4444444444444444,
             "#bd3786"
            ],
            [
             0.5555555555555556,
             "#d8576b"
            ],
            [
             0.6666666666666666,
             "#ed7953"
            ],
            [
             0.7777777777777778,
             "#fb9f3a"
            ],
            [
             0.8888888888888888,
             "#fdca26"
            ],
            [
             1,
             "#f0f921"
            ]
           ],
           "sequentialminus": [
            [
             0,
             "#0d0887"
            ],
            [
             0.1111111111111111,
             "#46039f"
            ],
            [
             0.2222222222222222,
             "#7201a8"
            ],
            [
             0.3333333333333333,
             "#9c179e"
            ],
            [
             0.4444444444444444,
             "#bd3786"
            ],
            [
             0.5555555555555556,
             "#d8576b"
            ],
            [
             0.6666666666666666,
             "#ed7953"
            ],
            [
             0.7777777777777778,
             "#fb9f3a"
            ],
            [
             0.8888888888888888,
             "#fdca26"
            ],
            [
             1,
             "#f0f921"
            ]
           ]
          },
          "colorway": [
           "#636efa",
           "#EF553B",
           "#00cc96",
           "#ab63fa",
           "#FFA15A",
           "#19d3f3",
           "#FF6692",
           "#B6E880",
           "#FF97FF",
           "#FECB52"
          ],
          "font": {
           "color": "#2a3f5f"
          },
          "geo": {
           "bgcolor": "white",
           "lakecolor": "white",
           "landcolor": "white",
           "showlakes": true,
           "showland": true,
           "subunitcolor": "#C8D4E3"
          },
          "hoverlabel": {
           "align": "left"
          },
          "hovermode": "closest",
          "mapbox": {
           "style": "light"
          },
          "paper_bgcolor": "white",
          "plot_bgcolor": "white",
          "polar": {
           "angularaxis": {
            "gridcolor": "#EBF0F8",
            "linecolor": "#EBF0F8",
            "ticks": ""
           },
           "bgcolor": "white",
           "radialaxis": {
            "gridcolor": "#EBF0F8",
            "linecolor": "#EBF0F8",
            "ticks": ""
           }
          },
          "scene": {
           "xaxis": {
            "backgroundcolor": "white",
            "gridcolor": "#DFE8F3",
            "gridwidth": 2,
            "linecolor": "#EBF0F8",
            "showbackground": true,
            "ticks": "",
            "zerolinecolor": "#EBF0F8"
           },
           "yaxis": {
            "backgroundcolor": "white",
            "gridcolor": "#DFE8F3",
            "gridwidth": 2,
            "linecolor": "#EBF0F8",
            "showbackground": true,
            "ticks": "",
            "zerolinecolor": "#EBF0F8"
           },
           "zaxis": {
            "backgroundcolor": "white",
            "gridcolor": "#DFE8F3",
            "gridwidth": 2,
            "linecolor": "#EBF0F8",
            "showbackground": true,
            "ticks": "",
            "zerolinecolor": "#EBF0F8"
           }
          },
          "shapedefaults": {
           "line": {
            "color": "#2a3f5f"
           }
          },
          "ternary": {
           "aaxis": {
            "gridcolor": "#DFE8F3",
            "linecolor": "#A2B1C6",
            "ticks": ""
           },
           "baxis": {
            "gridcolor": "#DFE8F3",
            "linecolor": "#A2B1C6",
            "ticks": ""
           },
           "bgcolor": "white",
           "caxis": {
            "gridcolor": "#DFE8F3",
            "linecolor": "#A2B1C6",
            "ticks": ""
           }
          },
          "title": {
           "x": 0.05
          },
          "xaxis": {
           "automargin": true,
           "gridcolor": "#EBF0F8",
           "linecolor": "#EBF0F8",
           "ticks": "",
           "title": {
            "standoff": 15
           },
           "zerolinecolor": "#EBF0F8",
           "zerolinewidth": 2
          },
          "yaxis": {
           "automargin": true,
           "gridcolor": "#EBF0F8",
           "linecolor": "#EBF0F8",
           "ticks": "",
           "title": {
            "standoff": 15
           },
           "zerolinecolor": "#EBF0F8",
           "zerolinewidth": 2
          }
         }
        },
        "title": {
         "text": "Energy Use Over Time by Country"
        },
        "xaxis": {
         "anchor": "y",
         "domain": [
          0,
          1
         ],
         "title": {
          "text": "Year"
         }
        },
        "yaxis": {
         "anchor": "x",
         "domain": [
          0,
          1
         ],
         "title": {
          "text": "Energy Use (kg of oil equivalent per capita)"
         }
        }
       }
      }
     },
     "metadata": {},
     "output_type": "display_data"
    },
    {
     "data": {
      "application/vnd.plotly.v1+json": {
       "config": {
        "plotlyServerURL": "https://plot.ly"
       },
       "data": [
        {
         "hovertemplate": "Country_Name=China<br>Year=%{x}<br>CO2 Emissions (metric tons per capita)=%{y}<extra></extra>",
         "legendgroup": "China",
         "line": {
          "color": "#636efa",
          "dash": "solid"
         },
         "marker": {
          "symbol": "circle"
         },
         "mode": "lines",
         "name": "China",
         "orientation": "v",
         "showlegend": true,
         "type": "scatter",
         "x": [
          1960,
          1961,
          1962,
          1963,
          1964,
          1965,
          1966,
          1967,
          1968,
          1969,
          1970,
          1971,
          1972,
          1973,
          1974,
          1975,
          1976,
          1977,
          1978,
          1979,
          1980,
          1981,
          1982,
          1983,
          1984,
          1985,
          1986,
          1987,
          1988,
          1989,
          1990,
          1991,
          1992,
          1993,
          1994,
          1995,
          1996,
          1997,
          1998,
          1999,
          2000,
          2001,
          2002,
          2003,
          2004,
          2005,
          2006,
          2007,
          2008,
          2009,
          2010,
          2011,
          2012,
          2013,
          2014,
          2015,
          2016,
          2017,
          2018,
          2019,
          2020,
          2021,
          2022,
          2023
         ],
         "xaxis": "x",
         "y": [
          59716249.310974196,
          50056685.957359,
          47209186.415355496,
          50706614.5261472,
          59708125.203864306,
          70436008.64242509,
          76720005.49189639,
          72881364.8824909,
          70846276.05147271,
          79705614.8547674,
          92602634.8916589,
          99800593.7909886,
          113689308.020343,
          138543170.458064,
          144188970.82107198,
          163429530.659638,
          153939265.947775,
          174935933.078663,
          149540752.829268,
          178280594.413043,
          191149211.575,
          195866382.43254,
          205089699.85877898,
          230686747.15325698,
          259946510.957143,
          309488028.132653,
          300758100.107246,
          272972974.764574,
          312353631.207819,
          347768051.31174105,
          360857912.565966,
          383373318.083624,
          426915712.715856,
          444731282.435515,
          564321854.5210129,
          734484834.573582,
          863749314.7185379,
          961601980.9846231,
          1029060747.62065,
          1094003874.93734,
          1211331651.86609,
          1339400897.1051102,
          1470557654.79995,
          1660280543.84679,
          1955346768.72139,
          2285961149.87985,
          2752118657.18402,
          3550327802.9983997,
          4594336785.73767,
          5101691124.28521,
          6087191746.67949,
          7551545703.44075,
          8532185381.68059,
          9570471111.83168,
          10475624944.3552,
          11061572618.5787,
          11233313730.3487,
          12310491333.9809,
          13894907857.8806,
          14279968506.2717,
          14687744162.801,
          17820459508.8522,
          17881783387.0009,
          17794781986.1045
         ],
         "yaxis": "y"
        },
        {
         "hovertemplate": "Country_Name=Germany<br>Year=%{x}<br>CO2 Emissions (metric tons per capita)=%{y}<extra></extra>",
         "legendgroup": "Germany",
         "line": {
          "color": "#EF553B",
          "dash": "solid"
         },
         "marker": {
          "symbol": "circle"
         },
         "mode": "lines",
         "name": "Germany",
         "orientation": "v",
         "showlegend": true,
         "type": "scatter",
         "x": [
          1960,
          1961,
          1962,
          1963,
          1964,
          1965,
          1966,
          1967,
          1968,
          1969,
          1970,
          1971,
          1972,
          1973,
          1974,
          1975,
          1976,
          1977,
          1978,
          1979,
          1980,
          1981,
          1982,
          1983,
          1984,
          1985,
          1986,
          1987,
          1988,
          1989,
          1990,
          1991,
          1992,
          1993,
          1994,
          1995,
          1996,
          1997,
          1998,
          1999,
          2000,
          2001,
          2002,
          2003,
          2004,
          2005,
          2006,
          2007,
          2008,
          2009,
          2010,
          2011,
          2012,
          2013,
          2014,
          2015,
          2016,
          2017,
          2018,
          2019,
          2020,
          2021,
          2022,
          2023
         ],
         "xaxis": "x",
         "y": [
          84310950.1941152,
          96205728.6577269,
          105508875.286241,
          111822811.005912,
          122880200.22783901,
          134282707.622241,
          142781158.76918,
          144570993.32091,
          155955906.530699,
          177084689.264145,
          215838448.137658,
          249985055.484303,
          299801542.047476,
          398374021.953897,
          445303484.241554,
          490636517.211225,
          519754453.161411,
          600498238.019035,
          740469983.446933,
          881345176.6086861,
          950290856.466538,
          800472055.387278,
          776576439.106956,
          770684323.247798,
          725111123.634115,
          732534887.058198,
          1046259374.94371,
          1298176105.54951,
          1401233225.30349,
          1398967436.80433,
          1771671206.87568,
          1868945197.4071898,
          2131571696.93175,
          2071323790.37028,
          2205074123.1770496,
          2585792275.1467204,
          2497244606.1866403,
          2211989623.27995,
          2238990774.70268,
          2194945278.87259,
          1947981991.01177,
          1945790973.80315,
          2078484517.47451,
          2501640388.48235,
          2814353869.3590803,
          2846864211.1751003,
          2994703642.02353,
          3425578382.9215803,
          3745264093.61719,
          3411261212.65234,
          3399667820.0000095,
          3749314991.05059,
          3527143188.78516,
          3733804649.54903,
          3889093051.02352,
          3357585719.35156,
          3469853463.94553,
          3690849152.51765,
          3974443355.0196,
          3889177589.2549,
          3887727161.91441,
          4278503934.6898503,
          4082469490.7976804,
          4456081016.70596
         ],
         "yaxis": "y"
        },
        {
         "hovertemplate": "Country_Name=United Kingdom<br>Year=%{x}<br>CO2 Emissions (metric tons per capita)=%{y}<extra></extra>",
         "legendgroup": "United Kingdom",
         "line": {
          "color": "#00cc96",
          "dash": "solid"
         },
         "marker": {
          "symbol": "circle"
         },
         "mode": "lines",
         "name": "United Kingdom",
         "orientation": "v",
         "showlegend": true,
         "type": "scatter",
         "x": [
          1960,
          1961,
          1962,
          1963,
          1964,
          1965,
          1966,
          1967,
          1968,
          1969,
          1970,
          1971,
          1972,
          1973,
          1974,
          1975,
          1976,
          1977,
          1978,
          1979,
          1980,
          1981,
          1982,
          1983,
          1984,
          1985,
          1986,
          1987,
          1988,
          1989,
          1990,
          1991,
          1992,
          1993,
          1994,
          1995,
          1996,
          1997,
          1998,
          1999,
          2000,
          2001,
          2002,
          2003,
          2004,
          2005,
          2006,
          2007,
          2008,
          2009,
          2010,
          2011,
          2012,
          2013,
          2014,
          2015,
          2016,
          2017,
          2018,
          2019,
          2020,
          2021,
          2022,
          2023
         ],
         "xaxis": "x",
         "y": [
          73233967.6921028,
          77741965.7033544,
          81247564.1568246,
          86561961.81232491,
          94407558.3511616,
          101824755.078991,
          108572752.102045,
          113116888.210787,
          107759910.067889,
          116464702.803218,
          130671946.24430001,
          148113896.32514003,
          169965034.965035,
          192537971.582558,
          206131369.798971,
          241756637.168142,
          232614555.256065,
          263066457.352172,
          335883029.721956,
          438994070.309191,
          564947710.899373,
          540765675.241158,
          515048916.84137,
          489618008.185539,
          461487097.632349,
          489285164.271047,
          601452653.180885,
          745162608.2693249,
          910122732.123799,
          926884816.753927,
          1093169389.20455,
          1142797178.13051,
          1179659529.65953,
          1061388722.25555,
          1140489745.94429,
          1344240176.73978,
          1419645865.8346298,
          1560911918.79502,
          1653694932.09672,
          1687830448.14755,
          1665534876.68331,
          1649827263.56701,
          1785729916.0671499,
          2054422857.1428602,
          2421525082.3873997,
          2543180000,
          2708441582.33671,
          3090510204.0816298,
          2929411764.7058797,
          2412840006.2315,
          2485482596.18471,
          2663805834.8280697,
          2707089726.61464,
          2784853502.53429,
          3064708247.92143,
          2927911140.91673,
          2689106566.89961,
          2680148052.3353,
          2871340347.58179,
          2851407164.90781,
          2697806592.29386,
          3141506156.6187,
          3088839763.44502,
          3340032380.6680403
         ],
         "yaxis": "y"
        },
        {
         "hovertemplate": "Country_Name=India<br>Year=%{x}<br>CO2 Emissions (metric tons per capita)=%{y}<extra></extra>",
         "legendgroup": "India",
         "line": {
          "color": "#ab63fa",
          "dash": "solid"
         },
         "marker": {
          "symbol": "circle"
         },
         "mode": "lines",
         "name": "India",
         "orientation": "v",
         "showlegend": true,
         "type": "scatter",
         "x": [
          1960,
          1961,
          1962,
          1963,
          1964,
          1965,
          1966,
          1967,
          1968,
          1969,
          1970,
          1971,
          1972,
          1973,
          1974,
          1975,
          1976,
          1977,
          1978,
          1979,
          1980,
          1981,
          1982,
          1983,
          1984,
          1985,
          1986,
          1987,
          1988,
          1989,
          1990,
          1991,
          1992,
          1993,
          1994,
          1995,
          1996,
          1997,
          1998,
          1999,
          2000,
          2001,
          2002,
          2003,
          2004,
          2005,
          2006,
          2007,
          2008,
          2009,
          2010,
          2011,
          2012,
          2013,
          2014,
          2015,
          2016,
          2017,
          2018,
          2019,
          2020,
          2021,
          2022,
          2023
         ],
         "xaxis": "x",
         "y": [
          37029883.8761839,
          39232435.784035794,
          42161481.8580819,
          48421923.4591235,
          56480289.9409899,
          59556105.2290052,
          45581230.504071,
          50134942.204,
          53085455.870666705,
          58447995.0173333,
          62422483.054666705,
          67351404.351833,
          71464700.6669869,
          85517673.1725513,
          99526597.9336331,
          98473832.01732421,
          102716451.97967999,
          121486641.441309,
          137302319.828995,
          152995442.497709,
          186328579.302068,
          193491368.445573,
          200715624.830902,
          218262146.413158,
          212157645.177652,
          232511554.840372,
          248985994.04059,
          279033584.09222305,
          296589670.895932,
          296042052.94465995,
          320979026.42003495,
          270105341.879226,
          288208070.278013,
          279295648.982529,
          327274843.459429,
          360281909.643489,
          392896866.204516,
          415867563.592829,
          421351317.22494096,
          458821052.61578995,
          468395521.654458,
          485440139.204171,
          514939140.318756,
          607700687.237318,
          709152728.830775,
          820383763.5114449,
          940259888.7877209,
          1216736438.83496,
          1198895139.00592,
          1341888016.9949,
          1675615519.48496,
          1823051829.89513,
          1827637590.41095,
          1856721507.62146,
          2039126479.15527,
          2103588360.04439,
          2294796885.66367,
          2651474262.75559,
          2702929641.64814,
          2835606256.55884,
          2674851578.5868597,
          3167270623.26052,
          3353470496.88595,
          3549918918.7775297
         ],
         "yaxis": "y"
        },
        {
         "hovertemplate": "Country_Name=Norway<br>Year=%{x}<br>CO2 Emissions (metric tons per capita)=%{y}<extra></extra>",
         "legendgroup": "Norway",
         "line": {
          "color": "#FFA15A",
          "dash": "solid"
         },
         "marker": {
          "symbol": "circle"
         },
         "mode": "lines",
         "name": "Norway",
         "orientation": "v",
         "showlegend": true,
         "type": "scatter",
         "x": [
          1960,
          1961,
          1962,
          1963,
          1964,
          1965,
          1966,
          1967,
          1968,
          1969,
          1970,
          1971,
          1972,
          1973,
          1974,
          1975,
          1976,
          1977,
          1978,
          1979,
          1980,
          1981,
          1982,
          1983,
          1984,
          1985,
          1986,
          1987,
          1988,
          1989,
          1990,
          1991,
          1992,
          1993,
          1994,
          1995,
          1996,
          1997,
          1998,
          1999,
          2000,
          2001,
          2002,
          2003,
          2004,
          2005,
          2006,
          2007,
          2008,
          2009,
          2010,
          2011,
          2012,
          2013,
          2014,
          2015,
          2016,
          2017,
          2018,
          2019,
          2020,
          2021,
          2022,
          2023
         ],
         "xaxis": "x",
         "y": [
          5197398.721413669,
          5669689.2103186,
          6107076.928633721,
          6553269.53551009,
          7206522.121804181,
          8111945.66121624,
          8753940.26690184,
          9577383.65318303,
          10227087.1652414,
          11136187.4398326,
          12814123.1152613,
          14583114.840062901,
          17358610.849701,
          22534253.7028686,
          27145693.8101341,
          32877805.200023,
          35942270.686337404,
          41508030.4311074,
          46522900.2537054,
          53132244.623921305,
          64439382.8960156,
          63596654.7608677,
          62647195.5376511,
          61627240.8310948,
          62057955.032775804,
          65416879.9143907,
          78693118.0440045,
          94229907.23562151,
          101900260.856222,
          102633934.390615,
          119791843.05957201,
          121872464.483487,
          130838040.067584,
          120579213.712804,
          127131319.428701,
          152029612.324788,
          163520109.15067098,
          161356631.888484,
          154230295.158447,
          162383706.02113,
          171457201.93596798,
          174239354.070977,
          195914852.576467,
          229385469.33702397,
          265268662.473297,
          309978579.743888,
          346915160.681708,
          402643260.487572,
          464917553.19148904,
          387976400.617019,
          431052143.940438,
          501360549.669404,
          512777309.840997,
          526014468.085106,
          501736471.832848,
          388159512.24553,
          370956547.619048,
          401745275.035261,
          439788625.88379997,
          408742840.909091,
          367633418.886627,
          503367986.030268,
          593726965.415619,
          485513316.50363
         ],
         "yaxis": "y"
        },
        {
         "hovertemplate": "Country_Name=Russian Federation<br>Year=%{x}<br>CO2 Emissions (metric tons per capita)=%{y}<extra></extra>",
         "legendgroup": "Russian Federation",
         "line": {
          "color": "#19d3f3",
          "dash": "solid"
         },
         "marker": {
          "symbol": "circle"
         },
         "mode": "lines",
         "name": "Russian Federation",
         "orientation": "v",
         "showlegend": true,
         "type": "scatter",
         "x": [
          1960,
          1961,
          1962,
          1963,
          1964,
          1965,
          1966,
          1967,
          1968,
          1969,
          1970,
          1971,
          1972,
          1973,
          1974,
          1975,
          1976,
          1977,
          1978,
          1979,
          1980,
          1981,
          1982,
          1983,
          1984,
          1985,
          1986,
          1987,
          1988,
          1989,
          1990,
          1991,
          1992,
          1993,
          1994,
          1995,
          1996,
          1997,
          1998,
          1999,
          2000,
          2001,
          2002,
          2003,
          2004,
          2005,
          2006,
          2007,
          2008,
          2009,
          2010,
          2011,
          2012,
          2013,
          2014,
          2015,
          2016,
          2017,
          2018,
          2019,
          2020,
          2021,
          2022,
          2023
         ],
         "xaxis": "x",
         "y": [
          null,
          null,
          null,
          null,
          null,
          null,
          null,
          null,
          null,
          null,
          null,
          null,
          null,
          null,
          null,
          null,
          null,
          null,
          null,
          null,
          null,
          null,
          null,
          null,
          null,
          null,
          null,
          null,
          554828660.436137,
          506631299.734748,
          517014446.227929,
          517962962.962963,
          460290556.900726,
          435083713.850837,
          395077301.248464,
          395537185.734854,
          391724890.744498,
          404928954.191876,
          270955486.86244196,
          195907128.350934,
          259710142.19694299,
          306602070.6205,
          345470494.41786295,
          430347420.184885,
          591016690.732385,
          764015973.48111,
          989932071.352543,
          1299703478.4816499,
          1660848058.3031101,
          1222645900.0557,
          1524916715.22395,
          2045922753.39804,
          2208293553.87842,
          2292470078.34622,
          2059241589.89501,
          1363482182.19771,
          1276786350.88114,
          1574199360.089,
          1657328773.4613101,
          1693115002.7083201,
          1493075894.36214,
          1843392293.7343798,
          2266029240.64534,
          2021421476.03542
         ],
         "yaxis": "y"
        },
        {
         "hovertemplate": "Country_Name=Saudi Arabia<br>Year=%{x}<br>CO2 Emissions (metric tons per capita)=%{y}<extra></extra>",
         "legendgroup": "Saudi Arabia",
         "line": {
          "color": "#FF6692",
          "dash": "solid"
         },
         "marker": {
          "symbol": "circle"
         },
         "mode": "lines",
         "name": "Saudi Arabia",
         "orientation": "v",
         "showlegend": true,
         "type": "scatter",
         "x": [
          1960,
          1961,
          1962,
          1963,
          1964,
          1965,
          1966,
          1967,
          1968,
          1969,
          1970,
          1971,
          1972,
          1973,
          1974,
          1975,
          1976,
          1977,
          1978,
          1979,
          1980,
          1981,
          1982,
          1983,
          1984,
          1985,
          1986,
          1987,
          1988,
          1989,
          1990,
          1991,
          1992,
          1993,
          1994,
          1995,
          1996,
          1997,
          1998,
          1999,
          2000,
          2001,
          2002,
          2003,
          2004,
          2005,
          2006,
          2007,
          2008,
          2009,
          2010,
          2011,
          2012,
          2013,
          2014,
          2015,
          2016,
          2017,
          2018,
          2019,
          2020,
          2021,
          2022,
          2023
         ],
         "xaxis": "x",
         "y": [
          1748124.06347068,
          1920811.2841343998,
          2130606.5318180597,
          2207393.1714953,
          2371808.71291016,
          2647955.55755562,
          2920555.55717989,
          3257022.22263758,
          4187777.71111111,
          4485777.64444444,
          5377333.33333333,
          7184806.90928939,
          9664267.08660323,
          14947435.499323,
          45412957.7464789,
          46773208.6426814,
          64005665.7223796,
          74188986.5860629,
          80266516.6865614,
          111858444.786224,
          164539660.725118,
          184291360.13869,
          153240313.858323,
          129171635.31114301,
          119624858.115778,
          103897846.49364999,
          86961922.7653254,
          85695861.1481976,
          88256074.7663551,
          95344459.2790387,
          117630173.56475301,
          132223230.974633,
          137087850.46728998,
          132967957.27636799,
          135174899.866489,
          143343124.165554,
          158662483.311081,
          165963684.913218,
          146775466.66666698,
          161717066.66666698,
          189514933.33333302,
          184137600,
          189605866.66666698,
          215807733.33333302,
          258742133.33333302,
          328459608.76411104,
          376900133.511348,
          415964509.673115,
          519796800,
          429097866.666667,
          528207200,
          676634666.666667,
          741849866.666667,
          753864533.333333,
          766605866.666667,
          669484266.666667,
          666000000,
          714994666.666667,
          846583733.333333,
          838564800,
          734271200,
          874156000,
          1108571466.6666698,
          1067582933.3333299
         ],
         "yaxis": "y"
        },
        {
         "hovertemplate": "Country_Name=United States<br>Year=%{x}<br>CO2 Emissions (metric tons per capita)=%{y}<extra></extra>",
         "legendgroup": "United States",
         "line": {
          "color": "#B6E880",
          "dash": "solid"
         },
         "marker": {
          "symbol": "circle"
         },
         "mode": "lines",
         "name": "United States",
         "orientation": "v",
         "showlegend": true,
         "type": "scatter",
         "x": [
          1960,
          1961,
          1962,
          1963,
          1964,
          1965,
          1966,
          1967,
          1968,
          1969,
          1970,
          1971,
          1972,
          1973,
          1974,
          1975,
          1976,
          1977,
          1978,
          1979,
          1980,
          1981,
          1982,
          1983,
          1984,
          1985,
          1986,
          1987,
          1988,
          1989,
          1990,
          1991,
          1992,
          1993,
          1994,
          1995,
          1996,
          1997,
          1998,
          1999,
          2000,
          2001,
          2002,
          2003,
          2004,
          2005,
          2006,
          2007,
          2008,
          2009,
          2010,
          2011,
          2012,
          2013,
          2014,
          2015,
          2016,
          2017,
          2018,
          2019,
          2020,
          2021,
          2022,
          2023
         ],
         "xaxis": "x",
         "y": [
          541988586.206897,
          561940310.344828,
          603639413.793103,
          637058551.7241379,
          684144620.6896551,
          741904862.068965,
          813032758.62069,
          859620034.482759,
          940225000,
          1017438172.41379,
          1073303000,
          1164850000,
          1279110000,
          1425376000,
          1545243000,
          1684904000,
          1873412000,
          2081826000,
          2351599000,
          2627333000,
          2857307000,
          3207041000,
          3343789000,
          3634038000,
          4037613000,
          4338979000,
          4579631000,
          4855215000,
          5236438000,
          5641580000,
          5963144000,
          6158129000,
          6520327000,
          6858559000,
          7287236000,
          7639749000,
          8073122000,
          8577552000,
          9062817000,
          9631172000,
          10250952000,
          10581929000,
          10929108000,
          11456450000,
          12217196000,
          13039197000,
          13815583000,
          14474228000,
          14769862000,
          14478067000,
          15048971000,
          15599732000,
          16253970000,
          16880683000,
          17608138000,
          18295019000,
          18804913000,
          19612102000,
          20656516000,
          21521395000,
          21322950000,
          23594031000,
          25744108000,
          27360935000
         ],
         "yaxis": "y"
        },
        {
         "hovertemplate": "Country_Name=South Africa<br>Year=%{x}<br>CO2 Emissions (metric tons per capita)=%{y}<extra></extra>",
         "legendgroup": "South Africa",
         "line": {
          "color": "#FF97FF",
          "dash": "solid"
         },
         "marker": {
          "symbol": "circle"
         },
         "mode": "lines",
         "name": "South Africa",
         "orientation": "v",
         "showlegend": true,
         "type": "scatter",
         "x": [
          1960,
          1961,
          1962,
          1963,
          1964,
          1965,
          1966,
          1967,
          1968,
          1969,
          1970,
          1971,
          1972,
          1973,
          1974,
          1975,
          1976,
          1977,
          1978,
          1979,
          1980,
          1981,
          1982,
          1983,
          1984,
          1985,
          1986,
          1987,
          1988,
          1989,
          1990,
          1991,
          1992,
          1993,
          1994,
          1995,
          1996,
          1997,
          1998,
          1999,
          2000,
          2001,
          2002,
          2003,
          2004,
          2005,
          2006,
          2007,
          2008,
          2009,
          2010,
          2011,
          2012,
          2013,
          2014,
          2015,
          2016,
          2017,
          2018,
          2019,
          2020,
          2021,
          2022,
          2023
         ],
         "xaxis": "x",
         "y": [
          8748596.5005614,
          9225996.30960148,
          9813996.074401569,
          10854195.6583217,
          11955995.2176019,
          13068994.7724021,
          14211394.315442301,
          15821393.6714425,
          17124793.1500827,
          19256992.297203097,
          21218391.512643397,
          23411076.638279,
          24515919.2168851,
          33262772.0081446,
          41389186.094599195,
          42906905.672419995,
          41150460.2876151,
          45328411.3321028,
          51607412.901853204,
          63038658.0889121,
          89411864.4024272,
          93141472.1637596,
          85904057.4093585,
          96204110.9415672,
          84870163.3659306,
          64459376.0866883,
          73354771.3992627,
          96535763.4183729,
          103976831.870957,
          108055624.081806,
          126048140.14186901,
          135203698.237977,
          146956150.98663598,
          147194747.56575,
          153512712.381836,
          171735933.897331,
          163234925.380563,
          168978057.32773,
          152982984.557233,
          151516957.078536,
          151752757.215309,
          135429905.922526,
          129087556.612449,
          197018965.308697,
          255806908.594573,
          288867217.196534,
          303858675.363643,
          333077117.25368404,
          316131258.61630905,
          329754060.647129,
          417363822.801713,
          458199494.830834,
          434400545.08581096,
          400886013.595573,
          381198869.776106,
          346709790.45856297,
          323585509.67448103,
          381448814.653456,
          405260723.89251703,
          389330032.224269,
          338291396.026698,
          420117812.466041,
          405270850.09873796,
          377781600.985873
         ],
         "yaxis": "y"
        }
       ],
       "layout": {
        "legend": {
         "title": {
          "text": "Country"
         },
         "tracegroupgap": 0
        },
        "template": {
         "data": {
          "bar": [
           {
            "error_x": {
             "color": "#2a3f5f"
            },
            "error_y": {
             "color": "#2a3f5f"
            },
            "marker": {
             "line": {
              "color": "white",
              "width": 0.5
             },
             "pattern": {
              "fillmode": "overlay",
              "size": 10,
              "solidity": 0.2
             }
            },
            "type": "bar"
           }
          ],
          "barpolar": [
           {
            "marker": {
             "line": {
              "color": "white",
              "width": 0.5
             },
             "pattern": {
              "fillmode": "overlay",
              "size": 10,
              "solidity": 0.2
             }
            },
            "type": "barpolar"
           }
          ],
          "carpet": [
           {
            "aaxis": {
             "endlinecolor": "#2a3f5f",
             "gridcolor": "#C8D4E3",
             "linecolor": "#C8D4E3",
             "minorgridcolor": "#C8D4E3",
             "startlinecolor": "#2a3f5f"
            },
            "baxis": {
             "endlinecolor": "#2a3f5f",
             "gridcolor": "#C8D4E3",
             "linecolor": "#C8D4E3",
             "minorgridcolor": "#C8D4E3",
             "startlinecolor": "#2a3f5f"
            },
            "type": "carpet"
           }
          ],
          "choropleth": [
           {
            "colorbar": {
             "outlinewidth": 0,
             "ticks": ""
            },
            "type": "choropleth"
           }
          ],
          "contour": [
           {
            "colorbar": {
             "outlinewidth": 0,
             "ticks": ""
            },
            "colorscale": [
             [
              0,
              "#0d0887"
             ],
             [
              0.1111111111111111,
              "#46039f"
             ],
             [
              0.2222222222222222,
              "#7201a8"
             ],
             [
              0.3333333333333333,
              "#9c179e"
             ],
             [
              0.4444444444444444,
              "#bd3786"
             ],
             [
              0.5555555555555556,
              "#d8576b"
             ],
             [
              0.6666666666666666,
              "#ed7953"
             ],
             [
              0.7777777777777778,
              "#fb9f3a"
             ],
             [
              0.8888888888888888,
              "#fdca26"
             ],
             [
              1,
              "#f0f921"
             ]
            ],
            "type": "contour"
           }
          ],
          "contourcarpet": [
           {
            "colorbar": {
             "outlinewidth": 0,
             "ticks": ""
            },
            "type": "contourcarpet"
           }
          ],
          "heatmap": [
           {
            "colorbar": {
             "outlinewidth": 0,
             "ticks": ""
            },
            "colorscale": [
             [
              0,
              "#0d0887"
             ],
             [
              0.1111111111111111,
              "#46039f"
             ],
             [
              0.2222222222222222,
              "#7201a8"
             ],
             [
              0.3333333333333333,
              "#9c179e"
             ],
             [
              0.4444444444444444,
              "#bd3786"
             ],
             [
              0.5555555555555556,
              "#d8576b"
             ],
             [
              0.6666666666666666,
              "#ed7953"
             ],
             [
              0.7777777777777778,
              "#fb9f3a"
             ],
             [
              0.8888888888888888,
              "#fdca26"
             ],
             [
              1,
              "#f0f921"
             ]
            ],
            "type": "heatmap"
           }
          ],
          "heatmapgl": [
           {
            "colorbar": {
             "outlinewidth": 0,
             "ticks": ""
            },
            "colorscale": [
             [
              0,
              "#0d0887"
             ],
             [
              0.1111111111111111,
              "#46039f"
             ],
             [
              0.2222222222222222,
              "#7201a8"
             ],
             [
              0.3333333333333333,
              "#9c179e"
             ],
             [
              0.4444444444444444,
              "#bd3786"
             ],
             [
              0.5555555555555556,
              "#d8576b"
             ],
             [
              0.6666666666666666,
              "#ed7953"
             ],
             [
              0.7777777777777778,
              "#fb9f3a"
             ],
             [
              0.8888888888888888,
              "#fdca26"
             ],
             [
              1,
              "#f0f921"
             ]
            ],
            "type": "heatmapgl"
           }
          ],
          "histogram": [
           {
            "marker": {
             "pattern": {
              "fillmode": "overlay",
              "size": 10,
              "solidity": 0.2
             }
            },
            "type": "histogram"
           }
          ],
          "histogram2d": [
           {
            "colorbar": {
             "outlinewidth": 0,
             "ticks": ""
            },
            "colorscale": [
             [
              0,
              "#0d0887"
             ],
             [
              0.1111111111111111,
              "#46039f"
             ],
             [
              0.2222222222222222,
              "#7201a8"
             ],
             [
              0.3333333333333333,
              "#9c179e"
             ],
             [
              0.4444444444444444,
              "#bd3786"
             ],
             [
              0.5555555555555556,
              "#d8576b"
             ],
             [
              0.6666666666666666,
              "#ed7953"
             ],
             [
              0.7777777777777778,
              "#fb9f3a"
             ],
             [
              0.8888888888888888,
              "#fdca26"
             ],
             [
              1,
              "#f0f921"
             ]
            ],
            "type": "histogram2d"
           }
          ],
          "histogram2dcontour": [
           {
            "colorbar": {
             "outlinewidth": 0,
             "ticks": ""
            },
            "colorscale": [
             [
              0,
              "#0d0887"
             ],
             [
              0.1111111111111111,
              "#46039f"
             ],
             [
              0.2222222222222222,
              "#7201a8"
             ],
             [
              0.3333333333333333,
              "#9c179e"
             ],
             [
              0.4444444444444444,
              "#bd3786"
             ],
             [
              0.5555555555555556,
              "#d8576b"
             ],
             [
              0.6666666666666666,
              "#ed7953"
             ],
             [
              0.7777777777777778,
              "#fb9f3a"
             ],
             [
              0.8888888888888888,
              "#fdca26"
             ],
             [
              1,
              "#f0f921"
             ]
            ],
            "type": "histogram2dcontour"
           }
          ],
          "mesh3d": [
           {
            "colorbar": {
             "outlinewidth": 0,
             "ticks": ""
            },
            "type": "mesh3d"
           }
          ],
          "parcoords": [
           {
            "line": {
             "colorbar": {
              "outlinewidth": 0,
              "ticks": ""
             }
            },
            "type": "parcoords"
           }
          ],
          "pie": [
           {
            "automargin": true,
            "type": "pie"
           }
          ],
          "scatter": [
           {
            "fillpattern": {
             "fillmode": "overlay",
             "size": 10,
             "solidity": 0.2
            },
            "type": "scatter"
           }
          ],
          "scatter3d": [
           {
            "line": {
             "colorbar": {
              "outlinewidth": 0,
              "ticks": ""
             }
            },
            "marker": {
             "colorbar": {
              "outlinewidth": 0,
              "ticks": ""
             }
            },
            "type": "scatter3d"
           }
          ],
          "scattercarpet": [
           {
            "marker": {
             "colorbar": {
              "outlinewidth": 0,
              "ticks": ""
             }
            },
            "type": "scattercarpet"
           }
          ],
          "scattergeo": [
           {
            "marker": {
             "colorbar": {
              "outlinewidth": 0,
              "ticks": ""
             }
            },
            "type": "scattergeo"
           }
          ],
          "scattergl": [
           {
            "marker": {
             "colorbar": {
              "outlinewidth": 0,
              "ticks": ""
             }
            },
            "type": "scattergl"
           }
          ],
          "scattermapbox": [
           {
            "marker": {
             "colorbar": {
              "outlinewidth": 0,
              "ticks": ""
             }
            },
            "type": "scattermapbox"
           }
          ],
          "scatterpolar": [
           {
            "marker": {
             "colorbar": {
              "outlinewidth": 0,
              "ticks": ""
             }
            },
            "type": "scatterpolar"
           }
          ],
          "scatterpolargl": [
           {
            "marker": {
             "colorbar": {
              "outlinewidth": 0,
              "ticks": ""
             }
            },
            "type": "scatterpolargl"
           }
          ],
          "scatterternary": [
           {
            "marker": {
             "colorbar": {
              "outlinewidth": 0,
              "ticks": ""
             }
            },
            "type": "scatterternary"
           }
          ],
          "surface": [
           {
            "colorbar": {
             "outlinewidth": 0,
             "ticks": ""
            },
            "colorscale": [
             [
              0,
              "#0d0887"
             ],
             [
              0.1111111111111111,
              "#46039f"
             ],
             [
              0.2222222222222222,
              "#7201a8"
             ],
             [
              0.3333333333333333,
              "#9c179e"
             ],
             [
              0.4444444444444444,
              "#bd3786"
             ],
             [
              0.5555555555555556,
              "#d8576b"
             ],
             [
              0.6666666666666666,
              "#ed7953"
             ],
             [
              0.7777777777777778,
              "#fb9f3a"
             ],
             [
              0.8888888888888888,
              "#fdca26"
             ],
             [
              1,
              "#f0f921"
             ]
            ],
            "type": "surface"
           }
          ],
          "table": [
           {
            "cells": {
             "fill": {
              "color": "#EBF0F8"
             },
             "line": {
              "color": "white"
             }
            },
            "header": {
             "fill": {
              "color": "#C8D4E3"
             },
             "line": {
              "color": "white"
             }
            },
            "type": "table"
           }
          ]
         },
         "layout": {
          "annotationdefaults": {
           "arrowcolor": "#2a3f5f",
           "arrowhead": 0,
           "arrowwidth": 1
          },
          "autotypenumbers": "strict",
          "coloraxis": {
           "colorbar": {
            "outlinewidth": 0,
            "ticks": ""
           }
          },
          "colorscale": {
           "diverging": [
            [
             0,
             "#8e0152"
            ],
            [
             0.1,
             "#c51b7d"
            ],
            [
             0.2,
             "#de77ae"
            ],
            [
             0.3,
             "#f1b6da"
            ],
            [
             0.4,
             "#fde0ef"
            ],
            [
             0.5,
             "#f7f7f7"
            ],
            [
             0.6,
             "#e6f5d0"
            ],
            [
             0.7,
             "#b8e186"
            ],
            [
             0.8,
             "#7fbc41"
            ],
            [
             0.9,
             "#4d9221"
            ],
            [
             1,
             "#276419"
            ]
           ],
           "sequential": [
            [
             0,
             "#0d0887"
            ],
            [
             0.1111111111111111,
             "#46039f"
            ],
            [
             0.2222222222222222,
             "#7201a8"
            ],
            [
             0.3333333333333333,
             "#9c179e"
            ],
            [
             0.4444444444444444,
             "#bd3786"
            ],
            [
             0.5555555555555556,
             "#d8576b"
            ],
            [
             0.6666666666666666,
             "#ed7953"
            ],
            [
             0.7777777777777778,
             "#fb9f3a"
            ],
            [
             0.8888888888888888,
             "#fdca26"
            ],
            [
             1,
             "#f0f921"
            ]
           ],
           "sequentialminus": [
            [
             0,
             "#0d0887"
            ],
            [
             0.1111111111111111,
             "#46039f"
            ],
            [
             0.2222222222222222,
             "#7201a8"
            ],
            [
             0.3333333333333333,
             "#9c179e"
            ],
            [
             0.4444444444444444,
             "#bd3786"
            ],
            [
             0.5555555555555556,
             "#d8576b"
            ],
            [
             0.6666666666666666,
             "#ed7953"
            ],
            [
             0.7777777777777778,
             "#fb9f3a"
            ],
            [
             0.8888888888888888,
             "#fdca26"
            ],
            [
             1,
             "#f0f921"
            ]
           ]
          },
          "colorway": [
           "#636efa",
           "#EF553B",
           "#00cc96",
           "#ab63fa",
           "#FFA15A",
           "#19d3f3",
           "#FF6692",
           "#B6E880",
           "#FF97FF",
           "#FECB52"
          ],
          "font": {
           "color": "#2a3f5f"
          },
          "geo": {
           "bgcolor": "white",
           "lakecolor": "white",
           "landcolor": "white",
           "showlakes": true,
           "showland": true,
           "subunitcolor": "#C8D4E3"
          },
          "hoverlabel": {
           "align": "left"
          },
          "hovermode": "closest",
          "mapbox": {
           "style": "light"
          },
          "paper_bgcolor": "white",
          "plot_bgcolor": "white",
          "polar": {
           "angularaxis": {
            "gridcolor": "#EBF0F8",
            "linecolor": "#EBF0F8",
            "ticks": ""
           },
           "bgcolor": "white",
           "radialaxis": {
            "gridcolor": "#EBF0F8",
            "linecolor": "#EBF0F8",
            "ticks": ""
           }
          },
          "scene": {
           "xaxis": {
            "backgroundcolor": "white",
            "gridcolor": "#DFE8F3",
            "gridwidth": 2,
            "linecolor": "#EBF0F8",
            "showbackground": true,
            "ticks": "",
            "zerolinecolor": "#EBF0F8"
           },
           "yaxis": {
            "backgroundcolor": "white",
            "gridcolor": "#DFE8F3",
            "gridwidth": 2,
            "linecolor": "#EBF0F8",
            "showbackground": true,
            "ticks": "",
            "zerolinecolor": "#EBF0F8"
           },
           "zaxis": {
            "backgroundcolor": "white",
            "gridcolor": "#DFE8F3",
            "gridwidth": 2,
            "linecolor": "#EBF0F8",
            "showbackground": true,
            "ticks": "",
            "zerolinecolor": "#EBF0F8"
           }
          },
          "shapedefaults": {
           "line": {
            "color": "#2a3f5f"
           }
          },
          "ternary": {
           "aaxis": {
            "gridcolor": "#DFE8F3",
            "linecolor": "#A2B1C6",
            "ticks": ""
           },
           "baxis": {
            "gridcolor": "#DFE8F3",
            "linecolor": "#A2B1C6",
            "ticks": ""
           },
           "bgcolor": "white",
           "caxis": {
            "gridcolor": "#DFE8F3",
            "linecolor": "#A2B1C6",
            "ticks": ""
           }
          },
          "title": {
           "x": 0.05
          },
          "xaxis": {
           "automargin": true,
           "gridcolor": "#EBF0F8",
           "linecolor": "#EBF0F8",
           "ticks": "",
           "title": {
            "standoff": 15
           },
           "zerolinecolor": "#EBF0F8",
           "zerolinewidth": 2
          },
          "yaxis": {
           "automargin": true,
           "gridcolor": "#EBF0F8",
           "linecolor": "#EBF0F8",
           "ticks": "",
           "title": {
            "standoff": 15
           },
           "zerolinecolor": "#EBF0F8",
           "zerolinewidth": 2
          }
         }
        },
        "title": {
         "text": "CO2 Emissions Over Time by Country"
        },
        "xaxis": {
         "anchor": "y",
         "domain": [
          0,
          1
         ],
         "title": {
          "text": "Year"
         }
        },
        "yaxis": {
         "anchor": "x",
         "domain": [
          0,
          1
         ],
         "title": {
          "text": "CO2 Emissions (metric tons per capita)"
         }
        }
       }
      }
     },
     "metadata": {},
     "output_type": "display_data"
    }
   ],
   "source": [
    "\n",
    "# Filter the DataFrame to include only the specified countries\n",
    "countries_to_filter = ['China', 'Germany', 'India', 'United States', 'United Kingdom','Saudi Arabia', 'Norway','Russian Federation','South Africa']\n",
    "filtered_df = df1[df1['Country_Name'].isin(countries_to_filter)].copy()\n",
    "\n",
    "# Create a line plot of Energy Use over Time for each country\n",
    "fig = px.line(\n",
    "    filtered_df,\n",
    "    x=\"Year\",               # Year on the x-axis\n",
    "    y=\"Energy_Use\",         # Energy use on the y-axis\n",
    "    color=\"Country_Name\",   # Color by country to distinguish lines\n",
    "    title=\"Energy Use Over Time by Country\",\n",
    "    labels={\n",
    "        \"Year\": \"Year\",\n",
    "        \"Energy_Use\": \"Energy Use (kg of oil equivalent per capita)\"\n",
    "    },\n",
    "    template=\"plotly_white\"\n",
    ")\n",
    "\n",
    "# Customize the layout\n",
    "fig.update_layout(\n",
    "    xaxis_title=\"Year\",\n",
    "    yaxis_title=\"Energy Use (kg of oil equivalent per capita)\",\n",
    "    legend_title=\"Country\"\n",
    ")\n",
    "\n",
    "fig.show()\n",
    "\n",
    "# Filter the DataFrame to include only the specified countries\n",
    "filtered_df = df[df['Country_Name'].isin(countries_to_filter)]\n",
    "\n",
    "# Create a line chart of CO2 Emissions over time for each country\n",
    "fig = px.line(\n",
    "    filtered_df,\n",
    "    x=\"Year\",                  # Year on the x-axis\n",
    "    y=\"CO2_Emissions\",         # CO2 emissions on the y-axis\n",
    "    color=\"Country_Name\",      # Color by country to distinguish lines\n",
    "    title=\"CO2 Emissions Over Time by Country\",\n",
    "    labels={\n",
    "        \"Year\": \"Year\",\n",
    "        \"CO2_Emissions\": \"CO2 Emissions (metric tons per capita)\"\n",
    "    },\n",
    "    template=\"plotly_white\"\n",
    ")\n",
    "\n",
    "# Customize the layout\n",
    "fig.update_layout(\n",
    "    xaxis_title=\"Year\",\n",
    "    yaxis_title=\"CO2 Emissions (metric tons per capita)\",\n",
    "    legend_title=\"Country\",\n",
    ")\n",
    "\n",
    "fig.show()\n",
    "\n"
   ]
  },
  {
   "cell_type": "code",
   "execution_count": 73,
   "metadata": {},
   "outputs": [
    {
     "data": {
      "application/vnd.plotly.v1+json": {
       "config": {
        "plotlyServerURL": "https://plot.ly"
       },
       "data": [
        {
         "coloraxis": "coloraxis",
         "histfunc": "sum",
         "hovertemplate": "Country=%{x}<br>Year=%{y}<br>sum of CO2 Emissions per $1,000 GDP (tonnes)=%{z}<extra></extra>",
         "name": "",
         "type": "histogram2d",
         "x": [
          "China",
          "China",
          "China",
          "China",
          "China",
          "China",
          "China",
          "China",
          "China",
          "China",
          "China",
          "China",
          "China",
          "China",
          "China",
          "China",
          "China",
          "China",
          "China",
          "China",
          "China",
          "China",
          "China",
          "China",
          "China",
          "Germany",
          "Germany",
          "Germany",
          "Germany",
          "Germany",
          "Germany",
          "Germany",
          "Germany",
          "Germany",
          "Germany",
          "Germany",
          "Germany",
          "Germany",
          "Germany",
          "Germany",
          "Germany",
          "Germany",
          "Germany",
          "Germany",
          "Germany",
          "Germany",
          "Germany",
          "Germany",
          "Germany",
          "Germany",
          "Germany",
          "United Kingdom",
          "United Kingdom",
          "United Kingdom",
          "United Kingdom",
          "United Kingdom",
          "United Kingdom",
          "United Kingdom",
          "United Kingdom",
          "United Kingdom",
          "United Kingdom",
          "United Kingdom",
          "United Kingdom",
          "United Kingdom",
          "United Kingdom",
          "United Kingdom",
          "United Kingdom",
          "United Kingdom",
          "United Kingdom",
          "United Kingdom",
          "United Kingdom",
          "United Kingdom",
          "United Kingdom",
          "United Kingdom",
          "United Kingdom",
          "United Kingdom",
          "United Kingdom",
          "India",
          "India",
          "India",
          "India",
          "India",
          "India",
          "India",
          "India",
          "India",
          "India",
          "India",
          "India",
          "India",
          "India",
          "India",
          "India",
          "India",
          "India",
          "India",
          "India",
          "India",
          "India",
          "India",
          "India",
          "India",
          "Norway",
          "Norway",
          "Norway",
          "Norway",
          "Norway",
          "Norway",
          "Norway",
          "Norway",
          "Norway",
          "Norway",
          "Norway",
          "Norway",
          "Norway",
          "Norway",
          "Norway",
          "Norway",
          "Norway",
          "Norway",
          "Norway",
          "Norway",
          "Norway",
          "Norway",
          "Norway",
          "Norway",
          "Norway",
          "Norway",
          "Russian Federation",
          "Russian Federation",
          "Russian Federation",
          "Russian Federation",
          "Russian Federation",
          "Russian Federation",
          "Russian Federation",
          "Russian Federation",
          "Russian Federation",
          "Russian Federation",
          "Russian Federation",
          "Russian Federation",
          "Russian Federation",
          "Russian Federation",
          "Russian Federation",
          "Russian Federation",
          "Russian Federation",
          "Russian Federation",
          "Russian Federation",
          "Russian Federation",
          "Russian Federation",
          "Russian Federation",
          "Russian Federation",
          "Russian Federation",
          "Russian Federation",
          "Saudi Arabia",
          "Saudi Arabia",
          "Saudi Arabia",
          "Saudi Arabia",
          "Saudi Arabia",
          "Saudi Arabia",
          "Saudi Arabia",
          "Saudi Arabia",
          "Saudi Arabia",
          "Saudi Arabia",
          "Saudi Arabia",
          "Saudi Arabia",
          "Saudi Arabia",
          "Saudi Arabia",
          "Saudi Arabia",
          "Saudi Arabia",
          "Saudi Arabia",
          "Saudi Arabia",
          "Saudi Arabia",
          "Saudi Arabia",
          "Saudi Arabia",
          "Saudi Arabia",
          "Saudi Arabia",
          "Saudi Arabia",
          "Saudi Arabia",
          "United States",
          "United States",
          "United States",
          "United States",
          "United States",
          "United States",
          "United States",
          "United States",
          "United States",
          "United States",
          "United States",
          "United States",
          "United States",
          "United States",
          "United States",
          "United States",
          "United States",
          "United States",
          "United States",
          "United States",
          "United States",
          "United States",
          "United States",
          "United States",
          "United States",
          "United States",
          "South Africa",
          "South Africa",
          "South Africa",
          "South Africa",
          "South Africa",
          "South Africa",
          "South Africa",
          "South Africa",
          "South Africa",
          "South Africa",
          "South Africa",
          "South Africa",
          "South Africa",
          "South Africa",
          "South Africa",
          "South Africa",
          "South Africa",
          "South Africa",
          "South Africa",
          "South Africa",
          "South Africa",
          "South Africa",
          "South Africa",
          "South Africa",
          "South Africa"
         ],
         "xaxis": "x",
         "xbingroup": "x",
         "y": [
          1990,
          1991,
          1992,
          1993,
          1994,
          1995,
          1996,
          1997,
          1998,
          1999,
          2000,
          2001,
          2002,
          2003,
          2004,
          2005,
          2006,
          2007,
          2008,
          2009,
          2010,
          2011,
          2012,
          2013,
          2014,
          1990,
          1991,
          1992,
          1993,
          1994,
          1995,
          1996,
          1997,
          1998,
          1999,
          2000,
          2001,
          2002,
          2003,
          2004,
          2005,
          2006,
          2007,
          2008,
          2009,
          2010,
          2011,
          2012,
          2013,
          2014,
          2015,
          1990,
          1991,
          1992,
          1993,
          1994,
          1995,
          1996,
          1997,
          1998,
          1999,
          2000,
          2001,
          2002,
          2003,
          2004,
          2005,
          2006,
          2007,
          2008,
          2009,
          2010,
          2011,
          2012,
          2013,
          2014,
          2015,
          1990,
          1991,
          1992,
          1993,
          1994,
          1995,
          1996,
          1997,
          1998,
          1999,
          2000,
          2001,
          2002,
          2003,
          2004,
          2005,
          2006,
          2007,
          2008,
          2009,
          2010,
          2011,
          2012,
          2013,
          2014,
          1990,
          1991,
          1992,
          1993,
          1994,
          1995,
          1996,
          1997,
          1998,
          1999,
          2000,
          2001,
          2002,
          2003,
          2004,
          2005,
          2006,
          2007,
          2008,
          2009,
          2010,
          2011,
          2012,
          2013,
          2014,
          2015,
          1990,
          1991,
          1992,
          1993,
          1994,
          1995,
          1996,
          1997,
          1998,
          1999,
          2000,
          2001,
          2002,
          2003,
          2004,
          2005,
          2006,
          2007,
          2008,
          2009,
          2010,
          2011,
          2012,
          2013,
          2014,
          1990,
          1991,
          1992,
          1993,
          1994,
          1995,
          1996,
          1997,
          1998,
          1999,
          2000,
          2001,
          2002,
          2003,
          2004,
          2005,
          2006,
          2007,
          2008,
          2009,
          2010,
          2011,
          2012,
          2013,
          2014,
          1990,
          1991,
          1992,
          1993,
          1994,
          1995,
          1996,
          1997,
          1998,
          1999,
          2000,
          2001,
          2002,
          2003,
          2004,
          2005,
          2006,
          2007,
          2008,
          2009,
          2010,
          2011,
          2012,
          2013,
          2014,
          2015,
          1990,
          1991,
          1992,
          1993,
          1994,
          1995,
          1996,
          1997,
          1998,
          1999,
          2000,
          2001,
          2002,
          2003,
          2004,
          2005,
          2006,
          2007,
          2008,
          2009,
          2010,
          2011,
          2012,
          2013,
          2014
         ],
         "yaxis": "y",
         "ybingroup": "y",
         "z": [
          470482656370.65826,
          520285082117.7351,
          567233246979.881,
          564287262578.8411,
          691433054497.2462,
          847318728670.7719,
          979691871490.5002,
          1103062832751.6584,
          1183700249079.02,
          1245269717341.89,
          1347438370206.7397,
          1442058044725.381,
          1493241267787.482,
          1484471417998.6016,
          1541912518658.2178,
          1640219724866.4224,
          1816372631045.6667,
          2177888047843.5984,
          2746325952021.6855,
          2868642513479.302,
          3114094110857.541,
          3621702311285.714,
          3969194177121.3984,
          4341839217268.728,
          4709500273278.783,
          400706611630.4356,
          434347494275.1719,
          508608452837.3623,
          502418837243.6138,
          539295394365.67883,
          627666319627.1973,
          588062809455.1047,
          526243620722.3396,
          535990507457.0343,
          537986730402.8191,
          475806370377.9882,
          462205284956.359,
          505909683288.70636,
          612471037011.1177,
          684026076587.2651,
          696649364129.6014,
          712234469059.8682,
          859443455605.7726,
          927772354894.7543,
          899949601176.1138,
          850538516232.2998,
          968859960817.5348,
          909772301661.9465,
          947778139569.7068,
          1029006266312.9025,
          879514482984.1057,
          303907231583.2078,
          308202481838.45746,
          320148762490.871,
          285843491744.73676,
          305554868992.49725,
          360486265271.62854,
          365905887537.617,
          415057002106.0358,
          436662963567.0122,
          446035135874.43274,
          439946807033.29095,
          435894665408.253,
          484479986689.2303,
          550545248633.6354,
          655445670541.231,
          689026591395.72,
          752593133409.9849,
          897975907806.533,
          871334615173.2026,
          767055886968.2438,
          769351731158.8959,
          896255994137.3679,
          889653192971.5011,
          932104779927.7988,
          1103481034117.2644,
          1059103759696.5897,
          913917729997.7263,
          753843029344.5416,
          792277296732.7759,
          765344066681.7417,
          881289149730.5266,
          935920240791.9778,
          1009852503657.0614,
          1048030146170.2792,
          1056717342604.6621,
          1108293704473.8967,
          1125726540987.3018,
          1171192776746.9119,
          1227933112749.564,
          1439854943153.014,
          1622281724768.6023,
          1835196267128.6858,
          2029047152894.6326,
          2521968614923.667,
          2402418411075.3857,
          2475837494703.69,
          2998676265946.9077,
          3172595723440.961,
          3071342065294.183,
          3089558953410.4673,
          3232092558551.399,
          24118092756.147655,
          23872559621.87779,
          25357928351.593433,
          22085589241.066566,
          23918183095.861767,
          28198538957.668312,
          31433778156.120274,
          29470582237.767857,
          27130296483.282032,
          27460798427.12128,
          29429232975.966476,
          29263986834.733948,
          35613671460.43766,
          38661158829.73488,
          45979195402.15076,
          53419637374.68888,
          59466651239.031944,
          68684421281.8062,
          68849109481.73303,
          59834809452.36291,
          62159693309.94637,
          88741207847.3174,
          86820987821.42055,
          81984844344.02504,
          89665290948.86731,
          66721252372.4559,
          87016155981.95528,
          88235496679.97493,
          85931142169.45303,
          85987280736.78453,
          89249291475.30109,
          92184865463.38036,
          92113984321.97153,
          99498799525.94647,
          68053506518.765656,
          47357695249.36161,
          61480340381.77247,
          71495952292.97533,
          80563055683.55707,
          96462126918.49568,
          131521615039.68852,
          168251806412.44397,
          211145357787.70514,
          275953886207.03845,
          344351360864.66675,
          269824033774.72253,
          316436417325.1771,
          405341039029.1035,
          427909973328.5139,
          452335051712.194,
          417817252554.898,
          32456791789.69971,
          32613183281.417942,
          30796372879.18681,
          29715009334.156242,
          29547392053.9503,
          32039985837.95209,
          34045169917.027565,
          38359548832.39732,
          32686206796.798504,
          36303196244.97141,
          41729857074.06699,
          40486701434.07019,
          38557217614.25011,
          44380949482.616974,
          51103284796.127655,
          65391639524.79454,
          70450044766.54541,
          78259716989.21791,
          91106665245.33372,
          73344424734.84692,
          83754721731.76047,
          114534649949.8738,
          114125796945.37448,
          123495729835.00815,
          115349170926.00203,
          776873865888.1493,
          807184169100.0642,
          849245683461.4319,
          889811665496.8014,
          939695665871.7919,
          984059890567.0841,
          1028750417026.6727,
          1095984048039.553,
          1160988092900.3528,
          1215414347751.5383,
          1278413063911.959,
          1354133103101.7495,
          1389713216726.6257,
          1475449382525.909,
          1547913248620.986,
          1656789717315.796,
          1792754341307.7686,
          1868998423875.6914,
          1976474103267.2258,
          2054760456463.1536,
          2094554749822.979,
          2219075496985.56,
          2371934703744.695,
          2447289641080.419,
          2528487144019.9644,
          2689595697501.2056,
          55262812862.127884,
          58236267549.968,
          69277196971.63557,
          65932877288.58792,
          67661261544.88042,
          72954746719.37634,
          68900503335.32443,
          70416828645.41687,
          64974262735.22551,
          64293852404.356224,
          65150078496.929825,
          57032545691.89476,
          55916784150.4416,
          80552901535.49422,
          96693031128.40886,
          110404297777.46503,
          118112755499.17995,
          122142038762.97662,
          108850180979.95753,
          117207228871.3048,
          152448632875.05084,
          170086931397.63696,
          165726830790.10934,
          154553363931.21066,
          141900825568.51242
         ]
        }
       ],
       "layout": {
        "coloraxis": {
         "colorbar": {
          "title": {
           "text": "CO2 Intensity"
          }
         },
         "colorscale": [
          [
           0,
           "#440154"
          ],
          [
           0.1111111111111111,
           "#482878"
          ],
          [
           0.2222222222222222,
           "#3e4989"
          ],
          [
           0.3333333333333333,
           "#31688e"
          ],
          [
           0.4444444444444444,
           "#26828e"
          ],
          [
           0.5555555555555556,
           "#1f9e89"
          ],
          [
           0.6666666666666666,
           "#35b779"
          ],
          [
           0.7777777777777778,
           "#6ece58"
          ],
          [
           0.8888888888888888,
           "#b5de2b"
          ],
          [
           1,
           "#fde725"
          ]
         ]
        },
        "legend": {
         "tracegroupgap": 0
        },
        "template": {
         "data": {
          "bar": [
           {
            "error_x": {
             "color": "#2a3f5f"
            },
            "error_y": {
             "color": "#2a3f5f"
            },
            "marker": {
             "line": {
              "color": "white",
              "width": 0.5
             },
             "pattern": {
              "fillmode": "overlay",
              "size": 10,
              "solidity": 0.2
             }
            },
            "type": "bar"
           }
          ],
          "barpolar": [
           {
            "marker": {
             "line": {
              "color": "white",
              "width": 0.5
             },
             "pattern": {
              "fillmode": "overlay",
              "size": 10,
              "solidity": 0.2
             }
            },
            "type": "barpolar"
           }
          ],
          "carpet": [
           {
            "aaxis": {
             "endlinecolor": "#2a3f5f",
             "gridcolor": "#C8D4E3",
             "linecolor": "#C8D4E3",
             "minorgridcolor": "#C8D4E3",
             "startlinecolor": "#2a3f5f"
            },
            "baxis": {
             "endlinecolor": "#2a3f5f",
             "gridcolor": "#C8D4E3",
             "linecolor": "#C8D4E3",
             "minorgridcolor": "#C8D4E3",
             "startlinecolor": "#2a3f5f"
            },
            "type": "carpet"
           }
          ],
          "choropleth": [
           {
            "colorbar": {
             "outlinewidth": 0,
             "ticks": ""
            },
            "type": "choropleth"
           }
          ],
          "contour": [
           {
            "colorbar": {
             "outlinewidth": 0,
             "ticks": ""
            },
            "colorscale": [
             [
              0,
              "#0d0887"
             ],
             [
              0.1111111111111111,
              "#46039f"
             ],
             [
              0.2222222222222222,
              "#7201a8"
             ],
             [
              0.3333333333333333,
              "#9c179e"
             ],
             [
              0.4444444444444444,
              "#bd3786"
             ],
             [
              0.5555555555555556,
              "#d8576b"
             ],
             [
              0.6666666666666666,
              "#ed7953"
             ],
             [
              0.7777777777777778,
              "#fb9f3a"
             ],
             [
              0.8888888888888888,
              "#fdca26"
             ],
             [
              1,
              "#f0f921"
             ]
            ],
            "type": "contour"
           }
          ],
          "contourcarpet": [
           {
            "colorbar": {
             "outlinewidth": 0,
             "ticks": ""
            },
            "type": "contourcarpet"
           }
          ],
          "heatmap": [
           {
            "colorbar": {
             "outlinewidth": 0,
             "ticks": ""
            },
            "colorscale": [
             [
              0,
              "#0d0887"
             ],
             [
              0.1111111111111111,
              "#46039f"
             ],
             [
              0.2222222222222222,
              "#7201a8"
             ],
             [
              0.3333333333333333,
              "#9c179e"
             ],
             [
              0.4444444444444444,
              "#bd3786"
             ],
             [
              0.5555555555555556,
              "#d8576b"
             ],
             [
              0.6666666666666666,
              "#ed7953"
             ],
             [
              0.7777777777777778,
              "#fb9f3a"
             ],
             [
              0.8888888888888888,
              "#fdca26"
             ],
             [
              1,
              "#f0f921"
             ]
            ],
            "type": "heatmap"
           }
          ],
          "heatmapgl": [
           {
            "colorbar": {
             "outlinewidth": 0,
             "ticks": ""
            },
            "colorscale": [
             [
              0,
              "#0d0887"
             ],
             [
              0.1111111111111111,
              "#46039f"
             ],
             [
              0.2222222222222222,
              "#7201a8"
             ],
             [
              0.3333333333333333,
              "#9c179e"
             ],
             [
              0.4444444444444444,
              "#bd3786"
             ],
             [
              0.5555555555555556,
              "#d8576b"
             ],
             [
              0.6666666666666666,
              "#ed7953"
             ],
             [
              0.7777777777777778,
              "#fb9f3a"
             ],
             [
              0.8888888888888888,
              "#fdca26"
             ],
             [
              1,
              "#f0f921"
             ]
            ],
            "type": "heatmapgl"
           }
          ],
          "histogram": [
           {
            "marker": {
             "pattern": {
              "fillmode": "overlay",
              "size": 10,
              "solidity": 0.2
             }
            },
            "type": "histogram"
           }
          ],
          "histogram2d": [
           {
            "colorbar": {
             "outlinewidth": 0,
             "ticks": ""
            },
            "colorscale": [
             [
              0,
              "#0d0887"
             ],
             [
              0.1111111111111111,
              "#46039f"
             ],
             [
              0.2222222222222222,
              "#7201a8"
             ],
             [
              0.3333333333333333,
              "#9c179e"
             ],
             [
              0.4444444444444444,
              "#bd3786"
             ],
             [
              0.5555555555555556,
              "#d8576b"
             ],
             [
              0.6666666666666666,
              "#ed7953"
             ],
             [
              0.7777777777777778,
              "#fb9f3a"
             ],
             [
              0.8888888888888888,
              "#fdca26"
             ],
             [
              1,
              "#f0f921"
             ]
            ],
            "type": "histogram2d"
           }
          ],
          "histogram2dcontour": [
           {
            "colorbar": {
             "outlinewidth": 0,
             "ticks": ""
            },
            "colorscale": [
             [
              0,
              "#0d0887"
             ],
             [
              0.1111111111111111,
              "#46039f"
             ],
             [
              0.2222222222222222,
              "#7201a8"
             ],
             [
              0.3333333333333333,
              "#9c179e"
             ],
             [
              0.4444444444444444,
              "#bd3786"
             ],
             [
              0.5555555555555556,
              "#d8576b"
             ],
             [
              0.6666666666666666,
              "#ed7953"
             ],
             [
              0.7777777777777778,
              "#fb9f3a"
             ],
             [
              0.8888888888888888,
              "#fdca26"
             ],
             [
              1,
              "#f0f921"
             ]
            ],
            "type": "histogram2dcontour"
           }
          ],
          "mesh3d": [
           {
            "colorbar": {
             "outlinewidth": 0,
             "ticks": ""
            },
            "type": "mesh3d"
           }
          ],
          "parcoords": [
           {
            "line": {
             "colorbar": {
              "outlinewidth": 0,
              "ticks": ""
             }
            },
            "type": "parcoords"
           }
          ],
          "pie": [
           {
            "automargin": true,
            "type": "pie"
           }
          ],
          "scatter": [
           {
            "fillpattern": {
             "fillmode": "overlay",
             "size": 10,
             "solidity": 0.2
            },
            "type": "scatter"
           }
          ],
          "scatter3d": [
           {
            "line": {
             "colorbar": {
              "outlinewidth": 0,
              "ticks": ""
             }
            },
            "marker": {
             "colorbar": {
              "outlinewidth": 0,
              "ticks": ""
             }
            },
            "type": "scatter3d"
           }
          ],
          "scattercarpet": [
           {
            "marker": {
             "colorbar": {
              "outlinewidth": 0,
              "ticks": ""
             }
            },
            "type": "scattercarpet"
           }
          ],
          "scattergeo": [
           {
            "marker": {
             "colorbar": {
              "outlinewidth": 0,
              "ticks": ""
             }
            },
            "type": "scattergeo"
           }
          ],
          "scattergl": [
           {
            "marker": {
             "colorbar": {
              "outlinewidth": 0,
              "ticks": ""
             }
            },
            "type": "scattergl"
           }
          ],
          "scattermapbox": [
           {
            "marker": {
             "colorbar": {
              "outlinewidth": 0,
              "ticks": ""
             }
            },
            "type": "scattermapbox"
           }
          ],
          "scatterpolar": [
           {
            "marker": {
             "colorbar": {
              "outlinewidth": 0,
              "ticks": ""
             }
            },
            "type": "scatterpolar"
           }
          ],
          "scatterpolargl": [
           {
            "marker": {
             "colorbar": {
              "outlinewidth": 0,
              "ticks": ""
             }
            },
            "type": "scatterpolargl"
           }
          ],
          "scatterternary": [
           {
            "marker": {
             "colorbar": {
              "outlinewidth": 0,
              "ticks": ""
             }
            },
            "type": "scatterternary"
           }
          ],
          "surface": [
           {
            "colorbar": {
             "outlinewidth": 0,
             "ticks": ""
            },
            "colorscale": [
             [
              0,
              "#0d0887"
             ],
             [
              0.1111111111111111,
              "#46039f"
             ],
             [
              0.2222222222222222,
              "#7201a8"
             ],
             [
              0.3333333333333333,
              "#9c179e"
             ],
             [
              0.4444444444444444,
              "#bd3786"
             ],
             [
              0.5555555555555556,
              "#d8576b"
             ],
             [
              0.6666666666666666,
              "#ed7953"
             ],
             [
              0.7777777777777778,
              "#fb9f3a"
             ],
             [
              0.8888888888888888,
              "#fdca26"
             ],
             [
              1,
              "#f0f921"
             ]
            ],
            "type": "surface"
           }
          ],
          "table": [
           {
            "cells": {
             "fill": {
              "color": "#EBF0F8"
             },
             "line": {
              "color": "white"
             }
            },
            "header": {
             "fill": {
              "color": "#C8D4E3"
             },
             "line": {
              "color": "white"
             }
            },
            "type": "table"
           }
          ]
         },
         "layout": {
          "annotationdefaults": {
           "arrowcolor": "#2a3f5f",
           "arrowhead": 0,
           "arrowwidth": 1
          },
          "autotypenumbers": "strict",
          "coloraxis": {
           "colorbar": {
            "outlinewidth": 0,
            "ticks": ""
           }
          },
          "colorscale": {
           "diverging": [
            [
             0,
             "#8e0152"
            ],
            [
             0.1,
             "#c51b7d"
            ],
            [
             0.2,
             "#de77ae"
            ],
            [
             0.3,
             "#f1b6da"
            ],
            [
             0.4,
             "#fde0ef"
            ],
            [
             0.5,
             "#f7f7f7"
            ],
            [
             0.6,
             "#e6f5d0"
            ],
            [
             0.7,
             "#b8e186"
            ],
            [
             0.8,
             "#7fbc41"
            ],
            [
             0.9,
             "#4d9221"
            ],
            [
             1,
             "#276419"
            ]
           ],
           "sequential": [
            [
             0,
             "#0d0887"
            ],
            [
             0.1111111111111111,
             "#46039f"
            ],
            [
             0.2222222222222222,
             "#7201a8"
            ],
            [
             0.3333333333333333,
             "#9c179e"
            ],
            [
             0.4444444444444444,
             "#bd3786"
            ],
            [
             0.5555555555555556,
             "#d8576b"
            ],
            [
             0.6666666666666666,
             "#ed7953"
            ],
            [
             0.7777777777777778,
             "#fb9f3a"
            ],
            [
             0.8888888888888888,
             "#fdca26"
            ],
            [
             1,
             "#f0f921"
            ]
           ],
           "sequentialminus": [
            [
             0,
             "#0d0887"
            ],
            [
             0.1111111111111111,
             "#46039f"
            ],
            [
             0.2222222222222222,
             "#7201a8"
            ],
            [
             0.3333333333333333,
             "#9c179e"
            ],
            [
             0.4444444444444444,
             "#bd3786"
            ],
            [
             0.5555555555555556,
             "#d8576b"
            ],
            [
             0.6666666666666666,
             "#ed7953"
            ],
            [
             0.7777777777777778,
             "#fb9f3a"
            ],
            [
             0.8888888888888888,
             "#fdca26"
            ],
            [
             1,
             "#f0f921"
            ]
           ]
          },
          "colorway": [
           "#636efa",
           "#EF553B",
           "#00cc96",
           "#ab63fa",
           "#FFA15A",
           "#19d3f3",
           "#FF6692",
           "#B6E880",
           "#FF97FF",
           "#FECB52"
          ],
          "font": {
           "color": "#2a3f5f"
          },
          "geo": {
           "bgcolor": "white",
           "lakecolor": "white",
           "landcolor": "white",
           "showlakes": true,
           "showland": true,
           "subunitcolor": "#C8D4E3"
          },
          "hoverlabel": {
           "align": "left"
          },
          "hovermode": "closest",
          "mapbox": {
           "style": "light"
          },
          "paper_bgcolor": "white",
          "plot_bgcolor": "white",
          "polar": {
           "angularaxis": {
            "gridcolor": "#EBF0F8",
            "linecolor": "#EBF0F8",
            "ticks": ""
           },
           "bgcolor": "white",
           "radialaxis": {
            "gridcolor": "#EBF0F8",
            "linecolor": "#EBF0F8",
            "ticks": ""
           }
          },
          "scene": {
           "xaxis": {
            "backgroundcolor": "white",
            "gridcolor": "#DFE8F3",
            "gridwidth": 2,
            "linecolor": "#EBF0F8",
            "showbackground": true,
            "ticks": "",
            "zerolinecolor": "#EBF0F8"
           },
           "yaxis": {
            "backgroundcolor": "white",
            "gridcolor": "#DFE8F3",
            "gridwidth": 2,
            "linecolor": "#EBF0F8",
            "showbackground": true,
            "ticks": "",
            "zerolinecolor": "#EBF0F8"
           },
           "zaxis": {
            "backgroundcolor": "white",
            "gridcolor": "#DFE8F3",
            "gridwidth": 2,
            "linecolor": "#EBF0F8",
            "showbackground": true,
            "ticks": "",
            "zerolinecolor": "#EBF0F8"
           }
          },
          "shapedefaults": {
           "line": {
            "color": "#2a3f5f"
           }
          },
          "ternary": {
           "aaxis": {
            "gridcolor": "#DFE8F3",
            "linecolor": "#A2B1C6",
            "ticks": ""
           },
           "baxis": {
            "gridcolor": "#DFE8F3",
            "linecolor": "#A2B1C6",
            "ticks": ""
           },
           "bgcolor": "white",
           "caxis": {
            "gridcolor": "#DFE8F3",
            "linecolor": "#A2B1C6",
            "ticks": ""
           }
          },
          "title": {
           "x": 0.05
          },
          "xaxis": {
           "automargin": true,
           "gridcolor": "#EBF0F8",
           "linecolor": "#EBF0F8",
           "ticks": "",
           "title": {
            "standoff": 15
           },
           "zerolinecolor": "#EBF0F8",
           "zerolinewidth": 2
          },
          "yaxis": {
           "automargin": true,
           "gridcolor": "#EBF0F8",
           "linecolor": "#EBF0F8",
           "ticks": "",
           "title": {
            "standoff": 15
           },
           "zerolinecolor": "#EBF0F8",
           "zerolinewidth": 2
          }
         }
        },
        "title": {
         "text": "CO2 Emissions Intensity (CO2 per $1,000 GDP)"
        },
        "xaxis": {
         "anchor": "y",
         "domain": [
          0,
          1
         ],
         "title": {
          "text": "Country"
         }
        },
        "yaxis": {
         "anchor": "x",
         "domain": [
          0,
          1
         ],
         "title": {
          "text": "Year"
         }
        }
       }
      }
     },
     "metadata": {},
     "output_type": "display_data"
    }
   ],
   "source": [
    "countries_to_filter = ['China', 'Germany', 'India', 'United States', 'United Kingdom','Saudi Arabia', 'Norway','Russian Federation','South Africa']\n",
    "filtered_df = df1[df1['Country_Name'].isin(countries_to_filter)].copy()\n",
    "\n",
    "# Calculate CO2 emissions per $1,000 of GDP\n",
    "filtered_df['CO2_Intensity'] = filtered_df['CO2_Emissions'] / (filtered_df['GDP'] / 1000)\n",
    "\n",
    "fig = px.density_heatmap(\n",
    "    filtered_df,\n",
    "    x=\"Country_Name\",           # X-axis: Countries\n",
    "    y=\"Year\",                   # Optionally, use the year on the y-axis for a time trend heatmap\n",
    "    z=\"CO2_Intensity\",          # Z-axis: CO2 emissions per $1,000 GDP\n",
    "    color_continuous_scale=\"Viridis\", # Color scale for heatmap\n",
    "    title=\"CO2 Emissions Intensity (CO2 per $1,000 GDP)\",\n",
    "    labels={\n",
    "        \"Country_Name\": \"Country\",\n",
    "        \"CO2_Intensity\": \"CO2 Emissions per $1,000 GDP (tonnes)\",\n",
    "        \"Year\": \"Year\"\n",
    "    },\n",
    "    template=\"plotly_white\"\n",
    ")\n",
    "\n",
    "fig.update_layout(\n",
    "    xaxis_title=\"Country\",\n",
    "    yaxis_title=\"Year\",\n",
    "    coloraxis_colorbar_title=\"CO2 Intensity\"\n",
    ")\n",
    "\n",
    "fig.show()\n"
   ]
  },
  {
   "cell_type": "code",
   "execution_count": 78,
   "metadata": {},
   "outputs": [
    {
     "data": {
      "application/vnd.plotly.v1+json": {
       "config": {
        "plotlyServerURL": "https://plot.ly"
       },
       "data": [
        {
         "alignmentgroup": "True",
         "hovertemplate": "Country=%{x}<br>CO2 Emissions (metric tons)=%{y}<br>CO2 Intensity (per $1,000 GDP)=%{marker.color}<extra></extra>",
         "legendgroup": "",
         "marker": {
          "color": [
           470482656370.65826,
           520285082117.7351,
           567233246979.881,
           564287262578.8411,
           691433054497.2462,
           847318728670.7719,
           979691871490.5002,
           1103062832751.6584,
           1183700249079.02,
           1245269717341.89,
           1347438370206.7397,
           1442058044725.381,
           1493241267787.482,
           1484471417998.6016,
           1541912518658.2178,
           1640219724866.4224,
           1816372631045.6667,
           2177888047843.5984,
           2746325952021.6855,
           2868642513479.302,
           3114094110857.541,
           3621702311285.714,
           3969194177121.3984,
           4341839217268.728,
           4709500273278.783,
           400706611630.4356,
           434347494275.1719,
           508608452837.3623,
           502418837243.6138,
           539295394365.67883,
           627666319627.1973,
           588062809455.1047,
           526243620722.3396,
           535990507457.0343,
           537986730402.8191,
           475806370377.9882,
           462205284956.359,
           505909683288.70636,
           612471037011.1177,
           684026076587.2651,
           696649364129.6014,
           712234469059.8682,
           859443455605.7726,
           927772354894.7543,
           899949601176.1138,
           850538516232.2998,
           968859960817.5348,
           909772301661.9465,
           947778139569.7068,
           1029006266312.9025,
           879514482984.1057,
           303907231583.2078,
           308202481838.45746,
           320148762490.871,
           285843491744.73676,
           305554868992.49725,
           360486265271.62854,
           365905887537.617,
           415057002106.0358,
           436662963567.0122,
           446035135874.43274,
           439946807033.29095,
           435894665408.253,
           484479986689.2303,
           550545248633.6354,
           655445670541.231,
           689026591395.72,
           752593133409.9849,
           897975907806.533,
           871334615173.2026,
           767055886968.2438,
           769351731158.8959,
           896255994137.3679,
           889653192971.5011,
           932104779927.7988,
           1103481034117.2644,
           1059103759696.5897,
           913917729997.7263,
           753843029344.5416,
           792277296732.7759,
           765344066681.7417,
           881289149730.5266,
           935920240791.9778,
           1009852503657.0614,
           1048030146170.2792,
           1056717342604.6621,
           1108293704473.8967,
           1125726540987.3018,
           1171192776746.9119,
           1227933112749.564,
           1439854943153.014,
           1622281724768.6023,
           1835196267128.6858,
           2029047152894.6326,
           2521968614923.667,
           2402418411075.3857,
           2475837494703.69,
           2998676265946.9077,
           3172595723440.961,
           3071342065294.183,
           3089558953410.4673,
           3232092558551.399,
           24118092756.147655,
           23872559621.87779,
           25357928351.593433,
           22085589241.066566,
           23918183095.861767,
           28198538957.668312,
           31433778156.120274,
           29470582237.767857,
           27130296483.282032,
           27460798427.12128,
           29429232975.966476,
           29263986834.733948,
           35613671460.43766,
           38661158829.73488,
           45979195402.15076,
           53419637374.68888,
           59466651239.031944,
           68684421281.8062,
           68849109481.73303,
           59834809452.36291,
           62159693309.94637,
           88741207847.3174,
           86820987821.42055,
           81984844344.02504,
           89665290948.86731,
           66721252372.4559,
           87016155981.95528,
           88235496679.97493,
           85931142169.45303,
           85987280736.78453,
           89249291475.30109,
           92184865463.38036,
           92113984321.97153,
           99498799525.94647,
           68053506518.765656,
           47357695249.36161,
           61480340381.77247,
           71495952292.97533,
           80563055683.55707,
           96462126918.49568,
           131521615039.68852,
           168251806412.44397,
           211145357787.70514,
           275953886207.03845,
           344351360864.66675,
           269824033774.72253,
           316436417325.1771,
           405341039029.1035,
           427909973328.5139,
           452335051712.194,
           417817252554.898,
           32456791789.69971,
           32613183281.417942,
           30796372879.18681,
           29715009334.156242,
           29547392053.9503,
           32039985837.95209,
           34045169917.027565,
           38359548832.39732,
           32686206796.798504,
           36303196244.97141,
           41729857074.06699,
           40486701434.07019,
           38557217614.25011,
           44380949482.616974,
           51103284796.127655,
           65391639524.79454,
           70450044766.54541,
           78259716989.21791,
           91106665245.33372,
           73344424734.84692,
           83754721731.76047,
           114534649949.8738,
           114125796945.37448,
           123495729835.00815,
           115349170926.00203,
           776873865888.1493,
           807184169100.0642,
           849245683461.4319,
           889811665496.8014,
           939695665871.7919,
           984059890567.0841,
           1028750417026.6727,
           1095984048039.553,
           1160988092900.3528,
           1215414347751.5383,
           1278413063911.959,
           1354133103101.7495,
           1389713216726.6257,
           1475449382525.909,
           1547913248620.986,
           1656789717315.796,
           1792754341307.7686,
           1868998423875.6914,
           1976474103267.2258,
           2054760456463.1536,
           2094554749822.979,
           2219075496985.56,
           2371934703744.695,
           2447289641080.419,
           2528487144019.9644,
           2689595697501.2056,
           55262812862.127884,
           58236267549.968,
           69277196971.63557,
           65932877288.58792,
           67661261544.88042,
           72954746719.37634,
           68900503335.32443,
           70416828645.41687,
           64974262735.22551,
           64293852404.356224,
           65150078496.929825,
           57032545691.89476,
           55916784150.4416,
           80552901535.49422,
           96693031128.40886,
           110404297777.46503,
           118112755499.17995,
           122142038762.97662,
           108850180979.95753,
           117207228871.3048,
           152448632875.05084,
           170086931397.63696,
           165726830790.10934,
           154553363931.21066,
           141900825568.51242
          ],
          "coloraxis": "coloraxis",
          "pattern": {
           "shape": ""
          }
         },
         "name": "",
         "offsetgroup": "",
         "orientation": "v",
         "showlegend": false,
         "textposition": "auto",
         "type": "bar",
         "x": [
          "China",
          "China",
          "China",
          "China",
          "China",
          "China",
          "China",
          "China",
          "China",
          "China",
          "China",
          "China",
          "China",
          "China",
          "China",
          "China",
          "China",
          "China",
          "China",
          "China",
          "China",
          "China",
          "China",
          "China",
          "China",
          "Germany",
          "Germany",
          "Germany",
          "Germany",
          "Germany",
          "Germany",
          "Germany",
          "Germany",
          "Germany",
          "Germany",
          "Germany",
          "Germany",
          "Germany",
          "Germany",
          "Germany",
          "Germany",
          "Germany",
          "Germany",
          "Germany",
          "Germany",
          "Germany",
          "Germany",
          "Germany",
          "Germany",
          "Germany",
          "Germany",
          "United Kingdom",
          "United Kingdom",
          "United Kingdom",
          "United Kingdom",
          "United Kingdom",
          "United Kingdom",
          "United Kingdom",
          "United Kingdom",
          "United Kingdom",
          "United Kingdom",
          "United Kingdom",
          "United Kingdom",
          "United Kingdom",
          "United Kingdom",
          "United Kingdom",
          "United Kingdom",
          "United Kingdom",
          "United Kingdom",
          "United Kingdom",
          "United Kingdom",
          "United Kingdom",
          "United Kingdom",
          "United Kingdom",
          "United Kingdom",
          "United Kingdom",
          "United Kingdom",
          "India",
          "India",
          "India",
          "India",
          "India",
          "India",
          "India",
          "India",
          "India",
          "India",
          "India",
          "India",
          "India",
          "India",
          "India",
          "India",
          "India",
          "India",
          "India",
          "India",
          "India",
          "India",
          "India",
          "India",
          "India",
          "Norway",
          "Norway",
          "Norway",
          "Norway",
          "Norway",
          "Norway",
          "Norway",
          "Norway",
          "Norway",
          "Norway",
          "Norway",
          "Norway",
          "Norway",
          "Norway",
          "Norway",
          "Norway",
          "Norway",
          "Norway",
          "Norway",
          "Norway",
          "Norway",
          "Norway",
          "Norway",
          "Norway",
          "Norway",
          "Norway",
          "Russian Federation",
          "Russian Federation",
          "Russian Federation",
          "Russian Federation",
          "Russian Federation",
          "Russian Federation",
          "Russian Federation",
          "Russian Federation",
          "Russian Federation",
          "Russian Federation",
          "Russian Federation",
          "Russian Federation",
          "Russian Federation",
          "Russian Federation",
          "Russian Federation",
          "Russian Federation",
          "Russian Federation",
          "Russian Federation",
          "Russian Federation",
          "Russian Federation",
          "Russian Federation",
          "Russian Federation",
          "Russian Federation",
          "Russian Federation",
          "Russian Federation",
          "Saudi Arabia",
          "Saudi Arabia",
          "Saudi Arabia",
          "Saudi Arabia",
          "Saudi Arabia",
          "Saudi Arabia",
          "Saudi Arabia",
          "Saudi Arabia",
          "Saudi Arabia",
          "Saudi Arabia",
          "Saudi Arabia",
          "Saudi Arabia",
          "Saudi Arabia",
          "Saudi Arabia",
          "Saudi Arabia",
          "Saudi Arabia",
          "Saudi Arabia",
          "Saudi Arabia",
          "Saudi Arabia",
          "Saudi Arabia",
          "Saudi Arabia",
          "Saudi Arabia",
          "Saudi Arabia",
          "Saudi Arabia",
          "Saudi Arabia",
          "United States",
          "United States",
          "United States",
          "United States",
          "United States",
          "United States",
          "United States",
          "United States",
          "United States",
          "United States",
          "United States",
          "United States",
          "United States",
          "United States",
          "United States",
          "United States",
          "United States",
          "United States",
          "United States",
          "United States",
          "United States",
          "United States",
          "United States",
          "United States",
          "United States",
          "United States",
          "South Africa",
          "South Africa",
          "South Africa",
          "South Africa",
          "South Africa",
          "South Africa",
          "South Africa",
          "South Africa",
          "South Africa",
          "South Africa",
          "South Africa",
          "South Africa",
          "South Africa",
          "South Africa",
          "South Africa",
          "South Africa",
          "South Africa",
          "South Africa",
          "South Africa",
          "South Africa",
          "South Africa",
          "South Africa",
          "South Africa",
          "South Africa",
          "South Africa"
         ],
         "xaxis": "x",
         "y": [
          360858000000,
          383373000000,
          426916000000,
          444731000000,
          564322000000,
          734485000000,
          863749000000,
          961602000000,
          1029060000000,
          1094000000000,
          1211330000000,
          1339400000000,
          1470560000000,
          1660280000000,
          1955350000000,
          2285960000000,
          2752120000000,
          3550330000000,
          4594340000000,
          5101690000000,
          6087190000000,
          7551550000000,
          8532190000000,
          9570470000000,
          10475600000000,
          1771670000000,
          1868950000000,
          2131570000000,
          2071320000000,
          2205070000000,
          2585790000000,
          2497240000000,
          2211990000000,
          2238990000000,
          2194950000000,
          1947980000000,
          1945790000000,
          2078480000000,
          2501640000000,
          2814350000000,
          2846860000000,
          2994700000000,
          3425580000000,
          3745260000000,
          3411260000000,
          3399670000000,
          3749310000000,
          3527140000000,
          3733800000000,
          3889090000000,
          3357590000000,
          1093170000000,
          1142800000000,
          1179660000000,
          1061390000000,
          1140490000000,
          1344240000000,
          1419650000000,
          1560910000000,
          1653690000000,
          1687830000000,
          1665530000000,
          1649830000000,
          1785730000000,
          2054420000000,
          2421530000000,
          2540000000000,
          2708440000000,
          3090510000000,
          2929410000000,
          2412840000000,
          2485480000000,
          2663810000000,
          2707090000000,
          2784850000000,
          3064710000000,
          2927910000000,
          320979000000,
          270105000000,
          288208000000,
          279296000000,
          327275000000,
          360282000000,
          392897000000,
          415868000000,
          421351000000,
          458821000000,
          468396000000,
          485440000000,
          514939000000,
          607701000000,
          709153000000,
          820384000000,
          940260000000,
          1216740000000,
          1198900000000,
          1341890000000,
          1675620000000,
          1823050000000,
          1827640000000,
          1856720000000,
          2039130000000,
          119792000000,
          121872000000,
          130838000000,
          120579000000,
          127131000000,
          152030000000,
          163520000000,
          161357000000,
          154230000000,
          162384000000,
          171457000000,
          174239000000,
          195915000000,
          229385000000,
          265269000000,
          309979000000,
          346915000000,
          402643000000,
          464918000000,
          387976000000,
          431052000000,
          501361000000,
          512777000000,
          526014000000,
          501736000000,
          388160000000,
          517014000000,
          517963000000,
          460291000000,
          435084000000,
          395077000000,
          395537000000,
          391725000000,
          404929000000,
          270955000000,
          195907000000,
          259710000000,
          306602000000,
          345470000000,
          430347000000,
          591017000000,
          764016000000,
          989932000000,
          1299700000000,
          1660850000000,
          1222650000000,
          1524920000000,
          2045920000000,
          2208290000000,
          2292470000000,
          2059240000000,
          117630000000,
          132223000000,
          137088000000,
          132968000000,
          135175000000,
          143343000000,
          158662000000,
          165964000000,
          146775000000,
          161717000000,
          189515000000,
          184138000000,
          189606000000,
          215808000000,
          258742000000,
          328460000000,
          376900000000,
          415965000000,
          519797000000,
          429098000000,
          528207000000,
          676635000000,
          741850000000,
          753865000000,
          766606000000,
          5960000000000,
          6160000000000,
          6520000000000,
          6860000000000,
          7290000000000,
          7640000000000,
          8070000000000,
          8580000000000,
          9060000000000,
          9630000000000,
          10300000000000,
          10600000000000,
          10900000000000,
          11500000000000,
          12200000000000,
          13000000000000,
          13800000000000,
          14500000000000,
          14800000000000,
          14500000000000,
          15000000000000,
          15600000000000,
          16300000000000,
          16900000000000,
          17600000000000,
          18300000000000,
          126048000000,
          135204000000,
          146956000000,
          147195000000,
          153513000000,
          171736000000,
          163235000000,
          168978000000,
          152983000000,
          151517000000,
          151753000000,
          135430000000,
          129088000000,
          197019000000,
          255807000000,
          288867000000,
          303859000000,
          333077000000,
          316131000000,
          329754000000,
          417364000000,
          458199000000,
          434401000000,
          400886000000,
          381199000000
         ],
         "yaxis": "y"
        }
       ],
       "layout": {
        "barmode": "relative",
        "coloraxis": {
         "colorbar": {
          "title": {
           "text": "CO2 Intensity (per $1,000 GDP)"
          }
         },
         "colorscale": [
          [
           0,
           "#0d0887"
          ],
          [
           0.1111111111111111,
           "#46039f"
          ],
          [
           0.2222222222222222,
           "#7201a8"
          ],
          [
           0.3333333333333333,
           "#9c179e"
          ],
          [
           0.4444444444444444,
           "#bd3786"
          ],
          [
           0.5555555555555556,
           "#d8576b"
          ],
          [
           0.6666666666666666,
           "#ed7953"
          ],
          [
           0.7777777777777778,
           "#fb9f3a"
          ],
          [
           0.8888888888888888,
           "#fdca26"
          ],
          [
           1,
           "#f0f921"
          ]
         ]
        },
        "legend": {
         "tracegroupgap": 0
        },
        "template": {
         "data": {
          "bar": [
           {
            "error_x": {
             "color": "#2a3f5f"
            },
            "error_y": {
             "color": "#2a3f5f"
            },
            "marker": {
             "line": {
              "color": "white",
              "width": 0.5
             },
             "pattern": {
              "fillmode": "overlay",
              "size": 10,
              "solidity": 0.2
             }
            },
            "type": "bar"
           }
          ],
          "barpolar": [
           {
            "marker": {
             "line": {
              "color": "white",
              "width": 0.5
             },
             "pattern": {
              "fillmode": "overlay",
              "size": 10,
              "solidity": 0.2
             }
            },
            "type": "barpolar"
           }
          ],
          "carpet": [
           {
            "aaxis": {
             "endlinecolor": "#2a3f5f",
             "gridcolor": "#C8D4E3",
             "linecolor": "#C8D4E3",
             "minorgridcolor": "#C8D4E3",
             "startlinecolor": "#2a3f5f"
            },
            "baxis": {
             "endlinecolor": "#2a3f5f",
             "gridcolor": "#C8D4E3",
             "linecolor": "#C8D4E3",
             "minorgridcolor": "#C8D4E3",
             "startlinecolor": "#2a3f5f"
            },
            "type": "carpet"
           }
          ],
          "choropleth": [
           {
            "colorbar": {
             "outlinewidth": 0,
             "ticks": ""
            },
            "type": "choropleth"
           }
          ],
          "contour": [
           {
            "colorbar": {
             "outlinewidth": 0,
             "ticks": ""
            },
            "colorscale": [
             [
              0,
              "#0d0887"
             ],
             [
              0.1111111111111111,
              "#46039f"
             ],
             [
              0.2222222222222222,
              "#7201a8"
             ],
             [
              0.3333333333333333,
              "#9c179e"
             ],
             [
              0.4444444444444444,
              "#bd3786"
             ],
             [
              0.5555555555555556,
              "#d8576b"
             ],
             [
              0.6666666666666666,
              "#ed7953"
             ],
             [
              0.7777777777777778,
              "#fb9f3a"
             ],
             [
              0.8888888888888888,
              "#fdca26"
             ],
             [
              1,
              "#f0f921"
             ]
            ],
            "type": "contour"
           }
          ],
          "contourcarpet": [
           {
            "colorbar": {
             "outlinewidth": 0,
             "ticks": ""
            },
            "type": "contourcarpet"
           }
          ],
          "heatmap": [
           {
            "colorbar": {
             "outlinewidth": 0,
             "ticks": ""
            },
            "colorscale": [
             [
              0,
              "#0d0887"
             ],
             [
              0.1111111111111111,
              "#46039f"
             ],
             [
              0.2222222222222222,
              "#7201a8"
             ],
             [
              0.3333333333333333,
              "#9c179e"
             ],
             [
              0.4444444444444444,
              "#bd3786"
             ],
             [
              0.5555555555555556,
              "#d8576b"
             ],
             [
              0.6666666666666666,
              "#ed7953"
             ],
             [
              0.7777777777777778,
              "#fb9f3a"
             ],
             [
              0.8888888888888888,
              "#fdca26"
             ],
             [
              1,
              "#f0f921"
             ]
            ],
            "type": "heatmap"
           }
          ],
          "heatmapgl": [
           {
            "colorbar": {
             "outlinewidth": 0,
             "ticks": ""
            },
            "colorscale": [
             [
              0,
              "#0d0887"
             ],
             [
              0.1111111111111111,
              "#46039f"
             ],
             [
              0.2222222222222222,
              "#7201a8"
             ],
             [
              0.3333333333333333,
              "#9c179e"
             ],
             [
              0.4444444444444444,
              "#bd3786"
             ],
             [
              0.5555555555555556,
              "#d8576b"
             ],
             [
              0.6666666666666666,
              "#ed7953"
             ],
             [
              0.7777777777777778,
              "#fb9f3a"
             ],
             [
              0.8888888888888888,
              "#fdca26"
             ],
             [
              1,
              "#f0f921"
             ]
            ],
            "type": "heatmapgl"
           }
          ],
          "histogram": [
           {
            "marker": {
             "pattern": {
              "fillmode": "overlay",
              "size": 10,
              "solidity": 0.2
             }
            },
            "type": "histogram"
           }
          ],
          "histogram2d": [
           {
            "colorbar": {
             "outlinewidth": 0,
             "ticks": ""
            },
            "colorscale": [
             [
              0,
              "#0d0887"
             ],
             [
              0.1111111111111111,
              "#46039f"
             ],
             [
              0.2222222222222222,
              "#7201a8"
             ],
             [
              0.3333333333333333,
              "#9c179e"
             ],
             [
              0.4444444444444444,
              "#bd3786"
             ],
             [
              0.5555555555555556,
              "#d8576b"
             ],
             [
              0.6666666666666666,
              "#ed7953"
             ],
             [
              0.7777777777777778,
              "#fb9f3a"
             ],
             [
              0.8888888888888888,
              "#fdca26"
             ],
             [
              1,
              "#f0f921"
             ]
            ],
            "type": "histogram2d"
           }
          ],
          "histogram2dcontour": [
           {
            "colorbar": {
             "outlinewidth": 0,
             "ticks": ""
            },
            "colorscale": [
             [
              0,
              "#0d0887"
             ],
             [
              0.1111111111111111,
              "#46039f"
             ],
             [
              0.2222222222222222,
              "#7201a8"
             ],
             [
              0.3333333333333333,
              "#9c179e"
             ],
             [
              0.4444444444444444,
              "#bd3786"
             ],
             [
              0.5555555555555556,
              "#d8576b"
             ],
             [
              0.6666666666666666,
              "#ed7953"
             ],
             [
              0.7777777777777778,
              "#fb9f3a"
             ],
             [
              0.8888888888888888,
              "#fdca26"
             ],
             [
              1,
              "#f0f921"
             ]
            ],
            "type": "histogram2dcontour"
           }
          ],
          "mesh3d": [
           {
            "colorbar": {
             "outlinewidth": 0,
             "ticks": ""
            },
            "type": "mesh3d"
           }
          ],
          "parcoords": [
           {
            "line": {
             "colorbar": {
              "outlinewidth": 0,
              "ticks": ""
             }
            },
            "type": "parcoords"
           }
          ],
          "pie": [
           {
            "automargin": true,
            "type": "pie"
           }
          ],
          "scatter": [
           {
            "fillpattern": {
             "fillmode": "overlay",
             "size": 10,
             "solidity": 0.2
            },
            "type": "scatter"
           }
          ],
          "scatter3d": [
           {
            "line": {
             "colorbar": {
              "outlinewidth": 0,
              "ticks": ""
             }
            },
            "marker": {
             "colorbar": {
              "outlinewidth": 0,
              "ticks": ""
             }
            },
            "type": "scatter3d"
           }
          ],
          "scattercarpet": [
           {
            "marker": {
             "colorbar": {
              "outlinewidth": 0,
              "ticks": ""
             }
            },
            "type": "scattercarpet"
           }
          ],
          "scattergeo": [
           {
            "marker": {
             "colorbar": {
              "outlinewidth": 0,
              "ticks": ""
             }
            },
            "type": "scattergeo"
           }
          ],
          "scattergl": [
           {
            "marker": {
             "colorbar": {
              "outlinewidth": 0,
              "ticks": ""
             }
            },
            "type": "scattergl"
           }
          ],
          "scattermapbox": [
           {
            "marker": {
             "colorbar": {
              "outlinewidth": 0,
              "ticks": ""
             }
            },
            "type": "scattermapbox"
           }
          ],
          "scatterpolar": [
           {
            "marker": {
             "colorbar": {
              "outlinewidth": 0,
              "ticks": ""
             }
            },
            "type": "scatterpolar"
           }
          ],
          "scatterpolargl": [
           {
            "marker": {
             "colorbar": {
              "outlinewidth": 0,
              "ticks": ""
             }
            },
            "type": "scatterpolargl"
           }
          ],
          "scatterternary": [
           {
            "marker": {
             "colorbar": {
              "outlinewidth": 0,
              "ticks": ""
             }
            },
            "type": "scatterternary"
           }
          ],
          "surface": [
           {
            "colorbar": {
             "outlinewidth": 0,
             "ticks": ""
            },
            "colorscale": [
             [
              0,
              "#0d0887"
             ],
             [
              0.1111111111111111,
              "#46039f"
             ],
             [
              0.2222222222222222,
              "#7201a8"
             ],
             [
              0.3333333333333333,
              "#9c179e"
             ],
             [
              0.4444444444444444,
              "#bd3786"
             ],
             [
              0.5555555555555556,
              "#d8576b"
             ],
             [
              0.6666666666666666,
              "#ed7953"
             ],
             [
              0.7777777777777778,
              "#fb9f3a"
             ],
             [
              0.8888888888888888,
              "#fdca26"
             ],
             [
              1,
              "#f0f921"
             ]
            ],
            "type": "surface"
           }
          ],
          "table": [
           {
            "cells": {
             "fill": {
              "color": "#EBF0F8"
             },
             "line": {
              "color": "white"
             }
            },
            "header": {
             "fill": {
              "color": "#C8D4E3"
             },
             "line": {
              "color": "white"
             }
            },
            "type": "table"
           }
          ]
         },
         "layout": {
          "annotationdefaults": {
           "arrowcolor": "#2a3f5f",
           "arrowhead": 0,
           "arrowwidth": 1
          },
          "autotypenumbers": "strict",
          "coloraxis": {
           "colorbar": {
            "outlinewidth": 0,
            "ticks": ""
           }
          },
          "colorscale": {
           "diverging": [
            [
             0,
             "#8e0152"
            ],
            [
             0.1,
             "#c51b7d"
            ],
            [
             0.2,
             "#de77ae"
            ],
            [
             0.3,
             "#f1b6da"
            ],
            [
             0.4,
             "#fde0ef"
            ],
            [
             0.5,
             "#f7f7f7"
            ],
            [
             0.6,
             "#e6f5d0"
            ],
            [
             0.7,
             "#b8e186"
            ],
            [
             0.8,
             "#7fbc41"
            ],
            [
             0.9,
             "#4d9221"
            ],
            [
             1,
             "#276419"
            ]
           ],
           "sequential": [
            [
             0,
             "#0d0887"
            ],
            [
             0.1111111111111111,
             "#46039f"
            ],
            [
             0.2222222222222222,
             "#7201a8"
            ],
            [
             0.3333333333333333,
             "#9c179e"
            ],
            [
             0.4444444444444444,
             "#bd3786"
            ],
            [
             0.5555555555555556,
             "#d8576b"
            ],
            [
             0.6666666666666666,
             "#ed7953"
            ],
            [
             0.7777777777777778,
             "#fb9f3a"
            ],
            [
             0.8888888888888888,
             "#fdca26"
            ],
            [
             1,
             "#f0f921"
            ]
           ],
           "sequentialminus": [
            [
             0,
             "#0d0887"
            ],
            [
             0.1111111111111111,
             "#46039f"
            ],
            [
             0.2222222222222222,
             "#7201a8"
            ],
            [
             0.3333333333333333,
             "#9c179e"
            ],
            [
             0.4444444444444444,
             "#bd3786"
            ],
            [
             0.5555555555555556,
             "#d8576b"
            ],
            [
             0.6666666666666666,
             "#ed7953"
            ],
            [
             0.7777777777777778,
             "#fb9f3a"
            ],
            [
             0.8888888888888888,
             "#fdca26"
            ],
            [
             1,
             "#f0f921"
            ]
           ]
          },
          "colorway": [
           "#636efa",
           "#EF553B",
           "#00cc96",
           "#ab63fa",
           "#FFA15A",
           "#19d3f3",
           "#FF6692",
           "#B6E880",
           "#FF97FF",
           "#FECB52"
          ],
          "font": {
           "color": "#2a3f5f"
          },
          "geo": {
           "bgcolor": "white",
           "lakecolor": "white",
           "landcolor": "white",
           "showlakes": true,
           "showland": true,
           "subunitcolor": "#C8D4E3"
          },
          "hoverlabel": {
           "align": "left"
          },
          "hovermode": "closest",
          "mapbox": {
           "style": "light"
          },
          "paper_bgcolor": "white",
          "plot_bgcolor": "white",
          "polar": {
           "angularaxis": {
            "gridcolor": "#EBF0F8",
            "linecolor": "#EBF0F8",
            "ticks": ""
           },
           "bgcolor": "white",
           "radialaxis": {
            "gridcolor": "#EBF0F8",
            "linecolor": "#EBF0F8",
            "ticks": ""
           }
          },
          "scene": {
           "xaxis": {
            "backgroundcolor": "white",
            "gridcolor": "#DFE8F3",
            "gridwidth": 2,
            "linecolor": "#EBF0F8",
            "showbackground": true,
            "ticks": "",
            "zerolinecolor": "#EBF0F8"
           },
           "yaxis": {
            "backgroundcolor": "white",
            "gridcolor": "#DFE8F3",
            "gridwidth": 2,
            "linecolor": "#EBF0F8",
            "showbackground": true,
            "ticks": "",
            "zerolinecolor": "#EBF0F8"
           },
           "zaxis": {
            "backgroundcolor": "white",
            "gridcolor": "#DFE8F3",
            "gridwidth": 2,
            "linecolor": "#EBF0F8",
            "showbackground": true,
            "ticks": "",
            "zerolinecolor": "#EBF0F8"
           }
          },
          "shapedefaults": {
           "line": {
            "color": "#2a3f5f"
           }
          },
          "ternary": {
           "aaxis": {
            "gridcolor": "#DFE8F3",
            "linecolor": "#A2B1C6",
            "ticks": ""
           },
           "baxis": {
            "gridcolor": "#DFE8F3",
            "linecolor": "#A2B1C6",
            "ticks": ""
           },
           "bgcolor": "white",
           "caxis": {
            "gridcolor": "#DFE8F3",
            "linecolor": "#A2B1C6",
            "ticks": ""
           }
          },
          "title": {
           "x": 0.05
          },
          "xaxis": {
           "automargin": true,
           "gridcolor": "#EBF0F8",
           "linecolor": "#EBF0F8",
           "ticks": "",
           "title": {
            "standoff": 15
           },
           "zerolinecolor": "#EBF0F8",
           "zerolinewidth": 2
          },
          "yaxis": {
           "automargin": true,
           "gridcolor": "#EBF0F8",
           "linecolor": "#EBF0F8",
           "ticks": "",
           "title": {
            "standoff": 15
           },
           "zerolinecolor": "#EBF0F8",
           "zerolinewidth": 2
          }
         }
        },
        "title": {
         "text": "CO2 Emissions and Intensity by Country"
        },
        "xaxis": {
         "anchor": "y",
         "domain": [
          0,
          1
         ],
         "title": {
          "text": "Country"
         }
        },
        "yaxis": {
         "anchor": "x",
         "domain": [
          0,
          1
         ],
         "title": {
          "text": "CO2 Emissions (metric tons)"
         }
        }
       }
      }
     },
     "metadata": {},
     "output_type": "display_data"
    }
   ],
   "source": [
    "countries_to_filter = ['China', 'Germany', 'India', 'United States', 'United Kingdom', 'Saudi Arabia', 'Norway', 'Russian Federation', 'South Africa']\n",
    "filtered_df = df1[df1['Country_Name'].isin(countries_to_filter)].copy()\n",
    "\n",
    "# Calculate CO2 emissions per $1,000 of GDP\n",
    "filtered_df['CO2_Intensity'] = filtered_df['CO2_Emissions'] / (filtered_df['GDP'] / 1000)\n",
    "\n",
    "# Create a bar chart\n",
    "fig = px.bar(\n",
    "    filtered_df,\n",
    "    x=\"Country_Name\",           # X-axis: Countries\n",
    "    y=\"CO2_Intensity\",          # Y-axis: CO2 emissions per $1,000 GDP\n",
    "    color=\"Year\",               # Use Year to group and differentiate bars\n",
    "    barmode=\"group\",            # Group bars by year\n",
    "    title=\"CO2 Emissions Intensity (CO2 per $1,000 GDP)\",\n",
    "    labels={\n",
    "        \"Country_Name\": \"Country\",\n",
    "        \"CO2_Intensity\": \"CO2 Emissions per $1,000 GDP (tonnes)\"\n",
    "    },\n",
    "    template=\"plotly_white\"\n",
    ")\n",
    "\n",
    "# Customize the layout\n",
    "fig.update_layout(\n",
    "    xaxis_title=\"Country\",\n",
    "    yaxis_title=\"CO2 Emissions per $1,000 GDP (tonnes)\",\n",
    "    legend_title=\"Year\",\n",
    ")\n",
    "\n",
    "fig.show()\n"
   ]
  },
  {
   "cell_type": "code",
   "execution_count": 71,
   "metadata": {},
   "outputs": [
    {
     "data": {
      "application/vnd.plotly.v1+json": {
       "config": {
        "plotlyServerURL": "https://plot.ly"
       },
       "data": [
        {
         "coloraxis": "coloraxis",
         "histfunc": "sum",
         "hovertemplate": "Year=%{x}<br>Country=%{y}<br>sum of CO2 Emissions (metric tons per capita)=%{z}<extra></extra>",
         "name": "",
         "type": "histogram2d",
         "x": [
          1990,
          1991,
          1992,
          1993,
          1994,
          1995,
          1996,
          1997,
          1998,
          1999,
          2000,
          2001,
          2002,
          2003,
          2004,
          2005,
          2006,
          2007,
          2008,
          2009,
          2010,
          2011,
          2012,
          2013,
          2014,
          1990,
          1991,
          1992,
          1993,
          1994,
          1995,
          1996,
          1997,
          1998,
          1999,
          2000,
          2001,
          2002,
          2003,
          2004,
          2005,
          2006,
          2007,
          2008,
          2009,
          2010,
          2011,
          2012,
          2013,
          2014,
          2015,
          1990,
          1991,
          1992,
          1993,
          1994,
          1995,
          1996,
          1997,
          1998,
          1999,
          2000,
          2001,
          2002,
          2003,
          2004,
          2005,
          2006,
          2007,
          2008,
          2009,
          2010,
          2011,
          2012,
          2013,
          2014,
          2015,
          1990,
          1991,
          1992,
          1993,
          1994,
          1995,
          1996,
          1997,
          1998,
          1999,
          2000,
          2001,
          2002,
          2003,
          2004,
          2005,
          2006,
          2007,
          2008,
          2009,
          2010,
          2011,
          2012,
          2013,
          2014,
          1990,
          1991,
          1992,
          1993,
          1994,
          1995,
          1996,
          1997,
          1998,
          1999,
          2000,
          2001,
          2002,
          2003,
          2004,
          2005,
          2006,
          2007,
          2008,
          2009,
          2010,
          2011,
          2012,
          2013,
          2014,
          2015,
          1990,
          1991,
          1992,
          1993,
          1994,
          1995,
          1996,
          1997,
          1998,
          1999,
          2000,
          2001,
          2002,
          2003,
          2004,
          2005,
          2006,
          2007,
          2008,
          2009,
          2010,
          2011,
          2012,
          2013,
          2014,
          1990,
          1991,
          1992,
          1993,
          1994,
          1995,
          1996,
          1997,
          1998,
          1999,
          2000,
          2001,
          2002,
          2003,
          2004,
          2005,
          2006,
          2007,
          2008,
          2009,
          2010,
          2011,
          2012,
          2013,
          2014,
          1990,
          1991,
          1992,
          1993,
          1994,
          1995,
          1996,
          1997,
          1998,
          1999,
          2000,
          2001,
          2002,
          2003,
          2004,
          2005,
          2006,
          2007,
          2008,
          2009,
          2010,
          2011,
          2012,
          2013,
          2014,
          2015
         ],
         "xaxis": "x",
         "xbingroup": "x",
         "y": [
          "China",
          "China",
          "China",
          "China",
          "China",
          "China",
          "China",
          "China",
          "China",
          "China",
          "China",
          "China",
          "China",
          "China",
          "China",
          "China",
          "China",
          "China",
          "China",
          "China",
          "China",
          "China",
          "China",
          "China",
          "China",
          "Germany",
          "Germany",
          "Germany",
          "Germany",
          "Germany",
          "Germany",
          "Germany",
          "Germany",
          "Germany",
          "Germany",
          "Germany",
          "Germany",
          "Germany",
          "Germany",
          "Germany",
          "Germany",
          "Germany",
          "Germany",
          "Germany",
          "Germany",
          "Germany",
          "Germany",
          "Germany",
          "Germany",
          "Germany",
          "Germany",
          "United Kingdom",
          "United Kingdom",
          "United Kingdom",
          "United Kingdom",
          "United Kingdom",
          "United Kingdom",
          "United Kingdom",
          "United Kingdom",
          "United Kingdom",
          "United Kingdom",
          "United Kingdom",
          "United Kingdom",
          "United Kingdom",
          "United Kingdom",
          "United Kingdom",
          "United Kingdom",
          "United Kingdom",
          "United Kingdom",
          "United Kingdom",
          "United Kingdom",
          "United Kingdom",
          "United Kingdom",
          "United Kingdom",
          "United Kingdom",
          "United Kingdom",
          "United Kingdom",
          "India",
          "India",
          "India",
          "India",
          "India",
          "India",
          "India",
          "India",
          "India",
          "India",
          "India",
          "India",
          "India",
          "India",
          "India",
          "India",
          "India",
          "India",
          "India",
          "India",
          "India",
          "India",
          "India",
          "India",
          "India",
          "Norway",
          "Norway",
          "Norway",
          "Norway",
          "Norway",
          "Norway",
          "Norway",
          "Norway",
          "Norway",
          "Norway",
          "Norway",
          "Norway",
          "Norway",
          "Norway",
          "Norway",
          "Norway",
          "Norway",
          "Norway",
          "Norway",
          "Norway",
          "Norway",
          "Norway",
          "Norway",
          "Norway",
          "Norway",
          "Norway",
          "Russian Federation",
          "Russian Federation",
          "Russian Federation",
          "Russian Federation",
          "Russian Federation",
          "Russian Federation",
          "Russian Federation",
          "Russian Federation",
          "Russian Federation",
          "Russian Federation",
          "Russian Federation",
          "Russian Federation",
          "Russian Federation",
          "Russian Federation",
          "Russian Federation",
          "Russian Federation",
          "Russian Federation",
          "Russian Federation",
          "Russian Federation",
          "Russian Federation",
          "Russian Federation",
          "Russian Federation",
          "Russian Federation",
          "Russian Federation",
          "Russian Federation",
          "Saudi Arabia",
          "Saudi Arabia",
          "Saudi Arabia",
          "Saudi Arabia",
          "Saudi Arabia",
          "Saudi Arabia",
          "Saudi Arabia",
          "Saudi Arabia",
          "Saudi Arabia",
          "Saudi Arabia",
          "Saudi Arabia",
          "Saudi Arabia",
          "Saudi Arabia",
          "Saudi Arabia",
          "Saudi Arabia",
          "Saudi Arabia",
          "Saudi Arabia",
          "Saudi Arabia",
          "Saudi Arabia",
          "Saudi Arabia",
          "Saudi Arabia",
          "Saudi Arabia",
          "Saudi Arabia",
          "Saudi Arabia",
          "Saudi Arabia",
          "United States",
          "United States",
          "United States",
          "United States",
          "United States",
          "United States",
          "United States",
          "United States",
          "United States",
          "United States",
          "United States",
          "United States",
          "United States",
          "United States",
          "United States",
          "United States",
          "United States",
          "United States",
          "United States",
          "United States",
          "United States",
          "United States",
          "United States",
          "United States",
          "United States",
          "United States"
         ],
         "yaxis": "y",
         "ybingroup": "y",
         "z": [
          360858000000,
          383373000000,
          426916000000,
          444731000000,
          564322000000,
          734485000000,
          863749000000,
          961602000000,
          1029060000000,
          1094000000000,
          1211330000000,
          1339400000000,
          1470560000000,
          1660280000000,
          1955350000000,
          2285960000000,
          2752120000000,
          3550330000000,
          4594340000000,
          5101690000000,
          6087190000000,
          7551550000000,
          8532190000000,
          9570470000000,
          10475600000000,
          1771670000000,
          1868950000000,
          2131570000000,
          2071320000000,
          2205070000000,
          2585790000000,
          2497240000000,
          2211990000000,
          2238990000000,
          2194950000000,
          1947980000000,
          1945790000000,
          2078480000000,
          2501640000000,
          2814350000000,
          2846860000000,
          2994700000000,
          3425580000000,
          3745260000000,
          3411260000000,
          3399670000000,
          3749310000000,
          3527140000000,
          3733800000000,
          3889090000000,
          3357590000000,
          1093170000000,
          1142800000000,
          1179660000000,
          1061390000000,
          1140490000000,
          1344240000000,
          1419650000000,
          1560910000000,
          1653690000000,
          1687830000000,
          1665530000000,
          1649830000000,
          1785730000000,
          2054420000000,
          2421530000000,
          2540000000000,
          2708440000000,
          3090510000000,
          2929410000000,
          2412840000000,
          2485480000000,
          2663810000000,
          2707090000000,
          2784850000000,
          3064710000000,
          2927910000000,
          320979000000,
          270105000000,
          288208000000,
          279296000000,
          327275000000,
          360282000000,
          392897000000,
          415868000000,
          421351000000,
          458821000000,
          468396000000,
          485440000000,
          514939000000,
          607701000000,
          709153000000,
          820384000000,
          940260000000,
          1216740000000,
          1198900000000,
          1341890000000,
          1675620000000,
          1823050000000,
          1827640000000,
          1856720000000,
          2039130000000,
          119792000000,
          121872000000,
          130838000000,
          120579000000,
          127131000000,
          152030000000,
          163520000000,
          161357000000,
          154230000000,
          162384000000,
          171457000000,
          174239000000,
          195915000000,
          229385000000,
          265269000000,
          309979000000,
          346915000000,
          402643000000,
          464918000000,
          387976000000,
          431052000000,
          501361000000,
          512777000000,
          526014000000,
          501736000000,
          388160000000,
          517014000000,
          517963000000,
          460291000000,
          435084000000,
          395077000000,
          395537000000,
          391725000000,
          404929000000,
          270955000000,
          195907000000,
          259710000000,
          306602000000,
          345470000000,
          430347000000,
          591017000000,
          764016000000,
          989932000000,
          1299700000000,
          1660850000000,
          1222650000000,
          1524920000000,
          2045920000000,
          2208290000000,
          2292470000000,
          2059240000000,
          117630000000,
          132223000000,
          137088000000,
          132968000000,
          135175000000,
          143343000000,
          158662000000,
          165964000000,
          146775000000,
          161717000000,
          189515000000,
          184138000000,
          189606000000,
          215808000000,
          258742000000,
          328460000000,
          376900000000,
          415965000000,
          519797000000,
          429098000000,
          528207000000,
          676635000000,
          741850000000,
          753865000000,
          766606000000,
          5960000000000,
          6160000000000,
          6520000000000,
          6860000000000,
          7290000000000,
          7640000000000,
          8070000000000,
          8580000000000,
          9060000000000,
          9630000000000,
          10300000000000,
          10600000000000,
          10900000000000,
          11500000000000,
          12200000000000,
          13000000000000,
          13800000000000,
          14500000000000,
          14800000000000,
          14500000000000,
          15000000000000,
          15600000000000,
          16300000000000,
          16900000000000,
          17600000000000,
          18300000000000
         ]
        }
       ],
       "layout": {
        "coloraxis": {
         "colorbar": {
          "title": {
           "text": "CO2 Emissions (metric tons per capita)"
          }
         },
         "colorscale": [
          [
           0,
           "#440154"
          ],
          [
           0.1111111111111111,
           "#482878"
          ],
          [
           0.2222222222222222,
           "#3e4989"
          ],
          [
           0.3333333333333333,
           "#31688e"
          ],
          [
           0.4444444444444444,
           "#26828e"
          ],
          [
           0.5555555555555556,
           "#1f9e89"
          ],
          [
           0.6666666666666666,
           "#35b779"
          ],
          [
           0.7777777777777778,
           "#6ece58"
          ],
          [
           0.8888888888888888,
           "#b5de2b"
          ],
          [
           1,
           "#fde725"
          ]
         ]
        },
        "legend": {
         "tracegroupgap": 0
        },
        "template": {
         "data": {
          "bar": [
           {
            "error_x": {
             "color": "#2a3f5f"
            },
            "error_y": {
             "color": "#2a3f5f"
            },
            "marker": {
             "line": {
              "color": "white",
              "width": 0.5
             },
             "pattern": {
              "fillmode": "overlay",
              "size": 10,
              "solidity": 0.2
             }
            },
            "type": "bar"
           }
          ],
          "barpolar": [
           {
            "marker": {
             "line": {
              "color": "white",
              "width": 0.5
             },
             "pattern": {
              "fillmode": "overlay",
              "size": 10,
              "solidity": 0.2
             }
            },
            "type": "barpolar"
           }
          ],
          "carpet": [
           {
            "aaxis": {
             "endlinecolor": "#2a3f5f",
             "gridcolor": "#C8D4E3",
             "linecolor": "#C8D4E3",
             "minorgridcolor": "#C8D4E3",
             "startlinecolor": "#2a3f5f"
            },
            "baxis": {
             "endlinecolor": "#2a3f5f",
             "gridcolor": "#C8D4E3",
             "linecolor": "#C8D4E3",
             "minorgridcolor": "#C8D4E3",
             "startlinecolor": "#2a3f5f"
            },
            "type": "carpet"
           }
          ],
          "choropleth": [
           {
            "colorbar": {
             "outlinewidth": 0,
             "ticks": ""
            },
            "type": "choropleth"
           }
          ],
          "contour": [
           {
            "colorbar": {
             "outlinewidth": 0,
             "ticks": ""
            },
            "colorscale": [
             [
              0,
              "#0d0887"
             ],
             [
              0.1111111111111111,
              "#46039f"
             ],
             [
              0.2222222222222222,
              "#7201a8"
             ],
             [
              0.3333333333333333,
              "#9c179e"
             ],
             [
              0.4444444444444444,
              "#bd3786"
             ],
             [
              0.5555555555555556,
              "#d8576b"
             ],
             [
              0.6666666666666666,
              "#ed7953"
             ],
             [
              0.7777777777777778,
              "#fb9f3a"
             ],
             [
              0.8888888888888888,
              "#fdca26"
             ],
             [
              1,
              "#f0f921"
             ]
            ],
            "type": "contour"
           }
          ],
          "contourcarpet": [
           {
            "colorbar": {
             "outlinewidth": 0,
             "ticks": ""
            },
            "type": "contourcarpet"
           }
          ],
          "heatmap": [
           {
            "colorbar": {
             "outlinewidth": 0,
             "ticks": ""
            },
            "colorscale": [
             [
              0,
              "#0d0887"
             ],
             [
              0.1111111111111111,
              "#46039f"
             ],
             [
              0.2222222222222222,
              "#7201a8"
             ],
             [
              0.3333333333333333,
              "#9c179e"
             ],
             [
              0.4444444444444444,
              "#bd3786"
             ],
             [
              0.5555555555555556,
              "#d8576b"
             ],
             [
              0.6666666666666666,
              "#ed7953"
             ],
             [
              0.7777777777777778,
              "#fb9f3a"
             ],
             [
              0.8888888888888888,
              "#fdca26"
             ],
             [
              1,
              "#f0f921"
             ]
            ],
            "type": "heatmap"
           }
          ],
          "heatmapgl": [
           {
            "colorbar": {
             "outlinewidth": 0,
             "ticks": ""
            },
            "colorscale": [
             [
              0,
              "#0d0887"
             ],
             [
              0.1111111111111111,
              "#46039f"
             ],
             [
              0.2222222222222222,
              "#7201a8"
             ],
             [
              0.3333333333333333,
              "#9c179e"
             ],
             [
              0.4444444444444444,
              "#bd3786"
             ],
             [
              0.5555555555555556,
              "#d8576b"
             ],
             [
              0.6666666666666666,
              "#ed7953"
             ],
             [
              0.7777777777777778,
              "#fb9f3a"
             ],
             [
              0.8888888888888888,
              "#fdca26"
             ],
             [
              1,
              "#f0f921"
             ]
            ],
            "type": "heatmapgl"
           }
          ],
          "histogram": [
           {
            "marker": {
             "pattern": {
              "fillmode": "overlay",
              "size": 10,
              "solidity": 0.2
             }
            },
            "type": "histogram"
           }
          ],
          "histogram2d": [
           {
            "colorbar": {
             "outlinewidth": 0,
             "ticks": ""
            },
            "colorscale": [
             [
              0,
              "#0d0887"
             ],
             [
              0.1111111111111111,
              "#46039f"
             ],
             [
              0.2222222222222222,
              "#7201a8"
             ],
             [
              0.3333333333333333,
              "#9c179e"
             ],
             [
              0.4444444444444444,
              "#bd3786"
             ],
             [
              0.5555555555555556,
              "#d8576b"
             ],
             [
              0.6666666666666666,
              "#ed7953"
             ],
             [
              0.7777777777777778,
              "#fb9f3a"
             ],
             [
              0.8888888888888888,
              "#fdca26"
             ],
             [
              1,
              "#f0f921"
             ]
            ],
            "type": "histogram2d"
           }
          ],
          "histogram2dcontour": [
           {
            "colorbar": {
             "outlinewidth": 0,
             "ticks": ""
            },
            "colorscale": [
             [
              0,
              "#0d0887"
             ],
             [
              0.1111111111111111,
              "#46039f"
             ],
             [
              0.2222222222222222,
              "#7201a8"
             ],
             [
              0.3333333333333333,
              "#9c179e"
             ],
             [
              0.4444444444444444,
              "#bd3786"
             ],
             [
              0.5555555555555556,
              "#d8576b"
             ],
             [
              0.6666666666666666,
              "#ed7953"
             ],
             [
              0.7777777777777778,
              "#fb9f3a"
             ],
             [
              0.8888888888888888,
              "#fdca26"
             ],
             [
              1,
              "#f0f921"
             ]
            ],
            "type": "histogram2dcontour"
           }
          ],
          "mesh3d": [
           {
            "colorbar": {
             "outlinewidth": 0,
             "ticks": ""
            },
            "type": "mesh3d"
           }
          ],
          "parcoords": [
           {
            "line": {
             "colorbar": {
              "outlinewidth": 0,
              "ticks": ""
             }
            },
            "type": "parcoords"
           }
          ],
          "pie": [
           {
            "automargin": true,
            "type": "pie"
           }
          ],
          "scatter": [
           {
            "fillpattern": {
             "fillmode": "overlay",
             "size": 10,
             "solidity": 0.2
            },
            "type": "scatter"
           }
          ],
          "scatter3d": [
           {
            "line": {
             "colorbar": {
              "outlinewidth": 0,
              "ticks": ""
             }
            },
            "marker": {
             "colorbar": {
              "outlinewidth": 0,
              "ticks": ""
             }
            },
            "type": "scatter3d"
           }
          ],
          "scattercarpet": [
           {
            "marker": {
             "colorbar": {
              "outlinewidth": 0,
              "ticks": ""
             }
            },
            "type": "scattercarpet"
           }
          ],
          "scattergeo": [
           {
            "marker": {
             "colorbar": {
              "outlinewidth": 0,
              "ticks": ""
             }
            },
            "type": "scattergeo"
           }
          ],
          "scattergl": [
           {
            "marker": {
             "colorbar": {
              "outlinewidth": 0,
              "ticks": ""
             }
            },
            "type": "scattergl"
           }
          ],
          "scattermapbox": [
           {
            "marker": {
             "colorbar": {
              "outlinewidth": 0,
              "ticks": ""
             }
            },
            "type": "scattermapbox"
           }
          ],
          "scatterpolar": [
           {
            "marker": {
             "colorbar": {
              "outlinewidth": 0,
              "ticks": ""
             }
            },
            "type": "scatterpolar"
           }
          ],
          "scatterpolargl": [
           {
            "marker": {
             "colorbar": {
              "outlinewidth": 0,
              "ticks": ""
             }
            },
            "type": "scatterpolargl"
           }
          ],
          "scatterternary": [
           {
            "marker": {
             "colorbar": {
              "outlinewidth": 0,
              "ticks": ""
             }
            },
            "type": "scatterternary"
           }
          ],
          "surface": [
           {
            "colorbar": {
             "outlinewidth": 0,
             "ticks": ""
            },
            "colorscale": [
             [
              0,
              "#0d0887"
             ],
             [
              0.1111111111111111,
              "#46039f"
             ],
             [
              0.2222222222222222,
              "#7201a8"
             ],
             [
              0.3333333333333333,
              "#9c179e"
             ],
             [
              0.4444444444444444,
              "#bd3786"
             ],
             [
              0.5555555555555556,
              "#d8576b"
             ],
             [
              0.6666666666666666,
              "#ed7953"
             ],
             [
              0.7777777777777778,
              "#fb9f3a"
             ],
             [
              0.8888888888888888,
              "#fdca26"
             ],
             [
              1,
              "#f0f921"
             ]
            ],
            "type": "surface"
           }
          ],
          "table": [
           {
            "cells": {
             "fill": {
              "color": "#EBF0F8"
             },
             "line": {
              "color": "white"
             }
            },
            "header": {
             "fill": {
              "color": "#C8D4E3"
             },
             "line": {
              "color": "white"
             }
            },
            "type": "table"
           }
          ]
         },
         "layout": {
          "annotationdefaults": {
           "arrowcolor": "#2a3f5f",
           "arrowhead": 0,
           "arrowwidth": 1
          },
          "autotypenumbers": "strict",
          "coloraxis": {
           "colorbar": {
            "outlinewidth": 0,
            "ticks": ""
           }
          },
          "colorscale": {
           "diverging": [
            [
             0,
             "#8e0152"
            ],
            [
             0.1,
             "#c51b7d"
            ],
            [
             0.2,
             "#de77ae"
            ],
            [
             0.3,
             "#f1b6da"
            ],
            [
             0.4,
             "#fde0ef"
            ],
            [
             0.5,
             "#f7f7f7"
            ],
            [
             0.6,
             "#e6f5d0"
            ],
            [
             0.7,
             "#b8e186"
            ],
            [
             0.8,
             "#7fbc41"
            ],
            [
             0.9,
             "#4d9221"
            ],
            [
             1,
             "#276419"
            ]
           ],
           "sequential": [
            [
             0,
             "#0d0887"
            ],
            [
             0.1111111111111111,
             "#46039f"
            ],
            [
             0.2222222222222222,
             "#7201a8"
            ],
            [
             0.3333333333333333,
             "#9c179e"
            ],
            [
             0.4444444444444444,
             "#bd3786"
            ],
            [
             0.5555555555555556,
             "#d8576b"
            ],
            [
             0.6666666666666666,
             "#ed7953"
            ],
            [
             0.7777777777777778,
             "#fb9f3a"
            ],
            [
             0.8888888888888888,
             "#fdca26"
            ],
            [
             1,
             "#f0f921"
            ]
           ],
           "sequentialminus": [
            [
             0,
             "#0d0887"
            ],
            [
             0.1111111111111111,
             "#46039f"
            ],
            [
             0.2222222222222222,
             "#7201a8"
            ],
            [
             0.3333333333333333,
             "#9c179e"
            ],
            [
             0.4444444444444444,
             "#bd3786"
            ],
            [
             0.5555555555555556,
             "#d8576b"
            ],
            [
             0.6666666666666666,
             "#ed7953"
            ],
            [
             0.7777777777777778,
             "#fb9f3a"
            ],
            [
             0.8888888888888888,
             "#fdca26"
            ],
            [
             1,
             "#f0f921"
            ]
           ]
          },
          "colorway": [
           "#636efa",
           "#EF553B",
           "#00cc96",
           "#ab63fa",
           "#FFA15A",
           "#19d3f3",
           "#FF6692",
           "#B6E880",
           "#FF97FF",
           "#FECB52"
          ],
          "font": {
           "color": "#2a3f5f"
          },
          "geo": {
           "bgcolor": "white",
           "lakecolor": "white",
           "landcolor": "white",
           "showlakes": true,
           "showland": true,
           "subunitcolor": "#C8D4E3"
          },
          "hoverlabel": {
           "align": "left"
          },
          "hovermode": "closest",
          "mapbox": {
           "style": "light"
          },
          "paper_bgcolor": "white",
          "plot_bgcolor": "white",
          "polar": {
           "angularaxis": {
            "gridcolor": "#EBF0F8",
            "linecolor": "#EBF0F8",
            "ticks": ""
           },
           "bgcolor": "white",
           "radialaxis": {
            "gridcolor": "#EBF0F8",
            "linecolor": "#EBF0F8",
            "ticks": ""
           }
          },
          "scene": {
           "xaxis": {
            "backgroundcolor": "white",
            "gridcolor": "#DFE8F3",
            "gridwidth": 2,
            "linecolor": "#EBF0F8",
            "showbackground": true,
            "ticks": "",
            "zerolinecolor": "#EBF0F8"
           },
           "yaxis": {
            "backgroundcolor": "white",
            "gridcolor": "#DFE8F3",
            "gridwidth": 2,
            "linecolor": "#EBF0F8",
            "showbackground": true,
            "ticks": "",
            "zerolinecolor": "#EBF0F8"
           },
           "zaxis": {
            "backgroundcolor": "white",
            "gridcolor": "#DFE8F3",
            "gridwidth": 2,
            "linecolor": "#EBF0F8",
            "showbackground": true,
            "ticks": "",
            "zerolinecolor": "#EBF0F8"
           }
          },
          "shapedefaults": {
           "line": {
            "color": "#2a3f5f"
           }
          },
          "ternary": {
           "aaxis": {
            "gridcolor": "#DFE8F3",
            "linecolor": "#A2B1C6",
            "ticks": ""
           },
           "baxis": {
            "gridcolor": "#DFE8F3",
            "linecolor": "#A2B1C6",
            "ticks": ""
           },
           "bgcolor": "white",
           "caxis": {
            "gridcolor": "#DFE8F3",
            "linecolor": "#A2B1C6",
            "ticks": ""
           }
          },
          "title": {
           "x": 0.05
          },
          "xaxis": {
           "automargin": true,
           "gridcolor": "#EBF0F8",
           "linecolor": "#EBF0F8",
           "ticks": "",
           "title": {
            "standoff": 15
           },
           "zerolinecolor": "#EBF0F8",
           "zerolinewidth": 2
          },
          "yaxis": {
           "automargin": true,
           "gridcolor": "#EBF0F8",
           "linecolor": "#EBF0F8",
           "ticks": "",
           "title": {
            "standoff": 15
           },
           "zerolinecolor": "#EBF0F8",
           "zerolinewidth": 2
          }
         }
        },
        "title": {
         "text": "CO2 Emissions Over Time by Country"
        },
        "xaxis": {
         "anchor": "y",
         "domain": [
          0,
          1
         ],
         "title": {
          "text": "Year"
         }
        },
        "yaxis": {
         "anchor": "x",
         "domain": [
          0,
          1
         ],
         "title": {
          "text": "Country"
         }
        }
       }
      }
     },
     "metadata": {},
     "output_type": "display_data"
    }
   ],
   "source": [
    "# Create a heatmap of CO2 Emissions over time for each country\n",
    "fig = px.density_heatmap(\n",
    "    filtered_df,\n",
    "    x=\"Year\",                  # Year on the x-axis\n",
    "    y=\"Country_Name\",          # Countries on the y-axis\n",
    "    z=\"CO2_Emissions\",         # CO2 emissions as the intensity value\n",
    "    color_continuous_scale=\"Viridis\",  # Color scale for the heatmap\n",
    "    title=\"CO2 Emissions Over Time by Country\",\n",
    "    labels={\n",
    "        \"Year\": \"Year\",\n",
    "        \"Country_Name\": \"Country\",\n",
    "        \"CO2_Emissions\": \"CO2 Emissions (metric tons per capita)\"\n",
    "    },\n",
    "    template=\"plotly_white\"\n",
    ")\n",
    "\n",
    "# Customize the layout\n",
    "fig.update_layout(\n",
    "    xaxis_title=\"Year\",\n",
    "    yaxis_title=\"Country\",\n",
    "    coloraxis_colorbar_title=\"CO2 Emissions (metric tons per capita)\",\n",
    ")\n",
    "\n",
    "fig.show()\n"
   ]
  },
  {
   "cell_type": "markdown",
   "metadata": {},
   "source": [
    "Although there seems to be a positive correlation between CO2 emissions and energy consumption, in the United States it is the opposite!"
   ]
  },
  {
   "cell_type": "code",
   "execution_count": 37,
   "metadata": {},
   "outputs": [
    {
     "data": {
      "application/vnd.plotly.v1+json": {
       "config": {
        "plotlyServerURL": "https://plot.ly"
       },
       "data": [
        {
         "alignmentgroup": "True",
         "hovertemplate": "Country=%{x}<br>Energy Use (kg of oil equivalent per capita)=%{y}<extra></extra>",
         "legendgroup": "China",
         "marker": {
          "color": "#636efa",
          "pattern": {
           "shape": ""
          }
         },
         "name": "China",
         "offsetgroup": "China",
         "orientation": "v",
         "showlegend": true,
         "textposition": "auto",
         "type": "bar",
         "x": [
          "China"
         ],
         "xaxis": "x",
         "y": [
          7.75613790659769
         ],
         "yaxis": "y"
        },
        {
         "alignmentgroup": "True",
         "hovertemplate": "Country=%{x}<br>Energy Use (kg of oil equivalent per capita)=%{y}<extra></extra>",
         "legendgroup": "Germany",
         "marker": {
          "color": "#EF553B",
          "pattern": {
           "shape": ""
          }
         },
         "name": "Germany",
         "offsetgroup": "Germany",
         "orientation": "v",
         "showlegend": true,
         "textposition": "auto",
         "type": "bar",
         "x": [
          "Germany"
         ],
         "xaxis": "x",
         "y": [
          7.2552210281684
         ],
         "yaxis": "y"
        },
        {
         "alignmentgroup": "True",
         "hovertemplate": "Country=%{x}<br>Energy Use (kg of oil equivalent per capita)=%{y}<extra></extra>",
         "legendgroup": "United Kingdom",
         "marker": {
          "color": "#00cc96",
          "pattern": {
           "shape": ""
          }
         },
         "name": "United Kingdom",
         "offsetgroup": "United Kingdom",
         "orientation": "v",
         "showlegend": true,
         "textposition": "auto",
         "type": "bar",
         "x": [
          "United Kingdom"
         ],
         "xaxis": "x",
         "y": [
          4.60114225090135
         ],
         "yaxis": "y"
        },
        {
         "alignmentgroup": "True",
         "hovertemplate": "Country=%{x}<br>Energy Use (kg of oil equivalent per capita)=%{y}<extra></extra>",
         "legendgroup": "India",
         "marker": {
          "color": "#ab63fa",
          "pattern": {
           "shape": ""
          }
         },
         "name": "India",
         "offsetgroup": "India",
         "orientation": "v",
         "showlegend": true,
         "textposition": "auto",
         "type": "bar",
         "x": [
          "India"
         ],
         "xaxis": "x",
         "y": [
          1.57609323191648
         ],
         "yaxis": "y"
        },
        {
         "alignmentgroup": "True",
         "hovertemplate": "Country=%{x}<br>Energy Use (kg of oil equivalent per capita)=%{y}<extra></extra>",
         "legendgroup": "United States",
         "marker": {
          "color": "#FFA15A",
          "pattern": {
           "shape": ""
          }
         },
         "name": "United States",
         "offsetgroup": "United States",
         "orientation": "v",
         "showlegend": true,
         "textposition": "auto",
         "type": "bar",
         "x": [
          "United States"
         ],
         "xaxis": "x",
         "y": [
          13.0322217290262
         ],
         "yaxis": "y"
        }
       ],
       "layout": {
        "barmode": "relative",
        "legend": {
         "title": {
          "text": "Country"
         },
         "tracegroupgap": 0
        },
        "showlegend": false,
        "template": {
         "data": {
          "bar": [
           {
            "error_x": {
             "color": "#2a3f5f"
            },
            "error_y": {
             "color": "#2a3f5f"
            },
            "marker": {
             "line": {
              "color": "white",
              "width": 0.5
             },
             "pattern": {
              "fillmode": "overlay",
              "size": 10,
              "solidity": 0.2
             }
            },
            "type": "bar"
           }
          ],
          "barpolar": [
           {
            "marker": {
             "line": {
              "color": "white",
              "width": 0.5
             },
             "pattern": {
              "fillmode": "overlay",
              "size": 10,
              "solidity": 0.2
             }
            },
            "type": "barpolar"
           }
          ],
          "carpet": [
           {
            "aaxis": {
             "endlinecolor": "#2a3f5f",
             "gridcolor": "#C8D4E3",
             "linecolor": "#C8D4E3",
             "minorgridcolor": "#C8D4E3",
             "startlinecolor": "#2a3f5f"
            },
            "baxis": {
             "endlinecolor": "#2a3f5f",
             "gridcolor": "#C8D4E3",
             "linecolor": "#C8D4E3",
             "minorgridcolor": "#C8D4E3",
             "startlinecolor": "#2a3f5f"
            },
            "type": "carpet"
           }
          ],
          "choropleth": [
           {
            "colorbar": {
             "outlinewidth": 0,
             "ticks": ""
            },
            "type": "choropleth"
           }
          ],
          "contour": [
           {
            "colorbar": {
             "outlinewidth": 0,
             "ticks": ""
            },
            "colorscale": [
             [
              0,
              "#0d0887"
             ],
             [
              0.1111111111111111,
              "#46039f"
             ],
             [
              0.2222222222222222,
              "#7201a8"
             ],
             [
              0.3333333333333333,
              "#9c179e"
             ],
             [
              0.4444444444444444,
              "#bd3786"
             ],
             [
              0.5555555555555556,
              "#d8576b"
             ],
             [
              0.6666666666666666,
              "#ed7953"
             ],
             [
              0.7777777777777778,
              "#fb9f3a"
             ],
             [
              0.8888888888888888,
              "#fdca26"
             ],
             [
              1,
              "#f0f921"
             ]
            ],
            "type": "contour"
           }
          ],
          "contourcarpet": [
           {
            "colorbar": {
             "outlinewidth": 0,
             "ticks": ""
            },
            "type": "contourcarpet"
           }
          ],
          "heatmap": [
           {
            "colorbar": {
             "outlinewidth": 0,
             "ticks": ""
            },
            "colorscale": [
             [
              0,
              "#0d0887"
             ],
             [
              0.1111111111111111,
              "#46039f"
             ],
             [
              0.2222222222222222,
              "#7201a8"
             ],
             [
              0.3333333333333333,
              "#9c179e"
             ],
             [
              0.4444444444444444,
              "#bd3786"
             ],
             [
              0.5555555555555556,
              "#d8576b"
             ],
             [
              0.6666666666666666,
              "#ed7953"
             ],
             [
              0.7777777777777778,
              "#fb9f3a"
             ],
             [
              0.8888888888888888,
              "#fdca26"
             ],
             [
              1,
              "#f0f921"
             ]
            ],
            "type": "heatmap"
           }
          ],
          "heatmapgl": [
           {
            "colorbar": {
             "outlinewidth": 0,
             "ticks": ""
            },
            "colorscale": [
             [
              0,
              "#0d0887"
             ],
             [
              0.1111111111111111,
              "#46039f"
             ],
             [
              0.2222222222222222,
              "#7201a8"
             ],
             [
              0.3333333333333333,
              "#9c179e"
             ],
             [
              0.4444444444444444,
              "#bd3786"
             ],
             [
              0.5555555555555556,
              "#d8576b"
             ],
             [
              0.6666666666666666,
              "#ed7953"
             ],
             [
              0.7777777777777778,
              "#fb9f3a"
             ],
             [
              0.8888888888888888,
              "#fdca26"
             ],
             [
              1,
              "#f0f921"
             ]
            ],
            "type": "heatmapgl"
           }
          ],
          "histogram": [
           {
            "marker": {
             "pattern": {
              "fillmode": "overlay",
              "size": 10,
              "solidity": 0.2
             }
            },
            "type": "histogram"
           }
          ],
          "histogram2d": [
           {
            "colorbar": {
             "outlinewidth": 0,
             "ticks": ""
            },
            "colorscale": [
             [
              0,
              "#0d0887"
             ],
             [
              0.1111111111111111,
              "#46039f"
             ],
             [
              0.2222222222222222,
              "#7201a8"
             ],
             [
              0.3333333333333333,
              "#9c179e"
             ],
             [
              0.4444444444444444,
              "#bd3786"
             ],
             [
              0.5555555555555556,
              "#d8576b"
             ],
             [
              0.6666666666666666,
              "#ed7953"
             ],
             [
              0.7777777777777778,
              "#fb9f3a"
             ],
             [
              0.8888888888888888,
              "#fdca26"
             ],
             [
              1,
              "#f0f921"
             ]
            ],
            "type": "histogram2d"
           }
          ],
          "histogram2dcontour": [
           {
            "colorbar": {
             "outlinewidth": 0,
             "ticks": ""
            },
            "colorscale": [
             [
              0,
              "#0d0887"
             ],
             [
              0.1111111111111111,
              "#46039f"
             ],
             [
              0.2222222222222222,
              "#7201a8"
             ],
             [
              0.3333333333333333,
              "#9c179e"
             ],
             [
              0.4444444444444444,
              "#bd3786"
             ],
             [
              0.5555555555555556,
              "#d8576b"
             ],
             [
              0.6666666666666666,
              "#ed7953"
             ],
             [
              0.7777777777777778,
              "#fb9f3a"
             ],
             [
              0.8888888888888888,
              "#fdca26"
             ],
             [
              1,
              "#f0f921"
             ]
            ],
            "type": "histogram2dcontour"
           }
          ],
          "mesh3d": [
           {
            "colorbar": {
             "outlinewidth": 0,
             "ticks": ""
            },
            "type": "mesh3d"
           }
          ],
          "parcoords": [
           {
            "line": {
             "colorbar": {
              "outlinewidth": 0,
              "ticks": ""
             }
            },
            "type": "parcoords"
           }
          ],
          "pie": [
           {
            "automargin": true,
            "type": "pie"
           }
          ],
          "scatter": [
           {
            "fillpattern": {
             "fillmode": "overlay",
             "size": 10,
             "solidity": 0.2
            },
            "type": "scatter"
           }
          ],
          "scatter3d": [
           {
            "line": {
             "colorbar": {
              "outlinewidth": 0,
              "ticks": ""
             }
            },
            "marker": {
             "colorbar": {
              "outlinewidth": 0,
              "ticks": ""
             }
            },
            "type": "scatter3d"
           }
          ],
          "scattercarpet": [
           {
            "marker": {
             "colorbar": {
              "outlinewidth": 0,
              "ticks": ""
             }
            },
            "type": "scattercarpet"
           }
          ],
          "scattergeo": [
           {
            "marker": {
             "colorbar": {
              "outlinewidth": 0,
              "ticks": ""
             }
            },
            "type": "scattergeo"
           }
          ],
          "scattergl": [
           {
            "marker": {
             "colorbar": {
              "outlinewidth": 0,
              "ticks": ""
             }
            },
            "type": "scattergl"
           }
          ],
          "scattermapbox": [
           {
            "marker": {
             "colorbar": {
              "outlinewidth": 0,
              "ticks": ""
             }
            },
            "type": "scattermapbox"
           }
          ],
          "scatterpolar": [
           {
            "marker": {
             "colorbar": {
              "outlinewidth": 0,
              "ticks": ""
             }
            },
            "type": "scatterpolar"
           }
          ],
          "scatterpolargl": [
           {
            "marker": {
             "colorbar": {
              "outlinewidth": 0,
              "ticks": ""
             }
            },
            "type": "scatterpolargl"
           }
          ],
          "scatterternary": [
           {
            "marker": {
             "colorbar": {
              "outlinewidth": 0,
              "ticks": ""
             }
            },
            "type": "scatterternary"
           }
          ],
          "surface": [
           {
            "colorbar": {
             "outlinewidth": 0,
             "ticks": ""
            },
            "colorscale": [
             [
              0,
              "#0d0887"
             ],
             [
              0.1111111111111111,
              "#46039f"
             ],
             [
              0.2222222222222222,
              "#7201a8"
             ],
             [
              0.3333333333333333,
              "#9c179e"
             ],
             [
              0.4444444444444444,
              "#bd3786"
             ],
             [
              0.5555555555555556,
              "#d8576b"
             ],
             [
              0.6666666666666666,
              "#ed7953"
             ],
             [
              0.7777777777777778,
              "#fb9f3a"
             ],
             [
              0.8888888888888888,
              "#fdca26"
             ],
             [
              1,
              "#f0f921"
             ]
            ],
            "type": "surface"
           }
          ],
          "table": [
           {
            "cells": {
             "fill": {
              "color": "#EBF0F8"
             },
             "line": {
              "color": "white"
             }
            },
            "header": {
             "fill": {
              "color": "#C8D4E3"
             },
             "line": {
              "color": "white"
             }
            },
            "type": "table"
           }
          ]
         },
         "layout": {
          "annotationdefaults": {
           "arrowcolor": "#2a3f5f",
           "arrowhead": 0,
           "arrowwidth": 1
          },
          "autotypenumbers": "strict",
          "coloraxis": {
           "colorbar": {
            "outlinewidth": 0,
            "ticks": ""
           }
          },
          "colorscale": {
           "diverging": [
            [
             0,
             "#8e0152"
            ],
            [
             0.1,
             "#c51b7d"
            ],
            [
             0.2,
             "#de77ae"
            ],
            [
             0.3,
             "#f1b6da"
            ],
            [
             0.4,
             "#fde0ef"
            ],
            [
             0.5,
             "#f7f7f7"
            ],
            [
             0.6,
             "#e6f5d0"
            ],
            [
             0.7,
             "#b8e186"
            ],
            [
             0.8,
             "#7fbc41"
            ],
            [
             0.9,
             "#4d9221"
            ],
            [
             1,
             "#276419"
            ]
           ],
           "sequential": [
            [
             0,
             "#0d0887"
            ],
            [
             0.1111111111111111,
             "#46039f"
            ],
            [
             0.2222222222222222,
             "#7201a8"
            ],
            [
             0.3333333333333333,
             "#9c179e"
            ],
            [
             0.4444444444444444,
             "#bd3786"
            ],
            [
             0.5555555555555556,
             "#d8576b"
            ],
            [
             0.6666666666666666,
             "#ed7953"
            ],
            [
             0.7777777777777778,
             "#fb9f3a"
            ],
            [
             0.8888888888888888,
             "#fdca26"
            ],
            [
             1,
             "#f0f921"
            ]
           ],
           "sequentialminus": [
            [
             0,
             "#0d0887"
            ],
            [
             0.1111111111111111,
             "#46039f"
            ],
            [
             0.2222222222222222,
             "#7201a8"
            ],
            [
             0.3333333333333333,
             "#9c179e"
            ],
            [
             0.4444444444444444,
             "#bd3786"
            ],
            [
             0.5555555555555556,
             "#d8576b"
            ],
            [
             0.6666666666666666,
             "#ed7953"
            ],
            [
             0.7777777777777778,
             "#fb9f3a"
            ],
            [
             0.8888888888888888,
             "#fdca26"
            ],
            [
             1,
             "#f0f921"
            ]
           ]
          },
          "colorway": [
           "#636efa",
           "#EF553B",
           "#00cc96",
           "#ab63fa",
           "#FFA15A",
           "#19d3f3",
           "#FF6692",
           "#B6E880",
           "#FF97FF",
           "#FECB52"
          ],
          "font": {
           "color": "#2a3f5f"
          },
          "geo": {
           "bgcolor": "white",
           "lakecolor": "white",
           "landcolor": "white",
           "showlakes": true,
           "showland": true,
           "subunitcolor": "#C8D4E3"
          },
          "hoverlabel": {
           "align": "left"
          },
          "hovermode": "closest",
          "mapbox": {
           "style": "light"
          },
          "paper_bgcolor": "white",
          "plot_bgcolor": "white",
          "polar": {
           "angularaxis": {
            "gridcolor": "#EBF0F8",
            "linecolor": "#EBF0F8",
            "ticks": ""
           },
           "bgcolor": "white",
           "radialaxis": {
            "gridcolor": "#EBF0F8",
            "linecolor": "#EBF0F8",
            "ticks": ""
           }
          },
          "scene": {
           "xaxis": {
            "backgroundcolor": "white",
            "gridcolor": "#DFE8F3",
            "gridwidth": 2,
            "linecolor": "#EBF0F8",
            "showbackground": true,
            "ticks": "",
            "zerolinecolor": "#EBF0F8"
           },
           "yaxis": {
            "backgroundcolor": "white",
            "gridcolor": "#DFE8F3",
            "gridwidth": 2,
            "linecolor": "#EBF0F8",
            "showbackground": true,
            "ticks": "",
            "zerolinecolor": "#EBF0F8"
           },
           "zaxis": {
            "backgroundcolor": "white",
            "gridcolor": "#DFE8F3",
            "gridwidth": 2,
            "linecolor": "#EBF0F8",
            "showbackground": true,
            "ticks": "",
            "zerolinecolor": "#EBF0F8"
           }
          },
          "shapedefaults": {
           "line": {
            "color": "#2a3f5f"
           }
          },
          "ternary": {
           "aaxis": {
            "gridcolor": "#DFE8F3",
            "linecolor": "#A2B1C6",
            "ticks": ""
           },
           "baxis": {
            "gridcolor": "#DFE8F3",
            "linecolor": "#A2B1C6",
            "ticks": ""
           },
           "bgcolor": "white",
           "caxis": {
            "gridcolor": "#DFE8F3",
            "linecolor": "#A2B1C6",
            "ticks": ""
           }
          },
          "title": {
           "x": 0.05
          },
          "xaxis": {
           "automargin": true,
           "gridcolor": "#EBF0F8",
           "linecolor": "#EBF0F8",
           "ticks": "",
           "title": {
            "standoff": 15
           },
           "zerolinecolor": "#EBF0F8",
           "zerolinewidth": 2
          },
          "yaxis": {
           "automargin": true,
           "gridcolor": "#EBF0F8",
           "linecolor": "#EBF0F8",
           "ticks": "",
           "title": {
            "standoff": 15
           },
           "zerolinecolor": "#EBF0F8",
           "zerolinewidth": 2
          }
         }
        },
        "title": {
         "text": "Energy Use by Country in 2020"
        },
        "xaxis": {
         "anchor": "y",
         "categoryarray": [
          "China",
          "Germany",
          "United Kingdom",
          "India",
          "United States"
         ],
         "categoryorder": "array",
         "domain": [
          0,
          1
         ],
         "title": {
          "text": "Country"
         }
        },
        "yaxis": {
         "anchor": "x",
         "domain": [
          0,
          1
         ],
         "title": {
          "text": "Energy Use (kg of oil equivalent per capita)"
         }
        }
       }
      }
     },
     "metadata": {},
     "output_type": "display_data"
    }
   ],
   "source": [
    "\n",
    "year_to_compare = 2020  # Specify the year\n",
    "filtered_df_year = df[(df['Country_Name'].isin(countries_to_filter)) & (df['Year'] == year_to_compare)]\n",
    "\n",
    "# Create a bar chart of Energy Use by Country \n",
    "fig = px.bar(\n",
    "    filtered_df_year,\n",
    "    x=\"Country_Name\",      # Country on the x-axis\n",
    "    y=\"Energy_Use\",        # Energy use on the y-axis\n",
    "    color=\"Country_Name\",  # Color by country for easier distinction\n",
    "    title=f\"Energy Use by Country in {year_to_compare}\",\n",
    "    labels={\n",
    "        \"Country_Name\": \"Country\",\n",
    "        \"Energy_Use\": \"Energy Use (kg of oil equivalent per capita)\"\n",
    "    },\n",
    "    template=\"plotly_white\"\n",
    ")\n",
    "\n",
    "# Customize layout\n",
    "fig.update_layout(\n",
    "    xaxis_title=\"Country\",\n",
    "    yaxis_title=\"Energy Use (kg of oil equivalent per capita)\",\n",
    "    showlegend=False  # Hide legend since color already represents countries\n",
    ")\n",
    "\n",
    "fig.show()\n"
   ]
  },
  {
   "cell_type": "code",
   "execution_count": 38,
   "metadata": {},
   "outputs": [
    {
     "data": {
      "application/vnd.plotly.v1+json": {
       "config": {
        "plotlyServerURL": "https://plot.ly"
       },
       "data": [
        {
         "coloraxis": "coloraxis",
         "geo": "geo",
         "hovertemplate": "<b>%{hovertext}</b><br><br>Country_Code=%{location}<br>CO2 Emissions (metric tons per capita)=%{z}<extra></extra>",
         "hovertext": [
          "Aruba",
          "Africa Eastern and Southern",
          "Afghanistan",
          "Africa Western and Central",
          "Angola",
          "Albania",
          "Andorra",
          "Arab World",
          "United Arab Emirates",
          "Argentina",
          "Armenia",
          "American Samoa",
          "Antigua and Barbuda",
          "Australia",
          "Austria",
          "Azerbaijan",
          "Burundi",
          "Belgium",
          "Benin",
          "Burkina Faso",
          "Bangladesh",
          "Bulgaria",
          "Bahrain",
          "Bahamas, The",
          "Bosnia and Herzegovina",
          "Belarus",
          "Belize",
          "Bermuda",
          "Bolivia",
          "Brazil",
          "Barbados",
          "Brunei Darussalam",
          "Bhutan",
          "Botswana",
          "Central African Republic",
          "Canada",
          "Central Europe and the Baltics",
          "Switzerland",
          "Channel Islands",
          "Chile",
          "China",
          "Cote d'Ivoire",
          "Cameroon",
          "Congo, Dem. Rep.",
          "Congo, Rep.",
          "Colombia",
          "Comoros",
          "Cabo Verde",
          "Costa Rica",
          "Caribbean small states",
          "Cuba",
          "Curacao",
          "Cayman Islands",
          "Cyprus",
          "Czechia",
          "Germany",
          "Djibouti",
          "Dominica",
          "Denmark",
          "Dominican Republic",
          "Algeria",
          "East Asia & Pacific (excluding high income)",
          "Early-demographic dividend",
          "East Asia & Pacific",
          "Europe & Central Asia (excluding high income)",
          "Europe & Central Asia",
          "Ecuador",
          "Egypt, Arab Rep.",
          "Euro area",
          "Eritrea",
          "Spain",
          "Estonia",
          "Ethiopia",
          "European Union",
          "Fragile and conflict affected situations",
          "Finland",
          "Fiji",
          "France",
          "Faroe Islands",
          "Micronesia, Fed. Sts.",
          "Gabon",
          "United Kingdom",
          "Georgia",
          "Ghana",
          "Gibraltar",
          "Guinea",
          "Gambia, The",
          "Guinea-Bissau",
          "Equatorial Guinea",
          "Greece",
          "Grenada",
          "Greenland",
          "Guatemala",
          "Guam",
          "Guyana",
          "High income",
          "Hong Kong SAR, China",
          "Honduras",
          "Heavily indebted poor countries (HIPC)",
          "Croatia",
          "Haiti",
          "Hungary",
          "IBRD only",
          "IDA & IBRD total",
          "IDA total",
          "IDA blend",
          "Indonesia",
          "IDA only",
          "Isle of Man",
          "India",
          "Not classified",
          "Ireland",
          "Iran, Islamic Rep.",
          "Iraq",
          "Iceland",
          "Israel",
          "Italy",
          "Jamaica",
          "Jordan",
          "Japan",
          "Kazakhstan",
          "Kenya",
          "Kyrgyz Republic",
          "Cambodia",
          "Kiribati",
          "St. Kitts and Nevis",
          "Korea, Rep.",
          "Kuwait",
          "Latin America & Caribbean (excluding high income)",
          "Lao PDR",
          "Lebanon",
          "Liberia",
          "Libya",
          "St. Lucia",
          "Latin America & Caribbean",
          "Least developed countries: UN classification",
          "Low income",
          "Liechtenstein",
          "Sri Lanka",
          "Lower middle income",
          "Low & middle income",
          "Lesotho",
          "Late-demographic dividend",
          "Lithuania",
          "Luxembourg",
          "Latvia",
          "Macao SAR, China",
          "St. Martin (French part)",
          "Morocco",
          "Monaco",
          "Moldova",
          "Madagascar",
          "Maldives",
          "Middle East & North Africa",
          "Mexico",
          "Marshall Islands",
          "Middle income",
          "North Macedonia",
          "Mali",
          "Malta",
          "Myanmar",
          "Middle East & North Africa (excluding high income)",
          "Montenegro",
          "Mongolia",
          "Northern Mariana Islands",
          "Mozambique",
          "Mauritania",
          "Mauritius",
          "Malawi",
          "Malaysia",
          "North America",
          "Namibia",
          "New Caledonia",
          "Niger",
          "Nigeria",
          "Nicaragua",
          "Netherlands",
          "Norway",
          "Nepal",
          "Nauru",
          "New Zealand",
          "OECD members",
          "Oman",
          "Other small states",
          "Pakistan",
          "Panama",
          "Peru",
          "Philippines",
          "Palau",
          "Papua New Guinea",
          "Poland",
          "Pre-demographic dividend",
          "Puerto Rico",
          "Korea, Dem. People's Rep.",
          "Portugal",
          "Paraguay",
          "West Bank and Gaza",
          "Pacific island small states",
          "Post-demographic dividend",
          "French Polynesia",
          "Qatar",
          "Romania",
          "Russian Federation",
          "Rwanda",
          "South Asia",
          "Saudi Arabia",
          "Sudan",
          "Senegal",
          "Singapore",
          "Solomon Islands",
          "Sierra Leone",
          "El Salvador",
          "San Marino",
          "Somalia",
          "Serbia",
          "Sub-Saharan Africa (excluding high income)",
          "South Sudan",
          "Sub-Saharan Africa",
          "Small states",
          "Sao Tome and Principe",
          "Suriname",
          "Slovak Republic",
          "Slovenia",
          "Sweden",
          "Eswatini",
          "Sint Maarten (Dutch part)",
          "Seychelles",
          "Syrian Arab Republic",
          "Turks and Caicos Islands",
          "Chad",
          "East Asia & Pacific (IDA & IBRD countries)",
          "Europe & Central Asia (IDA & IBRD countries)",
          "Togo",
          "Thailand",
          "Tajikistan",
          "Turkmenistan",
          "Latin America & the Caribbean (IDA & IBRD countries)",
          "Timor-Leste",
          "Middle East & North Africa (IDA & IBRD countries)",
          "Tonga",
          "South Asia (IDA & IBRD)",
          "Sub-Saharan Africa (IDA & IBRD countries)",
          "Trinidad and Tobago",
          "Tunisia",
          "Turkiye",
          "Tuvalu",
          "Tanzania",
          "Uganda",
          "Ukraine",
          "Upper middle income",
          "Uruguay",
          "United States",
          "Uzbekistan",
          "St. Vincent and the Grenadines",
          "Venezuela, RB",
          "British Virgin Islands",
          "Virgin Islands (U.S.)",
          "Viet Nam",
          "Vanuatu",
          "World",
          "Samoa",
          "Kosovo",
          "Yemen, Rep.",
          "South Africa",
          "Zambia",
          "Zimbabwe"
         ],
         "locations": [
          "ABW",
          "AFE",
          "AFG",
          "AFW",
          "AGO",
          "ALB",
          "AND",
          "ARB",
          "ARE",
          "ARG",
          "ARM",
          "ASM",
          "ATG",
          "AUS",
          "AUT",
          "AZE",
          "BDI",
          "BEL",
          "BEN",
          "BFA",
          "BGD",
          "BGR",
          "BHR",
          "BHS",
          "BIH",
          "BLR",
          "BLZ",
          "BMU",
          "BOL",
          "BRA",
          "BRB",
          "BRN",
          "BTN",
          "BWA",
          "CAF",
          "CAN",
          "CEB",
          "CHE",
          "CHI",
          "CHL",
          "CHN",
          "CIV",
          "CMR",
          "COD",
          "COG",
          "COL",
          "COM",
          "CPV",
          "CRI",
          "CSS",
          "CUB",
          "CUW",
          "CYM",
          "CYP",
          "CZE",
          "DEU",
          "DJI",
          "DMA",
          "DNK",
          "DOM",
          "DZA",
          "EAP",
          "EAR",
          "EAS",
          "ECA",
          "ECS",
          "ECU",
          "EGY",
          "EMU",
          "ERI",
          "ESP",
          "EST",
          "ETH",
          "EUU",
          "FCS",
          "FIN",
          "FJI",
          "FRA",
          "FRO",
          "FSM",
          "GAB",
          "GBR",
          "GEO",
          "GHA",
          "GIB",
          "GIN",
          "GMB",
          "GNB",
          "GNQ",
          "GRC",
          "GRD",
          "GRL",
          "GTM",
          "GUM",
          "GUY",
          "HIC",
          "HKG",
          "HND",
          "HPC",
          "HRV",
          "HTI",
          "HUN",
          "IBD",
          "IBT",
          "IDA",
          "IDB",
          "IDN",
          "IDX",
          "IMN",
          "IND",
          "INX",
          "IRL",
          "IRN",
          "IRQ",
          "ISL",
          "ISR",
          "ITA",
          "JAM",
          "JOR",
          "JPN",
          "KAZ",
          "KEN",
          "KGZ",
          "KHM",
          "KIR",
          "KNA",
          "KOR",
          "KWT",
          "LAC",
          "LAO",
          "LBN",
          "LBR",
          "LBY",
          "LCA",
          "LCN",
          "LDC",
          "LIC",
          "LIE",
          "LKA",
          "LMC",
          "LMY",
          "LSO",
          "LTE",
          "LTU",
          "LUX",
          "LVA",
          "MAC",
          "MAF",
          "MAR",
          "MCO",
          "MDA",
          "MDG",
          "MDV",
          "MEA",
          "MEX",
          "MHL",
          "MIC",
          "MKD",
          "MLI",
          "MLT",
          "MMR",
          "MNA",
          "MNE",
          "MNG",
          "MNP",
          "MOZ",
          "MRT",
          "MUS",
          "MWI",
          "MYS",
          "NAC",
          "NAM",
          "NCL",
          "NER",
          "NGA",
          "NIC",
          "NLD",
          "NOR",
          "NPL",
          "NRU",
          "NZL",
          "OED",
          "OMN",
          "OSS",
          "PAK",
          "PAN",
          "PER",
          "PHL",
          "PLW",
          "PNG",
          "POL",
          "PRE",
          "PRI",
          "PRK",
          "PRT",
          "PRY",
          "PSE",
          "PSS",
          "PST",
          "PYF",
          "QAT",
          "ROU",
          "RUS",
          "RWA",
          "SAS",
          "SAU",
          "SDN",
          "SEN",
          "SGP",
          "SLB",
          "SLE",
          "SLV",
          "SMR",
          "SOM",
          "SRB",
          "SSA",
          "SSD",
          "SSF",
          "SST",
          "STP",
          "SUR",
          "SVK",
          "SVN",
          "SWE",
          "SWZ",
          "SXM",
          "SYC",
          "SYR",
          "TCA",
          "TCD",
          "TEA",
          "TEC",
          "TGO",
          "THA",
          "TJK",
          "TKM",
          "TLA",
          "TLS",
          "TMN",
          "TON",
          "TSA",
          "TSS",
          "TTO",
          "TUN",
          "TUR",
          "TUV",
          "TZA",
          "UGA",
          "UKR",
          "UMC",
          "URY",
          "USA",
          "UZB",
          "VCT",
          "VEN",
          "VGB",
          "VIR",
          "VNM",
          "VUT",
          "WLD",
          "WSM",
          "XKX",
          "YEM",
          "ZAF",
          "ZMB",
          "ZWE"
         ],
         "name": "",
         "type": "choropleth",
         "z": [
          2558906.3038809802,
          929074086.4840931,
          19955929.0521496,
          787146719.022421,
          48501561.2035686,
          15162734.2052462,
          2891001.1493611,
          2576553324.18561,
          349473015.330157,
          385740508.43696505,
          12641698.583215201,
          721000,
          1410796.2962963,
          1330381544.9093,
          435049316.955737,
          42693000,
          2649680.26144299,
          526021513.474243,
          15686741.883934,
          17725010.530789398,
          373979442.653343,
          70368758.395141,
          34621807.712766,
          9958200,
          20226036.5644129,
          61371755.3262351,
          2047727.81006777,
          6887147,
          36629843.8060781,
          1476107231.1941102,
          4779756.55,
          12005799.6539835,
          2457604.04240959,
          14960291.1059316,
          2326720.90038047,
          1655684730.00019,
          1665817489.08796,
          741999406.0056269,
          9301349.2372106,
          254042159.309311,
          14687744162.801,
          63027852.805420406,
          40773241.1770505,
          48716961.8601325,
          11468688.1407225,
          270348342.541465,
          1225039.19661091,
          1821565.6136861301,
          62395610.7603912,
          31378030.000782,
          107351800,
          2534327.59776536,
          5655357.984242179,
          25227189.7449083,
          245974558.654043,
          3887727161.91441,
          3185150.9810320702,
          504214.814814815,
          354762748.338661,
          78844656.2981776,
          164873415.32520097,
          17487334631.867302,
          10981013167.791698,
          27156482410.4184,
          1428327223.22953,
          22156549343.2449,
          95865472,
          383817841.547099,
          13155164142.3991,
          null,
          1278128867.87549,
          31330419.851148702,
          107657734.392446,
          15381418584.2461,
          1690930063.23789,
          271886077.382102,
          4432466.21987685,
          2647418691.59845,
          3262045.88337293,
          372000,
          15314577.1678211,
          2697806592.29386,
          16010869.21568,
          70043095.50366749,
          null,
          14177835.8413923,
          1812170.89119069,
          1520479.98456808,
          9893816.0077398,
          188480337.285605,
          1043411.11111111,
          3082884.6532456004,
          77715183.06320539,
          5916000,
          5471256.59472422,
          55791128824.226204,
          344943149.59005797,
          23352232.483755,
          811360288.084988,
          58221300.897883795,
          14508222.5183018,
          157288955.508176,
          30103859045.5278,
          32528587315.534103,
          2424027549.20029,
          1009467966.72965,
          1059054842.69848,
          1414559582.47064,
          6684225.641025639,
          2674851578.5868597,
          null,
          428608687.830239,
          239735486.74538502,
          180898797.936279,
          21629953.1940659,
          413267669.23152196,
          1897461635.59191,
          13812421.8357369,
          43700383.098591596,
          5055587093.50159,
          171082365.86142302,
          100657505.750545,
          8270468.61424051,
          25872797.8917664,
          222973.879711097,
          883922.222222222,
          1644312831.90617,
          107512998.447021,
          4046822646.8723702,
          18981805.2502424,
          31712128.2537961,
          3176126.34,
          65688454.9715663,
          1497825.9942322099,
          4804924789.05488,
          1162019936.6988401,
          439782467.036046,
          6405870.2103229305,
          84304298.77053289,
          6081790240.107941,
          29491920680.0881,
          2053338.46524462,
          22531183291.5783,
          56964942.9993651,
          73699366.70021339,
          34390910.3389604,
          25343525.9358358,
          null,
          121353645.057144,
          6739645.41647916,
          11530746.2344492,
          13051441.203947399,
          3712604.58336665,
          3199081953.4955297,
          1120832412.4688501,
          240751.14440917998,
          29051739634.6778,
          12361036.913840901,
          17465392.7643706,
          15249999.048029698,
          79006113.64319059,
          1324364502.71509,
          4769996.8660075795,
          13312981.4290891,
          858000,
          14235420.1741813,
          8260752.3852308905,
          11408106.4463144,
          12041250.0838828,
          337456163.961211,
          22985521877.0002,
          10583748.5415258,
          9454629.46791408,
          13744653.103058001,
          432198898.46779495,
          12681548.3036856,
          909793466.6614809,
          367633418.886627,
          33433659.301246602,
          124685.68816109399,
          212697530.89756,
          52852896615.8917,
          75909397.65929781,
          178185121.948331,
          300425609.817981,
          57086836.9,
          201409694.755934,
          361751145.451597,
          261179.13818359398,
          23848445.1039227,
          599442732.365372,
          1309584194.48123,
          103130900,
          null,
          229031860.52077702,
          35432178.068181396,
          15531700,
          9505064.735520331,
          50004904334.1796,
          5792545.87080614,
          144411363.351648,
          251362514.349697,
          1493075894.36214,
          10174387.6142558,
          3493120726.80789,
          734271200,
          27034593.75,
          24530513.0377518,
          349488382.610662,
          1536145.81417007,
          4062906.2657332,
          24921190,
          1541247.88399351,
          9204140.38317612,
          53356484.591437794,
          1714838253.75494,
          null,
          1716220805.50651,
          219068216.684633,
          471229.484607144,
          2911807.49620227,
          106737868.87394099,
          53734526.8542289,
          547054174.235876,
          3982236.6938316002,
          1236428.10055866,
          1382551.7515690802,
          11155888.3040023,
          774653.669315186,
          10715396.0423343,
          17465773779.1841,
          3900798423.59977,
          7400284.16778479,
          500461898.48024595,
          8133963.55065742,
          45818000,
          4561296585.53866,
          2162619.2,
          1308832802.71509,
          484796.854918756,
          3493120726.80789,
          1716220805.50651,
          20807571.3143043,
          42491816.4757118,
          720338498.174744,
          51746.5943148543,
          66068737.7860639,
          37600368.2398824,
          156617722.01334202,
          22969949394.5698,
          53668636.5678667,
          21322950000,
          60224701.2967885,
          869111.111111111,
          null,
          null,
          4189000,
          346615738.537796,
          909421.043508407,
          85577718250.1955,
          868898.3582664371,
          7717145.21781247,
          null,
          338291396.026698,
          18137764.9312808,
          21509698.406111598
         ]
        }
       ],
       "layout": {
        "coloraxis": {
         "colorbar": {
          "ticksuffix": " tons per capita",
          "title": {
           "text": "Geographical distribution of CO2 emissions "
          }
         },
         "colorscale": [
          [
           0,
           "#0d0887"
          ],
          [
           0.1111111111111111,
           "#46039f"
          ],
          [
           0.2222222222222222,
           "#7201a8"
          ],
          [
           0.3333333333333333,
           "#9c179e"
          ],
          [
           0.4444444444444444,
           "#bd3786"
          ],
          [
           0.5555555555555556,
           "#d8576b"
          ],
          [
           0.6666666666666666,
           "#ed7953"
          ],
          [
           0.7777777777777778,
           "#fb9f3a"
          ],
          [
           0.8888888888888888,
           "#fdca26"
          ],
          [
           1,
           "#f0f921"
          ]
         ]
        },
        "geo": {
         "center": {},
         "domain": {
          "x": [
           0,
           1
          ],
          "y": [
           0,
           1
          ]
         },
         "projection": {
          "type": "natural earth"
         },
         "showcountries": true
        },
        "legend": {
         "tracegroupgap": 0
        },
        "template": {
         "data": {
          "bar": [
           {
            "error_x": {
             "color": "#2a3f5f"
            },
            "error_y": {
             "color": "#2a3f5f"
            },
            "marker": {
             "line": {
              "color": "white",
              "width": 0.5
             },
             "pattern": {
              "fillmode": "overlay",
              "size": 10,
              "solidity": 0.2
             }
            },
            "type": "bar"
           }
          ],
          "barpolar": [
           {
            "marker": {
             "line": {
              "color": "white",
              "width": 0.5
             },
             "pattern": {
              "fillmode": "overlay",
              "size": 10,
              "solidity": 0.2
             }
            },
            "type": "barpolar"
           }
          ],
          "carpet": [
           {
            "aaxis": {
             "endlinecolor": "#2a3f5f",
             "gridcolor": "#C8D4E3",
             "linecolor": "#C8D4E3",
             "minorgridcolor": "#C8D4E3",
             "startlinecolor": "#2a3f5f"
            },
            "baxis": {
             "endlinecolor": "#2a3f5f",
             "gridcolor": "#C8D4E3",
             "linecolor": "#C8D4E3",
             "minorgridcolor": "#C8D4E3",
             "startlinecolor": "#2a3f5f"
            },
            "type": "carpet"
           }
          ],
          "choropleth": [
           {
            "colorbar": {
             "outlinewidth": 0,
             "ticks": ""
            },
            "type": "choropleth"
           }
          ],
          "contour": [
           {
            "colorbar": {
             "outlinewidth": 0,
             "ticks": ""
            },
            "colorscale": [
             [
              0,
              "#0d0887"
             ],
             [
              0.1111111111111111,
              "#46039f"
             ],
             [
              0.2222222222222222,
              "#7201a8"
             ],
             [
              0.3333333333333333,
              "#9c179e"
             ],
             [
              0.4444444444444444,
              "#bd3786"
             ],
             [
              0.5555555555555556,
              "#d8576b"
             ],
             [
              0.6666666666666666,
              "#ed7953"
             ],
             [
              0.7777777777777778,
              "#fb9f3a"
             ],
             [
              0.8888888888888888,
              "#fdca26"
             ],
             [
              1,
              "#f0f921"
             ]
            ],
            "type": "contour"
           }
          ],
          "contourcarpet": [
           {
            "colorbar": {
             "outlinewidth": 0,
             "ticks": ""
            },
            "type": "contourcarpet"
           }
          ],
          "heatmap": [
           {
            "colorbar": {
             "outlinewidth": 0,
             "ticks": ""
            },
            "colorscale": [
             [
              0,
              "#0d0887"
             ],
             [
              0.1111111111111111,
              "#46039f"
             ],
             [
              0.2222222222222222,
              "#7201a8"
             ],
             [
              0.3333333333333333,
              "#9c179e"
             ],
             [
              0.4444444444444444,
              "#bd3786"
             ],
             [
              0.5555555555555556,
              "#d8576b"
             ],
             [
              0.6666666666666666,
              "#ed7953"
             ],
             [
              0.7777777777777778,
              "#fb9f3a"
             ],
             [
              0.8888888888888888,
              "#fdca26"
             ],
             [
              1,
              "#f0f921"
             ]
            ],
            "type": "heatmap"
           }
          ],
          "heatmapgl": [
           {
            "colorbar": {
             "outlinewidth": 0,
             "ticks": ""
            },
            "colorscale": [
             [
              0,
              "#0d0887"
             ],
             [
              0.1111111111111111,
              "#46039f"
             ],
             [
              0.2222222222222222,
              "#7201a8"
             ],
             [
              0.3333333333333333,
              "#9c179e"
             ],
             [
              0.4444444444444444,
              "#bd3786"
             ],
             [
              0.5555555555555556,
              "#d8576b"
             ],
             [
              0.6666666666666666,
              "#ed7953"
             ],
             [
              0.7777777777777778,
              "#fb9f3a"
             ],
             [
              0.8888888888888888,
              "#fdca26"
             ],
             [
              1,
              "#f0f921"
             ]
            ],
            "type": "heatmapgl"
           }
          ],
          "histogram": [
           {
            "marker": {
             "pattern": {
              "fillmode": "overlay",
              "size": 10,
              "solidity": 0.2
             }
            },
            "type": "histogram"
           }
          ],
          "histogram2d": [
           {
            "colorbar": {
             "outlinewidth": 0,
             "ticks": ""
            },
            "colorscale": [
             [
              0,
              "#0d0887"
             ],
             [
              0.1111111111111111,
              "#46039f"
             ],
             [
              0.2222222222222222,
              "#7201a8"
             ],
             [
              0.3333333333333333,
              "#9c179e"
             ],
             [
              0.4444444444444444,
              "#bd3786"
             ],
             [
              0.5555555555555556,
              "#d8576b"
             ],
             [
              0.6666666666666666,
              "#ed7953"
             ],
             [
              0.7777777777777778,
              "#fb9f3a"
             ],
             [
              0.8888888888888888,
              "#fdca26"
             ],
             [
              1,
              "#f0f921"
             ]
            ],
            "type": "histogram2d"
           }
          ],
          "histogram2dcontour": [
           {
            "colorbar": {
             "outlinewidth": 0,
             "ticks": ""
            },
            "colorscale": [
             [
              0,
              "#0d0887"
             ],
             [
              0.1111111111111111,
              "#46039f"
             ],
             [
              0.2222222222222222,
              "#7201a8"
             ],
             [
              0.3333333333333333,
              "#9c179e"
             ],
             [
              0.4444444444444444,
              "#bd3786"
             ],
             [
              0.5555555555555556,
              "#d8576b"
             ],
             [
              0.6666666666666666,
              "#ed7953"
             ],
             [
              0.7777777777777778,
              "#fb9f3a"
             ],
             [
              0.8888888888888888,
              "#fdca26"
             ],
             [
              1,
              "#f0f921"
             ]
            ],
            "type": "histogram2dcontour"
           }
          ],
          "mesh3d": [
           {
            "colorbar": {
             "outlinewidth": 0,
             "ticks": ""
            },
            "type": "mesh3d"
           }
          ],
          "parcoords": [
           {
            "line": {
             "colorbar": {
              "outlinewidth": 0,
              "ticks": ""
             }
            },
            "type": "parcoords"
           }
          ],
          "pie": [
           {
            "automargin": true,
            "type": "pie"
           }
          ],
          "scatter": [
           {
            "fillpattern": {
             "fillmode": "overlay",
             "size": 10,
             "solidity": 0.2
            },
            "type": "scatter"
           }
          ],
          "scatter3d": [
           {
            "line": {
             "colorbar": {
              "outlinewidth": 0,
              "ticks": ""
             }
            },
            "marker": {
             "colorbar": {
              "outlinewidth": 0,
              "ticks": ""
             }
            },
            "type": "scatter3d"
           }
          ],
          "scattercarpet": [
           {
            "marker": {
             "colorbar": {
              "outlinewidth": 0,
              "ticks": ""
             }
            },
            "type": "scattercarpet"
           }
          ],
          "scattergeo": [
           {
            "marker": {
             "colorbar": {
              "outlinewidth": 0,
              "ticks": ""
             }
            },
            "type": "scattergeo"
           }
          ],
          "scattergl": [
           {
            "marker": {
             "colorbar": {
              "outlinewidth": 0,
              "ticks": ""
             }
            },
            "type": "scattergl"
           }
          ],
          "scattermapbox": [
           {
            "marker": {
             "colorbar": {
              "outlinewidth": 0,
              "ticks": ""
             }
            },
            "type": "scattermapbox"
           }
          ],
          "scatterpolar": [
           {
            "marker": {
             "colorbar": {
              "outlinewidth": 0,
              "ticks": ""
             }
            },
            "type": "scatterpolar"
           }
          ],
          "scatterpolargl": [
           {
            "marker": {
             "colorbar": {
              "outlinewidth": 0,
              "ticks": ""
             }
            },
            "type": "scatterpolargl"
           }
          ],
          "scatterternary": [
           {
            "marker": {
             "colorbar": {
              "outlinewidth": 0,
              "ticks": ""
             }
            },
            "type": "scatterternary"
           }
          ],
          "surface": [
           {
            "colorbar": {
             "outlinewidth": 0,
             "ticks": ""
            },
            "colorscale": [
             [
              0,
              "#0d0887"
             ],
             [
              0.1111111111111111,
              "#46039f"
             ],
             [
              0.2222222222222222,
              "#7201a8"
             ],
             [
              0.3333333333333333,
              "#9c179e"
             ],
             [
              0.4444444444444444,
              "#bd3786"
             ],
             [
              0.5555555555555556,
              "#d8576b"
             ],
             [
              0.6666666666666666,
              "#ed7953"
             ],
             [
              0.7777777777777778,
              "#fb9f3a"
             ],
             [
              0.8888888888888888,
              "#fdca26"
             ],
             [
              1,
              "#f0f921"
             ]
            ],
            "type": "surface"
           }
          ],
          "table": [
           {
            "cells": {
             "fill": {
              "color": "#EBF0F8"
             },
             "line": {
              "color": "white"
             }
            },
            "header": {
             "fill": {
              "color": "#C8D4E3"
             },
             "line": {
              "color": "white"
             }
            },
            "type": "table"
           }
          ]
         },
         "layout": {
          "annotationdefaults": {
           "arrowcolor": "#2a3f5f",
           "arrowhead": 0,
           "arrowwidth": 1
          },
          "autotypenumbers": "strict",
          "coloraxis": {
           "colorbar": {
            "outlinewidth": 0,
            "ticks": ""
           }
          },
          "colorscale": {
           "diverging": [
            [
             0,
             "#8e0152"
            ],
            [
             0.1,
             "#c51b7d"
            ],
            [
             0.2,
             "#de77ae"
            ],
            [
             0.3,
             "#f1b6da"
            ],
            [
             0.4,
             "#fde0ef"
            ],
            [
             0.5,
             "#f7f7f7"
            ],
            [
             0.6,
             "#e6f5d0"
            ],
            [
             0.7,
             "#b8e186"
            ],
            [
             0.8,
             "#7fbc41"
            ],
            [
             0.9,
             "#4d9221"
            ],
            [
             1,
             "#276419"
            ]
           ],
           "sequential": [
            [
             0,
             "#0d0887"
            ],
            [
             0.1111111111111111,
             "#46039f"
            ],
            [
             0.2222222222222222,
             "#7201a8"
            ],
            [
             0.3333333333333333,
             "#9c179e"
            ],
            [
             0.4444444444444444,
             "#bd3786"
            ],
            [
             0.5555555555555556,
             "#d8576b"
            ],
            [
             0.6666666666666666,
             "#ed7953"
            ],
            [
             0.7777777777777778,
             "#fb9f3a"
            ],
            [
             0.8888888888888888,
             "#fdca26"
            ],
            [
             1,
             "#f0f921"
            ]
           ],
           "sequentialminus": [
            [
             0,
             "#0d0887"
            ],
            [
             0.1111111111111111,
             "#46039f"
            ],
            [
             0.2222222222222222,
             "#7201a8"
            ],
            [
             0.3333333333333333,
             "#9c179e"
            ],
            [
             0.4444444444444444,
             "#bd3786"
            ],
            [
             0.5555555555555556,
             "#d8576b"
            ],
            [
             0.6666666666666666,
             "#ed7953"
            ],
            [
             0.7777777777777778,
             "#fb9f3a"
            ],
            [
             0.8888888888888888,
             "#fdca26"
            ],
            [
             1,
             "#f0f921"
            ]
           ]
          },
          "colorway": [
           "#636efa",
           "#EF553B",
           "#00cc96",
           "#ab63fa",
           "#FFA15A",
           "#19d3f3",
           "#FF6692",
           "#B6E880",
           "#FF97FF",
           "#FECB52"
          ],
          "font": {
           "color": "#2a3f5f"
          },
          "geo": {
           "bgcolor": "white",
           "lakecolor": "white",
           "landcolor": "white",
           "showlakes": true,
           "showland": true,
           "subunitcolor": "#C8D4E3"
          },
          "hoverlabel": {
           "align": "left"
          },
          "hovermode": "closest",
          "mapbox": {
           "style": "light"
          },
          "paper_bgcolor": "white",
          "plot_bgcolor": "white",
          "polar": {
           "angularaxis": {
            "gridcolor": "#EBF0F8",
            "linecolor": "#EBF0F8",
            "ticks": ""
           },
           "bgcolor": "white",
           "radialaxis": {
            "gridcolor": "#EBF0F8",
            "linecolor": "#EBF0F8",
            "ticks": ""
           }
          },
          "scene": {
           "xaxis": {
            "backgroundcolor": "white",
            "gridcolor": "#DFE8F3",
            "gridwidth": 2,
            "linecolor": "#EBF0F8",
            "showbackground": true,
            "ticks": "",
            "zerolinecolor": "#EBF0F8"
           },
           "yaxis": {
            "backgroundcolor": "white",
            "gridcolor": "#DFE8F3",
            "gridwidth": 2,
            "linecolor": "#EBF0F8",
            "showbackground": true,
            "ticks": "",
            "zerolinecolor": "#EBF0F8"
           },
           "zaxis": {
            "backgroundcolor": "white",
            "gridcolor": "#DFE8F3",
            "gridwidth": 2,
            "linecolor": "#EBF0F8",
            "showbackground": true,
            "ticks": "",
            "zerolinecolor": "#EBF0F8"
           }
          },
          "shapedefaults": {
           "line": {
            "color": "#2a3f5f"
           }
          },
          "ternary": {
           "aaxis": {
            "gridcolor": "#DFE8F3",
            "linecolor": "#A2B1C6",
            "ticks": ""
           },
           "baxis": {
            "gridcolor": "#DFE8F3",
            "linecolor": "#A2B1C6",
            "ticks": ""
           },
           "bgcolor": "white",
           "caxis": {
            "gridcolor": "#DFE8F3",
            "linecolor": "#A2B1C6",
            "ticks": ""
           }
          },
          "title": {
           "x": 0.05
          },
          "xaxis": {
           "automargin": true,
           "gridcolor": "#EBF0F8",
           "linecolor": "#EBF0F8",
           "ticks": "",
           "title": {
            "standoff": 15
           },
           "zerolinecolor": "#EBF0F8",
           "zerolinewidth": 2
          },
          "yaxis": {
           "automargin": true,
           "gridcolor": "#EBF0F8",
           "linecolor": "#EBF0F8",
           "ticks": "",
           "title": {
            "standoff": 15
           },
           "zerolinecolor": "#EBF0F8",
           "zerolinewidth": 2
          }
         }
        },
        "title": {
         "text": "CO2 Emissions by Country in 2020"
        }
       }
      }
     },
     "metadata": {},
     "output_type": "display_data"
    }
   ],
   "source": [
    "\n",
    "year_to_visualize = 2020  \n",
    "filtered_df_year = df[df['Year'] == 2020]\n",
    "\n",
    "# Create a choropleth map of CO2 Emissions by Country\n",
    "fig = px.choropleth(\n",
    "    filtered_df_year,\n",
    "    locations=\"Country_Code\",   # ISO country codes for accurate mapping\n",
    "    color=\"CO2_Emissions\",      # CO2 emissions data for color intensity\n",
    "    hover_name=\"Country_Name\",  # Display country name on hover\n",
    "    color_continuous_scale=px.colors.sequential.Plasma,  # Color scale for emissions\n",
    "    title=f\"CO2 Emissions by Country in {year_to_visualize}\",\n",
    "    labels={\"CO2_Emissions\": \"CO2 Emissions (metric tons per capita)\"},\n",
    "    template=\"plotly_white\"\n",
    ")\n",
    "\n",
    "# Customize layout\n",
    "fig.update_geos(\n",
    "    showcountries=True,       # Show country borders\n",
    "    projection_type=\"natural earth\"\n",
    ")\n",
    "fig.update_layout(\n",
    "    coloraxis_colorbar=dict(\n",
    "        title=\"Geographical distribution of CO2 emissions \",\n",
    "        ticksuffix=\" tons per capita\"\n",
    "    )\n",
    ")\n",
    "\n",
    "fig.show()\n"
   ]
  },
  {
   "cell_type": "code",
   "execution_count": 39,
   "metadata": {},
   "outputs": [
    {
     "data": {
      "application/vnd.plotly.v1+json": {
       "config": {
        "plotlyServerURL": "https://plot.ly"
       },
       "data": [
        {
         "coloraxis": "coloraxis",
         "geo": "geo",
         "hovertemplate": "<b>%{hovertext}</b><br><br>Country_Code=%{location}<br>Energy Use (kg of oil equivalent per capita)=%{z}<extra></extra>",
         "hovertext": [
          "Aruba",
          "Africa Eastern and Southern",
          "Afghanistan",
          "Africa Western and Central",
          "Angola",
          "Albania",
          "Andorra",
          "Arab World",
          "United Arab Emirates",
          "Argentina",
          "Armenia",
          "American Samoa",
          "Antigua and Barbuda",
          "Australia",
          "Austria",
          "Azerbaijan",
          "Burundi",
          "Belgium",
          "Benin",
          "Burkina Faso",
          "Bangladesh",
          "Bulgaria",
          "Bahrain",
          "Bahamas, The",
          "Bosnia and Herzegovina",
          "Belarus",
          "Belize",
          "Bermuda",
          "Bolivia",
          "Brazil",
          "Barbados",
          "Brunei Darussalam",
          "Bhutan",
          "Botswana",
          "Central African Republic",
          "Canada",
          "Central Europe and the Baltics",
          "Switzerland",
          "Channel Islands",
          "Chile",
          "China",
          "Cote d'Ivoire",
          "Cameroon",
          "Congo, Dem. Rep.",
          "Congo, Rep.",
          "Colombia",
          "Comoros",
          "Cabo Verde",
          "Costa Rica",
          "Caribbean small states",
          "Cuba",
          "Curacao",
          "Cayman Islands",
          "Cyprus",
          "Czechia",
          "Germany",
          "Djibouti",
          "Dominica",
          "Denmark",
          "Dominican Republic",
          "Algeria",
          "East Asia & Pacific (excluding high income)",
          "Early-demographic dividend",
          "East Asia & Pacific",
          "Europe & Central Asia (excluding high income)",
          "Europe & Central Asia",
          "Ecuador",
          "Egypt, Arab Rep.",
          "Euro area",
          "Eritrea",
          "Spain",
          "Estonia",
          "Ethiopia",
          "European Union",
          "Fragile and conflict affected situations",
          "Finland",
          "Fiji",
          "France",
          "Faroe Islands",
          "Micronesia, Fed. Sts.",
          "Gabon",
          "United Kingdom",
          "Georgia",
          "Ghana",
          "Gibraltar",
          "Guinea",
          "Gambia, The",
          "Guinea-Bissau",
          "Equatorial Guinea",
          "Greece",
          "Grenada",
          "Greenland",
          "Guatemala",
          "Guam",
          "Guyana",
          "High income",
          "Hong Kong SAR, China",
          "Honduras",
          "Heavily indebted poor countries (HIPC)",
          "Croatia",
          "Haiti",
          "Hungary",
          "IBRD only",
          "IDA & IBRD total",
          "IDA total",
          "IDA blend",
          "Indonesia",
          "IDA only",
          "Isle of Man",
          "India",
          "Not classified",
          "Ireland",
          "Iran, Islamic Rep.",
          "Iraq",
          "Iceland",
          "Israel",
          "Italy",
          "Jamaica",
          "Jordan",
          "Japan",
          "Kazakhstan",
          "Kenya",
          "Kyrgyz Republic",
          "Cambodia",
          "Kiribati",
          "St. Kitts and Nevis",
          "Korea, Rep.",
          "Kuwait",
          "Latin America & Caribbean (excluding high income)",
          "Lao PDR",
          "Lebanon",
          "Liberia",
          "Libya",
          "St. Lucia",
          "Latin America & Caribbean",
          "Least developed countries: UN classification",
          "Low income",
          "Liechtenstein",
          "Sri Lanka",
          "Lower middle income",
          "Low & middle income",
          "Lesotho",
          "Late-demographic dividend",
          "Lithuania",
          "Luxembourg",
          "Latvia",
          "Macao SAR, China",
          "St. Martin (French part)",
          "Morocco",
          "Monaco",
          "Moldova",
          "Madagascar",
          "Maldives",
          "Middle East & North Africa",
          "Mexico",
          "Marshall Islands",
          "Middle income",
          "North Macedonia",
          "Mali",
          "Malta",
          "Myanmar",
          "Middle East & North Africa (excluding high income)",
          "Montenegro",
          "Mongolia",
          "Northern Mariana Islands",
          "Mozambique",
          "Mauritania",
          "Mauritius",
          "Malawi",
          "Malaysia",
          "North America",
          "Namibia",
          "New Caledonia",
          "Niger",
          "Nigeria",
          "Nicaragua",
          "Netherlands",
          "Norway",
          "Nepal",
          "Nauru",
          "New Zealand",
          "OECD members",
          "Oman",
          "Other small states",
          "Pakistan",
          "Panama",
          "Peru",
          "Philippines",
          "Palau",
          "Papua New Guinea",
          "Poland",
          "Pre-demographic dividend",
          "Puerto Rico",
          "Korea, Dem. People's Rep.",
          "Portugal",
          "Paraguay",
          "West Bank and Gaza",
          "Pacific island small states",
          "Post-demographic dividend",
          "French Polynesia",
          "Qatar",
          "Romania",
          "Russian Federation",
          "Rwanda",
          "South Asia",
          "Saudi Arabia",
          "Sudan",
          "Senegal",
          "Singapore",
          "Solomon Islands",
          "Sierra Leone",
          "El Salvador",
          "San Marino",
          "Somalia",
          "Serbia",
          "Sub-Saharan Africa (excluding high income)",
          "South Sudan",
          "Sub-Saharan Africa",
          "Small states",
          "Sao Tome and Principe",
          "Suriname",
          "Slovak Republic",
          "Slovenia",
          "Sweden",
          "Eswatini",
          "Sint Maarten (Dutch part)",
          "Seychelles",
          "Syrian Arab Republic",
          "Turks and Caicos Islands",
          "Chad",
          "East Asia & Pacific (IDA & IBRD countries)",
          "Europe & Central Asia (IDA & IBRD countries)",
          "Togo",
          "Thailand",
          "Tajikistan",
          "Turkmenistan",
          "Latin America & the Caribbean (IDA & IBRD countries)",
          "Timor-Leste",
          "Middle East & North Africa (IDA & IBRD countries)",
          "Tonga",
          "South Asia (IDA & IBRD)",
          "Sub-Saharan Africa (IDA & IBRD countries)",
          "Trinidad and Tobago",
          "Tunisia",
          "Turkiye",
          "Tuvalu",
          "Tanzania",
          "Uganda",
          "Ukraine",
          "Upper middle income",
          "Uruguay",
          "United States",
          "Uzbekistan",
          "St. Vincent and the Grenadines",
          "Venezuela, RB",
          "British Virgin Islands",
          "Virgin Islands (U.S.)",
          "Viet Nam",
          "Vanuatu",
          "World",
          "Samoa",
          "Kosovo",
          "Yemen, Rep.",
          "South Africa",
          "Zambia",
          "Zimbabwe"
         ],
         "locations": [
          "ABW",
          "AFE",
          "AFG",
          "AFW",
          "AGO",
          "ALB",
          "AND",
          "ARB",
          "ARE",
          "ARG",
          "ARM",
          "ASM",
          "ATG",
          "AUS",
          "AUT",
          "AZE",
          "BDI",
          "BEL",
          "BEN",
          "BFA",
          "BGD",
          "BGR",
          "BHR",
          "BHS",
          "BIH",
          "BLR",
          "BLZ",
          "BMU",
          "BOL",
          "BRA",
          "BRB",
          "BRN",
          "BTN",
          "BWA",
          "CAF",
          "CAN",
          "CEB",
          "CHE",
          "CHI",
          "CHL",
          "CHN",
          "CIV",
          "CMR",
          "COD",
          "COG",
          "COL",
          "COM",
          "CPV",
          "CRI",
          "CSS",
          "CUB",
          "CUW",
          "CYM",
          "CYP",
          "CZE",
          "DEU",
          "DJI",
          "DMA",
          "DNK",
          "DOM",
          "DZA",
          "EAP",
          "EAR",
          "EAS",
          "ECA",
          "ECS",
          "ECU",
          "EGY",
          "EMU",
          "ERI",
          "ESP",
          "EST",
          "ETH",
          "EUU",
          "FCS",
          "FIN",
          "FJI",
          "FRA",
          "FRO",
          "FSM",
          "GAB",
          "GBR",
          "GEO",
          "GHA",
          "GIB",
          "GIN",
          "GMB",
          "GNB",
          "GNQ",
          "GRC",
          "GRD",
          "GRL",
          "GTM",
          "GUM",
          "GUY",
          "HIC",
          "HKG",
          "HND",
          "HPC",
          "HRV",
          "HTI",
          "HUN",
          "IBD",
          "IBT",
          "IDA",
          "IDB",
          "IDN",
          "IDX",
          "IMN",
          "IND",
          "INX",
          "IRL",
          "IRN",
          "IRQ",
          "ISL",
          "ISR",
          "ITA",
          "JAM",
          "JOR",
          "JPN",
          "KAZ",
          "KEN",
          "KGZ",
          "KHM",
          "KIR",
          "KNA",
          "KOR",
          "KWT",
          "LAC",
          "LAO",
          "LBN",
          "LBR",
          "LBY",
          "LCA",
          "LCN",
          "LDC",
          "LIC",
          "LIE",
          "LKA",
          "LMC",
          "LMY",
          "LSO",
          "LTE",
          "LTU",
          "LUX",
          "LVA",
          "MAC",
          "MAF",
          "MAR",
          "MCO",
          "MDA",
          "MDG",
          "MDV",
          "MEA",
          "MEX",
          "MHL",
          "MIC",
          "MKD",
          "MLI",
          "MLT",
          "MMR",
          "MNA",
          "MNE",
          "MNG",
          "MNP",
          "MOZ",
          "MRT",
          "MUS",
          "MWI",
          "MYS",
          "NAC",
          "NAM",
          "NCL",
          "NER",
          "NGA",
          "NIC",
          "NLD",
          "NOR",
          "NPL",
          "NRU",
          "NZL",
          "OED",
          "OMN",
          "OSS",
          "PAK",
          "PAN",
          "PER",
          "PHL",
          "PLW",
          "PNG",
          "POL",
          "PRE",
          "PRI",
          "PRK",
          "PRT",
          "PRY",
          "PSE",
          "PSS",
          "PST",
          "PYF",
          "QAT",
          "ROU",
          "RUS",
          "RWA",
          "SAS",
          "SAU",
          "SDN",
          "SEN",
          "SGP",
          "SLB",
          "SLE",
          "SLV",
          "SMR",
          "SOM",
          "SRB",
          "SSA",
          "SSD",
          "SSF",
          "SST",
          "STP",
          "SUR",
          "SVK",
          "SVN",
          "SWE",
          "SWZ",
          "SXM",
          "SYC",
          "SYR",
          "TCA",
          "TCD",
          "TEA",
          "TEC",
          "TGO",
          "THA",
          "TJK",
          "TKM",
          "TLA",
          "TLS",
          "TMN",
          "TON",
          "TSA",
          "TSS",
          "TTO",
          "TUN",
          "TUR",
          "TUV",
          "TZA",
          "UGA",
          "UKR",
          "UMC",
          "URY",
          "USA",
          "UZB",
          "VCT",
          "VEN",
          "VGB",
          "VIR",
          "VNM",
          "VUT",
          "WLD",
          "WSM",
          "XKX",
          "YEM",
          "ZAF",
          "ZMB",
          "ZWE"
         ],
         "name": "",
         "type": "choropleth",
         "z": [
          null,
          0.795419908400246,
          0.223478872007068,
          0.463150273298324,
          0.592742967779037,
          1.54455011524574,
          5.77714799227799,
          3.92907774447049,
          20.2522716801426,
          3.4056175404138,
          2.40468376195106,
          null,
          5.12173012173012,
          14.7761369066259,
          6.63264573733546,
          3.39884957289227,
          0.0583840218352736,
          7.39813065774681,
          0.631204805964476,
          0.253533188747507,
          0.510647559277094,
          4.92328037940501,
          21.9769078065259,
          6.04225147673512,
          6.31230587447531,
          5.84240729590088,
          1.74110771521393,
          null,
          1.53946469560316,
          1.94252335631484,
          3.90487115816925,
          21.7058124398664,
          1.34005431673023,
          2.2634631138367,
          0.044282072685485,
          13.5916963421093,
          5.85720584954467,
          4.04207281475341,
          null,
          4.39515106359663,
          7.75613790659769,
          0.406347356890383,
          0.37478265803136,
          0.0325847808481787,
          1.25459166977367,
          1.55225942282078,
          0.407112182850678,
          1.06515172319099,
          1.35999554957394,
          10.552169300927,
          2.15276967847473,
          null,
          null,
          5.47199800894842,
          8.30401749583889,
          7.2552210281684,
          0.392329171237878,
          2.26126814362109,
          4.69123730751634,
          2.08018172191441,
          3.7182233703076,
          5.98229692616459,
          2.01685678303252,
          6.22188839531445,
          11.372298356559,
          6.10988342298582,
          1.95757534925331,
          1.96112257208929,
          5.39782521515732,
          0.198657542968412,
          4.2795945712141,
          5.33839981587368,
          0.154431771590205,
          5.50607043589747,
          0.774950951754809,
          6.57014512772575,
          1.11709628844161,
          3.95368245187991,
          null,
          0.958913885073056,
          2.33327357514897,
          4.60114225090135,
          2.75470919618902,
          0.602887453142675,
          null,
          0.34364615086247,
          0.237529598930845,
          0.163208368967987,
          2.72573085162172,
          4.76718493701839,
          2.62406702085507,
          null,
          1.00040733564819,
          null,
          3.47277101663067,
          7.79438969111805,
          null,
          0.872911171700029,
          0.268471052988447,
          3.86070539173057,
          0.283815024249564,
          4.59165290704788,
          4.30518867886807,
          3.29826458792097,
          0.516721490165841,
          0.796458888364843,
          2.07165896221472,
          0.377941163632789,
          null,
          1.57609323191648,
          null,
          6.76822759018266,
          7.06335132057733,
          3.84217781974399,
          3.94746536485266,
          6.34521600416707,
          4.73237277079935,
          2.06904180772051,
          1.9191724264898,
          8.0314958696668,
          11.2977433059429,
          0.374079219355755,
          1.37997537956504,
          1.13758365931038,
          0.449933972782553,
          4.84866294446077,
          10.9900295814285,
          21.1696102506992,
          2.11254497614329,
          2.6202834413044,
          3.79219353680069,
          0.231838923937177,
          6.68280547080212,
          2.78513922906543,
          2.21061802018334,
          0.327343883787407,
          0.269341050173669,
          3.66384799772938,
          0.99668324284867,
          1.63716838538812,
          3.34174447976303,
          1.02564216316934,
          6.68110003513383,
          4.18400041504391,
          12.4569532326913,
          3.64561216849281,
          null,
          null,
          1.81852638730999,
          null,
          3.26784636811087,
          0.0972695405949093,
          2.82638529813116,
          5.03381829765426,
          3.04076637477226,
          2.53380323866123,
          3.69930515802139,
          3.66177044206098,
          0.195565971417317,
          3.12555789277592,
          0.634080348390974,
          3.32905608702325,
          4.06756091201437,
          6.43064533509798,
          null,
          0.222767552715213,
          0.855176405836122,
          2.93851410805884,
          0.0846361581872504,
          7.38371541222915,
          13.0875310181176,
          1.58804514727825,
          null,
          0.0903255776910309,
          0.537510175389551,
          0.678252104273379,
          7.4715534787719,
          6.7250800496331,
          0.509366247354604,
          3.36175395858709,
          6.16079918274331,
          7.71869898525221,
          15.6362010028175,
          13.1146871508436,
          0.81036021551031,
          2.23144302481653,
          1.39856601861908,
          1.18967945167284,
          8.80258179390162,
          0.563251566211675,
          7.36756337292709,
          0.477024614654774,
          null,
          2.02714861876503,
          3.78490758691711,
          1.14459119207034,
          null,
          0.848521068295038,
          8.55084395133424,
          null,
          31.7268424513247,
          3.56413750145988,
          11.1416527318351,
          0.105124140047262,
          1.33779148421422,
          14.2665853675408,
          0.467953928316626,
          0.649800561203009,
          7.68668370206727,
          0.323065549175264,
          0.127277607278142,
          1.01328024350636,
          null,
          0.0399346532651356,
          6.71451717217514,
          0.660412632875853,
          0.16430913651009,
          0.660876172775718,
          11.0945803239756,
          0.645350140184137,
          4.28507655687612,
          5.31905480792852,
          5.93473517885826,
          3.24298914312747,
          0.972087527685903,
          null,
          6.08051837257013,
          1.21480248375323,
          null,
          0.0942281870969025,
          6.03116979498631,
          6.90936530921092,
          0.286061843654428,
          3.71425580600412,
          0.977533024275801,
          10.1840862992321,
          2.22092378392995,
          0.343155165981408,
          3.36834375922243,
          1.12204761814278,
          1.33779148421422,
          0.660876172775718,
          10.1571191722541,
          2.4086225282388,
          4.8858639260833,
          0.596259824735748,
          0.233945592120175,
          0.127793034826946,
          3.7473878451278,
          5.87678956814815,
          1.89971905049917,
          13.0322217290262,
          3.37630378548758,
          2.100695771848,
          2.54502797831961,
          null,
          null,
          3.67644008813984,
          0.389174968317372,
          4.29168404460545,
          0.960782397908146,
          null,
          0.308514614308256,
          6.68756314737781,
          0.40190271250386,
          0.530483547000938
         ]
        }
       ],
       "layout": {
        "coloraxis": {
         "colorbar": {
          "ticksuffix": " kg per capita",
          "title": {
           "text": "Energy Use"
          }
         },
         "colorscale": [
          [
           0,
           "#440154"
          ],
          [
           0.1111111111111111,
           "#482878"
          ],
          [
           0.2222222222222222,
           "#3e4989"
          ],
          [
           0.3333333333333333,
           "#31688e"
          ],
          [
           0.4444444444444444,
           "#26828e"
          ],
          [
           0.5555555555555556,
           "#1f9e89"
          ],
          [
           0.6666666666666666,
           "#35b779"
          ],
          [
           0.7777777777777778,
           "#6ece58"
          ],
          [
           0.8888888888888888,
           "#b5de2b"
          ],
          [
           1,
           "#fde725"
          ]
         ]
        },
        "geo": {
         "center": {},
         "domain": {
          "x": [
           0,
           1
          ],
          "y": [
           0,
           1
          ]
         },
         "projection": {
          "type": "natural earth"
         },
         "showcountries": true
        },
        "legend": {
         "tracegroupgap": 0
        },
        "template": {
         "data": {
          "bar": [
           {
            "error_x": {
             "color": "#2a3f5f"
            },
            "error_y": {
             "color": "#2a3f5f"
            },
            "marker": {
             "line": {
              "color": "white",
              "width": 0.5
             },
             "pattern": {
              "fillmode": "overlay",
              "size": 10,
              "solidity": 0.2
             }
            },
            "type": "bar"
           }
          ],
          "barpolar": [
           {
            "marker": {
             "line": {
              "color": "white",
              "width": 0.5
             },
             "pattern": {
              "fillmode": "overlay",
              "size": 10,
              "solidity": 0.2
             }
            },
            "type": "barpolar"
           }
          ],
          "carpet": [
           {
            "aaxis": {
             "endlinecolor": "#2a3f5f",
             "gridcolor": "#C8D4E3",
             "linecolor": "#C8D4E3",
             "minorgridcolor": "#C8D4E3",
             "startlinecolor": "#2a3f5f"
            },
            "baxis": {
             "endlinecolor": "#2a3f5f",
             "gridcolor": "#C8D4E3",
             "linecolor": "#C8D4E3",
             "minorgridcolor": "#C8D4E3",
             "startlinecolor": "#2a3f5f"
            },
            "type": "carpet"
           }
          ],
          "choropleth": [
           {
            "colorbar": {
             "outlinewidth": 0,
             "ticks": ""
            },
            "type": "choropleth"
           }
          ],
          "contour": [
           {
            "colorbar": {
             "outlinewidth": 0,
             "ticks": ""
            },
            "colorscale": [
             [
              0,
              "#0d0887"
             ],
             [
              0.1111111111111111,
              "#46039f"
             ],
             [
              0.2222222222222222,
              "#7201a8"
             ],
             [
              0.3333333333333333,
              "#9c179e"
             ],
             [
              0.4444444444444444,
              "#bd3786"
             ],
             [
              0.5555555555555556,
              "#d8576b"
             ],
             [
              0.6666666666666666,
              "#ed7953"
             ],
             [
              0.7777777777777778,
              "#fb9f3a"
             ],
             [
              0.8888888888888888,
              "#fdca26"
             ],
             [
              1,
              "#f0f921"
             ]
            ],
            "type": "contour"
           }
          ],
          "contourcarpet": [
           {
            "colorbar": {
             "outlinewidth": 0,
             "ticks": ""
            },
            "type": "contourcarpet"
           }
          ],
          "heatmap": [
           {
            "colorbar": {
             "outlinewidth": 0,
             "ticks": ""
            },
            "colorscale": [
             [
              0,
              "#0d0887"
             ],
             [
              0.1111111111111111,
              "#46039f"
             ],
             [
              0.2222222222222222,
              "#7201a8"
             ],
             [
              0.3333333333333333,
              "#9c179e"
             ],
             [
              0.4444444444444444,
              "#bd3786"
             ],
             [
              0.5555555555555556,
              "#d8576b"
             ],
             [
              0.6666666666666666,
              "#ed7953"
             ],
             [
              0.7777777777777778,
              "#fb9f3a"
             ],
             [
              0.8888888888888888,
              "#fdca26"
             ],
             [
              1,
              "#f0f921"
             ]
            ],
            "type": "heatmap"
           }
          ],
          "heatmapgl": [
           {
            "colorbar": {
             "outlinewidth": 0,
             "ticks": ""
            },
            "colorscale": [
             [
              0,
              "#0d0887"
             ],
             [
              0.1111111111111111,
              "#46039f"
             ],
             [
              0.2222222222222222,
              "#7201a8"
             ],
             [
              0.3333333333333333,
              "#9c179e"
             ],
             [
              0.4444444444444444,
              "#bd3786"
             ],
             [
              0.5555555555555556,
              "#d8576b"
             ],
             [
              0.6666666666666666,
              "#ed7953"
             ],
             [
              0.7777777777777778,
              "#fb9f3a"
             ],
             [
              0.8888888888888888,
              "#fdca26"
             ],
             [
              1,
              "#f0f921"
             ]
            ],
            "type": "heatmapgl"
           }
          ],
          "histogram": [
           {
            "marker": {
             "pattern": {
              "fillmode": "overlay",
              "size": 10,
              "solidity": 0.2
             }
            },
            "type": "histogram"
           }
          ],
          "histogram2d": [
           {
            "colorbar": {
             "outlinewidth": 0,
             "ticks": ""
            },
            "colorscale": [
             [
              0,
              "#0d0887"
             ],
             [
              0.1111111111111111,
              "#46039f"
             ],
             [
              0.2222222222222222,
              "#7201a8"
             ],
             [
              0.3333333333333333,
              "#9c179e"
             ],
             [
              0.4444444444444444,
              "#bd3786"
             ],
             [
              0.5555555555555556,
              "#d8576b"
             ],
             [
              0.6666666666666666,
              "#ed7953"
             ],
             [
              0.7777777777777778,
              "#fb9f3a"
             ],
             [
              0.8888888888888888,
              "#fdca26"
             ],
             [
              1,
              "#f0f921"
             ]
            ],
            "type": "histogram2d"
           }
          ],
          "histogram2dcontour": [
           {
            "colorbar": {
             "outlinewidth": 0,
             "ticks": ""
            },
            "colorscale": [
             [
              0,
              "#0d0887"
             ],
             [
              0.1111111111111111,
              "#46039f"
             ],
             [
              0.2222222222222222,
              "#7201a8"
             ],
             [
              0.3333333333333333,
              "#9c179e"
             ],
             [
              0.4444444444444444,
              "#bd3786"
             ],
             [
              0.5555555555555556,
              "#d8576b"
             ],
             [
              0.6666666666666666,
              "#ed7953"
             ],
             [
              0.7777777777777778,
              "#fb9f3a"
             ],
             [
              0.8888888888888888,
              "#fdca26"
             ],
             [
              1,
              "#f0f921"
             ]
            ],
            "type": "histogram2dcontour"
           }
          ],
          "mesh3d": [
           {
            "colorbar": {
             "outlinewidth": 0,
             "ticks": ""
            },
            "type": "mesh3d"
           }
          ],
          "parcoords": [
           {
            "line": {
             "colorbar": {
              "outlinewidth": 0,
              "ticks": ""
             }
            },
            "type": "parcoords"
           }
          ],
          "pie": [
           {
            "automargin": true,
            "type": "pie"
           }
          ],
          "scatter": [
           {
            "fillpattern": {
             "fillmode": "overlay",
             "size": 10,
             "solidity": 0.2
            },
            "type": "scatter"
           }
          ],
          "scatter3d": [
           {
            "line": {
             "colorbar": {
              "outlinewidth": 0,
              "ticks": ""
             }
            },
            "marker": {
             "colorbar": {
              "outlinewidth": 0,
              "ticks": ""
             }
            },
            "type": "scatter3d"
           }
          ],
          "scattercarpet": [
           {
            "marker": {
             "colorbar": {
              "outlinewidth": 0,
              "ticks": ""
             }
            },
            "type": "scattercarpet"
           }
          ],
          "scattergeo": [
           {
            "marker": {
             "colorbar": {
              "outlinewidth": 0,
              "ticks": ""
             }
            },
            "type": "scattergeo"
           }
          ],
          "scattergl": [
           {
            "marker": {
             "colorbar": {
              "outlinewidth": 0,
              "ticks": ""
             }
            },
            "type": "scattergl"
           }
          ],
          "scattermapbox": [
           {
            "marker": {
             "colorbar": {
              "outlinewidth": 0,
              "ticks": ""
             }
            },
            "type": "scattermapbox"
           }
          ],
          "scatterpolar": [
           {
            "marker": {
             "colorbar": {
              "outlinewidth": 0,
              "ticks": ""
             }
            },
            "type": "scatterpolar"
           }
          ],
          "scatterpolargl": [
           {
            "marker": {
             "colorbar": {
              "outlinewidth": 0,
              "ticks": ""
             }
            },
            "type": "scatterpolargl"
           }
          ],
          "scatterternary": [
           {
            "marker": {
             "colorbar": {
              "outlinewidth": 0,
              "ticks": ""
             }
            },
            "type": "scatterternary"
           }
          ],
          "surface": [
           {
            "colorbar": {
             "outlinewidth": 0,
             "ticks": ""
            },
            "colorscale": [
             [
              0,
              "#0d0887"
             ],
             [
              0.1111111111111111,
              "#46039f"
             ],
             [
              0.2222222222222222,
              "#7201a8"
             ],
             [
              0.3333333333333333,
              "#9c179e"
             ],
             [
              0.4444444444444444,
              "#bd3786"
             ],
             [
              0.5555555555555556,
              "#d8576b"
             ],
             [
              0.6666666666666666,
              "#ed7953"
             ],
             [
              0.7777777777777778,
              "#fb9f3a"
             ],
             [
              0.8888888888888888,
              "#fdca26"
             ],
             [
              1,
              "#f0f921"
             ]
            ],
            "type": "surface"
           }
          ],
          "table": [
           {
            "cells": {
             "fill": {
              "color": "#EBF0F8"
             },
             "line": {
              "color": "white"
             }
            },
            "header": {
             "fill": {
              "color": "#C8D4E3"
             },
             "line": {
              "color": "white"
             }
            },
            "type": "table"
           }
          ]
         },
         "layout": {
          "annotationdefaults": {
           "arrowcolor": "#2a3f5f",
           "arrowhead": 0,
           "arrowwidth": 1
          },
          "autotypenumbers": "strict",
          "coloraxis": {
           "colorbar": {
            "outlinewidth": 0,
            "ticks": ""
           }
          },
          "colorscale": {
           "diverging": [
            [
             0,
             "#8e0152"
            ],
            [
             0.1,
             "#c51b7d"
            ],
            [
             0.2,
             "#de77ae"
            ],
            [
             0.3,
             "#f1b6da"
            ],
            [
             0.4,
             "#fde0ef"
            ],
            [
             0.5,
             "#f7f7f7"
            ],
            [
             0.6,
             "#e6f5d0"
            ],
            [
             0.7,
             "#b8e186"
            ],
            [
             0.8,
             "#7fbc41"
            ],
            [
             0.9,
             "#4d9221"
            ],
            [
             1,
             "#276419"
            ]
           ],
           "sequential": [
            [
             0,
             "#0d0887"
            ],
            [
             0.1111111111111111,
             "#46039f"
            ],
            [
             0.2222222222222222,
             "#7201a8"
            ],
            [
             0.3333333333333333,
             "#9c179e"
            ],
            [
             0.4444444444444444,
             "#bd3786"
            ],
            [
             0.5555555555555556,
             "#d8576b"
            ],
            [
             0.6666666666666666,
             "#ed7953"
            ],
            [
             0.7777777777777778,
             "#fb9f3a"
            ],
            [
             0.8888888888888888,
             "#fdca26"
            ],
            [
             1,
             "#f0f921"
            ]
           ],
           "sequentialminus": [
            [
             0,
             "#0d0887"
            ],
            [
             0.1111111111111111,
             "#46039f"
            ],
            [
             0.2222222222222222,
             "#7201a8"
            ],
            [
             0.3333333333333333,
             "#9c179e"
            ],
            [
             0.4444444444444444,
             "#bd3786"
            ],
            [
             0.5555555555555556,
             "#d8576b"
            ],
            [
             0.6666666666666666,
             "#ed7953"
            ],
            [
             0.7777777777777778,
             "#fb9f3a"
            ],
            [
             0.8888888888888888,
             "#fdca26"
            ],
            [
             1,
             "#f0f921"
            ]
           ]
          },
          "colorway": [
           "#636efa",
           "#EF553B",
           "#00cc96",
           "#ab63fa",
           "#FFA15A",
           "#19d3f3",
           "#FF6692",
           "#B6E880",
           "#FF97FF",
           "#FECB52"
          ],
          "font": {
           "color": "#2a3f5f"
          },
          "geo": {
           "bgcolor": "white",
           "lakecolor": "white",
           "landcolor": "white",
           "showlakes": true,
           "showland": true,
           "subunitcolor": "#C8D4E3"
          },
          "hoverlabel": {
           "align": "left"
          },
          "hovermode": "closest",
          "mapbox": {
           "style": "light"
          },
          "paper_bgcolor": "white",
          "plot_bgcolor": "white",
          "polar": {
           "angularaxis": {
            "gridcolor": "#EBF0F8",
            "linecolor": "#EBF0F8",
            "ticks": ""
           },
           "bgcolor": "white",
           "radialaxis": {
            "gridcolor": "#EBF0F8",
            "linecolor": "#EBF0F8",
            "ticks": ""
           }
          },
          "scene": {
           "xaxis": {
            "backgroundcolor": "white",
            "gridcolor": "#DFE8F3",
            "gridwidth": 2,
            "linecolor": "#EBF0F8",
            "showbackground": true,
            "ticks": "",
            "zerolinecolor": "#EBF0F8"
           },
           "yaxis": {
            "backgroundcolor": "white",
            "gridcolor": "#DFE8F3",
            "gridwidth": 2,
            "linecolor": "#EBF0F8",
            "showbackground": true,
            "ticks": "",
            "zerolinecolor": "#EBF0F8"
           },
           "zaxis": {
            "backgroundcolor": "white",
            "gridcolor": "#DFE8F3",
            "gridwidth": 2,
            "linecolor": "#EBF0F8",
            "showbackground": true,
            "ticks": "",
            "zerolinecolor": "#EBF0F8"
           }
          },
          "shapedefaults": {
           "line": {
            "color": "#2a3f5f"
           }
          },
          "ternary": {
           "aaxis": {
            "gridcolor": "#DFE8F3",
            "linecolor": "#A2B1C6",
            "ticks": ""
           },
           "baxis": {
            "gridcolor": "#DFE8F3",
            "linecolor": "#A2B1C6",
            "ticks": ""
           },
           "bgcolor": "white",
           "caxis": {
            "gridcolor": "#DFE8F3",
            "linecolor": "#A2B1C6",
            "ticks": ""
           }
          },
          "title": {
           "x": 0.05
          },
          "xaxis": {
           "automargin": true,
           "gridcolor": "#EBF0F8",
           "linecolor": "#EBF0F8",
           "ticks": "",
           "title": {
            "standoff": 15
           },
           "zerolinecolor": "#EBF0F8",
           "zerolinewidth": 2
          },
          "yaxis": {
           "automargin": true,
           "gridcolor": "#EBF0F8",
           "linecolor": "#EBF0F8",
           "ticks": "",
           "title": {
            "standoff": 15
           },
           "zerolinecolor": "#EBF0F8",
           "zerolinewidth": 2
          }
         }
        },
        "title": {
         "text": "geographical distribution of energy consumption 2020"
        }
       }
      }
     },
     "metadata": {},
     "output_type": "display_data"
    }
   ],
   "source": [
    "%matplotlib inline\n",
    "year_to_visualize = 2020  #\n",
    "filtered_df_year = df[df['Year'] == year_to_visualize]\n",
    "\n",
    "fig = px.choropleth(\n",
    "    filtered_df_year,\n",
    "    locations=\"Country_Code\",   # ISO country codes for accurate mapping\n",
    "    color=\"Energy_Use\",         # Energy use data for color intensity\n",
    "    hover_name=\"Country_Name\",  # Display country name on hover\n",
    "    color_continuous_scale=px.colors.sequential.Viridis,  # Color scale for energy use\n",
    "    title=f\"geographical distribution of energy consumption {year_to_visualize}\",\n",
    "    labels={\"Energy_Use\": \"Energy Use (kg of oil equivalent per capita)\"},\n",
    "    template=\"plotly_white\"\n",
    ")\n",
    "\n",
    "\n",
    "fig.update_geos(\n",
    "    showcountries=True,        # Show country borders\n",
    "    projection_type=\"natural earth\"\n",
    ")\n",
    "fig.update_layout(\n",
    "    coloraxis_colorbar=dict(\n",
    "        title=\"Energy Use\",\n",
    "        ticksuffix=\" kg per capita\"\n",
    "    )\n",
    ")\n",
    "\n",
    "fig.show()\n"
   ]
  },
  {
   "cell_type": "code",
   "execution_count": 57,
   "metadata": {},
   "outputs": [
    {
     "data": {
      "application/vnd.plotly.v1+json": {
       "config": {
        "plotlyServerURL": "https://plot.ly"
       },
       "data": [
        {
         "fillpattern": {
          "shape": ""
         },
         "hovertemplate": "Country_Name=Canada<br>Year=%{x}<br>CO2 Emissions (metric tons per capita)=%{y}<extra></extra>",
         "legendgroup": "Canada",
         "line": {
          "color": "#636efa"
         },
         "marker": {
          "symbol": "circle"
         },
         "mode": "lines",
         "name": "Canada",
         "orientation": "v",
         "showlegend": true,
         "stackgroup": "1",
         "type": "scatter",
         "x": [
          1960,
          1961,
          1962,
          1963,
          1964,
          1965,
          1966,
          1967,
          1968,
          1969,
          1970,
          1971,
          1972,
          1973,
          1974,
          1975,
          1976,
          1977,
          1978,
          1979,
          1980,
          1981,
          1982,
          1983,
          1984,
          1985,
          1986,
          1987,
          1988,
          1989,
          1990,
          1991,
          1992,
          1993,
          1994,
          1995,
          1996,
          1997,
          1998,
          1999,
          2000,
          2001,
          2002,
          2003,
          2004,
          2005,
          2006,
          2007,
          2008,
          2009,
          2010,
          2011,
          2012,
          2013,
          2014,
          2015,
          2016,
          2017,
          2018,
          2019,
          2020,
          2021,
          2022,
          2023
         ],
         "xaxis": "x",
         "y": [
          40563768.9469503,
          41038192.83790351,
          42336211.5558268,
          45140337.8269869,
          49503663.836366504,
          54649410.4785226,
          61252415.404686,
          65856924.4239721,
          72048833.0061602,
          79405011.1248208,
          88192257.6323093,
          99606454.7435136,
          113463848.873624,
          131764343.56564301,
          160949188.13905898,
          174419757.176563,
          207271612.576065,
          212325176.304654,
          219369542.386254,
          243891124.295715,
          274776566.028053,
          307246642.755859,
          314647807.40860796,
          341866277.182733,
          356718400.123543,
          366186012.44965196,
          379006836.991724,
          433134238.310709,
          509380027.626554,
          567211993.2432431,
          596075591.3609871,
          612527712.3156149,
          594387358.3188549,
          579053561.7394,
          579944346.8072641,
          605961090.061207,
          630607994.1327469,
          654986999.855554,
          634000000,
          678412196.271118,
          744773415.931587,
          738981792.355372,
          760649334.098005,
          895540646.634787,
          1026690238.27825,
          1173108598.7786798,
          1319264809.59097,
          1468820407.78326,
          1552989690.72165,
          1374625142.15729,
          1617343367.48626,
          1793326630.17452,
          1828366481.5216,
          1846597421.83498,
          1805749878.43994,
          1556508816.21714,
          1527994741.90743,
          1649265644.24409,
          1725329192.78302,
          1743725183.67252,
          1655684730.00019,
          2007472181.46415,
          2161483369.42201,
          2140085567.79145
         ],
         "yaxis": "y"
        },
        {
         "fillpattern": {
          "shape": ""
         },
         "hovertemplate": "Country_Name=China<br>Year=%{x}<br>CO2 Emissions (metric tons per capita)=%{y}<extra></extra>",
         "legendgroup": "China",
         "line": {
          "color": "#EF553B"
         },
         "marker": {
          "symbol": "circle"
         },
         "mode": "lines",
         "name": "China",
         "orientation": "v",
         "showlegend": true,
         "stackgroup": "1",
         "type": "scatter",
         "x": [
          1960,
          1961,
          1962,
          1963,
          1964,
          1965,
          1966,
          1967,
          1968,
          1969,
          1970,
          1971,
          1972,
          1973,
          1974,
          1975,
          1976,
          1977,
          1978,
          1979,
          1980,
          1981,
          1982,
          1983,
          1984,
          1985,
          1986,
          1987,
          1988,
          1989,
          1990,
          1991,
          1992,
          1993,
          1994,
          1995,
          1996,
          1997,
          1998,
          1999,
          2000,
          2001,
          2002,
          2003,
          2004,
          2005,
          2006,
          2007,
          2008,
          2009,
          2010,
          2011,
          2012,
          2013,
          2014,
          2015,
          2016,
          2017,
          2018,
          2019,
          2020,
          2021,
          2022,
          2023
         ],
         "xaxis": "x",
         "y": [
          59716249.310974196,
          50056685.957359,
          47209186.415355496,
          50706614.5261472,
          59708125.203864306,
          70436008.64242509,
          76720005.49189639,
          72881364.8824909,
          70846276.05147271,
          79705614.8547674,
          92602634.8916589,
          99800593.7909886,
          113689308.020343,
          138543170.458064,
          144188970.82107198,
          163429530.659638,
          153939265.947775,
          174935933.078663,
          149540752.829268,
          178280594.413043,
          191149211.575,
          195866382.43254,
          205089699.85877898,
          230686747.15325698,
          259946510.957143,
          309488028.132653,
          300758100.107246,
          272972974.764574,
          312353631.207819,
          347768051.31174105,
          360857912.565966,
          383373318.083624,
          426915712.715856,
          444731282.435515,
          564321854.5210129,
          734484834.573582,
          863749314.7185379,
          961601980.9846231,
          1029060747.62065,
          1094003874.93734,
          1211331651.86609,
          1339400897.1051102,
          1470557654.79995,
          1660280543.84679,
          1955346768.72139,
          2285961149.87985,
          2752118657.18402,
          3550327802.9983997,
          4594336785.73767,
          5101691124.28521,
          6087191746.67949,
          7551545703.44075,
          8532185381.68059,
          9570471111.83168,
          10475624944.3552,
          11061572618.5787,
          11233313730.3487,
          12310491333.9809,
          13894907857.8806,
          14279968506.2717,
          14687744162.801,
          17820459508.8522,
          17881783387.0009,
          17794781986.1045
         ],
         "yaxis": "y"
        },
        {
         "fillpattern": {
          "shape": ""
         },
         "hovertemplate": "Country_Name=Germany<br>Year=%{x}<br>CO2 Emissions (metric tons per capita)=%{y}<extra></extra>",
         "legendgroup": "Germany",
         "line": {
          "color": "#00cc96"
         },
         "marker": {
          "symbol": "circle"
         },
         "mode": "lines",
         "name": "Germany",
         "orientation": "v",
         "showlegend": true,
         "stackgroup": "1",
         "type": "scatter",
         "x": [
          1960,
          1961,
          1962,
          1963,
          1964,
          1965,
          1966,
          1967,
          1968,
          1969,
          1970,
          1971,
          1972,
          1973,
          1974,
          1975,
          1976,
          1977,
          1978,
          1979,
          1980,
          1981,
          1982,
          1983,
          1984,
          1985,
          1986,
          1987,
          1988,
          1989,
          1990,
          1991,
          1992,
          1993,
          1994,
          1995,
          1996,
          1997,
          1998,
          1999,
          2000,
          2001,
          2002,
          2003,
          2004,
          2005,
          2006,
          2007,
          2008,
          2009,
          2010,
          2011,
          2012,
          2013,
          2014,
          2015,
          2016,
          2017,
          2018,
          2019,
          2020,
          2021,
          2022,
          2023
         ],
         "xaxis": "x",
         "y": [
          84310950.1941152,
          96205728.6577269,
          105508875.286241,
          111822811.005912,
          122880200.22783901,
          134282707.622241,
          142781158.76918,
          144570993.32091,
          155955906.530699,
          177084689.264145,
          215838448.137658,
          249985055.484303,
          299801542.047476,
          398374021.953897,
          445303484.241554,
          490636517.211225,
          519754453.161411,
          600498238.019035,
          740469983.446933,
          881345176.6086861,
          950290856.466538,
          800472055.387278,
          776576439.106956,
          770684323.247798,
          725111123.634115,
          732534887.058198,
          1046259374.94371,
          1298176105.54951,
          1401233225.30349,
          1398967436.80433,
          1771671206.87568,
          1868945197.4071898,
          2131571696.93175,
          2071323790.37028,
          2205074123.1770496,
          2585792275.1467204,
          2497244606.1866403,
          2211989623.27995,
          2238990774.70268,
          2194945278.87259,
          1947981991.01177,
          1945790973.80315,
          2078484517.47451,
          2501640388.48235,
          2814353869.3590803,
          2846864211.1751003,
          2994703642.02353,
          3425578382.9215803,
          3745264093.61719,
          3411261212.65234,
          3399667820.0000095,
          3749314991.05059,
          3527143188.78516,
          3733804649.54903,
          3889093051.02352,
          3357585719.35156,
          3469853463.94553,
          3690849152.51765,
          3974443355.0196,
          3889177589.2549,
          3887727161.91441,
          4278503934.6898503,
          4082469490.7976804,
          4456081016.70596
         ],
         "yaxis": "y"
        },
        {
         "fillpattern": {
          "shape": ""
         },
         "hovertemplate": "Country_Name=Norway<br>Year=%{x}<br>CO2 Emissions (metric tons per capita)=%{y}<extra></extra>",
         "legendgroup": "Norway",
         "line": {
          "color": "#ab63fa"
         },
         "marker": {
          "symbol": "circle"
         },
         "mode": "lines",
         "name": "Norway",
         "orientation": "v",
         "showlegend": true,
         "stackgroup": "1",
         "type": "scatter",
         "x": [
          1960,
          1961,
          1962,
          1963,
          1964,
          1965,
          1966,
          1967,
          1968,
          1969,
          1970,
          1971,
          1972,
          1973,
          1974,
          1975,
          1976,
          1977,
          1978,
          1979,
          1980,
          1981,
          1982,
          1983,
          1984,
          1985,
          1986,
          1987,
          1988,
          1989,
          1990,
          1991,
          1992,
          1993,
          1994,
          1995,
          1996,
          1997,
          1998,
          1999,
          2000,
          2001,
          2002,
          2003,
          2004,
          2005,
          2006,
          2007,
          2008,
          2009,
          2010,
          2011,
          2012,
          2013,
          2014,
          2015,
          2016,
          2017,
          2018,
          2019,
          2020,
          2021,
          2022,
          2023
         ],
         "xaxis": "x",
         "y": [
          5197398.721413669,
          5669689.2103186,
          6107076.928633721,
          6553269.53551009,
          7206522.121804181,
          8111945.66121624,
          8753940.26690184,
          9577383.65318303,
          10227087.1652414,
          11136187.4398326,
          12814123.1152613,
          14583114.840062901,
          17358610.849701,
          22534253.7028686,
          27145693.8101341,
          32877805.200023,
          35942270.686337404,
          41508030.4311074,
          46522900.2537054,
          53132244.623921305,
          64439382.8960156,
          63596654.7608677,
          62647195.5376511,
          61627240.8310948,
          62057955.032775804,
          65416879.9143907,
          78693118.0440045,
          94229907.23562151,
          101900260.856222,
          102633934.390615,
          119791843.05957201,
          121872464.483487,
          130838040.067584,
          120579213.712804,
          127131319.428701,
          152029612.324788,
          163520109.15067098,
          161356631.888484,
          154230295.158447,
          162383706.02113,
          171457201.93596798,
          174239354.070977,
          195914852.576467,
          229385469.33702397,
          265268662.473297,
          309978579.743888,
          346915160.681708,
          402643260.487572,
          464917553.19148904,
          387976400.617019,
          431052143.940438,
          501360549.669404,
          512777309.840997,
          526014468.085106,
          501736471.832848,
          388159512.24553,
          370956547.619048,
          401745275.035261,
          439788625.88379997,
          408742840.909091,
          367633418.886627,
          503367986.030268,
          593726965.415619,
          485513316.50363
         ],
         "yaxis": "y"
        },
        {
         "fillpattern": {
          "shape": ""
         },
         "hovertemplate": "Country_Name=Russian Federation<br>Year=%{x}<br>CO2 Emissions (metric tons per capita)=%{y}<extra></extra>",
         "legendgroup": "Russian Federation",
         "line": {
          "color": "#FFA15A"
         },
         "marker": {
          "symbol": "circle"
         },
         "mode": "lines",
         "name": "Russian Federation",
         "orientation": "v",
         "showlegend": true,
         "stackgroup": "1",
         "type": "scatter",
         "x": [
          1960,
          1961,
          1962,
          1963,
          1964,
          1965,
          1966,
          1967,
          1968,
          1969,
          1970,
          1971,
          1972,
          1973,
          1974,
          1975,
          1976,
          1977,
          1978,
          1979,
          1980,
          1981,
          1982,
          1983,
          1984,
          1985,
          1986,
          1987,
          1988,
          1989,
          1990,
          1991,
          1992,
          1993,
          1994,
          1995,
          1996,
          1997,
          1998,
          1999,
          2000,
          2001,
          2002,
          2003,
          2004,
          2005,
          2006,
          2007,
          2008,
          2009,
          2010,
          2011,
          2012,
          2013,
          2014,
          2015,
          2016,
          2017,
          2018,
          2019,
          2020,
          2021,
          2022,
          2023
         ],
         "xaxis": "x",
         "y": [
          null,
          null,
          null,
          null,
          null,
          null,
          null,
          null,
          null,
          null,
          null,
          null,
          null,
          null,
          null,
          null,
          null,
          null,
          null,
          null,
          null,
          null,
          null,
          null,
          null,
          null,
          null,
          null,
          554828660.436137,
          506631299.734748,
          517014446.227929,
          517962962.962963,
          460290556.900726,
          435083713.850837,
          395077301.248464,
          395537185.734854,
          391724890.744498,
          404928954.191876,
          270955486.86244196,
          195907128.350934,
          259710142.19694299,
          306602070.6205,
          345470494.41786295,
          430347420.184885,
          591016690.732385,
          764015973.48111,
          989932071.352543,
          1299703478.4816499,
          1660848058.3031101,
          1222645900.0557,
          1524916715.22395,
          2045922753.39804,
          2208293553.87842,
          2292470078.34622,
          2059241589.89501,
          1363482182.19771,
          1276786350.88114,
          1574199360.089,
          1657328773.4613101,
          1693115002.7083201,
          1493075894.36214,
          1843392293.7343798,
          2266029240.64534,
          2021421476.03542
         ],
         "yaxis": "y"
        },
        {
         "fillpattern": {
          "shape": ""
         },
         "hovertemplate": "Country_Name=Saudi Arabia<br>Year=%{x}<br>CO2 Emissions (metric tons per capita)=%{y}<extra></extra>",
         "legendgroup": "Saudi Arabia",
         "line": {
          "color": "#19d3f3"
         },
         "marker": {
          "symbol": "circle"
         },
         "mode": "lines",
         "name": "Saudi Arabia",
         "orientation": "v",
         "showlegend": true,
         "stackgroup": "1",
         "type": "scatter",
         "x": [
          1960,
          1961,
          1962,
          1963,
          1964,
          1965,
          1966,
          1967,
          1968,
          1969,
          1970,
          1971,
          1972,
          1973,
          1974,
          1975,
          1976,
          1977,
          1978,
          1979,
          1980,
          1981,
          1982,
          1983,
          1984,
          1985,
          1986,
          1987,
          1988,
          1989,
          1990,
          1991,
          1992,
          1993,
          1994,
          1995,
          1996,
          1997,
          1998,
          1999,
          2000,
          2001,
          2002,
          2003,
          2004,
          2005,
          2006,
          2007,
          2008,
          2009,
          2010,
          2011,
          2012,
          2013,
          2014,
          2015,
          2016,
          2017,
          2018,
          2019,
          2020,
          2021,
          2022,
          2023
         ],
         "xaxis": "x",
         "y": [
          1748124.06347068,
          1920811.2841343998,
          2130606.5318180597,
          2207393.1714953,
          2371808.71291016,
          2647955.55755562,
          2920555.55717989,
          3257022.22263758,
          4187777.71111111,
          4485777.64444444,
          5377333.33333333,
          7184806.90928939,
          9664267.08660323,
          14947435.499323,
          45412957.7464789,
          46773208.6426814,
          64005665.7223796,
          74188986.5860629,
          80266516.6865614,
          111858444.786224,
          164539660.725118,
          184291360.13869,
          153240313.858323,
          129171635.31114301,
          119624858.115778,
          103897846.49364999,
          86961922.7653254,
          85695861.1481976,
          88256074.7663551,
          95344459.2790387,
          117630173.56475301,
          132223230.974633,
          137087850.46728998,
          132967957.27636799,
          135174899.866489,
          143343124.165554,
          158662483.311081,
          165963684.913218,
          146775466.66666698,
          161717066.66666698,
          189514933.33333302,
          184137600,
          189605866.66666698,
          215807733.33333302,
          258742133.33333302,
          328459608.76411104,
          376900133.511348,
          415964509.673115,
          519796800,
          429097866.666667,
          528207200,
          676634666.666667,
          741849866.666667,
          753864533.333333,
          766605866.666667,
          669484266.666667,
          666000000,
          714994666.666667,
          846583733.333333,
          838564800,
          734271200,
          874156000,
          1108571466.6666698,
          1067582933.3333299
         ],
         "yaxis": "y"
        },
        {
         "fillpattern": {
          "shape": ""
         },
         "hovertemplate": "Country_Name=Turkiye<br>Year=%{x}<br>CO2 Emissions (metric tons per capita)=%{y}<extra></extra>",
         "legendgroup": "Turkiye",
         "line": {
          "color": "#FF6692"
         },
         "marker": {
          "symbol": "circle"
         },
         "mode": "lines",
         "name": "Turkiye",
         "orientation": "v",
         "showlegend": true,
         "stackgroup": "1",
         "type": "scatter",
         "x": [
          1960,
          1961,
          1962,
          1963,
          1964,
          1965,
          1966,
          1967,
          1968,
          1969,
          1970,
          1971,
          1972,
          1973,
          1974,
          1975,
          1976,
          1977,
          1978,
          1979,
          1980,
          1981,
          1982,
          1983,
          1984,
          1985,
          1986,
          1987,
          1988,
          1989,
          1990,
          1991,
          1992,
          1993,
          1994,
          1995,
          1996,
          1997,
          1998,
          1999,
          2000,
          2001,
          2002,
          2003,
          2004,
          2005,
          2006,
          2007,
          2008,
          2009,
          2010,
          2011,
          2012,
          2013,
          2014,
          2015,
          2016,
          2017,
          2018,
          2019,
          2020,
          2021,
          2022,
          2023
         ],
         "xaxis": "x",
         "y": [
          7566666.66666667,
          7988888.88888889,
          8922222.22222222,
          10355555.555555599,
          11177777.7777778,
          11966666.6666667,
          14100000,
          15644444.444444401,
          17500000,
          19466666.666666698,
          17863636.363636397,
          16166666.6666667,
          20650000,
          26000000,
          35414285.7142857,
          46042857.142857105,
          51450000,
          58683333.3333333,
          65912500,
          89616129.03225811,
          68823684.2105263,
          71180180.1801802,
          64369325.1533742,
          61803555.555555604,
          59937602.179836504,
          67232758.62068969,
          75673037.037037,
          87190081.68028,
          90875175.8087201,
          107127191.328935,
          150655500.191644,
          151034731.54362398,
          159104772.991851,
          180415757.851616,
          130650447.499071,
          169319579.01625,
          181464408.820097,
          189878399.894643,
          275941990.76418,
          256395932.738435,
          274294623.164043,
          201753123.806695,
          240249071.871106,
          314595572.14576703,
          408865430.220331,
          506314717.661655,
          557076157.773479,
          681321124.2959139,
          770449132.8613731,
          649289324.627732,
          776967266.3055301,
          838785289.69435,
          880555885.492269,
          957799120.00832,
          938934609.296966,
          864313810.469009,
          869682881.5930411,
          858988492.8537419,
          778972199.727859,
          761005946.788221,
          720338498.174744,
          819865253.669661,
          907118435.952688,
          1108022373.25951
         ],
         "yaxis": "y"
        },
        {
         "fillpattern": {
          "shape": ""
         },
         "hovertemplate": "Country_Name=Ukraine<br>Year=%{x}<br>CO2 Emissions (metric tons per capita)=%{y}<extra></extra>",
         "legendgroup": "Ukraine",
         "line": {
          "color": "#B6E880"
         },
         "marker": {
          "symbol": "circle"
         },
         "mode": "lines",
         "name": "Ukraine",
         "orientation": "v",
         "showlegend": true,
         "stackgroup": "1",
         "type": "scatter",
         "x": [
          1960,
          1961,
          1962,
          1963,
          1964,
          1965,
          1966,
          1967,
          1968,
          1969,
          1970,
          1971,
          1972,
          1973,
          1974,
          1975,
          1976,
          1977,
          1978,
          1979,
          1980,
          1981,
          1982,
          1983,
          1984,
          1985,
          1986,
          1987,
          1988,
          1989,
          1990,
          1991,
          1992,
          1993,
          1994,
          1995,
          1996,
          1997,
          1998,
          1999,
          2000,
          2001,
          2002,
          2003,
          2004,
          2005,
          2006,
          2007,
          2008,
          2009,
          2010,
          2011,
          2012,
          2013,
          2014,
          2015,
          2016,
          2017,
          2018,
          2019,
          2020,
          2021,
          2022,
          2023
         ],
         "xaxis": "x",
         "y": [
          null,
          null,
          null,
          null,
          null,
          null,
          null,
          null,
          null,
          null,
          null,
          null,
          null,
          null,
          null,
          null,
          null,
          null,
          null,
          null,
          null,
          null,
          null,
          null,
          null,
          null,
          null,
          64904761.9047619,
          74842105.2631579,
          80731578.9473684,
          79523809.5238095,
          76666666.6666667,
          73906020.5580029,
          65648189.1437174,
          52549580.2648064,
          48213856.4685718,
          44558831.0050621,
          50151531.5917317,
          41882523.3451804,
          31580639.5538298,
          32375083.9348241,
          39309580.9832282,
          43956163.6120433,
          52010355.753046095,
          67220154.1643166,
          89238865.11852631,
          111884752.475248,
          148733861.386139,
          188110390.65951502,
          121552153.444124,
          141209170.427233,
          169333835.201554,
          182591753.82794902,
          190498811.46002802,
          133503871.861723,
          91030967.7890717,
          93355869.4039223,
          112090505.081739,
          130891088.29355,
          153883047.509577,
          156617722.01334202,
          199765859.570935,
          161989520.72119,
          178757021.386809
         ],
         "yaxis": "y"
        },
        {
         "fillpattern": {
          "shape": ""
         },
         "hovertemplate": "Country_Name=United States<br>Year=%{x}<br>CO2 Emissions (metric tons per capita)=%{y}<extra></extra>",
         "legendgroup": "United States",
         "line": {
          "color": "#FF97FF"
         },
         "marker": {
          "symbol": "circle"
         },
         "mode": "lines",
         "name": "United States",
         "orientation": "v",
         "showlegend": true,
         "stackgroup": "1",
         "type": "scatter",
         "x": [
          1960,
          1961,
          1962,
          1963,
          1964,
          1965,
          1966,
          1967,
          1968,
          1969,
          1970,
          1971,
          1972,
          1973,
          1974,
          1975,
          1976,
          1977,
          1978,
          1979,
          1980,
          1981,
          1982,
          1983,
          1984,
          1985,
          1986,
          1987,
          1988,
          1989,
          1990,
          1991,
          1992,
          1993,
          1994,
          1995,
          1996,
          1997,
          1998,
          1999,
          2000,
          2001,
          2002,
          2003,
          2004,
          2005,
          2006,
          2007,
          2008,
          2009,
          2010,
          2011,
          2012,
          2013,
          2014,
          2015,
          2016,
          2017,
          2018,
          2019,
          2020,
          2021,
          2022,
          2023
         ],
         "xaxis": "x",
         "y": [
          541988586.206897,
          561940310.344828,
          603639413.793103,
          637058551.7241379,
          684144620.6896551,
          741904862.068965,
          813032758.62069,
          859620034.482759,
          940225000,
          1017438172.41379,
          1073303000,
          1164850000,
          1279110000,
          1425376000,
          1545243000,
          1684904000,
          1873412000,
          2081826000,
          2351599000,
          2627333000,
          2857307000,
          3207041000,
          3343789000,
          3634038000,
          4037613000,
          4338979000,
          4579631000,
          4855215000,
          5236438000,
          5641580000,
          5963144000,
          6158129000,
          6520327000,
          6858559000,
          7287236000,
          7639749000,
          8073122000,
          8577552000,
          9062817000,
          9631172000,
          10250952000,
          10581929000,
          10929108000,
          11456450000,
          12217196000,
          13039197000,
          13815583000,
          14474228000,
          14769862000,
          14478067000,
          15048971000,
          15599732000,
          16253970000,
          16880683000,
          17608138000,
          18295019000,
          18804913000,
          19612102000,
          20656516000,
          21521395000,
          21322950000,
          23594031000,
          25744108000,
          27360935000
         ],
         "yaxis": "y"
        },
        {
         "fillpattern": {
          "shape": ""
         },
         "hovertemplate": "Country_Name=South Africa<br>Year=%{x}<br>CO2 Emissions (metric tons per capita)=%{y}<extra></extra>",
         "legendgroup": "South Africa",
         "line": {
          "color": "#FECB52"
         },
         "marker": {
          "symbol": "circle"
         },
         "mode": "lines",
         "name": "South Africa",
         "orientation": "v",
         "showlegend": true,
         "stackgroup": "1",
         "type": "scatter",
         "x": [
          1960,
          1961,
          1962,
          1963,
          1964,
          1965,
          1966,
          1967,
          1968,
          1969,
          1970,
          1971,
          1972,
          1973,
          1974,
          1975,
          1976,
          1977,
          1978,
          1979,
          1980,
          1981,
          1982,
          1983,
          1984,
          1985,
          1986,
          1987,
          1988,
          1989,
          1990,
          1991,
          1992,
          1993,
          1994,
          1995,
          1996,
          1997,
          1998,
          1999,
          2000,
          2001,
          2002,
          2003,
          2004,
          2005,
          2006,
          2007,
          2008,
          2009,
          2010,
          2011,
          2012,
          2013,
          2014,
          2015,
          2016,
          2017,
          2018,
          2019,
          2020,
          2021,
          2022,
          2023
         ],
         "xaxis": "x",
         "y": [
          8748596.5005614,
          9225996.30960148,
          9813996.074401569,
          10854195.6583217,
          11955995.2176019,
          13068994.7724021,
          14211394.315442301,
          15821393.6714425,
          17124793.1500827,
          19256992.297203097,
          21218391.512643397,
          23411076.638279,
          24515919.2168851,
          33262772.0081446,
          41389186.094599195,
          42906905.672419995,
          41150460.2876151,
          45328411.3321028,
          51607412.901853204,
          63038658.0889121,
          89411864.4024272,
          93141472.1637596,
          85904057.4093585,
          96204110.9415672,
          84870163.3659306,
          64459376.0866883,
          73354771.3992627,
          96535763.4183729,
          103976831.870957,
          108055624.081806,
          126048140.14186901,
          135203698.237977,
          146956150.98663598,
          147194747.56575,
          153512712.381836,
          171735933.897331,
          163234925.380563,
          168978057.32773,
          152982984.557233,
          151516957.078536,
          151752757.215309,
          135429905.922526,
          129087556.612449,
          197018965.308697,
          255806908.594573,
          288867217.196534,
          303858675.363643,
          333077117.25368404,
          316131258.61630905,
          329754060.647129,
          417363822.801713,
          458199494.830834,
          434400545.08581096,
          400886013.595573,
          381198869.776106,
          346709790.45856297,
          323585509.67448103,
          381448814.653456,
          405260723.89251703,
          389330032.224269,
          338291396.026698,
          420117812.466041,
          405270850.09873796,
          377781600.985873
         ],
         "yaxis": "y"
        }
       ],
       "layout": {
        "legend": {
         "title": {
          "text": "Country"
         },
         "tracegroupgap": 0
        },
        "template": {
         "data": {
          "bar": [
           {
            "error_x": {
             "color": "#2a3f5f"
            },
            "error_y": {
             "color": "#2a3f5f"
            },
            "marker": {
             "line": {
              "color": "white",
              "width": 0.5
             },
             "pattern": {
              "fillmode": "overlay",
              "size": 10,
              "solidity": 0.2
             }
            },
            "type": "bar"
           }
          ],
          "barpolar": [
           {
            "marker": {
             "line": {
              "color": "white",
              "width": 0.5
             },
             "pattern": {
              "fillmode": "overlay",
              "size": 10,
              "solidity": 0.2
             }
            },
            "type": "barpolar"
           }
          ],
          "carpet": [
           {
            "aaxis": {
             "endlinecolor": "#2a3f5f",
             "gridcolor": "#C8D4E3",
             "linecolor": "#C8D4E3",
             "minorgridcolor": "#C8D4E3",
             "startlinecolor": "#2a3f5f"
            },
            "baxis": {
             "endlinecolor": "#2a3f5f",
             "gridcolor": "#C8D4E3",
             "linecolor": "#C8D4E3",
             "minorgridcolor": "#C8D4E3",
             "startlinecolor": "#2a3f5f"
            },
            "type": "carpet"
           }
          ],
          "choropleth": [
           {
            "colorbar": {
             "outlinewidth": 0,
             "ticks": ""
            },
            "type": "choropleth"
           }
          ],
          "contour": [
           {
            "colorbar": {
             "outlinewidth": 0,
             "ticks": ""
            },
            "colorscale": [
             [
              0,
              "#0d0887"
             ],
             [
              0.1111111111111111,
              "#46039f"
             ],
             [
              0.2222222222222222,
              "#7201a8"
             ],
             [
              0.3333333333333333,
              "#9c179e"
             ],
             [
              0.4444444444444444,
              "#bd3786"
             ],
             [
              0.5555555555555556,
              "#d8576b"
             ],
             [
              0.6666666666666666,
              "#ed7953"
             ],
             [
              0.7777777777777778,
              "#fb9f3a"
             ],
             [
              0.8888888888888888,
              "#fdca26"
             ],
             [
              1,
              "#f0f921"
             ]
            ],
            "type": "contour"
           }
          ],
          "contourcarpet": [
           {
            "colorbar": {
             "outlinewidth": 0,
             "ticks": ""
            },
            "type": "contourcarpet"
           }
          ],
          "heatmap": [
           {
            "colorbar": {
             "outlinewidth": 0,
             "ticks": ""
            },
            "colorscale": [
             [
              0,
              "#0d0887"
             ],
             [
              0.1111111111111111,
              "#46039f"
             ],
             [
              0.2222222222222222,
              "#7201a8"
             ],
             [
              0.3333333333333333,
              "#9c179e"
             ],
             [
              0.4444444444444444,
              "#bd3786"
             ],
             [
              0.5555555555555556,
              "#d8576b"
             ],
             [
              0.6666666666666666,
              "#ed7953"
             ],
             [
              0.7777777777777778,
              "#fb9f3a"
             ],
             [
              0.8888888888888888,
              "#fdca26"
             ],
             [
              1,
              "#f0f921"
             ]
            ],
            "type": "heatmap"
           }
          ],
          "heatmapgl": [
           {
            "colorbar": {
             "outlinewidth": 0,
             "ticks": ""
            },
            "colorscale": [
             [
              0,
              "#0d0887"
             ],
             [
              0.1111111111111111,
              "#46039f"
             ],
             [
              0.2222222222222222,
              "#7201a8"
             ],
             [
              0.3333333333333333,
              "#9c179e"
             ],
             [
              0.4444444444444444,
              "#bd3786"
             ],
             [
              0.5555555555555556,
              "#d8576b"
             ],
             [
              0.6666666666666666,
              "#ed7953"
             ],
             [
              0.7777777777777778,
              "#fb9f3a"
             ],
             [
              0.8888888888888888,
              "#fdca26"
             ],
             [
              1,
              "#f0f921"
             ]
            ],
            "type": "heatmapgl"
           }
          ],
          "histogram": [
           {
            "marker": {
             "pattern": {
              "fillmode": "overlay",
              "size": 10,
              "solidity": 0.2
             }
            },
            "type": "histogram"
           }
          ],
          "histogram2d": [
           {
            "colorbar": {
             "outlinewidth": 0,
             "ticks": ""
            },
            "colorscale": [
             [
              0,
              "#0d0887"
             ],
             [
              0.1111111111111111,
              "#46039f"
             ],
             [
              0.2222222222222222,
              "#7201a8"
             ],
             [
              0.3333333333333333,
              "#9c179e"
             ],
             [
              0.4444444444444444,
              "#bd3786"
             ],
             [
              0.5555555555555556,
              "#d8576b"
             ],
             [
              0.6666666666666666,
              "#ed7953"
             ],
             [
              0.7777777777777778,
              "#fb9f3a"
             ],
             [
              0.8888888888888888,
              "#fdca26"
             ],
             [
              1,
              "#f0f921"
             ]
            ],
            "type": "histogram2d"
           }
          ],
          "histogram2dcontour": [
           {
            "colorbar": {
             "outlinewidth": 0,
             "ticks": ""
            },
            "colorscale": [
             [
              0,
              "#0d0887"
             ],
             [
              0.1111111111111111,
              "#46039f"
             ],
             [
              0.2222222222222222,
              "#7201a8"
             ],
             [
              0.3333333333333333,
              "#9c179e"
             ],
             [
              0.4444444444444444,
              "#bd3786"
             ],
             [
              0.5555555555555556,
              "#d8576b"
             ],
             [
              0.6666666666666666,
              "#ed7953"
             ],
             [
              0.7777777777777778,
              "#fb9f3a"
             ],
             [
              0.8888888888888888,
              "#fdca26"
             ],
             [
              1,
              "#f0f921"
             ]
            ],
            "type": "histogram2dcontour"
           }
          ],
          "mesh3d": [
           {
            "colorbar": {
             "outlinewidth": 0,
             "ticks": ""
            },
            "type": "mesh3d"
           }
          ],
          "parcoords": [
           {
            "line": {
             "colorbar": {
              "outlinewidth": 0,
              "ticks": ""
             }
            },
            "type": "parcoords"
           }
          ],
          "pie": [
           {
            "automargin": true,
            "type": "pie"
           }
          ],
          "scatter": [
           {
            "fillpattern": {
             "fillmode": "overlay",
             "size": 10,
             "solidity": 0.2
            },
            "type": "scatter"
           }
          ],
          "scatter3d": [
           {
            "line": {
             "colorbar": {
              "outlinewidth": 0,
              "ticks": ""
             }
            },
            "marker": {
             "colorbar": {
              "outlinewidth": 0,
              "ticks": ""
             }
            },
            "type": "scatter3d"
           }
          ],
          "scattercarpet": [
           {
            "marker": {
             "colorbar": {
              "outlinewidth": 0,
              "ticks": ""
             }
            },
            "type": "scattercarpet"
           }
          ],
          "scattergeo": [
           {
            "marker": {
             "colorbar": {
              "outlinewidth": 0,
              "ticks": ""
             }
            },
            "type": "scattergeo"
           }
          ],
          "scattergl": [
           {
            "marker": {
             "colorbar": {
              "outlinewidth": 0,
              "ticks": ""
             }
            },
            "type": "scattergl"
           }
          ],
          "scattermapbox": [
           {
            "marker": {
             "colorbar": {
              "outlinewidth": 0,
              "ticks": ""
             }
            },
            "type": "scattermapbox"
           }
          ],
          "scatterpolar": [
           {
            "marker": {
             "colorbar": {
              "outlinewidth": 0,
              "ticks": ""
             }
            },
            "type": "scatterpolar"
           }
          ],
          "scatterpolargl": [
           {
            "marker": {
             "colorbar": {
              "outlinewidth": 0,
              "ticks": ""
             }
            },
            "type": "scatterpolargl"
           }
          ],
          "scatterternary": [
           {
            "marker": {
             "colorbar": {
              "outlinewidth": 0,
              "ticks": ""
             }
            },
            "type": "scatterternary"
           }
          ],
          "surface": [
           {
            "colorbar": {
             "outlinewidth": 0,
             "ticks": ""
            },
            "colorscale": [
             [
              0,
              "#0d0887"
             ],
             [
              0.1111111111111111,
              "#46039f"
             ],
             [
              0.2222222222222222,
              "#7201a8"
             ],
             [
              0.3333333333333333,
              "#9c179e"
             ],
             [
              0.4444444444444444,
              "#bd3786"
             ],
             [
              0.5555555555555556,
              "#d8576b"
             ],
             [
              0.6666666666666666,
              "#ed7953"
             ],
             [
              0.7777777777777778,
              "#fb9f3a"
             ],
             [
              0.8888888888888888,
              "#fdca26"
             ],
             [
              1,
              "#f0f921"
             ]
            ],
            "type": "surface"
           }
          ],
          "table": [
           {
            "cells": {
             "fill": {
              "color": "#EBF0F8"
             },
             "line": {
              "color": "white"
             }
            },
            "header": {
             "fill": {
              "color": "#C8D4E3"
             },
             "line": {
              "color": "white"
             }
            },
            "type": "table"
           }
          ]
         },
         "layout": {
          "annotationdefaults": {
           "arrowcolor": "#2a3f5f",
           "arrowhead": 0,
           "arrowwidth": 1
          },
          "autotypenumbers": "strict",
          "coloraxis": {
           "colorbar": {
            "outlinewidth": 0,
            "ticks": ""
           }
          },
          "colorscale": {
           "diverging": [
            [
             0,
             "#8e0152"
            ],
            [
             0.1,
             "#c51b7d"
            ],
            [
             0.2,
             "#de77ae"
            ],
            [
             0.3,
             "#f1b6da"
            ],
            [
             0.4,
             "#fde0ef"
            ],
            [
             0.5,
             "#f7f7f7"
            ],
            [
             0.6,
             "#e6f5d0"
            ],
            [
             0.7,
             "#b8e186"
            ],
            [
             0.8,
             "#7fbc41"
            ],
            [
             0.9,
             "#4d9221"
            ],
            [
             1,
             "#276419"
            ]
           ],
           "sequential": [
            [
             0,
             "#0d0887"
            ],
            [
             0.1111111111111111,
             "#46039f"
            ],
            [
             0.2222222222222222,
             "#7201a8"
            ],
            [
             0.3333333333333333,
             "#9c179e"
            ],
            [
             0.4444444444444444,
             "#bd3786"
            ],
            [
             0.5555555555555556,
             "#d8576b"
            ],
            [
             0.6666666666666666,
             "#ed7953"
            ],
            [
             0.7777777777777778,
             "#fb9f3a"
            ],
            [
             0.8888888888888888,
             "#fdca26"
            ],
            [
             1,
             "#f0f921"
            ]
           ],
           "sequentialminus": [
            [
             0,
             "#0d0887"
            ],
            [
             0.1111111111111111,
             "#46039f"
            ],
            [
             0.2222222222222222,
             "#7201a8"
            ],
            [
             0.3333333333333333,
             "#9c179e"
            ],
            [
             0.4444444444444444,
             "#bd3786"
            ],
            [
             0.5555555555555556,
             "#d8576b"
            ],
            [
             0.6666666666666666,
             "#ed7953"
            ],
            [
             0.7777777777777778,
             "#fb9f3a"
            ],
            [
             0.8888888888888888,
             "#fdca26"
            ],
            [
             1,
             "#f0f921"
            ]
           ]
          },
          "colorway": [
           "#636efa",
           "#EF553B",
           "#00cc96",
           "#ab63fa",
           "#FFA15A",
           "#19d3f3",
           "#FF6692",
           "#B6E880",
           "#FF97FF",
           "#FECB52"
          ],
          "font": {
           "color": "#2a3f5f"
          },
          "geo": {
           "bgcolor": "white",
           "lakecolor": "white",
           "landcolor": "white",
           "showlakes": true,
           "showland": true,
           "subunitcolor": "#C8D4E3"
          },
          "hoverlabel": {
           "align": "left"
          },
          "hovermode": "closest",
          "mapbox": {
           "style": "light"
          },
          "paper_bgcolor": "white",
          "plot_bgcolor": "white",
          "polar": {
           "angularaxis": {
            "gridcolor": "#EBF0F8",
            "linecolor": "#EBF0F8",
            "ticks": ""
           },
           "bgcolor": "white",
           "radialaxis": {
            "gridcolor": "#EBF0F8",
            "linecolor": "#EBF0F8",
            "ticks": ""
           }
          },
          "scene": {
           "xaxis": {
            "backgroundcolor": "white",
            "gridcolor": "#DFE8F3",
            "gridwidth": 2,
            "linecolor": "#EBF0F8",
            "showbackground": true,
            "ticks": "",
            "zerolinecolor": "#EBF0F8"
           },
           "yaxis": {
            "backgroundcolor": "white",
            "gridcolor": "#DFE8F3",
            "gridwidth": 2,
            "linecolor": "#EBF0F8",
            "showbackground": true,
            "ticks": "",
            "zerolinecolor": "#EBF0F8"
           },
           "zaxis": {
            "backgroundcolor": "white",
            "gridcolor": "#DFE8F3",
            "gridwidth": 2,
            "linecolor": "#EBF0F8",
            "showbackground": true,
            "ticks": "",
            "zerolinecolor": "#EBF0F8"
           }
          },
          "shapedefaults": {
           "line": {
            "color": "#2a3f5f"
           }
          },
          "ternary": {
           "aaxis": {
            "gridcolor": "#DFE8F3",
            "linecolor": "#A2B1C6",
            "ticks": ""
           },
           "baxis": {
            "gridcolor": "#DFE8F3",
            "linecolor": "#A2B1C6",
            "ticks": ""
           },
           "bgcolor": "white",
           "caxis": {
            "gridcolor": "#DFE8F3",
            "linecolor": "#A2B1C6",
            "ticks": ""
           }
          },
          "title": {
           "x": 0.05
          },
          "xaxis": {
           "automargin": true,
           "gridcolor": "#EBF0F8",
           "linecolor": "#EBF0F8",
           "ticks": "",
           "title": {
            "standoff": 15
           },
           "zerolinecolor": "#EBF0F8",
           "zerolinewidth": 2
          },
          "yaxis": {
           "automargin": true,
           "gridcolor": "#EBF0F8",
           "linecolor": "#EBF0F8",
           "ticks": "",
           "title": {
            "standoff": 15
           },
           "zerolinecolor": "#EBF0F8",
           "zerolinewidth": 2
          }
         }
        },
        "title": {
         "text": "CO2 Emissions Over Time by Country (Area Chart)"
        },
        "xaxis": {
         "anchor": "y",
         "domain": [
          0,
          1
         ],
         "title": {
          "text": "Year"
         }
        },
        "yaxis": {
         "anchor": "x",
         "domain": [
          0,
          1
         ],
         "title": {
          "text": "CO2 Emissions (metric tons per capita)"
         }
        }
       }
      }
     },
     "metadata": {},
     "output_type": "display_data"
    }
   ],
   "source": [
    "countries_to_filter = ['China', 'Saudi Arabia', 'Norway', 'United States', 'Russia', 'Germany','South Africa','Turkiye','Russian Federation','Ukraine']\n",
    "\n",
    "# Filter the DataFrame to include only the specified countries\n",
    "filtered_df = df[df['Country_Name'].isin(countries_to_filter)]\n",
    "\n",
    "# Create an area chart of CO2 Emissions over time for each country\n",
    "fig = px.area(\n",
    "    filtered_df,\n",
    "    x=\"Year\",                  # Year on the x-axis\n",
    "    y=\"CO2_Emissions\",         # CO2 emissions on the y-axis\n",
    "    color=\"Country_Name\",      # Color by country to distinguish areas\n",
    "    title=\"CO2 Emissions Over Time by Country (Area Chart)\",\n",
    "    labels={\n",
    "        \"Year\": \"Year\",\n",
    "        \"CO2_Emissions\": \"CO2 Emissions (metric tons per capita)\"\n",
    "    },\n",
    "    template=\"plotly_white\"\n",
    ")\n",
    "\n",
    "# Customize the layout\n",
    "fig.update_layout(\n",
    "    xaxis_title=\"Year\",\n",
    "    yaxis_title=\"CO2 Emissions (metric tons per capita)\",\n",
    "    legend_title=\"Country\",\n",
    ")\n",
    "\n",
    "fig.show()\n"
   ]
  }
 ],
 "metadata": {
  "kernelspec": {
   "display_name": "Python 3.11.9 64-bit (microsoft store)",
   "language": "python",
   "name": "python3"
  },
  "language_info": {
   "codemirror_mode": {
    "name": "ipython",
    "version": 3
   },
   "file_extension": ".py",
   "mimetype": "text/x-python",
   "name": "python",
   "nbconvert_exporter": "python",
   "pygments_lexer": "ipython3",
   "version": "3.11.9"
  },
  "orig_nbformat": 4,
  "vscode": {
   "interpreter": {
    "hash": "727938b0e2cd8aed49f65c52f1cb53b81369d6935fa90dadb3ccee4eaf44266b"
   }
  }
 },
 "nbformat": 4,
 "nbformat_minor": 2
}
