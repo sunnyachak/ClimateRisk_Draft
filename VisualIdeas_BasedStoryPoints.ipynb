{
 "cells": [
  {
   "cell_type": "code",
   "execution_count": 3,
   "metadata": {},
   "outputs": [],
   "source": [
    "# Import necessary libraries\n",
    "import pandas as pd\n",
    "import matplotlib.pyplot as plt\n",
    "import seaborn as sns\n",
    "\n",
    "# Load the dataset (replace with actual file path)\n",
    "df = pd.read_csv(r\"C:\\Users\\SNZ\\Documents\\ClimateRisk\\DataStory_ClimateRisk\\global trends.csv\")"
   ]
  },
  {
   "cell_type": "code",
   "execution_count": 29,
   "metadata": {},
   "outputs": [
    {
     "name": "stdout",
     "output_type": "stream",
     "text": [
      "      Country_Name Country_Code  Year  CO2_Emissions  Energy_Use  GDP\n",
      "0            Aruba          ABW  1960            NaN         NaN  NaN\n",
      "1            Aruba          ABW  1961            NaN         NaN  NaN\n",
      "2            Aruba          ABW  1962            NaN         NaN  NaN\n",
      "3            Aruba          ABW  1963            NaN         NaN  NaN\n",
      "4            Aruba          ABW  1964            NaN         NaN  NaN\n",
      "...            ...          ...   ...            ...         ...  ...\n",
      "17019     Zimbabwe          ZWE  2019   2.183223e+10    0.663338  NaN\n",
      "17020     Zimbabwe          ZWE  2020   2.150970e+10    0.530484  NaN\n",
      "17021     Zimbabwe          ZWE  2021   2.837124e+10         NaN  NaN\n",
      "17022     Zimbabwe          ZWE  2022   2.736663e+10         NaN  NaN\n",
      "17023     Zimbabwe          ZWE  2023   2.653827e+10         NaN  NaN\n",
      "\n",
      "[17024 rows x 6 columns]\n"
     ]
    }
   ],
   "source": [
    "print(df)"
   ]
  },
  {
   "cell_type": "code",
   "execution_count": 30,
   "metadata": {},
   "outputs": [
    {
     "name": "stdout",
     "output_type": "stream",
     "text": [
      "       Country_Name  Country_Code   Year  CO2_Emissions  Energy_Use   GDP\n",
      "0             False         False  False           True        True  True\n",
      "1             False         False  False           True        True  True\n",
      "2             False         False  False           True        True  True\n",
      "3             False         False  False           True        True  True\n",
      "4             False         False  False           True        True  True\n",
      "...             ...           ...    ...            ...         ...   ...\n",
      "17019         False         False  False          False       False  True\n",
      "17020         False         False  False          False       False  True\n",
      "17021         False         False  False          False        True  True\n",
      "17022         False         False  False          False        True  True\n",
      "17023         False         False  False          False        True  True\n",
      "\n",
      "[17024 rows x 6 columns]\n"
     ]
    }
   ],
   "source": [
    "missing_values = df.isnull()  # or df.isna()\n",
    "print(missing_values)"
   ]
  },
  {
   "cell_type": "code",
   "execution_count": 4,
   "metadata": {},
   "outputs": [
    {
     "name": "stdout",
     "output_type": "stream",
     "text": [
      "                      Country_Name Country_Code  Year  CO2_Emissions  \\\n",
      "94     Africa Eastern and Southern          AFE  1990   2.512118e+11   \n",
      "95     Africa Eastern and Southern          AFE  1991   2.735426e+11   \n",
      "96     Africa Eastern and Southern          AFE  1992   2.394332e+11   \n",
      "97     Africa Eastern and Southern          AFE  1993   2.402714e+11   \n",
      "98     Africa Eastern and Southern          AFE  1994   2.435648e+11   \n",
      "...                            ...          ...   ...            ...   \n",
      "17009                     Zimbabwe          ZWE  2009   9.665793e+09   \n",
      "17010                     Zimbabwe          ZWE  2010   1.204166e+10   \n",
      "17011                     Zimbabwe          ZWE  2011   1.410192e+10   \n",
      "17012                     Zimbabwe          ZWE  2012   1.711485e+10   \n",
      "17013                     Zimbabwe          ZWE  2013   1.909102e+10   \n",
      "\n",
      "       Energy_Use         GDP  \n",
      "94       0.982975  770.037195  \n",
      "95       0.942212  773.326417  \n",
      "96       0.907936  732.667501  \n",
      "97       0.909550  742.813558  \n",
      "98       0.913413  743.131843  \n",
      "...           ...         ...  \n",
      "17009    0.597225  720.587138  \n",
      "17010    0.741290  736.691254  \n",
      "17011    0.871932  787.030033  \n",
      "17012    0.901214  814.910235  \n",
      "17013    0.901248  832.572236  \n",
      "\n",
      "[4596 rows x 6 columns]\n"
     ]
    }
   ],
   "source": [
    "df_clean = df.dropna()\n",
    "\n",
    "# Check the result\n",
    "print(df_clean)\n"
   ]
  },
  {
   "cell_type": "code",
   "execution_count": 5,
   "metadata": {},
   "outputs": [
    {
     "name": "stdout",
     "output_type": "stream",
     "text": [
      "[1990 1991 1992 1993 1994 1995 1996 1997 1998 1999 2000 2001 2002 2003\n",
      " 2004 2005 2006 2007 2008 2009 2010 2011 2012 2013 2014 2015]\n"
     ]
    }
   ],
   "source": [
    "unique_values = df_clean['Year'].unique()\n",
    "print(unique_values)"
   ]
  },
  {
   "cell_type": "code",
   "execution_count": 7,
   "metadata": {},
   "outputs": [
    {
     "name": "stdout",
     "output_type": "stream",
     "text": [
      "<class 'pandas.core.frame.DataFrame'>\n",
      "Index: 4596 entries, 94 to 17013\n",
      "Data columns (total 6 columns):\n",
      " #   Column         Non-Null Count  Dtype  \n",
      "---  ------         --------------  -----  \n",
      " 0   Country_Name   4596 non-null   object \n",
      " 1   Country_Code   4596 non-null   object \n",
      " 2   Year           4596 non-null   int64  \n",
      " 3   CO2_Emissions  4596 non-null   float64\n",
      " 4   Energy_Use     4596 non-null   float64\n",
      " 5   GDP            4596 non-null   float64\n",
      "dtypes: float64(3), int64(1), object(2)\n",
      "memory usage: 251.3+ KB\n"
     ]
    },
    {
     "data": {
      "text/html": [
       "<div>\n",
       "<style scoped>\n",
       "    .dataframe tbody tr th:only-of-type {\n",
       "        vertical-align: middle;\n",
       "    }\n",
       "\n",
       "    .dataframe tbody tr th {\n",
       "        vertical-align: top;\n",
       "    }\n",
       "\n",
       "    .dataframe thead th {\n",
       "        text-align: right;\n",
       "    }\n",
       "</style>\n",
       "<table border=\"1\" class=\"dataframe\">\n",
       "  <thead>\n",
       "    <tr style=\"text-align: right;\">\n",
       "      <th></th>\n",
       "      <th>Year</th>\n",
       "      <th>CO2_Emissions</th>\n",
       "      <th>Energy_Use</th>\n",
       "      <th>GDP</th>\n",
       "    </tr>\n",
       "  </thead>\n",
       "  <tbody>\n",
       "    <tr>\n",
       "      <th>count</th>\n",
       "      <td>4596.000000</td>\n",
       "      <td>4.596000e+03</td>\n",
       "      <td>4596.000000</td>\n",
       "      <td>4596.000000</td>\n",
       "    </tr>\n",
       "    <tr>\n",
       "      <th>mean</th>\n",
       "      <td>2002.261749</td>\n",
       "      <td>1.938688e+12</td>\n",
       "      <td>4.974066</td>\n",
       "      <td>2191.726843</td>\n",
       "    </tr>\n",
       "    <tr>\n",
       "      <th>std</th>\n",
       "      <td>7.195666</td>\n",
       "      <td>6.487109e+12</td>\n",
       "      <td>5.693197</td>\n",
       "      <td>2555.045134</td>\n",
       "    </tr>\n",
       "    <tr>\n",
       "      <th>min</th>\n",
       "      <td>1990.000000</td>\n",
       "      <td>3.668845e+07</td>\n",
       "      <td>0.000000</td>\n",
       "      <td>9.579196</td>\n",
       "    </tr>\n",
       "    <tr>\n",
       "      <th>25%</th>\n",
       "      <td>1996.000000</td>\n",
       "      <td>1.210322e+10</td>\n",
       "      <td>0.953315</td>\n",
       "      <td>584.076343</td>\n",
       "    </tr>\n",
       "    <tr>\n",
       "      <th>50%</th>\n",
       "      <td>2003.000000</td>\n",
       "      <td>7.946107e+10</td>\n",
       "      <td>3.123630</td>\n",
       "      <td>1181.218426</td>\n",
       "    </tr>\n",
       "    <tr>\n",
       "      <th>75%</th>\n",
       "      <td>2008.000000</td>\n",
       "      <td>5.824451e+11</td>\n",
       "      <td>7.311440</td>\n",
       "      <td>2911.698444</td>\n",
       "    </tr>\n",
       "    <tr>\n",
       "      <th>max</th>\n",
       "      <td>2015.000000</td>\n",
       "      <td>7.989439e+13</td>\n",
       "      <td>47.656962</td>\n",
       "      <td>21420.628504</td>\n",
       "    </tr>\n",
       "  </tbody>\n",
       "</table>\n",
       "</div>"
      ],
      "text/plain": [
       "              Year  CO2_Emissions   Energy_Use           GDP\n",
       "count  4596.000000   4.596000e+03  4596.000000   4596.000000\n",
       "mean   2002.261749   1.938688e+12     4.974066   2191.726843\n",
       "std       7.195666   6.487109e+12     5.693197   2555.045134\n",
       "min    1990.000000   3.668845e+07     0.000000      9.579196\n",
       "25%    1996.000000   1.210322e+10     0.953315    584.076343\n",
       "50%    2003.000000   7.946107e+10     3.123630   1181.218426\n",
       "75%    2008.000000   5.824451e+11     7.311440   2911.698444\n",
       "max    2015.000000   7.989439e+13    47.656962  21420.628504"
      ]
     },
     "execution_count": 7,
     "metadata": {},
     "output_type": "execute_result"
    }
   ],
   "source": [
    "df_clean.head()\n",
    "df_clean.head()\n",
    "df_clean.info()\n",
    "df_clean.describe()"
   ]
  },
  {
   "cell_type": "code",
   "execution_count": 8,
   "metadata": {},
   "outputs": [
    {
     "name": "stderr",
     "output_type": "stream",
     "text": [
      "C:\\Users\\SNZ\\AppData\\Local\\Temp\\ipykernel_30172\\3903850934.py:1: SettingWithCopyWarning: \n",
      "A value is trying to be set on a copy of a slice from a DataFrame.\n",
      "Try using .loc[row_indexer,col_indexer] = value instead\n",
      "\n",
      "See the caveats in the documentation: https://pandas.pydata.org/pandas-docs/stable/user_guide/indexing.html#returning-a-view-versus-a-copy\n",
      "  df_clean['Year'] = pd.to_datetime(df_clean['Year'])\n"
     ]
    }
   ],
   "source": [
    "df_clean['Year'] = pd.to_datetime(df_clean['Year'])"
   ]
  },
  {
   "cell_type": "code",
   "execution_count": 9,
   "metadata": {},
   "outputs": [
    {
     "name": "stderr",
     "output_type": "stream",
     "text": [
      "C:\\Users\\SNZ\\AppData\\Local\\Temp\\ipykernel_30172\\3903850934.py:1: SettingWithCopyWarning: \n",
      "A value is trying to be set on a copy of a slice from a DataFrame.\n",
      "Try using .loc[row_indexer,col_indexer] = value instead\n",
      "\n",
      "See the caveats in the documentation: https://pandas.pydata.org/pandas-docs/stable/user_guide/indexing.html#returning-a-view-versus-a-copy\n",
      "  df_clean['Year'] = pd.to_datetime(df_clean['Year'])\n"
     ]
    }
   ],
   "source": [
    "df_clean['Year'] = pd.to_datetime(df_clean['Year'])"
   ]
  },
  {
   "cell_type": "code",
   "execution_count": 36,
   "metadata": {},
   "outputs": [
    {
     "data": {
      "image/png": "[encoded data removed]",
      "text/plain": [
       "<Figure size 1200x600 with 1 Axes>"
      ]
     },
     "metadata": {},
     "output_type": "display_data"
    }
   ],
   "source": [
    "plt.figure(figsize=(12, 6))\n",
    "sns.lineplot(x='Year', y='CO2_Emissions', data=df)\n",
    "plt.title('CO2 Emissions Over Time')\n",
    "plt.show()"
   ]
  },
  {
   "cell_type": "code",
   "execution_count": 15,
   "metadata": {},
   "outputs": [],
   "source": [
    "df1 = pd.read_csv(r\"E:\\Test1.csv\")"
   ]
  },
  {
   "cell_type": "code",
   "execution_count": 16,
   "metadata": {},
   "outputs": [
    {
     "data": {
      "image/png": "[encoded data removed]",
      "text/plain": [
       "<Figure size 1200x600 with 1 Axes>"
      ]
     },
     "metadata": {},
     "output_type": "display_data"
    }
   ],
   "source": [
    "import pandas as pd\n",
    "import matplotlib.pyplot as plt\n",
    "import seaborn as sns\n",
    "\n",
    "# Assuming your data is in a DataFrame named 'df'\n",
    "# Replace 'your_data.csv' with your actual file path\n",
    "df = df\n",
    "\n",
    "# Filter for the four countries\n",
    "data_four_countries = df[df['Country_Name'].isin(['China', 'Germany', 'India', 'United States','United Kingdom'])]\n",
    "\n",
    "# Create a line plot with enhanced customization\n",
    "plt.figure(figsize=(12, 6))  # Adjust figure size for better readability\n",
    "\n",
    "# Customize line styles and colors\n",
    "sns.lineplot(\n",
    "    x='Year',\n",
    "    y='CO2_Emissions',\n",
    "    data=data_four_countries,\n",
    "    hue='Country_Name',\n",
    "    style='Country_Name',  # Use different line styles for each country\n",
    "    markers=True,  # Add markers to emphasize data points\n",
    "    palette='Set2'  # Use a color palette from Seaborn's built-in options\n",
    ")\n",
    "\n",
    "# Add a grid for better readability\n",
    "plt.grid(True, linestyle='--', linewidth=0.5, color='gray', which='both', axis='y')\n",
    "\n",
    "# Customize labels and title\n",
    "plt.title('CO2 Emissions Over Time (China, Germany, India, United States,United Kingdom)', fontsize=16)\n",
    "plt.xlabel('Year', fontsize=14)\n",
    "plt.ylabel('CO2 Emissions (tons)', fontsize=14)\n",
    "\n",
    "# Rotate x-axis labels for better spacing if needed (adjust angle as necessary)\n",
    "plt.xticks(rotation=45)\n",
    "\n",
    "# Customize legend with title and improved readability\n",
    "plt.legend(title='Country', loc='upper left', bbox_to_anchor=(1.05, 1), fontsize=12)\n",
    "\n",
    "# Show the plot\n",
    "plt.tight_layout()  # Adjust spacing to prevent overlapping elements\n",
    "plt.show()\n"
   ]
  },
  {
   "cell_type": "code",
   "execution_count": 17,
   "metadata": {},
   "outputs": [
    {
     "name": "stdout",
     "output_type": "stream",
     "text": [
      "     CO2_Emissions                                                          \\\n",
      "             count          mean           std           min           25%   \n",
      "Year                                                                         \n",
      "1960         138.0  7.203005e+10  2.108081e+11  1.201202e+07  4.640236e+08   \n",
      "1961         142.0  7.346038e+10  2.199103e+11  1.159202e+07  4.869202e+08   \n",
      "1962         144.0  7.713834e+10  2.350450e+11  9.122751e+06  5.185977e+08   \n",
      "1963         144.0  8.350185e+10  2.531822e+11  1.084010e+07  5.150864e+08   \n",
      "1964         144.0  9.215755e+10  2.774464e+11  1.271247e+07  5.415796e+08   \n",
      "...            ...           ...           ...           ...           ...   \n",
      "2019         258.0  2.800084e+12  9.559535e+12  5.412320e+07  1.002836e+10   \n",
      "2020         257.0  2.730282e+12  9.348360e+12  5.174659e+07  9.505065e+09   \n",
      "2021         256.0  3.143293e+12  1.068111e+13  6.019641e+07  1.001319e+10   \n",
      "2022         250.0  3.344889e+12  1.116573e+13  5.906598e+07  1.313119e+10   \n",
      "2023         233.0  3.733198e+12  1.202682e+13  6.228031e+07  1.678630e+10   \n",
      "\n",
      "                                               Energy_Use            ...  \\\n",
      "               50%           75%           max      count      mean  ...   \n",
      "Year                                                                 ...   \n",
      "1960  2.742183e+09  3.047209e+10  1.364504e+12        0.0       NaN  ...   \n",
      "1961  2.630463e+09  3.063881e+10  1.439319e+12        0.0       NaN  ...   \n",
      "1962  2.597113e+09  3.000765e+10  1.542845e+12        0.0       NaN  ...   \n",
      "1963  3.079781e+09  3.145128e+10  1.664977e+12        0.0       NaN  ...   \n",
      "1964  3.184168e+09  3.308114e+10  1.827785e+12        0.0       NaN  ...   \n",
      "...            ...           ...           ...        ...       ...  ...   \n",
      "2019  5.768290e+10  5.419490e+11  8.794557e+13      239.0  4.149905  ...   \n",
      "2020  5.373453e+10  5.470542e+11  8.557772e+13      239.0  3.865744  ...   \n",
      "2021  6.246662e+10  6.501227e+11  9.752703e+13        0.0       NaN  ...   \n",
      "2022  7.059355e+10  7.862607e+11  1.012251e+14        0.0       NaN  ...   \n",
      "2023  8.575501e+10  1.108022e+12  1.054350e+14        0.0       NaN  ...   \n",
      "\n",
      "                            GDP                                        \\\n",
      "           75%        max count         mean          std         min   \n",
      "Year                                                                    \n",
      "1960       NaN        NaN  31.0  2385.477853  1997.417409  289.057068   \n",
      "1961       NaN        NaN  31.0  2420.615130  1981.583796  322.490578   \n",
      "1962       NaN        NaN  31.0  2521.592263  1971.290484  350.101258   \n",
      "1963       NaN        NaN  31.0  2656.704887  1992.113081  367.811430   \n",
      "1964       NaN        NaN  31.0  2765.057758  2088.977015  410.251827   \n",
      "...        ...        ...   ...          ...          ...         ...   \n",
      "2019  5.982996  31.877203   0.0          NaN          NaN         NaN   \n",
      "2020  5.489034  31.726842   0.0          NaN          NaN         NaN   \n",
      "2021       NaN        NaN   0.0          NaN          NaN         NaN   \n",
      "2022       NaN        NaN   0.0          NaN          NaN         NaN   \n",
      "2023       NaN        NaN   0.0          NaN          NaN         NaN   \n",
      "\n",
      "                                                           \n",
      "              25%          50%          75%           max  \n",
      "Year                                                       \n",
      "1960  1401.220303  1906.174930  2786.905578  10523.406695  \n",
      "1961  1455.298866  1937.644745  2824.534457  10534.018211  \n",
      "1962  1569.074000  2081.011621  2944.756906  10414.540920  \n",
      "1963  1727.964451  2268.427890  3105.103817  10465.813021  \n",
      "1964  1792.717349  2341.146313  3226.015491  11150.050343  \n",
      "...           ...          ...          ...           ...  \n",
      "2019          NaN          NaN          NaN           NaN  \n",
      "2020          NaN          NaN          NaN           NaN  \n",
      "2021          NaN          NaN          NaN           NaN  \n",
      "2022          NaN          NaN          NaN           NaN  \n",
      "2023          NaN          NaN          NaN           NaN  \n",
      "\n",
      "[64 rows x 24 columns]\n"
     ]
    }
   ],
   "source": [
    "#Drp NA\n",
    "df_clean_by_year = df.groupby('Year').describe()\n",
    "\n",
    "print(df_clean_by_year)"
   ]
  },
  {
   "cell_type": "code",
   "execution_count": 18,
   "metadata": {},
   "outputs": [
    {
     "data": {
      "text/plain": [
       "<bound method NDFrame.head of       Country_Name Country_Code  Year  CO2_Emissions  Energy_Use  GDP\n",
       "0            Aruba          ABW  1960            NaN         NaN  NaN\n",
       "1            Aruba          ABW  1961            NaN         NaN  NaN\n",
       "2            Aruba          ABW  1962            NaN         NaN  NaN\n",
       "3            Aruba          ABW  1963            NaN         NaN  NaN\n",
       "4            Aruba          ABW  1964            NaN         NaN  NaN\n",
       "...            ...          ...   ...            ...         ...  ...\n",
       "17019     Zimbabwe          ZWE  2019   2.183223e+10    0.663338  NaN\n",
       "17020     Zimbabwe          ZWE  2020   2.150970e+10    0.530484  NaN\n",
       "17021     Zimbabwe          ZWE  2021   2.837124e+10         NaN  NaN\n",
       "17022     Zimbabwe          ZWE  2022   2.736663e+10         NaN  NaN\n",
       "17023     Zimbabwe          ZWE  2023   2.653827e+10         NaN  NaN\n",
       "\n",
       "[17024 rows x 6 columns]>"
      ]
     },
     "execution_count": 18,
     "metadata": {},
     "output_type": "execute_result"
    }
   ],
   "source": [
    "df.head"
   ]
  },
  {
   "cell_type": "code",
   "execution_count": 20,
   "metadata": {},
   "outputs": [
    {
     "data": {
      "image/png": "[encoded data removed]",
      "text/plain": [
       "<Figure size 1200x700 with 1 Axes>"
      ]
     },
     "metadata": {},
     "output_type": "display_data"
    }
   ],
   "source": [
    "import matplotlib.pyplot as plt\n",
    "\n",
    "plt.figure(figsize=(12, 7), facecolor='#f2f2f2')  # Adjust size and background color\n",
    "bars = plt.bar(df['Year'], df['CO2_Emissions'], color='#2ca02c', alpha=0.7, edgecolor='#222222', linewidth=1)\n",
    "plt.xlabel('Year', fontsize=14, fontweight='bold')\n",
    "plt.ylabel('CO2 Emissions (Million Metric Tons)', fontsize=14, fontweight='bold')\n",
    "plt.title('CO2 Emissions Over Time (1960 - 2023)', fontsize=16)  # Replace XX with your actual data range\n",
    "\n",
    "# Customize grid and axes\n",
    "plt.grid(axis='y', linestyle='--', alpha=0.6, color='#cccccc')\n",
    "plt.tick_params(bottom=False, left=True, labelsize=12)  # Remove x-axis ticks, adjust y-axis tick size\n",
    "\n",
    "# Rotate x-axis labels for readability if needed\n",
    "plt.xticks(rotation=45, ha='right')  # Uncomment this line to rotate x-axis labels\n",
    "\n",
    "# Display the plot\n",
    "plt.tight_layout()  # Adjust spacing between elements\n",
    "plt.show()"
   ]
  },
  {
   "cell_type": "code",
   "execution_count": 21,
   "metadata": {},
   "outputs": [
    {
     "data": {
      "application/vnd.plotly.v1+json": {
       "config": {
        "plotlyServerURL": "https://plot.ly"
       },
       "data": [
        {
         "hovertemplate": "Country_Name=China<br>Year=1970-01-01 00:00:00.000001990<br>GDP (in Billion USD)=%{marker.size}<br>Energy Use (in kg of oil equivalent per capita)=%{y}<extra></extra>",
         "legendgroup": "China",
         "marker": {
          "color": "#636efa",
          "size": [
           766.995329395649
          ],
          "sizemode": "area",
          "sizeref": 20.142159624869375,
          "symbol": "circle"
         },
         "mode": "markers",
         "name": "China",
         "orientation": "v",
         "showlegend": true,
         "type": "scatter",
         "x": [
          766.995329395649
         ],
         "xaxis": "x",
         "y": [
          1.91454626338438
         ],
         "yaxis": "y"
        },
        {
         "hovertemplate": "Country_Name=Germany<br>Year=1970-01-01 00:00:00.000001990<br>GDP (in Billion USD)=%{marker.size}<br>Energy Use (in kg of oil equivalent per capita)=%{y}<extra></extra>",
         "legendgroup": "Germany",
         "marker": {
          "color": "#EF553B",
          "size": [
           4421.36453086788
          ],
          "sizemode": "area",
          "sizeref": 20.142159624869375,
          "symbol": "circle"
         },
         "mode": "markers",
         "name": "Germany",
         "orientation": "v",
         "showlegend": true,
         "type": "scatter",
         "x": [
          4421.36453086788
         ],
         "xaxis": "x",
         "y": [
          12.0265802780856
         ],
         "yaxis": "y"
        },
        {
         "hovertemplate": "Country_Name=India<br>Year=1970-01-01 00:00:00.000001990<br>GDP (in Billion USD)=%{marker.size}<br>Energy Use (in kg of oil equivalent per capita)=%{y}<extra></extra>",
         "legendgroup": "India",
         "marker": {
          "color": "#00cc96",
          "size": [
           351.212138119043
          ],
          "sizemode": "area",
          "sizeref": 20.142159624869375,
          "symbol": "circle"
         },
         "mode": "markers",
         "name": "India",
         "orientation": "v",
         "showlegend": true,
         "type": "scatter",
         "x": [
          351.212138119043
         ],
         "xaxis": "x",
         "y": [
          0.647451316293756
         ],
         "yaxis": "y"
        },
        {
         "hovertemplate": "Country_Name=Japan<br>Year=1970-01-01 00:00:00.000001990<br>GDP (in Billion USD)=%{marker.size}<br>Energy Use (in kg of oil equivalent per capita)=%{y}<extra></extra>",
         "legendgroup": "Japan",
         "marker": {
          "color": "#ab63fa",
          "size": [
           3552.8585820956
          ],
          "sizemode": "area",
          "sizeref": 20.142159624869375,
          "symbol": "circle"
         },
         "mode": "markers",
         "name": "Japan",
         "orientation": "v",
         "showlegend": true,
         "type": "scatter",
         "x": [
          3552.8585820956
         ],
         "xaxis": "x",
         "y": [
          8.83159834140495
         ],
         "yaxis": "y"
        },
        {
         "hovertemplate": "Country_Name=United States<br>Year=1970-01-01 00:00:00.000001990<br>GDP (in Billion USD)=%{marker.size}<br>Energy Use (in kg of oil equivalent per capita)=%{y}<extra></extra>",
         "legendgroup": "United States",
         "marker": {
          "color": "#FFA15A",
          "size": [
           7671.7730657832
          ],
          "sizemode": "area",
          "sizeref": 20.142159624869375,
          "symbol": "circle"
         },
         "mode": "markers",
         "name": "United States",
         "orientation": "v",
         "showlegend": true,
         "type": "scatter",
         "x": [
          7671.7730657832
         ],
         "xaxis": "x",
         "y": [
          19.4073358624806
         ],
         "yaxis": "y"
        }
       ],
       "frames": [
        {
         "data": [
          {
           "hovertemplate": "Country_Name=China<br>Year=1970-01-01 00:00:00.000001990<br>GDP (in Billion USD)=%{marker.size}<br>Energy Use (in kg of oil equivalent per capita)=%{y}<extra></extra>",
           "legendgroup": "China",
           "marker": {
            "color": "#636efa",
            "size": [
             766.995329395649
            ],
            "sizemode": "area",
            "sizeref": 20.142159624869375,
            "symbol": "circle"
           },
           "mode": "markers",
           "name": "China",
           "orientation": "v",
           "showlegend": true,
           "type": "scatter",
           "x": [
            766.995329395649
           ],
           "xaxis": "x",
           "y": [
            1.91454626338438
           ],
           "yaxis": "y"
          },
          {
           "hovertemplate": "Country_Name=Germany<br>Year=1970-01-01 00:00:00.000001990<br>GDP (in Billion USD)=%{marker.size}<br>Energy Use (in kg of oil equivalent per capita)=%{y}<extra></extra>",
           "legendgroup": "Germany",
           "marker": {
            "color": "#EF553B",
            "size": [
             4421.36453086788
            ],
            "sizemode": "area",
            "sizeref": 20.142159624869375,
            "symbol": "circle"
           },
           "mode": "markers",
           "name": "Germany",
           "orientation": "v",
           "showlegend": true,
           "type": "scatter",
           "x": [
            4421.36453086788
           ],
           "xaxis": "x",
           "y": [
            12.0265802780856
           ],
           "yaxis": "y"
          },
          {
           "hovertemplate": "Country_Name=India<br>Year=1970-01-01 00:00:00.000001990<br>GDP (in Billion USD)=%{marker.size}<br>Energy Use (in kg of oil equivalent per capita)=%{y}<extra></extra>",
           "legendgroup": "India",
           "marker": {
            "color": "#00cc96",
            "size": [
             351.212138119043
            ],
            "sizemode": "area",
            "sizeref": 20.142159624869375,
            "symbol": "circle"
           },
           "mode": "markers",
           "name": "India",
           "orientation": "v",
           "showlegend": true,
           "type": "scatter",
           "x": [
            351.212138119043
           ],
           "xaxis": "x",
           "y": [
            0.647451316293756
           ],
           "yaxis": "y"
          },
          {
           "hovertemplate": "Country_Name=Japan<br>Year=1970-01-01 00:00:00.000001990<br>GDP (in Billion USD)=%{marker.size}<br>Energy Use (in kg of oil equivalent per capita)=%{y}<extra></extra>",
           "legendgroup": "Japan",
           "marker": {
            "color": "#ab63fa",
            "size": [
             3552.8585820956
            ],
            "sizemode": "area",
            "sizeref": 20.142159624869375,
            "symbol": "circle"
           },
           "mode": "markers",
           "name": "Japan",
           "orientation": "v",
           "showlegend": true,
           "type": "scatter",
           "x": [
            3552.8585820956
           ],
           "xaxis": "x",
           "y": [
            8.83159834140495
           ],
           "yaxis": "y"
          },
          {
           "hovertemplate": "Country_Name=United States<br>Year=1970-01-01 00:00:00.000001990<br>GDP (in Billion USD)=%{marker.size}<br>Energy Use (in kg of oil equivalent per capita)=%{y}<extra></extra>",
           "legendgroup": "United States",
           "marker": {
            "color": "#FFA15A",
            "size": [
             7671.7730657832
            ],
            "sizemode": "area",
            "sizeref": 20.142159624869375,
            "symbol": "circle"
           },
           "mode": "markers",
           "name": "United States",
           "orientation": "v",
           "showlegend": true,
           "type": "scatter",
           "x": [
            7671.7730657832
           ],
           "xaxis": "x",
           "y": [
            19.4073358624806
           ],
           "yaxis": "y"
          }
         ],
         "name": "1970-01-01 00:00:00.000001990"
        },
        {
         "data": [
          {
           "hovertemplate": "Country_Name=China<br>Year=1970-01-01 00:00:00.000001991<br>GDP (in Billion USD)=%{marker.size}<br>Energy Use (in kg of oil equivalent per capita)=%{y}<extra></extra>",
           "legendgroup": "China",
           "marker": {
            "color": "#636efa",
            "size": [
             736.851801386885
            ],
            "sizemode": "area",
            "sizeref": 20.142159624869375,
            "symbol": "circle"
           },
           "mode": "markers",
           "name": "China",
           "orientation": "v",
           "showlegend": true,
           "type": "scatter",
           "x": [
            736.851801386885
           ],
           "xaxis": "x",
           "y": [
            2.00054328368585
           ],
           "yaxis": "y"
          },
          {
           "hovertemplate": "Country_Name=Germany<br>Year=1970-01-01 00:00:00.000001991<br>GDP (in Billion USD)=%{marker.size}<br>Energy Use (in kg of oil equivalent per capita)=%{y}<extra></extra>",
           "legendgroup": "Germany",
           "marker": {
            "color": "#EF553B",
            "size": [
             4302.89117530285
            ],
            "sizemode": "area",
            "sizeref": 20.142159624869375,
            "symbol": "circle"
           },
           "mode": "markers",
           "name": "Germany",
           "orientation": "v",
           "showlegend": true,
           "type": "scatter",
           "x": [
            4302.89117530285
           ],
           "xaxis": "x",
           "y": [
            11.6548268065837
           ],
           "yaxis": "y"
          },
          {
           "hovertemplate": "Country_Name=India<br>Year=1970-01-01 00:00:00.000001991<br>GDP (in Billion USD)=%{marker.size}<br>Energy Use (in kg of oil equivalent per capita)=%{y}<extra></extra>",
           "legendgroup": "India",
           "marker": {
            "color": "#00cc96",
            "size": [
             358.304036063303
            ],
            "sizemode": "area",
            "sizeref": 20.142159624869375,
            "symbol": "circle"
           },
           "mode": "markers",
           "name": "India",
           "orientation": "v",
           "showlegend": true,
           "type": "scatter",
           "x": [
            358.304036063303
           ],
           "xaxis": "x",
           "y": [
            0.683086373096417
           ],
           "yaxis": "y"
          },
          {
           "hovertemplate": "Country_Name=Japan<br>Year=1970-01-01 00:00:00.000001991<br>GDP (in Billion USD)=%{marker.size}<br>Energy Use (in kg of oil equivalent per capita)=%{y}<extra></extra>",
           "legendgroup": "Japan",
           "marker": {
            "color": "#ab63fa",
            "size": [
             3574.00592914072
            ],
            "sizemode": "area",
            "sizeref": 20.142159624869375,
            "symbol": "circle"
           },
           "mode": "markers",
           "name": "Japan",
           "orientation": "v",
           "showlegend": true,
           "type": "scatter",
           "x": [
            3574.00592914072
           ],
           "xaxis": "x",
           "y": [
            8.90549917718047
           ],
           "yaxis": "y"
          },
          {
           "hovertemplate": "Country_Name=United States<br>Year=1970-01-01 00:00:00.000001991<br>GDP (in Billion USD)=%{marker.size}<br>Energy Use (in kg of oil equivalent per capita)=%{y}<extra></extra>",
           "legendgroup": "United States",
           "marker": {
            "color": "#FFA15A",
            "size": [
             7631.46780588265
            ],
            "sizemode": "area",
            "sizeref": 20.142159624869375,
            "symbol": "circle"
           },
           "mode": "markers",
           "name": "United States",
           "orientation": "v",
           "showlegend": true,
           "type": "scatter",
           "x": [
            7631.46780588265
           ],
           "xaxis": "x",
           "y": [
            19.0033895826169
           ],
           "yaxis": "y"
          }
         ],
         "name": "1970-01-01 00:00:00.000001991"
        },
        {
         "data": [
          {
           "hovertemplate": "Country_Name=China<br>Year=1970-01-01 00:00:00.000001992<br>GDP (in Billion USD)=%{marker.size}<br>Energy Use (in kg of oil equivalent per capita)=%{y}<extra></extra>",
           "legendgroup": "China",
           "marker": {
            "color": "#636efa",
            "size": [
             752.628662540666
            ],
            "sizemode": "area",
            "sizeref": 20.142159624869375,
            "symbol": "circle"
           },
           "mode": "markers",
           "name": "China",
           "orientation": "v",
           "showlegend": true,
           "type": "scatter",
           "x": [
            752.628662540666
           ],
           "xaxis": "x",
           "y": [
            2.07574040533233
           ],
           "yaxis": "y"
          },
          {
           "hovertemplate": "Country_Name=Germany<br>Year=1970-01-01 00:00:00.000001992<br>GDP (in Billion USD)=%{marker.size}<br>Energy Use (in kg of oil equivalent per capita)=%{y}<extra></extra>",
           "legendgroup": "Germany",
           "marker": {
            "color": "#EF553B",
            "size": [
             4190.98422047326
            ],
            "sizemode": "area",
            "sizeref": 20.142159624869375,
            "symbol": "circle"
           },
           "mode": "markers",
           "name": "Germany",
           "orientation": "v",
           "showlegend": true,
           "type": "scatter",
           "x": [
            4190.98422047326
           ],
           "xaxis": "x",
           "y": [
            11.0737594003259
           ],
           "yaxis": "y"
          },
          {
           "hovertemplate": "Country_Name=India<br>Year=1970-01-01 00:00:00.000001992<br>GDP (in Billion USD)=%{marker.size}<br>Energy Use (in kg of oil equivalent per capita)=%{y}<extra></extra>",
           "legendgroup": "India",
           "marker": {
            "color": "#00cc96",
            "size": [
             363.771625426897
            ],
            "sizemode": "area",
            "sizeref": 20.142159624869375,
            "symbol": "circle"
           },
           "mode": "markers",
           "name": "India",
           "orientation": "v",
           "showlegend": true,
           "type": "scatter",
           "x": [
            363.771625426897
           ],
           "xaxis": "x",
           "y": [
            0.690074050365449
           ],
           "yaxis": "y"
          },
          {
           "hovertemplate": "Country_Name=Japan<br>Year=1970-01-01 00:00:00.000001992<br>GDP (in Billion USD)=%{marker.size}<br>Energy Use (in kg of oil equivalent per capita)=%{y}<extra></extra>",
           "legendgroup": "Japan",
           "marker": {
            "color": "#ab63fa",
            "size": [
             3644.19475989552
            ],
            "sizemode": "area",
            "sizeref": 20.142159624869375,
            "symbol": "circle"
           },
           "mode": "markers",
           "name": "Japan",
           "orientation": "v",
           "showlegend": true,
           "type": "scatter",
           "x": [
            3644.19475989552
           ],
           "xaxis": "x",
           "y": [
            8.96150371709865
           ],
           "yaxis": "y"
          },
          {
           "hovertemplate": "Country_Name=United States<br>Year=1970-01-01 00:00:00.000001992<br>GDP (in Billion USD)=%{marker.size}<br>Energy Use (in kg of oil equivalent per capita)=%{y}<extra></extra>",
           "legendgroup": "United States",
           "marker": {
            "color": "#FFA15A",
            "size": [
             7677.40140109312
            ],
            "sizemode": "area",
            "sizeref": 20.142159624869375,
            "symbol": "circle"
           },
           "mode": "markers",
           "name": "United States",
           "orientation": "v",
           "showlegend": true,
           "type": "scatter",
           "x": [
            7677.40140109312
           ],
           "xaxis": "x",
           "y": [
            19.0228451468536
           ],
           "yaxis": "y"
          }
         ],
         "name": "1970-01-01 00:00:00.000001992"
        },
        {
         "data": [
          {
           "hovertemplate": "Country_Name=China<br>Year=1970-01-01 00:00:00.000001993<br>GDP (in Billion USD)=%{marker.size}<br>Energy Use (in kg of oil equivalent per capita)=%{y}<extra></extra>",
           "legendgroup": "China",
           "marker": {
            "color": "#636efa",
            "size": [
             788.128723566749
            ],
            "sizemode": "area",
            "sizeref": 20.142159624869375,
            "symbol": "circle"
           },
           "mode": "markers",
           "name": "China",
           "orientation": "v",
           "showlegend": true,
           "type": "scatter",
           "x": [
            788.128723566749
           ],
           "xaxis": "x",
           "y": [
            2.24484207935915
           ],
           "yaxis": "y"
          },
          {
           "hovertemplate": "Country_Name=Germany<br>Year=1970-01-01 00:00:00.000001993<br>GDP (in Billion USD)=%{marker.size}<br>Energy Use (in kg of oil equivalent per capita)=%{y}<extra></extra>",
           "legendgroup": "Germany",
           "marker": {
            "color": "#EF553B",
            "size": [
             4122.69573982757
            ],
            "sizemode": "area",
            "sizeref": 20.142159624869375,
            "symbol": "circle"
           },
           "mode": "markers",
           "name": "Germany",
           "orientation": "v",
           "showlegend": true,
           "type": "scatter",
           "x": [
            4122.69573982757
           ],
           "xaxis": "x",
           "y": [
            10.9302212076704
           ],
           "yaxis": "y"
          },
          {
           "hovertemplate": "Country_Name=India<br>Year=1970-01-01 00:00:00.000001993<br>GDP (in Billion USD)=%{marker.size}<br>Energy Use (in kg of oil equivalent per capita)=%{y}<extra></extra>",
           "legendgroup": "India",
           "marker": {
            "color": "#00cc96",
            "size": [
             364.928679967077
            ],
            "sizemode": "area",
            "sizeref": 20.142159624869375,
            "symbol": "circle"
           },
           "mode": "markers",
           "name": "India",
           "orientation": "v",
           "showlegend": true,
           "type": "scatter",
           "x": [
            364.928679967077
           ],
           "xaxis": "x",
           "y": [
            0.70313616671063
           ],
           "yaxis": "y"
          },
          {
           "hovertemplate": "Country_Name=Japan<br>Year=1970-01-01 00:00:00.000001993<br>GDP (in Billion USD)=%{marker.size}<br>Energy Use (in kg of oil equivalent per capita)=%{y}<extra></extra>",
           "legendgroup": "Japan",
           "marker": {
            "color": "#ab63fa",
            "size": [
             3655.96684264073
            ],
            "sizemode": "area",
            "sizeref": 20.142159624869375,
            "symbol": "circle"
           },
           "mode": "markers",
           "name": "Japan",
           "orientation": "v",
           "showlegend": true,
           "type": "scatter",
           "x": [
            3655.96684264073
           ],
           "xaxis": "x",
           "y": [
            8.87283243477077
           ],
           "yaxis": "y"
          },
          {
           "hovertemplate": "Country_Name=United States<br>Year=1970-01-01 00:00:00.000001993<br>GDP (in Billion USD)=%{marker.size}<br>Energy Use (in kg of oil equivalent per capita)=%{y}<extra></extra>",
           "legendgroup": "United States",
           "marker": {
            "color": "#FFA15A",
            "size": [
             7709.49658932206
            ],
            "sizemode": "area",
            "sizeref": 20.142159624869375,
            "symbol": "circle"
           },
           "mode": "markers",
           "name": "United States",
           "orientation": "v",
           "showlegend": true,
           "type": "scatter",
           "x": [
            7709.49658932206
           ],
           "xaxis": "x",
           "y": [
            19.2183314801919
           ],
           "yaxis": "y"
          }
         ],
         "name": "1970-01-01 00:00:00.000001993"
        },
        {
         "data": [
          {
           "hovertemplate": "Country_Name=China<br>Year=1970-01-01 00:00:00.000001994<br>GDP (in Billion USD)=%{marker.size}<br>Energy Use (in kg of oil equivalent per capita)=%{y}<extra></extra>",
           "legendgroup": "China",
           "marker": {
            "color": "#636efa",
            "size": [
             816.162889997357
            ],
            "sizemode": "area",
            "sizeref": 20.142159624869375,
            "symbol": "circle"
           },
           "mode": "markers",
           "name": "China",
           "orientation": "v",
           "showlegend": true,
           "type": "scatter",
           "x": [
            816.162889997357
           ],
           "xaxis": "x",
           "y": [
            2.32218922921378
           ],
           "yaxis": "y"
          },
          {
           "hovertemplate": "Country_Name=Germany<br>Year=1970-01-01 00:00:00.000001994<br>GDP (in Billion USD)=%{marker.size}<br>Energy Use (in kg of oil equivalent per capita)=%{y}<extra></extra>",
           "legendgroup": "Germany",
           "marker": {
            "color": "#EF553B",
            "size": [
             4088.79812984419
            ],
            "sizemode": "area",
            "sizeref": 20.142159624869375,
            "symbol": "circle"
           },
           "mode": "markers",
           "name": "Germany",
           "orientation": "v",
           "showlegend": true,
           "type": "scatter",
           "x": [
            4088.79812984419
           ],
           "xaxis": "x",
           "y": [
            10.7553397325791
           ],
           "yaxis": "y"
          },
          {
           "hovertemplate": "Country_Name=India<br>Year=1970-01-01 00:00:00.000001994<br>GDP (in Billion USD)=%{marker.size}<br>Energy Use (in kg of oil equivalent per capita)=%{y}<extra></extra>",
           "legendgroup": "India",
           "marker": {
            "color": "#00cc96",
            "size": [
             371.359388822458
            ],
            "sizemode": "area",
            "sizeref": 20.142159624869375,
            "symbol": "circle"
           },
           "mode": "markers",
           "name": "India",
           "orientation": "v",
           "showlegend": true,
           "type": "scatter",
           "x": [
            371.359388822458
           ],
           "xaxis": "x",
           "y": [
            0.725622134896071
           ],
           "yaxis": "y"
          },
          {
           "hovertemplate": "Country_Name=Japan<br>Year=1970-01-01 00:00:00.000001994<br>GDP (in Billion USD)=%{marker.size}<br>Energy Use (in kg of oil equivalent per capita)=%{y}<extra></extra>",
           "legendgroup": "Japan",
           "marker": {
            "color": "#ab63fa",
            "size": [
             3844.28667976801
            ],
            "sizemode": "area",
            "sizeref": 20.142159624869375,
            "symbol": "circle"
           },
           "mode": "markers",
           "name": "Japan",
           "orientation": "v",
           "showlegend": true,
           "type": "scatter",
           "x": [
            3844.28667976801
           ],
           "xaxis": "x",
           "y": [
            9.27283628113566
           ],
           "yaxis": "y"
          },
          {
           "hovertemplate": "Country_Name=United States<br>Year=1970-01-01 00:00:00.000001994<br>GDP (in Billion USD)=%{marker.size}<br>Energy Use (in kg of oil equivalent per capita)=%{y}<extra></extra>",
           "legendgroup": "United States",
           "marker": {
            "color": "#FFA15A",
            "size": [
             7757.83082249569
            ],
            "sizemode": "area",
            "sizeref": 20.142159624869375,
            "symbol": "circle"
           },
           "mode": "markers",
           "name": "United States",
           "orientation": "v",
           "showlegend": true,
           "type": "scatter",
           "x": [
            7757.83082249569
           ],
           "xaxis": "x",
           "y": [
            19.2561852496523
           ],
           "yaxis": "y"
          }
         ],
         "name": "1970-01-01 00:00:00.000001994"
        },
        {
         "data": [
          {
           "hovertemplate": "Country_Name=China<br>Year=1970-01-01 00:00:00.000001995<br>GDP (in Billion USD)=%{marker.size}<br>Energy Use (in kg of oil equivalent per capita)=%{y}<extra></extra>",
           "legendgroup": "China",
           "marker": {
            "color": "#636efa",
            "size": [
             866.834374260803
            ],
            "sizemode": "area",
            "sizeref": 20.142159624869375,
            "symbol": "circle"
           },
           "mode": "markers",
           "name": "China",
           "orientation": "v",
           "showlegend": true,
           "type": "scatter",
           "x": [
            866.834374260803
           ],
           "xaxis": "x",
           "y": [
            2.5634787588548
           ],
           "yaxis": "y"
          },
          {
           "hovertemplate": "Country_Name=Germany<br>Year=1970-01-01 00:00:00.000001995<br>GDP (in Billion USD)=%{marker.size}<br>Energy Use (in kg of oil equivalent per capita)=%{y}<extra></extra>",
           "legendgroup": "Germany",
           "marker": {
            "color": "#EF553B",
            "size": [
             4119.68894801371
            ],
            "sizemode": "area",
            "sizeref": 20.142159624869375,
            "symbol": "circle"
           },
           "mode": "markers",
           "name": "Germany",
           "orientation": "v",
           "showlegend": true,
           "type": "scatter",
           "x": [
            4119.68894801371
           ],
           "xaxis": "x",
           "y": [
            10.7086223200894
           ],
           "yaxis": "y"
          },
          {
           "hovertemplate": "Country_Name=India<br>Year=1970-01-01 00:00:00.000001995<br>GDP (in Billion USD)=%{marker.size}<br>Energy Use (in kg of oil equivalent per capita)=%{y}<extra></extra>",
           "legendgroup": "India",
           "marker": {
            "color": "#00cc96",
            "size": [
             384.949469335657
            ],
            "sizemode": "area",
            "sizeref": 20.142159624869375,
            "symbol": "circle"
           },
           "mode": "markers",
           "name": "India",
           "orientation": "v",
           "showlegend": true,
           "type": "scatter",
           "x": [
            384.949469335657
           ],
           "xaxis": "x",
           "y": [
            0.765189640436571
           ],
           "yaxis": "y"
          },
          {
           "hovertemplate": "Country_Name=Japan<br>Year=1970-01-01 00:00:00.000001995<br>GDP (in Billion USD)=%{marker.size}<br>Energy Use (in kg of oil equivalent per capita)=%{y}<extra></extra>",
           "legendgroup": "Japan",
           "marker": {
            "color": "#ab63fa",
            "size": [
             3934.9595606988
            ],
            "sizemode": "area",
            "sizeref": 20.142159624869375,
            "symbol": "circle"
           },
           "mode": "markers",
           "name": "Japan",
           "orientation": "v",
           "showlegend": true,
           "type": "scatter",
           "x": [
            3934.9595606988
           ],
           "xaxis": "x",
           "y": [
            9.33264313950523
           ],
           "yaxis": "y"
          },
          {
           "hovertemplate": "Country_Name=United States<br>Year=1970-01-01 00:00:00.000001995<br>GDP (in Billion USD)=%{marker.size}<br>Energy Use (in kg of oil equivalent per capita)=%{y}<extra></extra>",
           "legendgroup": "United States",
           "marker": {
            "color": "#FFA15A",
            "size": [
             7763.75510556636
            ],
            "sizemode": "area",
            "sizeref": 20.142159624869375,
            "symbol": "circle"
           },
           "mode": "markers",
           "name": "United States",
           "orientation": "v",
           "showlegend": true,
           "type": "scatter",
           "x": [
            7763.75510556636
           ],
           "xaxis": "x",
           "y": [
            19.216897002381
           ],
           "yaxis": "y"
          }
         ],
         "name": "1970-01-01 00:00:00.000001995"
        },
        {
         "data": [
          {
           "hovertemplate": "Country_Name=China<br>Year=1970-01-01 00:00:00.000001996<br>GDP (in Billion USD)=%{marker.size}<br>Energy Use (in kg of oil equivalent per capita)=%{y}<extra></extra>",
           "legendgroup": "China",
           "marker": {
            "color": "#636efa",
            "size": [
             881.653737423514
            ],
            "sizemode": "area",
            "sizeref": 20.142159624869375,
            "symbol": "circle"
           },
           "mode": "markers",
           "name": "China",
           "orientation": "v",
           "showlegend": true,
           "type": "scatter",
           "x": [
            881.653737423514
           ],
           "xaxis": "x",
           "y": [
            2.52187187384502
           ],
           "yaxis": "y"
          },
          {
           "hovertemplate": "Country_Name=Germany<br>Year=1970-01-01 00:00:00.000001996<br>GDP (in Billion USD)=%{marker.size}<br>Energy Use (in kg of oil equivalent per capita)=%{y}<extra></extra>",
           "legendgroup": "Germany",
           "marker": {
            "color": "#EF553B",
            "size": [
             4246.55319132624
            ],
            "sizemode": "area",
            "sizeref": 20.142159624869375,
            "symbol": "circle"
           },
           "mode": "markers",
           "name": "Germany",
           "orientation": "v",
           "showlegend": true,
           "type": "scatter",
           "x": [
            4246.55319132624
           ],
           "xaxis": "x",
           "y": [
            11.0399715040613
           ],
           "yaxis": "y"
          },
          {
           "hovertemplate": "Country_Name=India<br>Year=1970-01-01 00:00:00.000001996<br>GDP (in Billion USD)=%{marker.size}<br>Energy Use (in kg of oil equivalent per capita)=%{y}<extra></extra>",
           "legendgroup": "India",
           "marker": {
            "color": "#00cc96",
            "size": [
             389.063747986692
            ],
            "sizemode": "area",
            "sizeref": 20.142159624869375,
            "symbol": "circle"
           },
           "mode": "markers",
           "name": "India",
           "orientation": "v",
           "showlegend": true,
           "type": "scatter",
           "x": [
            389.063747986692
           ],
           "xaxis": "x",
           "y": [
            0.787231756113946
           ],
           "yaxis": "y"
          },
          {
           "hovertemplate": "Country_Name=Japan<br>Year=1970-01-01 00:00:00.000001996<br>GDP (in Billion USD)=%{marker.size}<br>Energy Use (in kg of oil equivalent per capita)=%{y}<extra></extra>",
           "legendgroup": "Japan",
           "marker": {
            "color": "#ab63fa",
            "size": [
             4008.4762359153
            ],
            "sizemode": "area",
            "sizeref": 20.142159624869375,
            "symbol": "circle"
           },
           "mode": "markers",
           "name": "Japan",
           "orientation": "v",
           "showlegend": true,
           "type": "scatter",
           "x": [
            4008.4762359153
           ],
           "xaxis": "x",
           "y": [
            9.42012452587132
           ],
           "yaxis": "y"
          },
          {
           "hovertemplate": "Country_Name=United States<br>Year=1970-01-01 00:00:00.000001996<br>GDP (in Billion USD)=%{marker.size}<br>Energy Use (in kg of oil equivalent per capita)=%{y}<extra></extra>",
           "legendgroup": "United States",
           "marker": {
            "color": "#FFA15A",
            "size": [
             7844.46826581141
            ],
            "sizemode": "area",
            "sizeref": 20.142159624869375,
            "symbol": "circle"
           },
           "mode": "markers",
           "name": "United States",
           "orientation": "v",
           "showlegend": true,
           "type": "scatter",
           "x": [
            7844.46826581141
           ],
           "xaxis": "x",
           "y": [
            19.5753665634721
           ],
           "yaxis": "y"
          }
         ],
         "name": "1970-01-01 00:00:00.000001996"
        },
        {
         "data": [
          {
           "hovertemplate": "Country_Name=China<br>Year=1970-01-01 00:00:00.000001997<br>GDP (in Billion USD)=%{marker.size}<br>Energy Use (in kg of oil equivalent per capita)=%{y}<extra></extra>",
           "legendgroup": "China",
           "marker": {
            "color": "#636efa",
            "size": [
             871.756323801394
            ],
            "sizemode": "area",
            "sizeref": 20.142159624869375,
            "symbol": "circle"
           },
           "mode": "markers",
           "name": "China",
           "orientation": "v",
           "showlegend": true,
           "type": "scatter",
           "x": [
            871.756323801394
           ],
           "xaxis": "x",
           "y": [
            2.54790366441071
           ],
           "yaxis": "y"
          },
          {
           "hovertemplate": "Country_Name=Germany<br>Year=1970-01-01 00:00:00.000001997<br>GDP (in Billion USD)=%{marker.size}<br>Energy Use (in kg of oil equivalent per capita)=%{y}<extra></extra>",
           "legendgroup": "Germany",
           "marker": {
            "color": "#EF553B",
            "size": [
             4203.35736659763
            ],
            "sizemode": "area",
            "sizeref": 20.142159624869375,
            "symbol": "circle"
           },
           "mode": "markers",
           "name": "Germany",
           "orientation": "v",
           "showlegend": true,
           "type": "scatter",
           "x": [
            4203.35736659763
           ],
           "xaxis": "x",
           "y": [
            10.6375197902363
           ],
           "yaxis": "y"
          },
          {
           "hovertemplate": "Country_Name=India<br>Year=1970-01-01 00:00:00.000001997<br>GDP (in Billion USD)=%{marker.size}<br>Energy Use (in kg of oil equivalent per capita)=%{y}<extra></extra>",
           "legendgroup": "India",
           "marker": {
            "color": "#00cc96",
            "size": [
             396.809196260616
            ],
            "sizemode": "area",
            "sizeref": 20.142159624869375,
            "symbol": "circle"
           },
           "mode": "markers",
           "name": "India",
           "orientation": "v",
           "showlegend": true,
           "type": "scatter",
           "x": [
            396.809196260616
           ],
           "xaxis": "x",
           "y": [
            0.817360076229187
           ],
           "yaxis": "y"
          },
          {
           "hovertemplate": "Country_Name=Japan<br>Year=1970-01-01 00:00:00.000001997<br>GDP (in Billion USD)=%{marker.size}<br>Energy Use (in kg of oil equivalent per capita)=%{y}<extra></extra>",
           "legendgroup": "Japan",
           "marker": {
            "color": "#ab63fa",
            "size": [
             4041.16767018095
            ],
            "sizemode": "area",
            "sizeref": 20.142159624869375,
            "symbol": "circle"
           },
           "mode": "markers",
           "name": "Japan",
           "orientation": "v",
           "showlegend": true,
           "type": "scatter",
           "x": [
            4041.16767018095
           ],
           "xaxis": "x",
           "y": [
            9.30217361987038
           ],
           "yaxis": "y"
          },
          {
           "hovertemplate": "Country_Name=United States<br>Year=1970-01-01 00:00:00.000001997<br>GDP (in Billion USD)=%{marker.size}<br>Energy Use (in kg of oil equivalent per capita)=%{y}<extra></extra>",
           "legendgroup": "United States",
           "marker": {
            "color": "#FFA15A",
            "size": [
             7828.58109639584
            ],
            "sizemode": "area",
            "sizeref": 20.142159624869375,
            "symbol": "circle"
           },
           "mode": "markers",
           "name": "United States",
           "orientation": "v",
           "showlegend": true,
           "type": "scatter",
           "x": [
            7828.58109639584
           ],
           "xaxis": "x",
           "y": [
            20.3308530498025
           ],
           "yaxis": "y"
          }
         ],
         "name": "1970-01-01 00:00:00.000001997"
        },
        {
         "data": [
          {
           "hovertemplate": "Country_Name=China<br>Year=1970-01-01 00:00:00.000001998<br>GDP (in Billion USD)=%{marker.size}<br>Energy Use (in kg of oil equivalent per capita)=%{y}<extra></extra>",
           "legendgroup": "China",
           "marker": {
            "color": "#636efa",
            "size": [
             869.358607334522
            ],
            "sizemode": "area",
            "sizeref": 20.142159624869375,
            "symbol": "circle"
           },
           "mode": "markers",
           "name": "China",
           "orientation": "v",
           "showlegend": true,
           "type": "scatter",
           "x": [
            869.358607334522
           ],
           "xaxis": "x",
           "y": [
            2.60583573214379
           ],
           "yaxis": "y"
          },
          {
           "hovertemplate": "Country_Name=Germany<br>Year=1970-01-01 00:00:00.000001998<br>GDP (in Billion USD)=%{marker.size}<br>Energy Use (in kg of oil equivalent per capita)=%{y}<extra></extra>",
           "legendgroup": "Germany",
           "marker": {
            "color": "#EF553B",
            "size": [
             4177.29412931179
            ],
            "sizemode": "area",
            "sizeref": 20.142159624869375,
            "symbol": "circle"
           },
           "mode": "markers",
           "name": "Germany",
           "orientation": "v",
           "showlegend": true,
           "type": "scatter",
           "x": [
            4177.29412931179
           ],
           "xaxis": "x",
           "y": [
            10.545804765172
           ],
           "yaxis": "y"
          },
          {
           "hovertemplate": "Country_Name=India<br>Year=1970-01-01 00:00:00.000001998<br>GDP (in Billion USD)=%{marker.size}<br>Energy Use (in kg of oil equivalent per capita)=%{y}<extra></extra>",
           "legendgroup": "India",
           "marker": {
            "color": "#00cc96",
            "size": [
             398.735766900454
            ],
            "sizemode": "area",
            "sizeref": 20.142159624869375,
            "symbol": "circle"
           },
           "mode": "markers",
           "name": "India",
           "orientation": "v",
           "showlegend": true,
           "type": "scatter",
           "x": [
            398.735766900454
           ],
           "xaxis": "x",
           "y": [
            0.818720963289576
           ],
           "yaxis": "y"
          },
          {
           "hovertemplate": "Country_Name=Japan<br>Year=1970-01-01 00:00:00.000001998<br>GDP (in Billion USD)=%{marker.size}<br>Energy Use (in kg of oil equivalent per capita)=%{y}<extra></extra>",
           "legendgroup": "Japan",
           "marker": {
            "color": "#ab63fa",
            "size": [
             3955.62762658228
            ],
            "sizemode": "area",
            "sizeref": 20.142159624869375,
            "symbol": "circle"
           },
           "mode": "markers",
           "name": "Japan",
           "orientation": "v",
           "showlegend": true,
           "type": "scatter",
           "x": [
            3955.62762658228
           ],
           "xaxis": "x",
           "y": [
            8.94209256329114
           ],
           "yaxis": "y"
          },
          {
           "hovertemplate": "Country_Name=United States<br>Year=1970-01-01 00:00:00.000001998<br>GDP (in Billion USD)=%{marker.size}<br>Energy Use (in kg of oil equivalent per capita)=%{y}<extra></extra>",
           "legendgroup": "United States",
           "marker": {
            "color": "#FFA15A",
            "size": [
             7803.69760452993
            ],
            "sizemode": "area",
            "sizeref": 20.142159624869375,
            "symbol": "circle"
           },
           "mode": "markers",
           "name": "United States",
           "orientation": "v",
           "showlegend": true,
           "type": "scatter",
           "x": [
            7803.69760452993
           ],
           "xaxis": "x",
           "y": [
            20.2662868763911
           ],
           "yaxis": "y"
          }
         ],
         "name": "1970-01-01 00:00:00.000001998"
        },
        {
         "data": [
          {
           "hovertemplate": "Country_Name=China<br>Year=1970-01-01 00:00:00.000001999<br>GDP (in Billion USD)=%{marker.size}<br>Energy Use (in kg of oil equivalent per capita)=%{y}<extra></extra>",
           "legendgroup": "China",
           "marker": {
            "color": "#636efa",
            "size": [
             878.52453551629
            ],
            "sizemode": "area",
            "sizeref": 20.142159624869375,
            "symbol": "circle"
           },
           "mode": "markers",
           "name": "China",
           "orientation": "v",
           "showlegend": true,
           "type": "scatter",
           "x": [
            878.52453551629
           ],
           "xaxis": "x",
           "y": [
            2.51742076336975
           ],
           "yaxis": "y"
          },
          {
           "hovertemplate": "Country_Name=Germany<br>Year=1970-01-01 00:00:00.000001999<br>GDP (in Billion USD)=%{marker.size}<br>Energy Use (in kg of oil equivalent per capita)=%{y}<extra></extra>",
           "legendgroup": "Germany",
           "marker": {
            "color": "#EF553B",
            "size": [
             4079.93334441166
            ],
            "sizemode": "area",
            "sizeref": 20.142159624869375,
            "symbol": "circle"
           },
           "mode": "markers",
           "name": "Germany",
           "orientation": "v",
           "showlegend": true,
           "type": "scatter",
           "x": [
            4079.93334441166
           ],
           "xaxis": "x",
           "y": [
            10.1533792049799
           ],
           "yaxis": "y"
          },
          {
           "hovertemplate": "Country_Name=India<br>Year=1970-01-01 00:00:00.000001999<br>GDP (in Billion USD)=%{marker.size}<br>Energy Use (in kg of oil equivalent per capita)=%{y}<extra></extra>",
           "legendgroup": "India",
           "marker": {
            "color": "#00cc96",
            "size": [
             413.988636852103
            ],
            "sizemode": "area",
            "sizeref": 20.142159624869375,
            "symbol": "circle"
           },
           "mode": "markers",
           "name": "India",
           "orientation": "v",
           "showlegend": true,
           "type": "scatter",
           "x": [
            413.988636852103
           ],
           "xaxis": "x",
           "y": [
            0.866242338513132
           ],
           "yaxis": "y"
          },
          {
           "hovertemplate": "Country_Name=Japan<br>Year=1970-01-01 00:00:00.000001999<br>GDP (in Billion USD)=%{marker.size}<br>Energy Use (in kg of oil equivalent per capita)=%{y}<extra></extra>",
           "legendgroup": "Japan",
           "marker": {
            "color": "#ab63fa",
            "size": [
             4011.22477908253
            ],
            "sizemode": "area",
            "sizeref": 20.142159624869375,
            "symbol": "circle"
           },
           "mode": "markers",
           "name": "Japan",
           "orientation": "v",
           "showlegend": true,
           "type": "scatter",
           "x": [
            4011.22477908253
           ],
           "xaxis": "x",
           "y": [
            9.23118904533645
           ],
           "yaxis": "y"
          },
          {
           "hovertemplate": "Country_Name=United States<br>Year=1970-01-01 00:00:00.000001999<br>GDP (in Billion USD)=%{marker.size}<br>Energy Use (in kg of oil equivalent per capita)=%{y}<extra></extra>",
           "legendgroup": "United States",
           "marker": {
            "color": "#FFA15A",
            "size": [
             7923.22389263188
            ],
            "sizemode": "area",
            "sizeref": 20.142159624869375,
            "symbol": "circle"
           },
           "mode": "markers",
           "name": "United States",
           "orientation": "v",
           "showlegend": true,
           "type": "scatter",
           "x": [
            7923.22389263188
           ],
           "xaxis": "x",
           "y": [
            20.1011227780963
           ],
           "yaxis": "y"
          }
         ],
         "name": "1970-01-01 00:00:00.000001999"
        },
        {
         "data": [
          {
           "hovertemplate": "Country_Name=China<br>Year=1970-01-01 00:00:00.000002<br>GDP (in Billion USD)=%{marker.size}<br>Energy Use (in kg of oil equivalent per capita)=%{y}<extra></extra>",
           "legendgroup": "China",
           "marker": {
            "color": "#636efa",
            "size": [
             898.987313140273
            ],
            "sizemode": "area",
            "sizeref": 20.142159624869375,
            "symbol": "circle"
           },
           "mode": "markers",
           "name": "China",
           "orientation": "v",
           "showlegend": true,
           "type": "scatter",
           "x": [
            898.987313140273
           ],
           "xaxis": "x",
           "y": [
            2.65040910152893
           ],
           "yaxis": "y"
          },
          {
           "hovertemplate": "Country_Name=Germany<br>Year=1970-01-01 00:00:00.000002<br>GDP (in Billion USD)=%{marker.size}<br>Energy Use (in kg of oil equivalent per capita)=%{y}<extra></extra>",
           "legendgroup": "Germany",
           "marker": {
            "color": "#EF553B",
            "size": [
             4094.0603595302
            ],
            "sizemode": "area",
            "sizeref": 20.142159624869375,
            "symbol": "circle"
           },
           "mode": "markers",
           "name": "Germany",
           "orientation": "v",
           "showlegend": true,
           "type": "scatter",
           "x": [
            4094.0603595302
           ],
           "xaxis": "x",
           "y": [
            10.0993658941276
           ],
           "yaxis": "y"
          },
          {
           "hovertemplate": "Country_Name=India<br>Year=1970-01-01 00:00:00.000002<br>GDP (in Billion USD)=%{marker.size}<br>Energy Use (in kg of oil equivalent per capita)=%{y}<extra></extra>",
           "legendgroup": "India",
           "marker": {
            "color": "#00cc96",
            "size": [
             416.083287462528
            ],
            "sizemode": "area",
            "sizeref": 20.142159624869375,
            "symbol": "circle"
           },
           "mode": "markers",
           "name": "India",
           "orientation": "v",
           "showlegend": true,
           "type": "scatter",
           "x": [
            416.083287462528
           ],
           "xaxis": "x",
           "y": [
            0.885077949226179
           ],
           "yaxis": "y"
          },
          {
           "hovertemplate": "Country_Name=Japan<br>Year=1970-01-01 00:00:00.000002<br>GDP (in Billion USD)=%{marker.size}<br>Energy Use (in kg of oil equivalent per capita)=%{y}<extra></extra>",
           "legendgroup": "Japan",
           "marker": {
            "color": "#ab63fa",
            "size": [
             4083.83169745276
            ],
            "sizemode": "area",
            "sizeref": 20.142159624869375,
            "symbol": "circle"
           },
           "mode": "markers",
           "name": "Japan",
           "orientation": "v",
           "showlegend": true,
           "type": "scatter",
           "x": [
            4083.83169745276
           ],
           "xaxis": "x",
           "y": [
            9.33772380028855
           ],
           "yaxis": "y"
          },
          {
           "hovertemplate": "Country_Name=United States<br>Year=1970-01-01 00:00:00.000002<br>GDP (in Billion USD)=%{marker.size}<br>Energy Use (in kg of oil equivalent per capita)=%{y}<extra></extra>",
           "legendgroup": "United States",
           "marker": {
            "color": "#FFA15A",
            "size": [
             8056.86384994775
            ],
            "sizemode": "area",
            "sizeref": 20.142159624869375,
            "symbol": "circle"
           },
           "mode": "markers",
           "name": "United States",
           "orientation": "v",
           "showlegend": true,
           "type": "scatter",
           "x": [
            8056.86384994775
           ],
           "xaxis": "x",
           "y": [
            20.4697967370289
           ],
           "yaxis": "y"
          }
         ],
         "name": "1970-01-01 00:00:00.000002"
        },
        {
         "data": [
          {
           "hovertemplate": "Country_Name=China<br>Year=1970-01-01 00:00:00.000002001<br>GDP (in Billion USD)=%{marker.size}<br>Energy Use (in kg of oil equivalent per capita)=%{y}<extra></extra>",
           "legendgroup": "China",
           "marker": {
            "color": "#636efa",
            "size": [
             928.811433738255
            ],
            "sizemode": "area",
            "sizeref": 20.142159624869375,
            "symbol": "circle"
           },
           "mode": "markers",
           "name": "China",
           "orientation": "v",
           "showlegend": true,
           "type": "scatter",
           "x": [
            928.811433738255
           ],
           "xaxis": "x",
           "y": [
            2.77476219679994
           ],
           "yaxis": "y"
          },
          {
           "hovertemplate": "Country_Name=Germany<br>Year=1970-01-01 00:00:00.000002001<br>GDP (in Billion USD)=%{marker.size}<br>Energy Use (in kg of oil equivalent per capita)=%{y}<extra></extra>",
           "legendgroup": "Germany",
           "marker": {
            "color": "#EF553B",
            "size": [
             4209.79608663882
            ],
            "sizemode": "area",
            "sizeref": 20.142159624869375,
            "symbol": "circle"
           },
           "mode": "markers",
           "name": "Germany",
           "orientation": "v",
           "showlegend": true,
           "type": "scatter",
           "x": [
            4209.79608663882
           ],
           "xaxis": "x",
           "y": [
            10.2936122892644
           ],
           "yaxis": "y"
          },
          {
           "hovertemplate": "Country_Name=India<br>Year=1970-01-01 00:00:00.000002001<br>GDP (in Billion USD)=%{marker.size}<br>Energy Use (in kg of oil equivalent per capita)=%{y}<extra></extra>",
           "legendgroup": "India",
           "marker": {
            "color": "#00cc96",
            "size": [
             414.483430552776
            ],
            "sizemode": "area",
            "sizeref": 20.142159624869375,
            "symbol": "circle"
           },
           "mode": "markers",
           "name": "India",
           "orientation": "v",
           "showlegend": true,
           "type": "scatter",
           "x": [
            414.483430552776
           ],
           "xaxis": "x",
           "y": [
            0.883746998008724
           ],
           "yaxis": "y"
          },
          {
           "hovertemplate": "Country_Name=Japan<br>Year=1970-01-01 00:00:00.000002001<br>GDP (in Billion USD)=%{marker.size}<br>Energy Use (in kg of oil equivalent per capita)=%{y}<extra></extra>",
           "legendgroup": "Japan",
           "marker": {
            "color": "#ab63fa",
            "size": [
             4008.26803199396
            ],
            "sizemode": "area",
            "sizeref": 20.142159624869375,
            "symbol": "circle"
           },
           "mode": "markers",
           "name": "Japan",
           "orientation": "v",
           "showlegend": true,
           "type": "scatter",
           "x": [
            4008.26803199396
           ],
           "xaxis": "x",
           "y": [
            9.22020228236164
           ],
           "yaxis": "y"
          },
          {
           "hovertemplate": "Country_Name=United States<br>Year=1970-01-01 00:00:00.000002001<br>GDP (in Billion USD)=%{marker.size}<br>Energy Use (in kg of oil equivalent per capita)=%{y}<extra></extra>",
           "legendgroup": "United States",
           "marker": {
            "color": "#FFA15A",
            "size": [
             7827.88632537183
            ],
            "sizemode": "area",
            "sizeref": 20.142159624869375,
            "symbol": "circle"
           },
           "mode": "markers",
           "name": "United States",
           "orientation": "v",
           "showlegend": true,
           "type": "scatter",
           "x": [
            7827.88632537183
           ],
           "xaxis": "x",
           "y": [
            20.1715369311018
           ],
           "yaxis": "y"
          }
         ],
         "name": "1970-01-01 00:00:00.000002001"
        },
        {
         "data": [
          {
           "hovertemplate": "Country_Name=China<br>Year=1970-01-01 00:00:00.000002002<br>GDP (in Billion USD)=%{marker.size}<br>Energy Use (in kg of oil equivalent per capita)=%{y}<extra></extra>",
           "legendgroup": "China",
           "marker": {
            "color": "#636efa",
            "size": [
             984.810714620431
            ],
            "sizemode": "area",
            "sizeref": 20.142159624869375,
            "symbol": "circle"
           },
           "mode": "markers",
           "name": "China",
           "orientation": "v",
           "showlegend": true,
           "type": "scatter",
           "x": [
            984.810714620431
           ],
           "xaxis": "x",
           "y": [
            2.96482122774133
           ],
           "yaxis": "y"
          },
          {
           "hovertemplate": "Country_Name=Germany<br>Year=1970-01-01 00:00:00.000002002<br>GDP (in Billion USD)=%{marker.size}<br>Energy Use (in kg of oil equivalent per capita)=%{y}<extra></extra>",
           "legendgroup": "Germany",
           "marker": {
            "color": "#EF553B",
            "size": [
             4108.40129887204
            ],
            "sizemode": "area",
            "sizeref": 20.142159624869375,
            "symbol": "circle"
           },
           "mode": "markers",
           "name": "Germany",
           "orientation": "v",
           "showlegend": true,
           "type": "scatter",
           "x": [
            4108.40129887204
           ],
           "xaxis": "x",
           "y": [
            10.1030113350959
           ],
           "yaxis": "y"
          },
          {
           "hovertemplate": "Country_Name=India<br>Year=1970-01-01 00:00:00.000002002<br>GDP (in Billion USD)=%{marker.size}<br>Energy Use (in kg of oil equivalent per capita)=%{y}<extra></extra>",
           "legendgroup": "India",
           "marker": {
            "color": "#00cc96",
            "size": [
             419.354274824374
            ],
            "sizemode": "area",
            "sizeref": 20.142159624869375,
            "symbol": "circle"
           },
           "mode": "markers",
           "name": "India",
           "orientation": "v",
           "showlegend": true,
           "type": "scatter",
           "x": [
            419.354274824374
           ],
           "xaxis": "x",
           "y": [
            0.897242648505059
           ],
           "yaxis": "y"
          },
          {
           "hovertemplate": "Country_Name=Japan<br>Year=1970-01-01 00:00:00.000002002<br>GDP (in Billion USD)=%{marker.size}<br>Energy Use (in kg of oil equivalent per capita)=%{y}<extra></extra>",
           "legendgroup": "Japan",
           "marker": {
            "color": "#ab63fa",
            "size": [
             3991.97756679352
            ],
            "sizemode": "area",
            "sizeref": 20.142159624869375,
            "symbol": "circle"
           },
           "mode": "markers",
           "name": "Japan",
           "orientation": "v",
           "showlegend": true,
           "type": "scatter",
           "x": [
            3991.97756679352
           ],
           "xaxis": "x",
           "y": [
            9.46887049315391
           ],
           "yaxis": "y"
          },
          {
           "hovertemplate": "Country_Name=United States<br>Year=1970-01-01 00:00:00.000002002<br>GDP (in Billion USD)=%{marker.size}<br>Energy Use (in kg of oil equivalent per capita)=%{y}<extra></extra>",
           "legendgroup": "United States",
           "marker": {
            "color": "#FFA15A",
            "size": [
             7843.34484914192
            ],
            "sizemode": "area",
            "sizeref": 20.142159624869375,
            "symbol": "circle"
           },
           "mode": "markers",
           "name": "United States",
           "orientation": "v",
           "showlegend": true,
           "type": "scatter",
           "x": [
            7843.34484914192
           ],
           "xaxis": "x",
           "y": [
            19.4455302807915
           ],
           "yaxis": "y"
          }
         ],
         "name": "1970-01-01 00:00:00.000002002"
        },
        {
         "data": [
          {
           "hovertemplate": "Country_Name=China<br>Year=1970-01-01 00:00:00.000002003<br>GDP (in Billion USD)=%{marker.size}<br>Energy Use (in kg of oil equivalent per capita)=%{y}<extra></extra>",
           "legendgroup": "China",
           "marker": {
            "color": "#636efa",
            "size": [
             1118.43177274138
            ],
            "sizemode": "area",
            "sizeref": 20.142159624869375,
            "symbol": "circle"
           },
           "mode": "markers",
           "name": "China",
           "orientation": "v",
           "showlegend": true,
           "type": "scatter",
           "x": [
            1118.43177274138
           ],
           "xaxis": "x",
           "y": [
            3.43403647935424
           ],
           "yaxis": "y"
          },
          {
           "hovertemplate": "Country_Name=Germany<br>Year=1970-01-01 00:00:00.000002003<br>GDP (in Billion USD)=%{marker.size}<br>Energy Use (in kg of oil equivalent per capita)=%{y}<extra></extra>",
           "legendgroup": "Germany",
           "marker": {
            "color": "#EF553B",
            "size": [
             4084.50334562012
            ],
            "sizemode": "area",
            "sizeref": 20.142159624869375,
            "symbol": "circle"
           },
           "mode": "markers",
           "name": "Germany",
           "orientation": "v",
           "showlegend": true,
           "type": "scatter",
           "x": [
            4084.50334562012
           ],
           "xaxis": "x",
           "y": [
            10.138763607454
           ],
           "yaxis": "y"
          },
          {
           "hovertemplate": "Country_Name=India<br>Year=1970-01-01 00:00:00.000002003<br>GDP (in Billion USD)=%{marker.size}<br>Energy Use (in kg of oil equivalent per capita)=%{y}<extra></extra>",
           "legendgroup": "India",
           "marker": {
            "color": "#00cc96",
            "size": [
             422.057098828078
            ],
            "sizemode": "area",
            "sizeref": 20.142159624869375,
            "symbol": "circle"
           },
           "mode": "markers",
           "name": "India",
           "orientation": "v",
           "showlegend": true,
           "type": "scatter",
           "x": [
            422.057098828078
           ],
           "xaxis": "x",
           "y": [
            0.905456601736005
           ],
           "yaxis": "y"
          },
          {
           "hovertemplate": "Country_Name=Japan<br>Year=1970-01-01 00:00:00.000002003<br>GDP (in Billion USD)=%{marker.size}<br>Energy Use (in kg of oil equivalent per capita)=%{y}<extra></extra>",
           "legendgroup": "Japan",
           "marker": {
            "color": "#ab63fa",
            "size": [
             3953.18450805681
            ],
            "sizemode": "area",
            "sizeref": 20.142159624869375,
            "symbol": "circle"
           },
           "mode": "markers",
           "name": "Japan",
           "orientation": "v",
           "showlegend": true,
           "type": "scatter",
           "x": [
            3953.18450805681
           ],
           "xaxis": "x",
           "y": [
            9.50476440282497
           ],
           "yaxis": "y"
          },
          {
           "hovertemplate": "Country_Name=United States<br>Year=1970-01-01 00:00:00.000002003<br>GDP (in Billion USD)=%{marker.size}<br>Energy Use (in kg of oil equivalent per capita)=%{y}<extra></extra>",
           "legendgroup": "United States",
           "marker": {
            "color": "#FFA15A",
            "size": [
             7794.23553026383
            ],
            "sizemode": "area",
            "sizeref": 20.142159624869375,
            "symbol": "circle"
           },
           "mode": "markers",
           "name": "United States",
           "orientation": "v",
           "showlegend": true,
           "type": "scatter",
           "x": [
            7794.23553026383
           ],
           "xaxis": "x",
           "y": [
            19.5065055322014
           ],
           "yaxis": "y"
          }
         ],
         "name": "1970-01-01 00:00:00.000002003"
        },
        {
         "data": [
          {
           "hovertemplate": "Country_Name=China<br>Year=1970-01-01 00:00:00.000002004<br>GDP (in Billion USD)=%{marker.size}<br>Energy Use (in kg of oil equivalent per capita)=%{y}<extra></extra>",
           "legendgroup": "China",
           "marker": {
            "color": "#636efa",
            "size": [
             1268.13290434581
            ],
            "sizemode": "area",
            "sizeref": 20.142159624869375,
            "symbol": "circle"
           },
           "mode": "markers",
           "name": "China",
           "orientation": "v",
           "showlegend": true,
           "type": "scatter",
           "x": [
            1268.13290434581
           ],
           "xaxis": "x",
           "y": [
            3.94515487143877
           ],
           "yaxis": "y"
          },
          {
           "hovertemplate": "Country_Name=Germany<br>Year=1970-01-01 00:00:00.000002004<br>GDP (in Billion USD)=%{marker.size}<br>Energy Use (in kg of oil equivalent per capita)=%{y}<extra></extra>",
           "legendgroup": "Germany",
           "marker": {
            "color": "#EF553B",
            "size": [
             4114.38992751247
            ],
            "sizemode": "area",
            "sizeref": 20.142159624869375,
            "symbol": "circle"
           },
           "mode": "markers",
           "name": "Germany",
           "orientation": "v",
           "showlegend": true,
           "type": "scatter",
           "x": [
            4114.38992751247
           ],
           "xaxis": "x",
           "y": [
            9.9504461302536
           ],
           "yaxis": "y"
          },
          {
           "hovertemplate": "Country_Name=India<br>Year=1970-01-01 00:00:00.000002004<br>GDP (in Billion USD)=%{marker.size}<br>Energy Use (in kg of oil equivalent per capita)=%{y}<extra></extra>",
           "legendgroup": "India",
           "marker": {
            "color": "#00cc96",
            "size": [
             437.133075721326
            ],
            "sizemode": "area",
            "sizeref": 20.142159624869375,
            "symbol": "circle"
           },
           "mode": "markers",
           "name": "India",
           "orientation": "v",
           "showlegend": true,
           "type": "scatter",
           "x": [
            437.133075721326
           ],
           "xaxis": "x",
           "y": [
            0.955470157428994
           ],
           "yaxis": "y"
          },
          {
           "hovertemplate": "Country_Name=Japan<br>Year=1970-01-01 00:00:00.000002004<br>GDP (in Billion USD)=%{marker.size}<br>Energy Use (in kg of oil equivalent per capita)=%{y}<extra></extra>",
           "legendgroup": "Japan",
           "marker": {
            "color": "#ab63fa",
            "size": [
             4078.21054155807
            ],
            "sizemode": "area",
            "sizeref": 20.142159624869375,
            "symbol": "circle"
           },
           "mode": "markers",
           "name": "Japan",
           "orientation": "v",
           "showlegend": true,
           "type": "scatter",
           "x": [
            4078.21054155807
           ],
           "xaxis": "x",
           "y": [
            9.44956363835599
           ],
           "yaxis": "y"
          },
          {
           "hovertemplate": "Country_Name=United States<br>Year=1970-01-01 00:00:00.000002004<br>GDP (in Billion USD)=%{marker.size}<br>Energy Use (in kg of oil equivalent per capita)=%{y}<extra></extra>",
           "legendgroup": "United States",
           "marker": {
            "color": "#FFA15A",
            "size": [
             7881.57864206405
            ],
            "sizemode": "area",
            "sizeref": 20.142159624869375,
            "symbol": "circle"
           },
           "mode": "markers",
           "name": "United States",
           "orientation": "v",
           "showlegend": true,
           "type": "scatter",
           "x": [
            7881.57864206405
           ],
           "xaxis": "x",
           "y": [
            19.5976167070584
           ],
           "yaxis": "y"
          }
         ],
         "name": "1970-01-01 00:00:00.000002004"
        },
        {
         "data": [
          {
           "hovertemplate": "Country_Name=China<br>Year=1970-01-01 00:00:00.000002005<br>GDP (in Billion USD)=%{marker.size}<br>Energy Use (in kg of oil equivalent per capita)=%{y}<extra></extra>",
           "legendgroup": "China",
           "marker": {
            "color": "#636efa",
            "size": [
             1393.69132405731
            ],
            "sizemode": "area",
            "sizeref": 20.142159624869375,
            "symbol": "circle"
           },
           "mode": "markers",
           "name": "China",
           "orientation": "v",
           "showlegend": true,
           "type": "scatter",
           "x": [
            1393.69132405731
           ],
           "xaxis": "x",
           "y": [
            4.46769636118185
           ],
           "yaxis": "y"
          },
          {
           "hovertemplate": "Country_Name=Germany<br>Year=1970-01-01 00:00:00.000002005<br>GDP (in Billion USD)=%{marker.size}<br>Energy Use (in kg of oil equivalent per capita)=%{y}<extra></extra>",
           "legendgroup": "Germany",
           "marker": {
            "color": "#EF553B",
            "size": [
             4086.50340728713
            ],
            "sizemode": "area",
            "sizeref": 20.142159624869375,
            "symbol": "circle"
           },
           "mode": "markers",
           "name": "Germany",
           "orientation": "v",
           "showlegend": true,
           "type": "scatter",
           "x": [
            4086.50340728713
           ],
           "xaxis": "x",
           "y": [
            9.7294631214949
           ],
           "yaxis": "y"
          },
          {
           "hovertemplate": "Country_Name=India<br>Year=1970-01-01 00:00:00.000002005<br>GDP (in Billion USD)=%{marker.size}<br>Energy Use (in kg of oil equivalent per capita)=%{y}<extra></extra>",
           "legendgroup": "India",
           "marker": {
            "color": "#00cc96",
            "size": [
             447.027936261479
            ],
            "sizemode": "area",
            "sizeref": 20.142159624869375,
            "symbol": "circle"
           },
           "mode": "markers",
           "name": "India",
           "orientation": "v",
           "showlegend": true,
           "type": "scatter",
           "x": [
            447.027936261479
           ],
           "xaxis": "x",
           "y": [
            0.984261472618751
           ],
           "yaxis": "y"
          },
          {
           "hovertemplate": "Country_Name=Japan<br>Year=1970-01-01 00:00:00.000002005<br>GDP (in Billion USD)=%{marker.size}<br>Energy Use (in kg of oil equivalent per capita)=%{y}<extra></extra>",
           "legendgroup": "Japan",
           "marker": {
            "color": "#ab63fa",
            "size": [
             4062.97904878182
            ],
            "sizemode": "area",
            "sizeref": 20.142159624869375,
            "symbol": "circle"
           },
           "mode": "markers",
           "name": "Japan",
           "orientation": "v",
           "showlegend": true,
           "type": "scatter",
           "x": [
            4062.97904878182
           ],
           "xaxis": "x",
           "y": [
            9.51276404248159
           ],
           "yaxis": "y"
          },
          {
           "hovertemplate": "Country_Name=United States<br>Year=1970-01-01 00:00:00.000002005<br>GDP (in Billion USD)=%{marker.size}<br>Energy Use (in kg of oil equivalent per capita)=%{y}<extra></extra>",
           "legendgroup": "United States",
           "marker": {
            "color": "#FFA15A",
            "size": [
             7846.49968849973
            ],
            "sizemode": "area",
            "sizeref": 20.142159624869375,
            "symbol": "circle"
           },
           "mode": "markers",
           "name": "United States",
           "orientation": "v",
           "showlegend": true,
           "type": "scatter",
           "x": [
            7846.49968849973
           ],
           "xaxis": "x",
           "y": [
            19.4692725196123
           ],
           "yaxis": "y"
          }
         ],
         "name": "1970-01-01 00:00:00.000002005"
        },
        {
         "data": [
          {
           "hovertemplate": "Country_Name=China<br>Year=1970-01-01 00:00:00.000002006<br>GDP (in Billion USD)=%{marker.size}<br>Energy Use (in kg of oil equivalent per capita)=%{y}<extra></extra>",
           "legendgroup": "China",
           "marker": {
            "color": "#636efa",
            "size": [
             1515.1736777471
            ],
            "sizemode": "area",
            "sizeref": 20.142159624869375,
            "symbol": "circle"
           },
           "mode": "markers",
           "name": "China",
           "orientation": "v",
           "showlegend": true,
           "type": "scatter",
           "x": [
            1515.1736777471
           ],
           "xaxis": "x",
           "y": [
            4.91027619715946
           ],
           "yaxis": "y"
          },
          {
           "hovertemplate": "Country_Name=Germany<br>Year=1970-01-01 00:00:00.000002006<br>GDP (in Billion USD)=%{marker.size}<br>Energy Use (in kg of oil equivalent per capita)=%{y}<extra></extra>",
           "legendgroup": "Germany",
           "marker": {
            "color": "#EF553B",
            "size": [
             4204.65468948158
            ],
            "sizemode": "area",
            "sizeref": 20.142159624869375,
            "symbol": "circle"
           },
           "mode": "markers",
           "name": "Germany",
           "orientation": "v",
           "showlegend": true,
           "type": "scatter",
           "x": [
            4204.65468948158
           ],
           "xaxis": "x",
           "y": [
            9.88647957169216
           ],
           "yaxis": "y"
          },
          {
           "hovertemplate": "Country_Name=India<br>Year=1970-01-01 00:00:00.000002006<br>GDP (in Billion USD)=%{marker.size}<br>Energy Use (in kg of oil equivalent per capita)=%{y}<extra></extra>",
           "legendgroup": "India",
           "marker": {
            "color": "#00cc96",
            "size": [
             463.39977792134
            ],
            "sizemode": "area",
            "sizeref": 20.142159624869375,
            "symbol": "circle"
           },
           "mode": "markers",
           "name": "India",
           "orientation": "v",
           "showlegend": true,
           "type": "scatter",
           "x": [
            463.39977792134
           ],
           "xaxis": "x",
           "y": [
            1.03653392155165
           ],
           "yaxis": "y"
          },
          {
           "hovertemplate": "Country_Name=Japan<br>Year=1970-01-01 00:00:00.000002006<br>GDP (in Billion USD)=%{marker.size}<br>Energy Use (in kg of oil equivalent per capita)=%{y}<extra></extra>",
           "legendgroup": "Japan",
           "marker": {
            "color": "#ab63fa",
            "size": [
             4053.88343735824
            ],
            "sizemode": "area",
            "sizeref": 20.142159624869375,
            "symbol": "circle"
           },
           "mode": "markers",
           "name": "Japan",
           "orientation": "v",
           "showlegend": true,
           "type": "scatter",
           "x": [
            4053.88343735824
           ],
           "xaxis": "x",
           "y": [
            9.33129428879816
           ],
           "yaxis": "y"
          },
          {
           "hovertemplate": "Country_Name=United States<br>Year=1970-01-01 00:00:00.000002006<br>GDP (in Billion USD)=%{marker.size}<br>Energy Use (in kg of oil equivalent per capita)=%{y}<extra></extra>",
           "legendgroup": "United States",
           "marker": {
            "color": "#FFA15A",
            "size": [
             7697.65253500041
            ],
            "sizemode": "area",
            "sizeref": 20.142159624869375,
            "symbol": "circle"
           },
           "mode": "markers",
           "name": "United States",
           "orientation": "v",
           "showlegend": true,
           "type": "scatter",
           "x": [
            7697.65253500041
           ],
           "xaxis": "x",
           "y": [
            18.9459168417477
           ],
           "yaxis": "y"
          }
         ],
         "name": "1970-01-01 00:00:00.000002006"
        },
        {
         "data": [
          {
           "hovertemplate": "Country_Name=China<br>Year=1970-01-01 00:00:00.000002007<br>GDP (in Billion USD)=%{marker.size}<br>Energy Use (in kg of oil equivalent per capita)=%{y}<extra></extra>",
           "legendgroup": "China",
           "marker": {
            "color": "#636efa",
            "size": [
             1630.17102857988
            ],
            "sizemode": "area",
            "sizeref": 20.142159624869375,
            "symbol": "circle"
           },
           "mode": "markers",
           "name": "China",
           "orientation": "v",
           "showlegend": true,
           "type": "scatter",
           "x": [
            1630.17102857988
           ],
           "xaxis": "x",
           "y": [
            5.30636800631315
           ],
           "yaxis": "y"
          },
          {
           "hovertemplate": "Country_Name=Germany<br>Year=1970-01-01 00:00:00.000002007<br>GDP (in Billion USD)=%{marker.size}<br>Energy Use (in kg of oil equivalent per capita)=%{y}<extra></extra>",
           "legendgroup": "Germany",
           "marker": {
            "color": "#EF553B",
            "size": [
             3985.81195485319
            ],
            "sizemode": "area",
            "sizeref": 20.142159624869375,
            "symbol": "circle"
           },
           "mode": "markers",
           "name": "Germany",
           "orientation": "v",
           "showlegend": true,
           "type": "scatter",
           "x": [
            3985.81195485319
           ],
           "xaxis": "x",
           "y": [
            9.52762326749987
           ],
           "yaxis": "y"
          },
          {
           "hovertemplate": "Country_Name=India<br>Year=1970-01-01 00:00:00.000002007<br>GDP (in Billion USD)=%{marker.size}<br>Energy Use (in kg of oil equivalent per capita)=%{y}<extra></extra>",
           "legendgroup": "India",
           "marker": {
            "color": "#00cc96",
            "size": [
             482.456440111541
            ],
            "sizemode": "area",
            "sizeref": 20.142159624869375,
            "symbol": "circle"
           },
           "mode": "markers",
           "name": "India",
           "orientation": "v",
           "showlegend": true,
           "type": "scatter",
           "x": [
            482.456440111541
           ],
           "xaxis": "x",
           "y": [
            1.1235994817209
           ],
           "yaxis": "y"
          },
          {
           "hovertemplate": "Country_Name=Japan<br>Year=1970-01-01 00:00:00.000002007<br>GDP (in Billion USD)=%{marker.size}<br>Energy Use (in kg of oil equivalent per capita)=%{y}<extra></extra>",
           "legendgroup": "Japan",
           "marker": {
            "color": "#ab63fa",
            "size": [
             4012.65424488871
            ],
            "sizemode": "area",
            "sizeref": 20.142159624869375,
            "symbol": "circle"
           },
           "mode": "markers",
           "name": "Japan",
           "orientation": "v",
           "showlegend": true,
           "type": "scatter",
           "x": [
            4012.65424488871
           ],
           "xaxis": "x",
           "y": [
            9.5936031749752
           ],
           "yaxis": "y"
          },
          {
           "hovertemplate": "Country_Name=United States<br>Year=1970-01-01 00:00:00.000002007<br>GDP (in Billion USD)=%{marker.size}<br>Energy Use (in kg of oil equivalent per capita)=%{y}<extra></extra>",
           "legendgroup": "United States",
           "marker": {
            "color": "#FFA15A",
            "size": [
             7758.16598577052
            ],
            "sizemode": "area",
            "sizeref": 20.142159624869375,
            "symbol": "circle"
           },
           "mode": "markers",
           "name": "United States",
           "orientation": "v",
           "showlegend": true,
           "type": "scatter",
           "x": [
            7758.16598577052
           ],
           "xaxis": "x",
           "y": [
            19.0429117790575
           ],
           "yaxis": "y"
          }
         ],
         "name": "1970-01-01 00:00:00.000002007"
        },
        {
         "data": [
          {
           "hovertemplate": "Country_Name=China<br>Year=1970-01-01 00:00:00.000002008<br>GDP (in Billion USD)=%{marker.size}<br>Energy Use (in kg of oil equivalent per capita)=%{y}<extra></extra>",
           "legendgroup": "China",
           "marker": {
            "color": "#636efa",
            "size": [
             1672.90411994066
            ],
            "sizemode": "area",
            "sizeref": 20.142159624869375,
            "symbol": "circle"
           },
           "mode": "markers",
           "name": "China",
           "orientation": "v",
           "showlegend": true,
           "type": "scatter",
           "x": [
            1672.90411994066
           ],
           "xaxis": "x",
           "y": [
            5.43507909606652
           ],
           "yaxis": "y"
          },
          {
           "hovertemplate": "Country_Name=Germany<br>Year=1970-01-01 00:00:00.000002008<br>GDP (in Billion USD)=%{marker.size}<br>Energy Use (in kg of oil equivalent per capita)=%{y}<extra></extra>",
           "legendgroup": "Germany",
           "marker": {
            "color": "#EF553B",
            "size": [
             4036.83078099396
            ],
            "sizemode": "area",
            "sizeref": 20.142159624869375,
            "symbol": "circle"
           },
           "mode": "markers",
           "name": "Germany",
           "orientation": "v",
           "showlegend": true,
           "type": "scatter",
           "x": [
            4036.83078099396
           ],
           "xaxis": "x",
           "y": [
            9.61745788706108
           ],
           "yaxis": "y"
          },
          {
           "hovertemplate": "Country_Name=India<br>Year=1970-01-01 00:00:00.000002008<br>GDP (in Billion USD)=%{marker.size}<br>Energy Use (in kg of oil equivalent per capita)=%{y}<extra></extra>",
           "legendgroup": "India",
           "marker": {
            "color": "#00cc96",
            "size": [
             499.038799581952
            ],
            "sizemode": "area",
            "sizeref": 20.142159624869375,
            "symbol": "circle"
           },
           "mode": "markers",
           "name": "India",
           "orientation": "v",
           "showlegend": true,
           "type": "scatter",
           "x": [
            499.038799581952
           ],
           "xaxis": "x",
           "y": [
            1.18036124666151
           ],
           "yaxis": "y"
          },
          {
           "hovertemplate": "Country_Name=Japan<br>Year=1970-01-01 00:00:00.000002008<br>GDP (in Billion USD)=%{marker.size}<br>Energy Use (in kg of oil equivalent per capita)=%{y}<extra></extra>",
           "legendgroup": "Japan",
           "marker": {
            "color": "#ab63fa",
            "size": [
             3858.43452050944
            ],
            "sizemode": "area",
            "sizeref": 20.142159624869375,
            "symbol": "circle"
           },
           "mode": "markers",
           "name": "Japan",
           "orientation": "v",
           "showlegend": true,
           "type": "scatter",
           "x": [
            3858.43452050944
           ],
           "xaxis": "x",
           "y": [
            9.04895324957248
           ],
           "yaxis": "y"
          },
          {
           "hovertemplate": "Country_Name=United States<br>Year=1970-01-01 00:00:00.000002008<br>GDP (in Billion USD)=%{marker.size}<br>Energy Use (in kg of oil equivalent per capita)=%{y}<extra></extra>",
           "legendgroup": "United States",
           "marker": {
            "color": "#FFA15A",
            "size": [
             7488.08192070473
            ],
            "sizemode": "area",
            "sizeref": 20.142159624869375,
            "symbol": "circle"
           },
           "mode": "markers",
           "name": "United States",
           "orientation": "v",
           "showlegend": true,
           "type": "scatter",
           "x": [
            7488.08192070473
           ],
           "xaxis": "x",
           "y": [
            18.278491260823
           ],
           "yaxis": "y"
          }
         ],
         "name": "1970-01-01 00:00:00.000002008"
        },
        {
         "data": [
          {
           "hovertemplate": "Country_Name=China<br>Year=1970-01-01 00:00:00.000002009<br>GDP (in Billion USD)=%{marker.size}<br>Energy Use (in kg of oil equivalent per capita)=%{y}<extra></extra>",
           "legendgroup": "China",
           "marker": {
            "color": "#636efa",
            "size": [
             1778.43351862146
            ],
            "sizemode": "area",
            "sizeref": 20.142159624869375,
            "symbol": "circle"
           },
           "mode": "markers",
           "name": "China",
           "orientation": "v",
           "showlegend": true,
           "type": "scatter",
           "x": [
            1778.43351862146
           ],
           "xaxis": "x",
           "y": [
            5.79831993750282
           ],
           "yaxis": "y"
          },
          {
           "hovertemplate": "Country_Name=Germany<br>Year=1970-01-01 00:00:00.000002009<br>GDP (in Billion USD)=%{marker.size}<br>Energy Use (in kg of oil equivalent per capita)=%{y}<extra></extra>",
           "legendgroup": "Germany",
           "marker": {
            "color": "#EF553B",
            "size": [
             3790.50115157318
            ],
            "sizemode": "area",
            "sizeref": 20.142159624869375,
            "symbol": "circle"
           },
           "mode": "markers",
           "name": "Germany",
           "orientation": "v",
           "showlegend": true,
           "type": "scatter",
           "x": [
            3790.50115157318
           ],
           "xaxis": "x",
           "y": [
            8.97173140678443
           ],
           "yaxis": "y"
          },
          {
           "hovertemplate": "Country_Name=India<br>Year=1970-01-01 00:00:00.000002009<br>GDP (in Billion USD)=%{marker.size}<br>Energy Use (in kg of oil equivalent per capita)=%{y}<extra></extra>",
           "legendgroup": "India",
           "marker": {
            "color": "#00cc96",
            "size": [
             541.994376843597
            ],
            "sizemode": "area",
            "sizeref": 20.142159624869375,
            "symbol": "circle"
           },
           "mode": "markers",
           "name": "India",
           "orientation": "v",
           "showlegend": true,
           "type": "scatter",
           "x": [
            541.994376843597
           ],
           "xaxis": "x",
           "y": [
            1.27887360284089
           ],
           "yaxis": "y"
          },
          {
           "hovertemplate": "Country_Name=Japan<br>Year=1970-01-01 00:00:00.000002009<br>GDP (in Billion USD)=%{marker.size}<br>Energy Use (in kg of oil equivalent per capita)=%{y}<extra></extra>",
           "legendgroup": "Japan",
           "marker": {
            "color": "#ab63fa",
            "size": [
             3678.51113263099
            ],
            "sizemode": "area",
            "sizeref": 20.142159624869375,
            "symbol": "circle"
           },
           "mode": "markers",
           "name": "Japan",
           "orientation": "v",
           "showlegend": true,
           "type": "scatter",
           "x": [
            3678.51113263099
           ],
           "xaxis": "x",
           "y": [
            8.60923098549751
           ],
           "yaxis": "y"
          },
          {
           "hovertemplate": "Country_Name=United States<br>Year=1970-01-01 00:00:00.000002009<br>GDP (in Billion USD)=%{marker.size}<br>Energy Use (in kg of oil equivalent per capita)=%{y}<extra></extra>",
           "legendgroup": "United States",
           "marker": {
            "color": "#FFA15A",
            "size": [
             7056.78365282718
            ],
            "sizemode": "area",
            "sizeref": 20.142159624869375,
            "symbol": "circle"
           },
           "mode": "markers",
           "name": "United States",
           "orientation": "v",
           "showlegend": true,
           "type": "scatter",
           "x": [
            7056.78365282718
           ],
           "xaxis": "x",
           "y": [
            16.8086814210194
           ],
           "yaxis": "y"
          }
         ],
         "name": "1970-01-01 00:00:00.000002009"
        },
        {
         "data": [
          {
           "hovertemplate": "Country_Name=China<br>Year=1970-01-01 00:00:00.000002010<br>GDP (in Billion USD)=%{marker.size}<br>Energy Use (in kg of oil equivalent per capita)=%{y}<extra></extra>",
           "legendgroup": "China",
           "marker": {
            "color": "#636efa",
            "size": [
             1954.72255616896
            ],
            "sizemode": "area",
            "sizeref": 20.142159624869375,
            "symbol": "circle"
           },
           "mode": "markers",
           "name": "China",
           "orientation": "v",
           "showlegend": true,
           "type": "scatter",
           "x": [
            1954.72255616896
           ],
           "xaxis": "x",
           "y": [
            6.33541976743751
           ],
           "yaxis": "y"
          },
          {
           "hovertemplate": "Country_Name=Germany<br>Year=1970-01-01 00:00:00.000002010<br>GDP (in Billion USD)=%{marker.size}<br>Energy Use (in kg of oil equivalent per capita)=%{y}<extra></extra>",
           "legendgroup": "Germany",
           "marker": {
            "color": "#EF553B",
            "size": [
             3997.07942080976
            ],
            "sizemode": "area",
            "sizeref": 20.142159624869375,
            "symbol": "circle"
           },
           "mode": "markers",
           "name": "Germany",
           "orientation": "v",
           "showlegend": true,
           "type": "scatter",
           "x": [
            3997.07942080976
           ],
           "xaxis": "x",
           "y": [
            9.45338862684134
           ],
           "yaxis": "y"
          },
          {
           "hovertemplate": "Country_Name=India<br>Year=1970-01-01 00:00:00.000002010<br>GDP (in Billion USD)=%{marker.size}<br>Energy Use (in kg of oil equivalent per capita)=%{y}<extra></extra>",
           "legendgroup": "India",
           "marker": {
            "color": "#00cc96",
            "size": [
             558.786561604894
            ],
            "sizemode": "area",
            "sizeref": 20.142159624869375,
            "symbol": "circle"
           },
           "mode": "markers",
           "name": "India",
           "orientation": "v",
           "showlegend": true,
           "type": "scatter",
           "x": [
            558.786561604894
           ],
           "xaxis": "x",
           "y": [
            1.33803383522422
           ],
           "yaxis": "y"
          },
          {
           "hovertemplate": "Country_Name=Japan<br>Year=1970-01-01 00:00:00.000002010<br>GDP (in Billion USD)=%{marker.size}<br>Energy Use (in kg of oil equivalent per capita)=%{y}<extra></extra>",
           "legendgroup": "Japan",
           "marker": {
            "color": "#ab63fa",
            "size": [
             3893.26660420083
            ],
            "sizemode": "area",
            "sizeref": 20.142159624869375,
            "symbol": "circle"
           },
           "mode": "markers",
           "name": "Japan",
           "orientation": "v",
           "showlegend": true,
           "type": "scatter",
           "x": [
            3893.26660420083
           ],
           "xaxis": "x",
           "y": [
            9.03600999453424
           ],
           "yaxis": "y"
          },
          {
           "hovertemplate": "Country_Name=United States<br>Year=1970-01-01 00:00:00.000002010<br>GDP (in Billion USD)=%{marker.size}<br>Energy Use (in kg of oil equivalent per capita)=%{y}<extra></extra>",
           "legendgroup": "United States",
           "marker": {
            "color": "#FFA15A",
            "size": [
             7161.42655156518
            ],
            "sizemode": "area",
            "sizeref": 20.142159624869375,
            "symbol": "circle"
           },
           "mode": "markers",
           "name": "United States",
           "orientation": "v",
           "showlegend": true,
           "type": "scatter",
           "x": [
            7161.42655156518
           ],
           "xaxis": "x",
           "y": [
            17.4317369879177
           ],
           "yaxis": "y"
          }
         ],
         "name": "1970-01-01 00:00:00.000002010"
        },
        {
         "data": [
          {
           "hovertemplate": "Country_Name=China<br>Year=1970-01-01 00:00:00.000002011<br>GDP (in Billion USD)=%{marker.size}<br>Energy Use (in kg of oil equivalent per capita)=%{y}<extra></extra>",
           "legendgroup": "China",
           "marker": {
            "color": "#636efa",
            "size": [
             2085.08302163141
            ],
            "sizemode": "area",
            "sizeref": 20.142159624869375,
            "symbol": "circle"
           },
           "mode": "markers",
           "name": "China",
           "orientation": "v",
           "showlegend": true,
           "type": "scatter",
           "x": [
            2085.08302163141
           ],
           "xaxis": "x",
           "y": [
            6.90134732553428
           ],
           "yaxis": "y"
          },
          {
           "hovertemplate": "Country_Name=Germany<br>Year=1970-01-01 00:00:00.000002011<br>GDP (in Billion USD)=%{marker.size}<br>Energy Use (in kg of oil equivalent per capita)=%{y}<extra></extra>",
           "legendgroup": "Germany",
           "marker": {
            "color": "#EF553B",
            "size": [
             3869.81622904859
            ],
            "sizemode": "area",
            "sizeref": 20.142159624869375,
            "symbol": "circle"
           },
           "mode": "markers",
           "name": "Germany",
           "orientation": "v",
           "showlegend": true,
           "type": "scatter",
           "x": [
            3869.81622904859
           ],
           "xaxis": "x",
           "y": [
            9.29900290355714
           ],
           "yaxis": "y"
          },
          {
           "hovertemplate": "Country_Name=India<br>Year=1970-01-01 00:00:00.000002011<br>GDP (in Billion USD)=%{marker.size}<br>Energy Use (in kg of oil equivalent per capita)=%{y}<extra></extra>",
           "legendgroup": "India",
           "marker": {
            "color": "#00cc96",
            "size": [
             574.624111911931
            ],
            "sizemode": "area",
            "sizeref": 20.142159624869375,
            "symbol": "circle"
           },
           "mode": "markers",
           "name": "India",
           "orientation": "v",
           "showlegend": true,
           "type": "scatter",
           "x": [
            574.624111911931
           ],
           "xaxis": "x",
           "y": [
            1.39687849773199
           ],
           "yaxis": "y"
          },
          {
           "hovertemplate": "Country_Name=Japan<br>Year=1970-01-01 00:00:00.000002011<br>GDP (in Billion USD)=%{marker.size}<br>Energy Use (in kg of oil equivalent per capita)=%{y}<extra></extra>",
           "legendgroup": "Japan",
           "marker": {
            "color": "#ab63fa",
            "size": [
             3610.81216900174
            ],
            "sizemode": "area",
            "sizeref": 20.142159624869375,
            "symbol": "circle"
           },
           "mode": "markers",
           "name": "Japan",
           "orientation": "v",
           "showlegend": true,
           "type": "scatter",
           "x": [
            3610.81216900174
           ],
           "xaxis": "x",
           "y": [
            9.49500989572333
           ],
           "yaxis": "y"
          },
          {
           "hovertemplate": "Country_Name=United States<br>Year=1970-01-01 00:00:00.000002011<br>GDP (in Billion USD)=%{marker.size}<br>Energy Use (in kg of oil equivalent per capita)=%{y}<extra></extra>",
           "legendgroup": "United States",
           "marker": {
            "color": "#FFA15A",
            "size": [
             7029.95460147645
            ],
            "sizemode": "area",
            "sizeref": 20.142159624869375,
            "symbol": "circle"
           },
           "mode": "markers",
           "name": "United States",
           "orientation": "v",
           "showlegend": true,
           "type": "scatter",
           "x": [
            7029.95460147645
           ],
           "xaxis": "x",
           "y": [
            16.604189616843
           ],
           "yaxis": "y"
          }
         ],
         "name": "1970-01-01 00:00:00.000002011"
        },
        {
         "data": [
          {
           "hovertemplate": "Country_Name=China<br>Year=1970-01-01 00:00:00.000002012<br>GDP (in Billion USD)=%{marker.size}<br>Energy Use (in kg of oil equivalent per capita)=%{y}<extra></extra>",
           "legendgroup": "China",
           "marker": {
            "color": "#636efa",
            "size": [
             2149.60256906343
            ],
            "sizemode": "area",
            "sizeref": 20.142159624869375,
            "symbol": "circle"
           },
           "mode": "markers",
           "name": "China",
           "orientation": "v",
           "showlegend": true,
           "type": "scatter",
           "x": [
            2149.60256906343
           ],
           "xaxis": "x",
           "y": [
            7.04520023039603
           ],
           "yaxis": "y"
          },
          {
           "hovertemplate": "Country_Name=Germany<br>Year=1970-01-01 00:00:00.000002012<br>GDP (in Billion USD)=%{marker.size}<br>Energy Use (in kg of oil equivalent per capita)=%{y}<extra></extra>",
           "legendgroup": "Germany",
           "marker": {
            "color": "#EF553B",
            "size": [
             3876.94810409338
            ],
            "sizemode": "area",
            "sizeref": 20.142159624869375,
            "symbol": "circle"
           },
           "mode": "markers",
           "name": "Germany",
           "orientation": "v",
           "showlegend": true,
           "type": "scatter",
           "x": [
            3876.94810409338
           ],
           "xaxis": "x",
           "y": [
            9.45128904680279
           ],
           "yaxis": "y"
          },
          {
           "hovertemplate": "Country_Name=India<br>Year=1970-01-01 00:00:00.000002012<br>GDP (in Billion USD)=%{marker.size}<br>Energy Use (in kg of oil equivalent per capita)=%{y}<extra></extra>",
           "legendgroup": "India",
           "marker": {
            "color": "#00cc96",
            "size": [
             595.062341209912
            ],
            "sizemode": "area",
            "sizeref": 20.142159624869375,
            "symbol": "circle"
           },
           "mode": "markers",
           "name": "India",
           "orientation": "v",
           "showlegend": true,
           "type": "scatter",
           "x": [
            595.062341209912
           ],
           "xaxis": "x",
           "y": [
            1.49820412282441
           ],
           "yaxis": "y"
          },
          {
           "hovertemplate": "Country_Name=Japan<br>Year=1970-01-01 00:00:00.000002012<br>GDP (in Billion USD)=%{marker.size}<br>Energy Use (in kg of oil equivalent per capita)=%{y}<extra></extra>",
           "legendgroup": "Japan",
           "marker": {
            "color": "#ab63fa",
            "size": [
             3537.3631698125
            ],
            "sizemode": "area",
            "sizeref": 20.142159624869375,
            "symbol": "circle"
           },
           "mode": "markers",
           "name": "Japan",
           "orientation": "v",
           "showlegend": true,
           "type": "scatter",
           "x": [
            3537.3631698125
           ],
           "xaxis": "x",
           "y": [
            9.82785573811594
           ],
           "yaxis": "y"
          },
          {
           "hovertemplate": "Country_Name=United States<br>Year=1970-01-01 00:00:00.000002012<br>GDP (in Billion USD)=%{marker.size}<br>Energy Use (in kg of oil equivalent per capita)=%{y}<extra></extra>",
           "legendgroup": "United States",
           "marker": {
            "color": "#FFA15A",
            "size": [
             6872.02728367462
            ],
            "sizemode": "area",
            "sizeref": 20.142159624869375,
            "symbol": "circle"
           },
           "mode": "markers",
           "name": "United States",
           "orientation": "v",
           "showlegend": true,
           "type": "scatter",
           "x": [
            6872.02728367462
           ],
           "xaxis": "x",
           "y": [
            15.789760151839
           ],
           "yaxis": "y"
          }
         ],
         "name": "1970-01-01 00:00:00.000002012"
        },
        {
         "data": [
          {
           "hovertemplate": "Country_Name=China<br>Year=1970-01-01 00:00:00.000002013<br>GDP (in Billion USD)=%{marker.size}<br>Energy Use (in kg of oil equivalent per capita)=%{y}<extra></extra>",
           "legendgroup": "China",
           "marker": {
            "color": "#636efa",
            "size": [
             2204.24329905226
            ],
            "sizemode": "area",
            "sizeref": 20.142159624869375,
            "symbol": "circle"
           },
           "mode": "markers",
           "name": "China",
           "orientation": "v",
           "showlegend": true,
           "type": "scatter",
           "x": [
            2204.24329905226
           ],
           "xaxis": "x",
           "y": [
            7.32015492503154
           ],
           "yaxis": "y"
          },
          {
           "hovertemplate": "Country_Name=Germany<br>Year=1970-01-01 00:00:00.000002013<br>GDP (in Billion USD)=%{marker.size}<br>Energy Use (in kg of oil equivalent per capita)=%{y}<extra></extra>",
           "legendgroup": "Germany",
           "marker": {
            "color": "#EF553B",
            "size": [
             3939.52956270835
            ],
            "sizemode": "area",
            "sizeref": 20.142159624869375,
            "symbol": "circle"
           },
           "mode": "markers",
           "name": "Germany",
           "orientation": "v",
           "showlegend": true,
           "type": "scatter",
           "x": [
            3939.52956270835
           ],
           "xaxis": "x",
           "y": [
            9.62422936749002
           ],
           "yaxis": "y"
          },
          {
           "hovertemplate": "Country_Name=India<br>Year=1970-01-01 00:00:00.000002013<br>GDP (in Billion USD)=%{marker.size}<br>Energy Use (in kg of oil equivalent per capita)=%{y}<extra></extra>",
           "legendgroup": "India",
           "marker": {
            "color": "#00cc96",
            "size": [
             600.966036887893
            ],
            "sizemode": "area",
            "sizeref": 20.142159624869375,
            "symbol": "circle"
           },
           "mode": "markers",
           "name": "India",
           "orientation": "v",
           "showlegend": true,
           "type": "scatter",
           "x": [
            600.966036887893
           ],
           "xaxis": "x",
           "y": [
            1.52767440026001
           ],
           "yaxis": "y"
          },
          {
           "hovertemplate": "Country_Name=Japan<br>Year=1970-01-01 00:00:00.000002013<br>GDP (in Billion USD)=%{marker.size}<br>Energy Use (in kg of oil equivalent per capita)=%{y}<extra></extra>",
           "legendgroup": "Japan",
           "marker": {
            "color": "#ab63fa",
            "size": [
             3567.62935383891
            ],
            "sizemode": "area",
            "sizeref": 20.142159624869375,
            "symbol": "circle"
           },
           "mode": "markers",
           "name": "Japan",
           "orientation": "v",
           "showlegend": true,
           "type": "scatter",
           "x": [
            3567.62935383891
           ],
           "xaxis": "x",
           "y": [
            9.94449527247048
           ],
           "yaxis": "y"
          },
          {
           "hovertemplate": "Country_Name=United States<br>Year=1970-01-01 00:00:00.000002013<br>GDP (in Billion USD)=%{marker.size}<br>Energy Use (in kg of oil equivalent per capita)=%{y}<extra></extra>",
           "legendgroup": "United States",
           "marker": {
            "color": "#FFA15A",
            "size": [
             6905.59863316056
            ],
            "sizemode": "area",
            "sizeref": 20.142159624869375,
            "symbol": "circle"
           },
           "mode": "markers",
           "name": "United States",
           "orientation": "v",
           "showlegend": true,
           "type": "scatter",
           "x": [
            6905.59863316056
           ],
           "xaxis": "x",
           "y": [
            16.1111752638496
           ],
           "yaxis": "y"
          }
         ],
         "name": "1970-01-01 00:00:00.000002013"
        },
        {
         "data": [
          {
           "hovertemplate": "Country_Name=China<br>Year=1970-01-01 00:00:00.000002014<br>GDP (in Billion USD)=%{marker.size}<br>Energy Use (in kg of oil equivalent per capita)=%{y}<extra></extra>",
           "legendgroup": "China",
           "marker": {
            "color": "#636efa",
            "size": [
             2224.35489845903
            ],
            "sizemode": "area",
            "sizeref": 20.142159624869375,
            "symbol": "circle"
           },
           "mode": "markers",
           "name": "China",
           "orientation": "v",
           "showlegend": true,
           "type": "scatter",
           "x": [
            2224.35489845903
           ],
           "xaxis": "x",
           "y": [
            7.30471287157582
           ],
           "yaxis": "y"
          },
          {
           "hovertemplate": "Country_Name=Germany<br>Year=1970-01-01 00:00:00.000002014<br>GDP (in Billion USD)=%{marker.size}<br>Energy Use (in kg of oil equivalent per capita)=%{y}<extra></extra>",
           "legendgroup": "Germany",
           "marker": {
            "color": "#EF553B",
            "size": [
             3779.46192078536
            ],
            "sizemode": "area",
            "sizeref": 20.142159624869375,
            "symbol": "circle"
           },
           "mode": "markers",
           "name": "Germany",
           "orientation": "v",
           "showlegend": true,
           "type": "scatter",
           "x": [
            3779.46192078536
           ],
           "xaxis": "x",
           "y": [
            9.08852776834501
           ],
           "yaxis": "y"
          },
          {
           "hovertemplate": "Country_Name=India<br>Year=1970-01-01 00:00:00.000002014<br>GDP (in Billion USD)=%{marker.size}<br>Energy Use (in kg of oil equivalent per capita)=%{y}<extra></extra>",
           "legendgroup": "India",
           "marker": {
            "color": "#00cc96",
            "size": [
             630.900867833184
            ],
            "sizemode": "area",
            "sizeref": 20.142159624869375,
            "symbol": "circle"
           },
           "mode": "markers",
           "name": "India",
           "orientation": "v",
           "showlegend": true,
           "type": "scatter",
           "x": [
            630.900867833184
           ],
           "xaxis": "x",
           "y": [
            1.64246527737333
           ],
           "yaxis": "y"
          },
          {
           "hovertemplate": "Country_Name=Japan<br>Year=1970-01-01 00:00:00.000002014<br>GDP (in Billion USD)=%{marker.size}<br>Energy Use (in kg of oil equivalent per capita)=%{y}<extra></extra>",
           "legendgroup": "Japan",
           "marker": {
            "color": "#ab63fa",
            "size": [
             3470.76312894811
            ],
            "sizemode": "area",
            "sizeref": 20.142159624869375,
            "symbol": "circle"
           },
           "mode": "markers",
           "name": "Japan",
           "orientation": "v",
           "showlegend": true,
           "type": "scatter",
           "x": [
            3470.76312894811
           ],
           "xaxis": "x",
           "y": [
            9.56430591784783
           ],
           "yaxis": "y"
          },
          {
           "hovertemplate": "Country_Name=United States<br>Year=1970-01-01 00:00:00.000002014<br>GDP (in Billion USD)=%{marker.size}<br>Energy Use (in kg of oil equivalent per capita)=%{y}<extra></extra>",
           "legendgroup": "United States",
           "marker": {
            "color": "#FFA15A",
            "size": [
             6960.68399657951
            ],
            "sizemode": "area",
            "sizeref": 20.142159624869375,
            "symbol": "circle"
           },
           "mode": "markers",
           "name": "United States",
           "orientation": "v",
           "showlegend": true,
           "type": "scatter",
           "x": [
            6960.68399657951
           ],
           "xaxis": "x",
           "y": [
            16.0409167568247
           ],
           "yaxis": "y"
          }
         ],
         "name": "1970-01-01 00:00:00.000002014"
        },
        {
         "data": [
          {
           "hovertemplate": "Country_Name=Germany<br>Year=1970-01-01 00:00:00.000002015<br>GDP (in Billion USD)=%{marker.size}<br>Energy Use (in kg of oil equivalent per capita)=%{y}<extra></extra>",
           "legendgroup": "Germany",
           "marker": {
            "color": "#EF553B",
            "size": [
             3817.54941455461
            ],
            "sizemode": "area",
            "sizeref": 20.142159624869375,
            "symbol": "circle"
           },
           "mode": "markers",
           "name": "Germany",
           "orientation": "v",
           "showlegend": true,
           "type": "scatter",
           "x": [
            3817.54941455461
           ],
           "xaxis": "x",
           "y": [
            9.08734480366678
           ],
           "yaxis": "y"
          },
          {
           "hovertemplate": "Country_Name=Japan<br>Year=1970-01-01 00:00:00.000002015<br>GDP (in Billion USD)=%{marker.size}<br>Energy Use (in kg of oil equivalent per capita)=%{y}<extra></extra>",
           "legendgroup": "Japan",
           "marker": {
            "color": "#ab63fa",
            "size": [
             3428.55721600428
            ],
            "sizemode": "area",
            "sizeref": 20.142159624869375,
            "symbol": "circle"
           },
           "mode": "markers",
           "name": "Japan",
           "orientation": "v",
           "showlegend": true,
           "type": "scatter",
           "x": [
            3428.55721600428
           ],
           "xaxis": "x",
           "y": [
            9.26804964566898
           ],
           "yaxis": "y"
          },
          {
           "hovertemplate": "Country_Name=United States<br>Year=1970-01-01 00:00:00.000002015<br>GDP (in Billion USD)=%{marker.size}<br>Energy Use (in kg of oil equivalent per capita)=%{y}<extra></extra>",
           "legendgroup": "United States",
           "marker": {
            "color": "#FFA15A",
            "size": [
             6803.99660728499
            ],
            "sizemode": "area",
            "sizeref": 20.142159624869375,
            "symbol": "circle"
           },
           "mode": "markers",
           "name": "United States",
           "orientation": "v",
           "showlegend": true,
           "type": "scatter",
           "x": [
            6803.99660728499
           ],
           "xaxis": "x",
           "y": [
            15.5600154435853
           ],
           "yaxis": "y"
          }
         ],
         "name": "1970-01-01 00:00:00.000002015"
        }
       ],
       "layout": {
        "legend": {
         "itemsizing": "constant",
         "title": {
          "text": "Country"
         },
         "tracegroupgap": 0
        },
        "sliders": [
         {
          "active": 0,
          "currentvalue": {
           "prefix": "Year="
          },
          "len": 0.9,
          "pad": {
           "b": 10,
           "t": 60
          },
          "steps": [
           {
            "args": [
             [
              "1970-01-01 00:00:00.000001990"
             ],
             {
              "frame": {
               "duration": 0,
               "redraw": false
              },
              "fromcurrent": true,
              "mode": "immediate",
              "transition": {
               "duration": 0,
               "easing": "linear"
              }
             }
            ],
            "label": "1970-01-01 00:00:00.000001990",
            "method": "animate"
           },
           {
            "args": [
             [
              "1970-01-01 00:00:00.000001991"
             ],
             {
              "frame": {
               "duration": 0,
               "redraw": false
              },
              "fromcurrent": true,
              "mode": "immediate",
              "transition": {
               "duration": 0,
               "easing": "linear"
              }
             }
            ],
            "label": "1970-01-01 00:00:00.000001991",
            "method": "animate"
           },
           {
            "args": [
             [
              "1970-01-01 00:00:00.000001992"
             ],
             {
              "frame": {
               "duration": 0,
               "redraw": false
              },
              "fromcurrent": true,
              "mode": "immediate",
              "transition": {
               "duration": 0,
               "easing": "linear"
              }
             }
            ],
            "label": "1970-01-01 00:00:00.000001992",
            "method": "animate"
           },
           {
            "args": [
             [
              "1970-01-01 00:00:00.000001993"
             ],
             {
              "frame": {
               "duration": 0,
               "redraw": false
              },
              "fromcurrent": true,
              "mode": "immediate",
              "transition": {
               "duration": 0,
               "easing": "linear"
              }
             }
            ],
            "label": "1970-01-01 00:00:00.000001993",
            "method": "animate"
           },
           {
            "args": [
             [
              "1970-01-01 00:00:00.000001994"
             ],
             {
              "frame": {
               "duration": 0,
               "redraw": false
              },
              "fromcurrent": true,
              "mode": "immediate",
              "transition": {
               "duration": 0,
               "easing": "linear"
              }
             }
            ],
            "label": "1970-01-01 00:00:00.000001994",
            "method": "animate"
           },
           {
            "args": [
             [
              "1970-01-01 00:00:00.000001995"
             ],
             {
              "frame": {
               "duration": 0,
               "redraw": false
              },
              "fromcurrent": true,
              "mode": "immediate",
              "transition": {
               "duration": 0,
               "easing": "linear"
              }
             }
            ],
            "label": "1970-01-01 00:00:00.000001995",
            "method": "animate"
           },
           {
            "args": [
             [
              "1970-01-01 00:00:00.000001996"
             ],
             {
              "frame": {
               "duration": 0,
               "redraw": false
              },
              "fromcurrent": true,
              "mode": "immediate",
              "transition": {
               "duration": 0,
               "easing": "linear"
              }
             }
            ],
            "label": "1970-01-01 00:00:00.000001996",
            "method": "animate"
           },
           {
            "args": [
             [
              "1970-01-01 00:00:00.000001997"
             ],
             {
              "frame": {
               "duration": 0,
               "redraw": false
              },
              "fromcurrent": true,
              "mode": "immediate",
              "transition": {
               "duration": 0,
               "easing": "linear"
              }
             }
            ],
            "label": "1970-01-01 00:00:00.000001997",
            "method": "animate"
           },
           {
            "args": [
             [
              "1970-01-01 00:00:00.000001998"
             ],
             {
              "frame": {
               "duration": 0,
               "redraw": false
              },
              "fromcurrent": true,
              "mode": "immediate",
              "transition": {
               "duration": 0,
               "easing": "linear"
              }
             }
            ],
            "label": "1970-01-01 00:00:00.000001998",
            "method": "animate"
           },
           {
            "args": [
             [
              "1970-01-01 00:00:00.000001999"
             ],
             {
              "frame": {
               "duration": 0,
               "redraw": false
              },
              "fromcurrent": true,
              "mode": "immediate",
              "transition": {
               "duration": 0,
               "easing": "linear"
              }
             }
            ],
            "label": "1970-01-01 00:00:00.000001999",
            "method": "animate"
           },
           {
            "args": [
             [
              "1970-01-01 00:00:00.000002"
             ],
             {
              "frame": {
               "duration": 0,
               "redraw": false
              },
              "fromcurrent": true,
              "mode": "immediate",
              "transition": {
               "duration": 0,
               "easing": "linear"
              }
             }
            ],
            "label": "1970-01-01 00:00:00.000002",
            "method": "animate"
           },
           {
            "args": [
             [
              "1970-01-01 00:00:00.000002001"
             ],
             {
              "frame": {
               "duration": 0,
               "redraw": false
              },
              "fromcurrent": true,
              "mode": "immediate",
              "transition": {
               "duration": 0,
               "easing": "linear"
              }
             }
            ],
            "label": "1970-01-01 00:00:00.000002001",
            "method": "animate"
           },
           {
            "args": [
             [
              "1970-01-01 00:00:00.000002002"
             ],
             {
              "frame": {
               "duration": 0,
               "redraw": false
              },
              "fromcurrent": true,
              "mode": "immediate",
              "transition": {
               "duration": 0,
               "easing": "linear"
              }
             }
            ],
            "label": "1970-01-01 00:00:00.000002002",
            "method": "animate"
           },
           {
            "args": [
             [
              "1970-01-01 00:00:00.000002003"
             ],
             {
              "frame": {
               "duration": 0,
               "redraw": false
              },
              "fromcurrent": true,
              "mode": "immediate",
              "transition": {
               "duration": 0,
               "easing": "linear"
              }
             }
            ],
            "label": "1970-01-01 00:00:00.000002003",
            "method": "animate"
           },
           {
            "args": [
             [
              "1970-01-01 00:00:00.000002004"
             ],
             {
              "frame": {
               "duration": 0,
               "redraw": false
              },
              "fromcurrent": true,
              "mode": "immediate",
              "transition": {
               "duration": 0,
               "easing": "linear"
              }
             }
            ],
            "label": "1970-01-01 00:00:00.000002004",
            "method": "animate"
           },
           {
            "args": [
             [
              "1970-01-01 00:00:00.000002005"
             ],
             {
              "frame": {
               "duration": 0,
               "redraw": false
              },
              "fromcurrent": true,
              "mode": "immediate",
              "transition": {
               "duration": 0,
               "easing": "linear"
              }
             }
            ],
            "label": "1970-01-01 00:00:00.000002005",
            "method": "animate"
           },
           {
            "args": [
             [
              "1970-01-01 00:00:00.000002006"
             ],
             {
              "frame": {
               "duration": 0,
               "redraw": false
              },
              "fromcurrent": true,
              "mode": "immediate",
              "transition": {
               "duration": 0,
               "easing": "linear"
              }
             }
            ],
            "label": "1970-01-01 00:00:00.000002006",
            "method": "animate"
           },
           {
            "args": [
             [
              "1970-01-01 00:00:00.000002007"
             ],
             {
              "frame": {
               "duration": 0,
               "redraw": false
              },
              "fromcurrent": true,
              "mode": "immediate",
              "transition": {
               "duration": 0,
               "easing": "linear"
              }
             }
            ],
            "label": "1970-01-01 00:00:00.000002007",
            "method": "animate"
           },
           {
            "args": [
             [
              "1970-01-01 00:00:00.000002008"
             ],
             {
              "frame": {
               "duration": 0,
               "redraw": false
              },
              "fromcurrent": true,
              "mode": "immediate",
              "transition": {
               "duration": 0,
               "easing": "linear"
              }
             }
            ],
            "label": "1970-01-01 00:00:00.000002008",
            "method": "animate"
           },
           {
            "args": [
             [
              "1970-01-01 00:00:00.000002009"
             ],
             {
              "frame": {
               "duration": 0,
               "redraw": false
              },
              "fromcurrent": true,
              "mode": "immediate",
              "transition": {
               "duration": 0,
               "easing": "linear"
              }
             }
            ],
            "label": "1970-01-01 00:00:00.000002009",
            "method": "animate"
           },
           {
            "args": [
             [
              "1970-01-01 00:00:00.000002010"
             ],
             {
              "frame": {
               "duration": 0,
               "redraw": false
              },
              "fromcurrent": true,
              "mode": "immediate",
              "transition": {
               "duration": 0,
               "easing": "linear"
              }
             }
            ],
            "label": "1970-01-01 00:00:00.000002010",
            "method": "animate"
           },
           {
            "args": [
             [
              "1970-01-01 00:00:00.000002011"
             ],
             {
              "frame": {
               "duration": 0,
               "redraw": false
              },
              "fromcurrent": true,
              "mode": "immediate",
              "transition": {
               "duration": 0,
               "easing": "linear"
              }
             }
            ],
            "label": "1970-01-01 00:00:00.000002011",
            "method": "animate"
           },
           {
            "args": [
             [
              "1970-01-01 00:00:00.000002012"
             ],
             {
              "frame": {
               "duration": 0,
               "redraw": false
              },
              "fromcurrent": true,
              "mode": "immediate",
              "transition": {
               "duration": 0,
               "easing": "linear"
              }
             }
            ],
            "label": "1970-01-01 00:00:00.000002012",
            "method": "animate"
           },
           {
            "args": [
             [
              "1970-01-01 00:00:00.000002013"
             ],
             {
              "frame": {
               "duration": 0,
               "redraw": false
              },
              "fromcurrent": true,
              "mode": "immediate",
              "transition": {
               "duration": 0,
               "easing": "linear"
              }
             }
            ],
            "label": "1970-01-01 00:00:00.000002013",
            "method": "animate"
           },
           {
            "args": [
             [
              "1970-01-01 00:00:00.000002014"
             ],
             {
              "frame": {
               "duration": 0,
               "redraw": false
              },
              "fromcurrent": true,
              "mode": "immediate",
              "transition": {
               "duration": 0,
               "easing": "linear"
              }
             }
            ],
            "label": "1970-01-01 00:00:00.000002014",
            "method": "animate"
           },
           {
            "args": [
             [
              "1970-01-01 00:00:00.000002015"
             ],
             {
              "frame": {
               "duration": 0,
               "redraw": false
              },
              "fromcurrent": true,
              "mode": "immediate",
              "transition": {
               "duration": 0,
               "easing": "linear"
              }
             }
            ],
            "label": "1970-01-01 00:00:00.000002015",
            "method": "animate"
           }
          ],
          "x": 0.1,
          "xanchor": "left",
          "y": 0,
          "yanchor": "top"
         }
        ],
        "template": {
         "data": {
          "bar": [
           {
            "error_x": {
             "color": "#2a3f5f"
            },
            "error_y": {
             "color": "#2a3f5f"
            },
            "marker": {
             "line": {
              "color": "white",
              "width": 0.5
             },
             "pattern": {
              "fillmode": "overlay",
              "size": 10,
              "solidity": 0.2
             }
            },
            "type": "bar"
           }
          ],
          "barpolar": [
           {
            "marker": {
             "line": {
              "color": "white",
              "width": 0.5
             },
             "pattern": {
              "fillmode": "overlay",
              "size": 10,
              "solidity": 0.2
             }
            },
            "type": "barpolar"
           }
          ],
          "carpet": [
           {
            "aaxis": {
             "endlinecolor": "#2a3f5f",
             "gridcolor": "#C8D4E3",
             "linecolor": "#C8D4E3",
             "minorgridcolor": "#C8D4E3",
             "startlinecolor": "#2a3f5f"
            },
            "baxis": {
             "endlinecolor": "#2a3f5f",
             "gridcolor": "#C8D4E3",
             "linecolor": "#C8D4E3",
             "minorgridcolor": "#C8D4E3",
             "startlinecolor": "#2a3f5f"
            },
            "type": "carpet"
           }
          ],
          "choropleth": [
           {
            "colorbar": {
             "outlinewidth": 0,
             "ticks": ""
            },
            "type": "choropleth"
           }
          ],
          "contour": [
           {
            "colorbar": {
             "outlinewidth": 0,
             "ticks": ""
            },
            "colorscale": [
             [
              0,
              "#0d0887"
             ],
             [
              0.1111111111111111,
              "#46039f"
             ],
             [
              0.2222222222222222,
              "#7201a8"
             ],
             [
              0.3333333333333333,
              "#9c179e"
             ],
             [
              0.4444444444444444,
              "#bd3786"
             ],
             [
              0.5555555555555556,
              "#d8576b"
             ],
             [
              0.6666666666666666,
              "#ed7953"
             ],
             [
              0.7777777777777778,
              "#fb9f3a"
             ],
             [
              0.8888888888888888,
              "#fdca26"
             ],
             [
              1,
              "#f0f921"
             ]
            ],
            "type": "contour"
           }
          ],
          "contourcarpet": [
           {
            "colorbar": {
             "outlinewidth": 0,
             "ticks": ""
            },
            "type": "contourcarpet"
           }
          ],
          "heatmap": [
           {
            "colorbar": {
             "outlinewidth": 0,
             "ticks": ""
            },
            "colorscale": [
             [
              0,
              "#0d0887"
             ],
             [
              0.1111111111111111,
              "#46039f"
             ],
             [
              0.2222222222222222,
              "#7201a8"
             ],
             [
              0.3333333333333333,
              "#9c179e"
             ],
             [
              0.4444444444444444,
              "#bd3786"
             ],
             [
              0.5555555555555556,
              "#d8576b"
             ],
             [
              0.6666666666666666,
              "#ed7953"
             ],
             [
              0.7777777777777778,
              "#fb9f3a"
             ],
             [
              0.8888888888888888,
              "#fdca26"
             ],
             [
              1,
              "#f0f921"
             ]
            ],
            "type": "heatmap"
           }
          ],
          "heatmapgl": [
           {
            "colorbar": {
             "outlinewidth": 0,
             "ticks": ""
            },
            "colorscale": [
             [
              0,
              "#0d0887"
             ],
             [
              0.1111111111111111,
              "#46039f"
             ],
             [
              0.2222222222222222,
              "#7201a8"
             ],
             [
              0.3333333333333333,
              "#9c179e"
             ],
             [
              0.4444444444444444,
              "#bd3786"
             ],
             [
              0.5555555555555556,
              "#d8576b"
             ],
             [
              0.6666666666666666,
              "#ed7953"
             ],
             [
              0.7777777777777778,
              "#fb9f3a"
             ],
             [
              0.8888888888888888,
              "#fdca26"
             ],
             [
              1,
              "#f0f921"
             ]
            ],
            "type": "heatmapgl"
           }
          ],
          "histogram": [
           {
            "marker": {
             "pattern": {
              "fillmode": "overlay",
              "size": 10,
              "solidity": 0.2
             }
            },
            "type": "histogram"
           }
          ],
          "histogram2d": [
           {
            "colorbar": {
             "outlinewidth": 0,
             "ticks": ""
            },
            "colorscale": [
             [
              0,
              "#0d0887"
             ],
             [
              0.1111111111111111,
              "#46039f"
             ],
             [
              0.2222222222222222,
              "#7201a8"
             ],
             [
              0.3333333333333333,
              "#9c179e"
             ],
             [
              0.4444444444444444,
              "#bd3786"
             ],
             [
              0.5555555555555556,
              "#d8576b"
             ],
             [
              0.6666666666666666,
              "#ed7953"
             ],
             [
              0.7777777777777778,
              "#fb9f3a"
             ],
             [
              0.8888888888888888,
              "#fdca26"
             ],
             [
              1,
              "#f0f921"
             ]
            ],
            "type": "histogram2d"
           }
          ],
          "histogram2dcontour": [
           {
            "colorbar": {
             "outlinewidth": 0,
             "ticks": ""
            },
            "colorscale": [
             [
              0,
              "#0d0887"
             ],
             [
              0.1111111111111111,
              "#46039f"
             ],
             [
              0.2222222222222222,
              "#7201a8"
             ],
             [
              0.3333333333333333,
              "#9c179e"
             ],
             [
              0.4444444444444444,
              "#bd3786"
             ],
             [
              0.5555555555555556,
              "#d8576b"
             ],
             [
              0.6666666666666666,
              "#ed7953"
             ],
             [
              0.7777777777777778,
              "#fb9f3a"
             ],
             [
              0.8888888888888888,
              "#fdca26"
             ],
             [
              1,
              "#f0f921"
             ]
            ],
            "type": "histogram2dcontour"
           }
          ],
          "mesh3d": [
           {
            "colorbar": {
             "outlinewidth": 0,
             "ticks": ""
            },
            "type": "mesh3d"
           }
          ],
          "parcoords": [
           {
            "line": {
             "colorbar": {
              "outlinewidth": 0,
              "ticks": ""
             }
            },
            "type": "parcoords"
           }
          ],
          "pie": [
           {
            "automargin": true,
            "type": "pie"
           }
          ],
          "scatter": [
           {
            "fillpattern": {
             "fillmode": "overlay",
             "size": 10,
             "solidity": 0.2
            },
            "type": "scatter"
           }
          ],
          "scatter3d": [
           {
            "line": {
             "colorbar": {
              "outlinewidth": 0,
              "ticks": ""
             }
            },
            "marker": {
             "colorbar": {
              "outlinewidth": 0,
              "ticks": ""
             }
            },
            "type": "scatter3d"
           }
          ],
          "scattercarpet": [
           {
            "marker": {
             "colorbar": {
              "outlinewidth": 0,
              "ticks": ""
             }
            },
            "type": "scattercarpet"
           }
          ],
          "scattergeo": [
           {
            "marker": {
             "colorbar": {
              "outlinewidth": 0,
              "ticks": ""
             }
            },
            "type": "scattergeo"
           }
          ],
          "scattergl": [
           {
            "marker": {
             "colorbar": {
              "outlinewidth": 0,
              "ticks": ""
             }
            },
            "type": "scattergl"
           }
          ],
          "scattermapbox": [
           {
            "marker": {
             "colorbar": {
              "outlinewidth": 0,
              "ticks": ""
             }
            },
            "type": "scattermapbox"
           }
          ],
          "scatterpolar": [
           {
            "marker": {
             "colorbar": {
              "outlinewidth": 0,
              "ticks": ""
             }
            },
            "type": "scatterpolar"
           }
          ],
          "scatterpolargl": [
           {
            "marker": {
             "colorbar": {
              "outlinewidth": 0,
              "ticks": ""
             }
            },
            "type": "scatterpolargl"
           }
          ],
          "scatterternary": [
           {
            "marker": {
             "colorbar": {
              "outlinewidth": 0,
              "ticks": ""
             }
            },
            "type": "scatterternary"
           }
          ],
          "surface": [
           {
            "colorbar": {
             "outlinewidth": 0,
             "ticks": ""
            },
            "colorscale": [
             [
              0,
              "#0d0887"
             ],
             [
              0.1111111111111111,
              "#46039f"
             ],
             [
              0.2222222222222222,
              "#7201a8"
             ],
             [
              0.3333333333333333,
              "#9c179e"
             ],
             [
              0.4444444444444444,
              "#bd3786"
             ],
             [
              0.5555555555555556,
              "#d8576b"
             ],
             [
              0.6666666666666666,
              "#ed7953"
             ],
             [
              0.7777777777777778,
              "#fb9f3a"
             ],
             [
              0.8888888888888888,
              "#fdca26"
             ],
             [
              1,
              "#f0f921"
             ]
            ],
            "type": "surface"
           }
          ],
          "table": [
           {
            "cells": {
             "fill": {
              "color": "#EBF0F8"
             },
             "line": {
              "color": "white"
             }
            },
            "header": {
             "fill": {
              "color": "#C8D4E3"
             },
             "line": {
              "color": "white"
             }
            },
            "type": "table"
           }
          ]
         },
         "layout": {
          "annotationdefaults": {
           "arrowcolor": "#2a3f5f",
           "arrowhead": 0,
           "arrowwidth": 1
          },
          "autotypenumbers": "strict",
          "coloraxis": {
           "colorbar": {
            "outlinewidth": 0,
            "ticks": ""
           }
          },
          "colorscale": {
           "diverging": [
            [
             0,
             "#8e0152"
            ],
            [
             0.1,
             "#c51b7d"
            ],
            [
             0.2,
             "#de77ae"
            ],
            [
             0.3,
             "#f1b6da"
            ],
            [
             0.4,
             "#fde0ef"
            ],
            [
             0.5,
             "#f7f7f7"
            ],
            [
             0.6,
             "#e6f5d0"
            ],
            [
             0.7,
             "#b8e186"
            ],
            [
             0.8,
             "#7fbc41"
            ],
            [
             0.9,
             "#4d9221"
            ],
            [
             1,
             "#276419"
            ]
           ],
           "sequential": [
            [
             0,
             "#0d0887"
            ],
            [
             0.1111111111111111,
             "#46039f"
            ],
            [
             0.2222222222222222,
             "#7201a8"
            ],
            [
             0.3333333333333333,
             "#9c179e"
            ],
            [
             0.4444444444444444,
             "#bd3786"
            ],
            [
             0.5555555555555556,
             "#d8576b"
            ],
            [
             0.6666666666666666,
             "#ed7953"
            ],
            [
             0.7777777777777778,
             "#fb9f3a"
            ],
            [
             0.8888888888888888,
             "#fdca26"
            ],
            [
             1,
             "#f0f921"
            ]
           ],
           "sequentialminus": [
            [
             0,
             "#0d0887"
            ],
            [
             0.1111111111111111,
             "#46039f"
            ],
            [
             0.2222222222222222,
             "#7201a8"
            ],
            [
             0.3333333333333333,
             "#9c179e"
            ],
            [
             0.4444444444444444,
             "#bd3786"
            ],
            [
             0.5555555555555556,
             "#d8576b"
            ],
            [
             0.6666666666666666,
             "#ed7953"
            ],
            [
             0.7777777777777778,
             "#fb9f3a"
            ],
            [
             0.8888888888888888,
             "#fdca26"
            ],
            [
             1,
             "#f0f921"
            ]
           ]
          },
          "colorway": [
           "#636efa",
           "#EF553B",
           "#00cc96",
           "#ab63fa",
           "#FFA15A",
           "#19d3f3",
           "#FF6692",
           "#B6E880",
           "#FF97FF",
           "#FECB52"
          ],
          "font": {
           "color": "#2a3f5f"
          },
          "geo": {
           "bgcolor": "white",
           "lakecolor": "white",
           "landcolor": "white",
           "showlakes": true,
           "showland": true,
           "subunitcolor": "#C8D4E3"
          },
          "hoverlabel": {
           "align": "left"
          },
          "hovermode": "closest",
          "mapbox": {
           "style": "light"
          },
          "paper_bgcolor": "white",
          "plot_bgcolor": "white",
          "polar": {
           "angularaxis": {
            "gridcolor": "#EBF0F8",
            "linecolor": "#EBF0F8",
            "ticks": ""
           },
           "bgcolor": "white",
           "radialaxis": {
            "gridcolor": "#EBF0F8",
            "linecolor": "#EBF0F8",
            "ticks": ""
           }
          },
          "scene": {
           "xaxis": {
            "backgroundcolor": "white",
            "gridcolor": "#DFE8F3",
            "gridwidth": 2,
            "linecolor": "#EBF0F8",
            "showbackground": true,
            "ticks": "",
            "zerolinecolor": "#EBF0F8"
           },
           "yaxis": {
            "backgroundcolor": "white",
            "gridcolor": "#DFE8F3",
            "gridwidth": 2,
            "linecolor": "#EBF0F8",
            "showbackground": true,
            "ticks": "",
            "zerolinecolor": "#EBF0F8"
           },
           "zaxis": {
            "backgroundcolor": "white",
            "gridcolor": "#DFE8F3",
            "gridwidth": 2,
            "linecolor": "#EBF0F8",
            "showbackground": true,
            "ticks": "",
            "zerolinecolor": "#EBF0F8"
           }
          },
          "shapedefaults": {
           "line": {
            "color": "#2a3f5f"
           }
          },
          "ternary": {
           "aaxis": {
            "gridcolor": "#DFE8F3",
            "linecolor": "#A2B1C6",
            "ticks": ""
           },
           "baxis": {
            "gridcolor": "#DFE8F3",
            "linecolor": "#A2B1C6",
            "ticks": ""
           },
           "bgcolor": "white",
           "caxis": {
            "gridcolor": "#DFE8F3",
            "linecolor": "#A2B1C6",
            "ticks": ""
           }
          },
          "title": {
           "x": 0.05
          },
          "xaxis": {
           "automargin": true,
           "gridcolor": "#EBF0F8",
           "linecolor": "#EBF0F8",
           "ticks": "",
           "title": {
            "standoff": 15
           },
           "zerolinecolor": "#EBF0F8",
           "zerolinewidth": 2
          },
          "yaxis": {
           "automargin": true,
           "gridcolor": "#EBF0F8",
           "linecolor": "#EBF0F8",
           "ticks": "",
           "title": {
            "standoff": 15
           },
           "zerolinecolor": "#EBF0F8",
           "zerolinewidth": 2
          }
         }
        },
        "title": {
         "text": "Energy Use vs. GDP by Country Over Time"
        },
        "updatemenus": [
         {
          "buttons": [
           {
            "args": [
             null,
             {
              "frame": {
               "duration": 500,
               "redraw": false
              },
              "fromcurrent": true,
              "mode": "immediate",
              "transition": {
               "duration": 500,
               "easing": "linear"
              }
             }
            ],
            "label": "&#9654;",
            "method": "animate"
           },
           {
            "args": [
             [
              null
             ],
             {
              "frame": {
               "duration": 0,
               "redraw": false
              },
              "fromcurrent": true,
              "mode": "immediate",
              "transition": {
               "duration": 0,
               "easing": "linear"
              }
             }
            ],
            "label": "&#9724;",
            "method": "animate"
           }
          ],
          "direction": "left",
          "pad": {
           "r": 10,
           "t": 70
          },
          "showactive": false,
          "type": "buttons",
          "x": 0.1,
          "xanchor": "right",
          "y": 0,
          "yanchor": "top"
         }
        ],
        "xaxis": {
         "anchor": "y",
         "domain": [
          0,
          1
         ],
         "title": {
          "text": "GDP (Billion USD)"
         }
        },
        "yaxis": {
         "anchor": "x",
         "domain": [
          0,
          1
         ],
         "title": {
          "text": "Energy Use (kg of oil equivalent per capita)"
         }
        }
       }
      }
     },
     "metadata": {},
     "output_type": "display_data"
    }
   ],
   "source": [
    "import plotly.express as px\n",
    "\n",
    "\n",
    "countries_to_filter = ['China', 'Japan', 'India', 'United States', 'Russia', 'Germany']\n",
    "filtered_df = df_clean[df_clean['Country_Name'].isin(countries_to_filter)]\n",
    "fig = px.scatter(\n",
    "    filtered_df,\n",
    "    x=\"GDP\",                # GDP on the x-axis\n",
    "    y=\"Energy_Use\",         # Energy use on the y-axis\n",
    "    color=\"Country_Name\",   # Color by country for easier differentiation\n",
    "    size=\"GDP\",             # Optionally, make the size of the marker proportional to GDP\n",
    "    animation_frame=\"Year\", # Animation by year if time-series data is available\n",
    "    title=\"Energy Use vs. GDP by Country Over Time\",\n",
    "    labels={\n",
    "        \"GDP\": \"GDP (in Billion USD)\",\n",
    "        \"Energy_Use\": \"Energy Use (in kg of oil equivalent per capita)\"\n",
    "    },\n",
    "    template=\"plotly_white\"\n",
    ")\n",
    "\n",
    "fig.update_layout(\n",
    "    xaxis_title=\"GDP (Billion USD)\",\n",
    "    yaxis_title=\"Energy Use (kg of oil equivalent per capita)\",\n",
    "    legend_title=\"Country\",\n",
    ")\n",
    "\n",
    "fig.show()\n"
   ]
  },
  {
   "cell_type": "code",
   "execution_count": 22,
   "metadata": {},
   "outputs": [
    {
     "data": {
      "application/vnd.plotly.v1+json": {
       "config": {
        "plotlyServerURL": "https://plot.ly"
       },
       "data": [
        {
         "hovertemplate": "Country_Name=China<br>Year=%{x}<br>Energy Use (kg of oil equivalent per capita)=%{y}<extra></extra>",
         "legendgroup": "China",
         "line": {
          "color": "#636efa",
          "dash": "solid"
         },
         "marker": {
          "symbol": "circle"
         },
         "mode": "lines",
         "name": "China",
         "orientation": "v",
         "showlegend": true,
         "type": "scatter",
         "x": [
          1960,
          1961,
          1962,
          1963,
          1964,
          1965,
          1966,
          1967,
          1968,
          1969,
          1970,
          1971,
          1972,
          1973,
          1974,
          1975,
          1976,
          1977,
          1978,
          1979,
          1980,
          1981,
          1982,
          1983,
          1984,
          1985,
          1986,
          1987,
          1988,
          1989,
          1990,
          1991,
          1992,
          1993,
          1994,
          1995,
          1996,
          1997,
          1998,
          1999,
          2000,
          2001,
          2002,
          2003,
          2004,
          2005,
          2006,
          2007,
          2008,
          2009,
          2010,
          2011,
          2012,
          2013,
          2014,
          2015,
          2016,
          2017,
          2018,
          2019,
          2020,
          2021,
          2022,
          2023
         ],
         "xaxis": "x",
         "y": [
          null,
          null,
          null,
          null,
          null,
          null,
          null,
          null,
          null,
          null,
          null,
          null,
          null,
          null,
          null,
          null,
          null,
          null,
          null,
          null,
          null,
          null,
          null,
          null,
          null,
          null,
          null,
          null,
          null,
          null,
          1.91454626338438,
          2.00054328368585,
          2.07574040533233,
          2.24484207935915,
          2.32218922921378,
          2.5634787588548,
          2.52187187384502,
          2.54790366441071,
          2.60583573214379,
          2.51742076336975,
          2.65040910152893,
          2.77476219679994,
          2.96482122774133,
          3.43403647935424,
          3.94515487143877,
          4.46769636118185,
          4.91027619715946,
          5.30636800631315,
          5.43507909606652,
          5.79831993750282,
          6.33541976743751,
          6.90134732553428,
          7.04520023039603,
          7.32015492503154,
          7.30471287157582,
          7.14513153508327,
          7.10547993572515,
          7.22616015441748,
          7.53319313353674,
          7.64543578560038,
          7.75613790659769,
          null,
          null,
          null
         ],
         "yaxis": "y"
        },
        {
         "hovertemplate": "Country_Name=Germany<br>Year=%{x}<br>Energy Use (kg of oil equivalent per capita)=%{y}<extra></extra>",
         "legendgroup": "Germany",
         "line": {
          "color": "#EF553B",
          "dash": "solid"
         },
         "marker": {
          "symbol": "circle"
         },
         "mode": "lines",
         "name": "Germany",
         "orientation": "v",
         "showlegend": true,
         "type": "scatter",
         "x": [
          1960,
          1961,
          1962,
          1963,
          1964,
          1965,
          1966,
          1967,
          1968,
          1969,
          1970,
          1971,
          1972,
          1973,
          1974,
          1975,
          1976,
          1977,
          1978,
          1979,
          1980,
          1981,
          1982,
          1983,
          1984,
          1985,
          1986,
          1987,
          1988,
          1989,
          1990,
          1991,
          1992,
          1993,
          1994,
          1995,
          1996,
          1997,
          1998,
          1999,
          2000,
          2001,
          2002,
          2003,
          2004,
          2005,
          2006,
          2007,
          2008,
          2009,
          2010,
          2011,
          2012,
          2013,
          2014,
          2015,
          2016,
          2017,
          2018,
          2019,
          2020,
          2021,
          2022,
          2023
         ],
         "xaxis": "x",
         "y": [
          null,
          null,
          null,
          null,
          null,
          null,
          null,
          null,
          null,
          null,
          null,
          null,
          null,
          null,
          null,
          null,
          null,
          null,
          null,
          null,
          null,
          null,
          null,
          null,
          null,
          null,
          null,
          null,
          null,
          null,
          12.0265802780856,
          11.6548268065837,
          11.0737594003259,
          10.9302212076704,
          10.7553397325791,
          10.7086223200894,
          11.0399715040613,
          10.6375197902363,
          10.545804765172,
          10.1533792049799,
          10.0993658941276,
          10.2936122892644,
          10.1030113350959,
          10.138763607454,
          9.9504461302536,
          9.7294631214949,
          9.88647957169216,
          9.52762326749987,
          9.61745788706108,
          8.97173140678443,
          9.45338862684134,
          9.29900290355714,
          9.45128904680279,
          9.62422936749002,
          9.08852776834501,
          9.08734480366678,
          9.07297238768971,
          8.8583445114547,
          8.53704268780674,
          7.9271876239049,
          7.2552210281684,
          null,
          null,
          null
         ],
         "yaxis": "y"
        },
        {
         "hovertemplate": "Country_Name=India<br>Year=%{x}<br>Energy Use (kg of oil equivalent per capita)=%{y}<extra></extra>",
         "legendgroup": "India",
         "line": {
          "color": "#00cc96",
          "dash": "solid"
         },
         "marker": {
          "symbol": "circle"
         },
         "mode": "lines",
         "name": "India",
         "orientation": "v",
         "showlegend": true,
         "type": "scatter",
         "x": [
          1960,
          1961,
          1962,
          1963,
          1964,
          1965,
          1966,
          1967,
          1968,
          1969,
          1970,
          1971,
          1972,
          1973,
          1974,
          1975,
          1976,
          1977,
          1978,
          1979,
          1980,
          1981,
          1982,
          1983,
          1984,
          1985,
          1986,
          1987,
          1988,
          1989,
          1990,
          1991,
          1992,
          1993,
          1994,
          1995,
          1996,
          1997,
          1998,
          1999,
          2000,
          2001,
          2002,
          2003,
          2004,
          2005,
          2006,
          2007,
          2008,
          2009,
          2010,
          2011,
          2012,
          2013,
          2014,
          2015,
          2016,
          2017,
          2018,
          2019,
          2020,
          2021,
          2022,
          2023
         ],
         "xaxis": "x",
         "y": [
          null,
          null,
          null,
          null,
          null,
          null,
          null,
          null,
          null,
          null,
          null,
          null,
          null,
          null,
          null,
          null,
          null,
          null,
          null,
          null,
          null,
          null,
          null,
          null,
          null,
          null,
          null,
          null,
          null,
          null,
          0.647451316293756,
          0.683086373096417,
          0.690074050365449,
          0.70313616671063,
          0.725622134896071,
          0.765189640436571,
          0.787231756113946,
          0.817360076229187,
          0.818720963289576,
          0.866242338513132,
          0.885077949226179,
          0.883746998008724,
          0.897242648505059,
          0.905456601736005,
          0.955470157428994,
          0.984261472618751,
          1.03653392155165,
          1.1235994817209,
          1.18036124666151,
          1.27887360284089,
          1.33803383522422,
          1.39687849773199,
          1.49820412282441,
          1.52767440026001,
          1.64246527737333,
          1.63132348717228,
          1.63991401876928,
          1.70492672078233,
          1.79559529858433,
          1.75253436625037,
          1.57609323191648,
          null,
          null,
          null
         ],
         "yaxis": "y"
        },
        {
         "hovertemplate": "Country_Name=Japan<br>Year=%{x}<br>Energy Use (kg of oil equivalent per capita)=%{y}<extra></extra>",
         "legendgroup": "Japan",
         "line": {
          "color": "#ab63fa",
          "dash": "solid"
         },
         "marker": {
          "symbol": "circle"
         },
         "mode": "lines",
         "name": "Japan",
         "orientation": "v",
         "showlegend": true,
         "type": "scatter",
         "x": [
          1960,
          1961,
          1962,
          1963,
          1964,
          1965,
          1966,
          1967,
          1968,
          1969,
          1970,
          1971,
          1972,
          1973,
          1974,
          1975,
          1976,
          1977,
          1978,
          1979,
          1980,
          1981,
          1982,
          1983,
          1984,
          1985,
          1986,
          1987,
          1988,
          1989,
          1990,
          1991,
          1992,
          1993,
          1994,
          1995,
          1996,
          1997,
          1998,
          1999,
          2000,
          2001,
          2002,
          2003,
          2004,
          2005,
          2006,
          2007,
          2008,
          2009,
          2010,
          2011,
          2012,
          2013,
          2014,
          2015,
          2016,
          2017,
          2018,
          2019,
          2020,
          2021,
          2022,
          2023
         ],
         "xaxis": "x",
         "y": [
          null,
          null,
          null,
          null,
          null,
          null,
          null,
          null,
          null,
          null,
          null,
          null,
          null,
          null,
          null,
          null,
          null,
          null,
          null,
          null,
          null,
          null,
          null,
          null,
          null,
          null,
          null,
          null,
          null,
          null,
          8.83159834140495,
          8.90549917718047,
          8.96150371709865,
          8.87283243477077,
          9.27283628113566,
          9.33264313950523,
          9.42012452587132,
          9.30217361987038,
          8.94209256329114,
          9.23118904533645,
          9.33772380028855,
          9.22020228236164,
          9.46887049315391,
          9.50476440282497,
          9.44956363835599,
          9.51276404248159,
          9.33129428879816,
          9.5936031749752,
          9.04895324957248,
          8.60923098549751,
          9.03600999453424,
          9.49500989572333,
          9.82785573811594,
          9.94449527247048,
          9.56430591784783,
          9.26804964566898,
          9.16671440712644,
          9.06369120751032,
          8.76197885041518,
          8.47840057488964,
          8.0314958696668,
          null,
          null,
          null
         ],
         "yaxis": "y"
        },
        {
         "hovertemplate": "Country_Name=United States<br>Year=%{x}<br>Energy Use (kg of oil equivalent per capita)=%{y}<extra></extra>",
         "legendgroup": "United States",
         "line": {
          "color": "#FFA15A",
          "dash": "solid"
         },
         "marker": {
          "symbol": "circle"
         },
         "mode": "lines",
         "name": "United States",
         "orientation": "v",
         "showlegend": true,
         "type": "scatter",
         "x": [
          1960,
          1961,
          1962,
          1963,
          1964,
          1965,
          1966,
          1967,
          1968,
          1969,
          1970,
          1971,
          1972,
          1973,
          1974,
          1975,
          1976,
          1977,
          1978,
          1979,
          1980,
          1981,
          1982,
          1983,
          1984,
          1985,
          1986,
          1987,
          1988,
          1989,
          1990,
          1991,
          1992,
          1993,
          1994,
          1995,
          1996,
          1997,
          1998,
          1999,
          2000,
          2001,
          2002,
          2003,
          2004,
          2005,
          2006,
          2007,
          2008,
          2009,
          2010,
          2011,
          2012,
          2013,
          2014,
          2015,
          2016,
          2017,
          2018,
          2019,
          2020,
          2021,
          2022,
          2023
         ],
         "xaxis": "x",
         "y": [
          null,
          null,
          null,
          null,
          null,
          null,
          null,
          null,
          null,
          null,
          null,
          null,
          null,
          null,
          null,
          null,
          null,
          null,
          null,
          null,
          null,
          null,
          null,
          null,
          null,
          null,
          null,
          null,
          null,
          null,
          19.4073358624806,
          19.0033895826169,
          19.0228451468536,
          19.2183314801919,
          19.2561852496523,
          19.216897002381,
          19.5753665634721,
          20.3308530498025,
          20.2662868763911,
          20.1011227780963,
          20.4697967370289,
          20.1715369311018,
          19.4455302807915,
          19.5065055322014,
          19.5976167070584,
          19.4692725196123,
          18.9459168417477,
          19.0429117790575,
          18.278491260823,
          16.8086814210194,
          17.4317369879177,
          16.604189616843,
          15.789760151839,
          16.1111752638496,
          16.0409167568247,
          15.5600154435853,
          15.1498827249693,
          14.8232454359428,
          15.2225180998504,
          14.6733807134556,
          13.0322217290262,
          null,
          null,
          null
         ],
         "yaxis": "y"
        }
       ],
       "layout": {
        "legend": {
         "title": {
          "text": "Country"
         },
         "tracegroupgap": 0
        },
        "template": {
         "data": {
          "bar": [
           {
            "error_x": {
             "color": "#2a3f5f"
            },
            "error_y": {
             "color": "#2a3f5f"
            },
            "marker": {
             "line": {
              "color": "white",
              "width": 0.5
             },
             "pattern": {
              "fillmode": "overlay",
              "size": 10,
              "solidity": 0.2
             }
            },
            "type": "bar"
           }
          ],
          "barpolar": [
           {
            "marker": {
             "line": {
              "color": "white",
              "width": 0.5
             },
             "pattern": {
              "fillmode": "overlay",
              "size": 10,
              "solidity": 0.2
             }
            },
            "type": "barpolar"
           }
          ],
          "carpet": [
           {
            "aaxis": {
             "endlinecolor": "#2a3f5f",
             "gridcolor": "#C8D4E3",
             "linecolor": "#C8D4E3",
             "minorgridcolor": "#C8D4E3",
             "startlinecolor": "#2a3f5f"
            },
            "baxis": {
             "endlinecolor": "#2a3f5f",
             "gridcolor": "#C8D4E3",
             "linecolor": "#C8D4E3",
             "minorgridcolor": "#C8D4E3",
             "startlinecolor": "#2a3f5f"
            },
            "type": "carpet"
           }
          ],
          "choropleth": [
           {
            "colorbar": {
             "outlinewidth": 0,
             "ticks": ""
            },
            "type": "choropleth"
           }
          ],
          "contour": [
           {
            "colorbar": {
             "outlinewidth": 0,
             "ticks": ""
            },
            "colorscale": [
             [
              0,
              "#0d0887"
             ],
             [
              0.1111111111111111,
              "#46039f"
             ],
             [
              0.2222222222222222,
              "#7201a8"
             ],
             [
              0.3333333333333333,
              "#9c179e"
             ],
             [
              0.4444444444444444,
              "#bd3786"
             ],
             [
              0.5555555555555556,
              "#d8576b"
             ],
             [
              0.6666666666666666,
              "#ed7953"
             ],
             [
              0.7777777777777778,
              "#fb9f3a"
             ],
             [
              0.8888888888888888,
              "#fdca26"
             ],
             [
              1,
              "#f0f921"
             ]
            ],
            "type": "contour"
           }
          ],
          "contourcarpet": [
           {
            "colorbar": {
             "outlinewidth": 0,
             "ticks": ""
            },
            "type": "contourcarpet"
           }
          ],
          "heatmap": [
           {
            "colorbar": {
             "outlinewidth": 0,
             "ticks": ""
            },
            "colorscale": [
             [
              0,
              "#0d0887"
             ],
             [
              0.1111111111111111,
              "#46039f"
             ],
             [
              0.2222222222222222,
              "#7201a8"
             ],
             [
              0.3333333333333333,
              "#9c179e"
             ],
             [
              0.4444444444444444,
              "#bd3786"
             ],
             [
              0.5555555555555556,
              "#d8576b"
             ],
             [
              0.6666666666666666,
              "#ed7953"
             ],
             [
              0.7777777777777778,
              "#fb9f3a"
             ],
             [
              0.8888888888888888,
              "#fdca26"
             ],
             [
              1,
              "#f0f921"
             ]
            ],
            "type": "heatmap"
           }
          ],
          "heatmapgl": [
           {
            "colorbar": {
             "outlinewidth": 0,
             "ticks": ""
            },
            "colorscale": [
             [
              0,
              "#0d0887"
             ],
             [
              0.1111111111111111,
              "#46039f"
             ],
             [
              0.2222222222222222,
              "#7201a8"
             ],
             [
              0.3333333333333333,
              "#9c179e"
             ],
             [
              0.4444444444444444,
              "#bd3786"
             ],
             [
              0.5555555555555556,
              "#d8576b"
             ],
             [
              0.6666666666666666,
              "#ed7953"
             ],
             [
              0.7777777777777778,
              "#fb9f3a"
             ],
             [
              0.8888888888888888,
              "#fdca26"
             ],
             [
              1,
              "#f0f921"
             ]
            ],
            "type": "heatmapgl"
           }
          ],
          "histogram": [
           {
            "marker": {
             "pattern": {
              "fillmode": "overlay",
              "size": 10,
              "solidity": 0.2
             }
            },
            "type": "histogram"
           }
          ],
          "histogram2d": [
           {
            "colorbar": {
             "outlinewidth": 0,
             "ticks": ""
            },
            "colorscale": [
             [
              0,
              "#0d0887"
             ],
             [
              0.1111111111111111,
              "#46039f"
             ],
             [
              0.2222222222222222,
              "#7201a8"
             ],
             [
              0.3333333333333333,
              "#9c179e"
             ],
             [
              0.4444444444444444,
              "#bd3786"
             ],
             [
              0.5555555555555556,
              "#d8576b"
             ],
             [
              0.6666666666666666,
              "#ed7953"
             ],
             [
              0.7777777777777778,
              "#fb9f3a"
             ],
             [
              0.8888888888888888,
              "#fdca26"
             ],
             [
              1,
              "#f0f921"
             ]
            ],
            "type": "histogram2d"
           }
          ],
          "histogram2dcontour": [
           {
            "colorbar": {
             "outlinewidth": 0,
             "ticks": ""
            },
            "colorscale": [
             [
              0,
              "#0d0887"
             ],
             [
              0.1111111111111111,
              "#46039f"
             ],
             [
              0.2222222222222222,
              "#7201a8"
             ],
             [
              0.3333333333333333,
              "#9c179e"
             ],
             [
              0.4444444444444444,
              "#bd3786"
             ],
             [
              0.5555555555555556,
              "#d8576b"
             ],
             [
              0.6666666666666666,
              "#ed7953"
             ],
             [
              0.7777777777777778,
              "#fb9f3a"
             ],
             [
              0.8888888888888888,
              "#fdca26"
             ],
             [
              1,
              "#f0f921"
             ]
            ],
            "type": "histogram2dcontour"
           }
          ],
          "mesh3d": [
           {
            "colorbar": {
             "outlinewidth": 0,
             "ticks": ""
            },
            "type": "mesh3d"
           }
          ],
          "parcoords": [
           {
            "line": {
             "colorbar": {
              "outlinewidth": 0,
              "ticks": ""
             }
            },
            "type": "parcoords"
           }
          ],
          "pie": [
           {
            "automargin": true,
            "type": "pie"
           }
          ],
          "scatter": [
           {
            "fillpattern": {
             "fillmode": "overlay",
             "size": 10,
             "solidity": 0.2
            },
            "type": "scatter"
           }
          ],
          "scatter3d": [
           {
            "line": {
             "colorbar": {
              "outlinewidth": 0,
              "ticks": ""
             }
            },
            "marker": {
             "colorbar": {
              "outlinewidth": 0,
              "ticks": ""
             }
            },
            "type": "scatter3d"
           }
          ],
          "scattercarpet": [
           {
            "marker": {
             "colorbar": {
              "outlinewidth": 0,
              "ticks": ""
             }
            },
            "type": "scattercarpet"
           }
          ],
          "scattergeo": [
           {
            "marker": {
             "colorbar": {
              "outlinewidth": 0,
              "ticks": ""
             }
            },
            "type": "scattergeo"
           }
          ],
          "scattergl": [
           {
            "marker": {
             "colorbar": {
              "outlinewidth": 0,
              "ticks": ""
             }
            },
            "type": "scattergl"
           }
          ],
          "scattermapbox": [
           {
            "marker": {
             "colorbar": {
              "outlinewidth": 0,
              "ticks": ""
             }
            },
            "type": "scattermapbox"
           }
          ],
          "scatterpolar": [
           {
            "marker": {
             "colorbar": {
              "outlinewidth": 0,
              "ticks": ""
             }
            },
            "type": "scatterpolar"
           }
          ],
          "scatterpolargl": [
           {
            "marker": {
             "colorbar": {
              "outlinewidth": 0,
              "ticks": ""
             }
            },
            "type": "scatterpolargl"
           }
          ],
          "scatterternary": [
           {
            "marker": {
             "colorbar": {
              "outlinewidth": 0,
              "ticks": ""
             }
            },
            "type": "scatterternary"
           }
          ],
          "surface": [
           {
            "colorbar": {
             "outlinewidth": 0,
             "ticks": ""
            },
            "colorscale": [
             [
              0,
              "#0d0887"
             ],
             [
              0.1111111111111111,
              "#46039f"
             ],
             [
              0.2222222222222222,
              "#7201a8"
             ],
             [
              0.3333333333333333,
              "#9c179e"
             ],
             [
              0.4444444444444444,
              "#bd3786"
             ],
             [
              0.5555555555555556,
              "#d8576b"
             ],
             [
              0.6666666666666666,
              "#ed7953"
             ],
             [
              0.7777777777777778,
              "#fb9f3a"
             ],
             [
              0.8888888888888888,
              "#fdca26"
             ],
             [
              1,
              "#f0f921"
             ]
            ],
            "type": "surface"
           }
          ],
          "table": [
           {
            "cells": {
             "fill": {
              "color": "#EBF0F8"
             },
             "line": {
              "color": "white"
             }
            },
            "header": {
             "fill": {
              "color": "#C8D4E3"
             },
             "line": {
              "color": "white"
             }
            },
            "type": "table"
           }
          ]
         },
         "layout": {
          "annotationdefaults": {
           "arrowcolor": "#2a3f5f",
           "arrowhead": 0,
           "arrowwidth": 1
          },
          "autotypenumbers": "strict",
          "coloraxis": {
           "colorbar": {
            "outlinewidth": 0,
            "ticks": ""
           }
          },
          "colorscale": {
           "diverging": [
            [
             0,
             "#8e0152"
            ],
            [
             0.1,
             "#c51b7d"
            ],
            [
             0.2,
             "#de77ae"
            ],
            [
             0.3,
             "#f1b6da"
            ],
            [
             0.4,
             "#fde0ef"
            ],
            [
             0.5,
             "#f7f7f7"
            ],
            [
             0.6,
             "#e6f5d0"
            ],
            [
             0.7,
             "#b8e186"
            ],
            [
             0.8,
             "#7fbc41"
            ],
            [
             0.9,
             "#4d9221"
            ],
            [
             1,
             "#276419"
            ]
           ],
           "sequential": [
            [
             0,
             "#0d0887"
            ],
            [
             0.1111111111111111,
             "#46039f"
            ],
            [
             0.2222222222222222,
             "#7201a8"
            ],
            [
             0.3333333333333333,
             "#9c179e"
            ],
            [
             0.4444444444444444,
             "#bd3786"
            ],
            [
             0.5555555555555556,
             "#d8576b"
            ],
            [
             0.6666666666666666,
             "#ed7953"
            ],
            [
             0.7777777777777778,
             "#fb9f3a"
            ],
            [
             0.8888888888888888,
             "#fdca26"
            ],
            [
             1,
             "#f0f921"
            ]
           ],
           "sequentialminus": [
            [
             0,
             "#0d0887"
            ],
            [
             0.1111111111111111,
             "#46039f"
            ],
            [
             0.2222222222222222,
             "#7201a8"
            ],
            [
             0.3333333333333333,
             "#9c179e"
            ],
            [
             0.4444444444444444,
             "#bd3786"
            ],
            [
             0.5555555555555556,
             "#d8576b"
            ],
            [
             0.6666666666666666,
             "#ed7953"
            ],
            [
             0.7777777777777778,
             "#fb9f3a"
            ],
            [
             0.8888888888888888,
             "#fdca26"
            ],
            [
             1,
             "#f0f921"
            ]
           ]
          },
          "colorway": [
           "#636efa",
           "#EF553B",
           "#00cc96",
           "#ab63fa",
           "#FFA15A",
           "#19d3f3",
           "#FF6692",
           "#B6E880",
           "#FF97FF",
           "#FECB52"
          ],
          "font": {
           "color": "#2a3f5f"
          },
          "geo": {
           "bgcolor": "white",
           "lakecolor": "white",
           "landcolor": "white",
           "showlakes": true,
           "showland": true,
           "subunitcolor": "#C8D4E3"
          },
          "hoverlabel": {
           "align": "left"
          },
          "hovermode": "closest",
          "mapbox": {
           "style": "light"
          },
          "paper_bgcolor": "white",
          "plot_bgcolor": "white",
          "polar": {
           "angularaxis": {
            "gridcolor": "#EBF0F8",
            "linecolor": "#EBF0F8",
            "ticks": ""
           },
           "bgcolor": "white",
           "radialaxis": {
            "gridcolor": "#EBF0F8",
            "linecolor": "#EBF0F8",
            "ticks": ""
           }
          },
          "scene": {
           "xaxis": {
            "backgroundcolor": "white",
            "gridcolor": "#DFE8F3",
            "gridwidth": 2,
            "linecolor": "#EBF0F8",
            "showbackground": true,
            "ticks": "",
            "zerolinecolor": "#EBF0F8"
           },
           "yaxis": {
            "backgroundcolor": "white",
            "gridcolor": "#DFE8F3",
            "gridwidth": 2,
            "linecolor": "#EBF0F8",
            "showbackground": true,
            "ticks": "",
            "zerolinecolor": "#EBF0F8"
           },
           "zaxis": {
            "backgroundcolor": "white",
            "gridcolor": "#DFE8F3",
            "gridwidth": 2,
            "linecolor": "#EBF0F8",
            "showbackground": true,
            "ticks": "",
            "zerolinecolor": "#EBF0F8"
           }
          },
          "shapedefaults": {
           "line": {
            "color": "#2a3f5f"
           }
          },
          "ternary": {
           "aaxis": {
            "gridcolor": "#DFE8F3",
            "linecolor": "#A2B1C6",
            "ticks": ""
           },
           "baxis": {
            "gridcolor": "#DFE8F3",
            "linecolor": "#A2B1C6",
            "ticks": ""
           },
           "bgcolor": "white",
           "caxis": {
            "gridcolor": "#DFE8F3",
            "linecolor": "#A2B1C6",
            "ticks": ""
           }
          },
          "title": {
           "x": 0.05
          },
          "xaxis": {
           "automargin": true,
           "gridcolor": "#EBF0F8",
           "linecolor": "#EBF0F8",
           "ticks": "",
           "title": {
            "standoff": 15
           },
           "zerolinecolor": "#EBF0F8",
           "zerolinewidth": 2
          },
          "yaxis": {
           "automargin": true,
           "gridcolor": "#EBF0F8",
           "linecolor": "#EBF0F8",
           "ticks": "",
           "title": {
            "standoff": 15
           },
           "zerolinecolor": "#EBF0F8",
           "zerolinewidth": 2
          }
         }
        },
        "title": {
         "text": "Energy Use Over Time by Country"
        },
        "xaxis": {
         "anchor": "y",
         "domain": [
          0,
          1
         ],
         "title": {
          "text": "Year"
         }
        },
        "yaxis": {
         "anchor": "x",
         "domain": [
          0,
          1
         ],
         "title": {
          "text": "Energy Use (kg of oil equivalent per capita)"
         }
        }
       }
      }
     },
     "metadata": {},
     "output_type": "display_data"
    }
   ],
   "source": [
    "\n",
    "# List of countries to filter\n",
    "countries_to_filter = ['China', 'Japan', 'India', 'United States', 'Russia', 'Germany']\n",
    "\n",
    "# Filter the DataFrame to include only the specified countries\n",
    "filtered_df = df[df['Country_Name'].isin(countries_to_filter)]\n",
    "\n",
    "# Create a line plot of Energy Use over Time for each country\n",
    "fig = px.line(\n",
    "    filtered_df,\n",
    "    x=\"Year\",               # Year on the x-axis\n",
    "    y=\"Energy_Use\",         # Energy use on the y-axis\n",
    "    color=\"Country_Name\",   # Color by country to distinguish lines\n",
    "    title=\"Energy Use Over Time by Country\",\n",
    "    labels={\n",
    "        \"Year\": \"Year\",\n",
    "        \"Energy_Use\": \"Energy Use (kg of oil equivalent per capita)\"\n",
    "    },\n",
    "    template=\"plotly_white\"\n",
    ")\n",
    "\n",
    "# Customize the layout\n",
    "fig.update_layout(\n",
    "    xaxis_title=\"Year\",\n",
    "    yaxis_title=\"Energy Use (kg of oil equivalent per capita)\",\n",
    "    legend_title=\"Country\"\n",
    ")\n",
    "\n",
    "fig.show()\n"
   ]
  },
  {
   "cell_type": "code",
   "execution_count": 23,
   "metadata": {},
   "outputs": [
    {
     "data": {
      "application/vnd.plotly.v1+json": {
       "config": {
        "plotlyServerURL": "https://plot.ly"
       },
       "data": [
        {
         "alignmentgroup": "True",
         "hovertemplate": "Country=%{x}<br>Energy Use (kg of oil equivalent per capita)=%{y}<extra></extra>",
         "legendgroup": "China",
         "marker": {
          "color": "#636efa",
          "pattern": {
           "shape": ""
          }
         },
         "name": "China",
         "offsetgroup": "China",
         "orientation": "v",
         "showlegend": true,
         "textposition": "auto",
         "type": "bar",
         "x": [
          "China"
         ],
         "xaxis": "x",
         "y": [
          7.75613790659769
         ],
         "yaxis": "y"
        },
        {
         "alignmentgroup": "True",
         "hovertemplate": "Country=%{x}<br>Energy Use (kg of oil equivalent per capita)=%{y}<extra></extra>",
         "legendgroup": "Germany",
         "marker": {
          "color": "#EF553B",
          "pattern": {
           "shape": ""
          }
         },
         "name": "Germany",
         "offsetgroup": "Germany",
         "orientation": "v",
         "showlegend": true,
         "textposition": "auto",
         "type": "bar",
         "x": [
          "Germany"
         ],
         "xaxis": "x",
         "y": [
          7.2552210281684
         ],
         "yaxis": "y"
        },
        {
         "alignmentgroup": "True",
         "hovertemplate": "Country=%{x}<br>Energy Use (kg of oil equivalent per capita)=%{y}<extra></extra>",
         "legendgroup": "India",
         "marker": {
          "color": "#00cc96",
          "pattern": {
           "shape": ""
          }
         },
         "name": "India",
         "offsetgroup": "India",
         "orientation": "v",
         "showlegend": true,
         "textposition": "auto",
         "type": "bar",
         "x": [
          "India"
         ],
         "xaxis": "x",
         "y": [
          1.57609323191648
         ],
         "yaxis": "y"
        },
        {
         "alignmentgroup": "True",
         "hovertemplate": "Country=%{x}<br>Energy Use (kg of oil equivalent per capita)=%{y}<extra></extra>",
         "legendgroup": "Japan",
         "marker": {
          "color": "#ab63fa",
          "pattern": {
           "shape": ""
          }
         },
         "name": "Japan",
         "offsetgroup": "Japan",
         "orientation": "v",
         "showlegend": true,
         "textposition": "auto",
         "type": "bar",
         "x": [
          "Japan"
         ],
         "xaxis": "x",
         "y": [
          8.0314958696668
         ],
         "yaxis": "y"
        },
        {
         "alignmentgroup": "True",
         "hovertemplate": "Country=%{x}<br>Energy Use (kg of oil equivalent per capita)=%{y}<extra></extra>",
         "legendgroup": "United States",
         "marker": {
          "color": "#FFA15A",
          "pattern": {
           "shape": ""
          }
         },
         "name": "United States",
         "offsetgroup": "United States",
         "orientation": "v",
         "showlegend": true,
         "textposition": "auto",
         "type": "bar",
         "x": [
          "United States"
         ],
         "xaxis": "x",
         "y": [
          13.0322217290262
         ],
         "yaxis": "y"
        }
       ],
       "layout": {
        "barmode": "relative",
        "legend": {
         "title": {
          "text": "Country"
         },
         "tracegroupgap": 0
        },
        "showlegend": false,
        "template": {
         "data": {
          "bar": [
           {
            "error_x": {
             "color": "#2a3f5f"
            },
            "error_y": {
             "color": "#2a3f5f"
            },
            "marker": {
             "line": {
              "color": "white",
              "width": 0.5
             },
             "pattern": {
              "fillmode": "overlay",
              "size": 10,
              "solidity": 0.2
             }
            },
            "type": "bar"
           }
          ],
          "barpolar": [
           {
            "marker": {
             "line": {
              "color": "white",
              "width": 0.5
             },
             "pattern": {
              "fillmode": "overlay",
              "size": 10,
              "solidity": 0.2
             }
            },
            "type": "barpolar"
           }
          ],
          "carpet": [
           {
            "aaxis": {
             "endlinecolor": "#2a3f5f",
             "gridcolor": "#C8D4E3",
             "linecolor": "#C8D4E3",
             "minorgridcolor": "#C8D4E3",
             "startlinecolor": "#2a3f5f"
            },
            "baxis": {
             "endlinecolor": "#2a3f5f",
             "gridcolor": "#C8D4E3",
             "linecolor": "#C8D4E3",
             "minorgridcolor": "#C8D4E3",
             "startlinecolor": "#2a3f5f"
            },
            "type": "carpet"
           }
          ],
          "choropleth": [
           {
            "colorbar": {
             "outlinewidth": 0,
             "ticks": ""
            },
            "type": "choropleth"
           }
          ],
          "contour": [
           {
            "colorbar": {
             "outlinewidth": 0,
             "ticks": ""
            },
            "colorscale": [
             [
              0,
              "#0d0887"
             ],
             [
              0.1111111111111111,
              "#46039f"
             ],
             [
              0.2222222222222222,
              "#7201a8"
             ],
             [
              0.3333333333333333,
              "#9c179e"
             ],
             [
              0.4444444444444444,
              "#bd3786"
             ],
             [
              0.5555555555555556,
              "#d8576b"
             ],
             [
              0.6666666666666666,
              "#ed7953"
             ],
             [
              0.7777777777777778,
              "#fb9f3a"
             ],
             [
              0.8888888888888888,
              "#fdca26"
             ],
             [
              1,
              "#f0f921"
             ]
            ],
            "type": "contour"
           }
          ],
          "contourcarpet": [
           {
            "colorbar": {
             "outlinewidth": 0,
             "ticks": ""
            },
            "type": "contourcarpet"
           }
          ],
          "heatmap": [
           {
            "colorbar": {
             "outlinewidth": 0,
             "ticks": ""
            },
            "colorscale": [
             [
              0,
              "#0d0887"
             ],
             [
              0.1111111111111111,
              "#46039f"
             ],
             [
              0.2222222222222222,
              "#7201a8"
             ],
             [
              0.3333333333333333,
              "#9c179e"
             ],
             [
              0.4444444444444444,
              "#bd3786"
             ],
             [
              0.5555555555555556,
              "#d8576b"
             ],
             [
              0.6666666666666666,
              "#ed7953"
             ],
             [
              0.7777777777777778,
              "#fb9f3a"
             ],
             [
              0.8888888888888888,
              "#fdca26"
             ],
             [
              1,
              "#f0f921"
             ]
            ],
            "type": "heatmap"
           }
          ],
          "heatmapgl": [
           {
            "colorbar": {
             "outlinewidth": 0,
             "ticks": ""
            },
            "colorscale": [
             [
              0,
              "#0d0887"
             ],
             [
              0.1111111111111111,
              "#46039f"
             ],
             [
              0.2222222222222222,
              "#7201a8"
             ],
             [
              0.3333333333333333,
              "#9c179e"
             ],
             [
              0.4444444444444444,
              "#bd3786"
             ],
             [
              0.5555555555555556,
              "#d8576b"
             ],
             [
              0.6666666666666666,
              "#ed7953"
             ],
             [
              0.7777777777777778,
              "#fb9f3a"
             ],
             [
              0.8888888888888888,
              "#fdca26"
             ],
             [
              1,
              "#f0f921"
             ]
            ],
            "type": "heatmapgl"
           }
          ],
          "histogram": [
           {
            "marker": {
             "pattern": {
              "fillmode": "overlay",
              "size": 10,
              "solidity": 0.2
             }
            },
            "type": "histogram"
           }
          ],
          "histogram2d": [
           {
            "colorbar": {
             "outlinewidth": 0,
             "ticks": ""
            },
            "colorscale": [
             [
              0,
              "#0d0887"
             ],
             [
              0.1111111111111111,
              "#46039f"
             ],
             [
              0.2222222222222222,
              "#7201a8"
             ],
             [
              0.3333333333333333,
              "#9c179e"
             ],
             [
              0.4444444444444444,
              "#bd3786"
             ],
             [
              0.5555555555555556,
              "#d8576b"
             ],
             [
              0.6666666666666666,
              "#ed7953"
             ],
             [
              0.7777777777777778,
              "#fb9f3a"
             ],
             [
              0.8888888888888888,
              "#fdca26"
             ],
             [
              1,
              "#f0f921"
             ]
            ],
            "type": "histogram2d"
           }
          ],
          "histogram2dcontour": [
           {
            "colorbar": {
             "outlinewidth": 0,
             "ticks": ""
            },
            "colorscale": [
             [
              0,
              "#0d0887"
             ],
             [
              0.1111111111111111,
              "#46039f"
             ],
             [
              0.2222222222222222,
              "#7201a8"
             ],
             [
              0.3333333333333333,
              "#9c179e"
             ],
             [
              0.4444444444444444,
              "#bd3786"
             ],
             [
              0.5555555555555556,
              "#d8576b"
             ],
             [
              0.6666666666666666,
              "#ed7953"
             ],
             [
              0.7777777777777778,
              "#fb9f3a"
             ],
             [
              0.8888888888888888,
              "#fdca26"
             ],
             [
              1,
              "#f0f921"
             ]
            ],
            "type": "histogram2dcontour"
           }
          ],
          "mesh3d": [
           {
            "colorbar": {
             "outlinewidth": 0,
             "ticks": ""
            },
            "type": "mesh3d"
           }
          ],
          "parcoords": [
           {
            "line": {
             "colorbar": {
              "outlinewidth": 0,
              "ticks": ""
             }
            },
            "type": "parcoords"
           }
          ],
          "pie": [
           {
            "automargin": true,
            "type": "pie"
           }
          ],
          "scatter": [
           {
            "fillpattern": {
             "fillmode": "overlay",
             "size": 10,
             "solidity": 0.2
            },
            "type": "scatter"
           }
          ],
          "scatter3d": [
           {
            "line": {
             "colorbar": {
              "outlinewidth": 0,
              "ticks": ""
             }
            },
            "marker": {
             "colorbar": {
              "outlinewidth": 0,
              "ticks": ""
             }
            },
            "type": "scatter3d"
           }
          ],
          "scattercarpet": [
           {
            "marker": {
             "colorbar": {
              "outlinewidth": 0,
              "ticks": ""
             }
            },
            "type": "scattercarpet"
           }
          ],
          "scattergeo": [
           {
            "marker": {
             "colorbar": {
              "outlinewidth": 0,
              "ticks": ""
             }
            },
            "type": "scattergeo"
           }
          ],
          "scattergl": [
           {
            "marker": {
             "colorbar": {
              "outlinewidth": 0,
              "ticks": ""
             }
            },
            "type": "scattergl"
           }
          ],
          "scattermapbox": [
           {
            "marker": {
             "colorbar": {
              "outlinewidth": 0,
              "ticks": ""
             }
            },
            "type": "scattermapbox"
           }
          ],
          "scatterpolar": [
           {
            "marker": {
             "colorbar": {
              "outlinewidth": 0,
              "ticks": ""
             }
            },
            "type": "scatterpolar"
           }
          ],
          "scatterpolargl": [
           {
            "marker": {
             "colorbar": {
              "outlinewidth": 0,
              "ticks": ""
             }
            },
            "type": "scatterpolargl"
           }
          ],
          "scatterternary": [
           {
            "marker": {
             "colorbar": {
              "outlinewidth": 0,
              "ticks": ""
             }
            },
            "type": "scatterternary"
           }
          ],
          "surface": [
           {
            "colorbar": {
             "outlinewidth": 0,
             "ticks": ""
            },
            "colorscale": [
             [
              0,
              "#0d0887"
             ],
             [
              0.1111111111111111,
              "#46039f"
             ],
             [
              0.2222222222222222,
              "#7201a8"
             ],
             [
              0.3333333333333333,
              "#9c179e"
             ],
             [
              0.4444444444444444,
              "#bd3786"
             ],
             [
              0.5555555555555556,
              "#d8576b"
             ],
             [
              0.6666666666666666,
              "#ed7953"
             ],
             [
              0.7777777777777778,
              "#fb9f3a"
             ],
             [
              0.8888888888888888,
              "#fdca26"
             ],
             [
              1,
              "#f0f921"
             ]
            ],
            "type": "surface"
           }
          ],
          "table": [
           {
            "cells": {
             "fill": {
              "color": "#EBF0F8"
             },
             "line": {
              "color": "white"
             }
            },
            "header": {
             "fill": {
              "color": "#C8D4E3"
             },
             "line": {
              "color": "white"
             }
            },
            "type": "table"
           }
          ]
         },
         "layout": {
          "annotationdefaults": {
           "arrowcolor": "#2a3f5f",
           "arrowhead": 0,
           "arrowwidth": 1
          },
          "autotypenumbers": "strict",
          "coloraxis": {
           "colorbar": {
            "outlinewidth": 0,
            "ticks": ""
           }
          },
          "colorscale": {
           "diverging": [
            [
             0,
             "#8e0152"
            ],
            [
             0.1,
             "#c51b7d"
            ],
            [
             0.2,
             "#de77ae"
            ],
            [
             0.3,
             "#f1b6da"
            ],
            [
             0.4,
             "#fde0ef"
            ],
            [
             0.5,
             "#f7f7f7"
            ],
            [
             0.6,
             "#e6f5d0"
            ],
            [
             0.7,
             "#b8e186"
            ],
            [
             0.8,
             "#7fbc41"
            ],
            [
             0.9,
             "#4d9221"
            ],
            [
             1,
             "#276419"
            ]
           ],
           "sequential": [
            [
             0,
             "#0d0887"
            ],
            [
             0.1111111111111111,
             "#46039f"
            ],
            [
             0.2222222222222222,
             "#7201a8"
            ],
            [
             0.3333333333333333,
             "#9c179e"
            ],
            [
             0.4444444444444444,
             "#bd3786"
            ],
            [
             0.5555555555555556,
             "#d8576b"
            ],
            [
             0.6666666666666666,
             "#ed7953"
            ],
            [
             0.7777777777777778,
             "#fb9f3a"
            ],
            [
             0.8888888888888888,
             "#fdca26"
            ],
            [
             1,
             "#f0f921"
            ]
           ],
           "sequentialminus": [
            [
             0,
             "#0d0887"
            ],
            [
             0.1111111111111111,
             "#46039f"
            ],
            [
             0.2222222222222222,
             "#7201a8"
            ],
            [
             0.3333333333333333,
             "#9c179e"
            ],
            [
             0.4444444444444444,
             "#bd3786"
            ],
            [
             0.5555555555555556,
             "#d8576b"
            ],
            [
             0.6666666666666666,
             "#ed7953"
            ],
            [
             0.7777777777777778,
             "#fb9f3a"
            ],
            [
             0.8888888888888888,
             "#fdca26"
            ],
            [
             1,
             "#f0f921"
            ]
           ]
          },
          "colorway": [
           "#636efa",
           "#EF553B",
           "#00cc96",
           "#ab63fa",
           "#FFA15A",
           "#19d3f3",
           "#FF6692",
           "#B6E880",
           "#FF97FF",
           "#FECB52"
          ],
          "font": {
           "color": "#2a3f5f"
          },
          "geo": {
           "bgcolor": "white",
           "lakecolor": "white",
           "landcolor": "white",
           "showlakes": true,
           "showland": true,
           "subunitcolor": "#C8D4E3"
          },
          "hoverlabel": {
           "align": "left"
          },
          "hovermode": "closest",
          "mapbox": {
           "style": "light"
          },
          "paper_bgcolor": "white",
          "plot_bgcolor": "white",
          "polar": {
           "angularaxis": {
            "gridcolor": "#EBF0F8",
            "linecolor": "#EBF0F8",
            "ticks": ""
           },
           "bgcolor": "white",
           "radialaxis": {
            "gridcolor": "#EBF0F8",
            "linecolor": "#EBF0F8",
            "ticks": ""
           }
          },
          "scene": {
           "xaxis": {
            "backgroundcolor": "white",
            "gridcolor": "#DFE8F3",
            "gridwidth": 2,
            "linecolor": "#EBF0F8",
            "showbackground": true,
            "ticks": "",
            "zerolinecolor": "#EBF0F8"
           },
           "yaxis": {
            "backgroundcolor": "white",
            "gridcolor": "#DFE8F3",
            "gridwidth": 2,
            "linecolor": "#EBF0F8",
            "showbackground": true,
            "ticks": "",
            "zerolinecolor": "#EBF0F8"
           },
           "zaxis": {
            "backgroundcolor": "white",
            "gridcolor": "#DFE8F3",
            "gridwidth": 2,
            "linecolor": "#EBF0F8",
            "showbackground": true,
            "ticks": "",
            "zerolinecolor": "#EBF0F8"
           }
          },
          "shapedefaults": {
           "line": {
            "color": "#2a3f5f"
           }
          },
          "ternary": {
           "aaxis": {
            "gridcolor": "#DFE8F3",
            "linecolor": "#A2B1C6",
            "ticks": ""
           },
           "baxis": {
            "gridcolor": "#DFE8F3",
            "linecolor": "#A2B1C6",
            "ticks": ""
           },
           "bgcolor": "white",
           "caxis": {
            "gridcolor": "#DFE8F3",
            "linecolor": "#A2B1C6",
            "ticks": ""
           }
          },
          "title": {
           "x": 0.05
          },
          "xaxis": {
           "automargin": true,
           "gridcolor": "#EBF0F8",
           "linecolor": "#EBF0F8",
           "ticks": "",
           "title": {
            "standoff": 15
           },
           "zerolinecolor": "#EBF0F8",
           "zerolinewidth": 2
          },
          "yaxis": {
           "automargin": true,
           "gridcolor": "#EBF0F8",
           "linecolor": "#EBF0F8",
           "ticks": "",
           "title": {
            "standoff": 15
           },
           "zerolinecolor": "#EBF0F8",
           "zerolinewidth": 2
          }
         }
        },
        "title": {
         "text": "Energy Use by Country in 2020"
        },
        "xaxis": {
         "anchor": "y",
         "categoryarray": [
          "China",
          "Germany",
          "India",
          "Japan",
          "United States"
         ],
         "categoryorder": "array",
         "domain": [
          0,
          1
         ],
         "title": {
          "text": "Country"
         }
        },
        "yaxis": {
         "anchor": "x",
         "domain": [
          0,
          1
         ],
         "title": {
          "text": "Energy Use (kg of oil equivalent per capita)"
         }
        }
       }
      }
     },
     "metadata": {},
     "output_type": "display_data"
    }
   ],
   "source": [
    "\n",
    "# List of countries to filter\n",
    "countries_to_filter = ['China', 'Japan', 'India', 'United States', 'Russia', 'Germany']\n",
    "\n",
    "# Filter the DataFrame to include only the specified countries and the chosen year\n",
    "year_to_compare = 2020  # Specify the year you want to compare\n",
    "filtered_df_year = df[(df['Country_Name'].isin(countries_to_filter)) & (df['Year'] == year_to_compare)]\n",
    "\n",
    "# Create a bar chart of Energy Use by Country for the specified year\n",
    "fig = px.bar(\n",
    "    filtered_df_year,\n",
    "    x=\"Country_Name\",      # Country on the x-axis\n",
    "    y=\"Energy_Use\",        # Energy use on the y-axis\n",
    "    color=\"Country_Name\",  # Color by country for easier distinction\n",
    "    title=f\"Energy Use by Country in {year_to_compare}\",\n",
    "    labels={\n",
    "        \"Country_Name\": \"Country\",\n",
    "        \"Energy_Use\": \"Energy Use (kg of oil equivalent per capita)\"\n",
    "    },\n",
    "    template=\"plotly_white\"\n",
    ")\n",
    "\n",
    "# Customize layout\n",
    "fig.update_layout(\n",
    "    xaxis_title=\"Country\",\n",
    "    yaxis_title=\"Energy Use (kg of oil equivalent per capita)\",\n",
    "    showlegend=False  # Hide legend since color already represents countries\n",
    ")\n",
    "\n",
    "fig.show()\n"
   ]
  },
  {
   "cell_type": "code",
   "execution_count": 24,
   "metadata": {},
   "outputs": [
    {
     "data": {
      "application/vnd.plotly.v1+json": {
       "config": {
        "plotlyServerURL": "https://plot.ly"
       },
       "data": [
        {
         "coloraxis": "coloraxis",
         "geo": "geo",
         "hovertemplate": "<b>%{hovertext}</b><br><br>Country_Code=%{location}<br>CO2 Emissions (metric tons per capita)=%{z}<extra></extra>",
         "hovertext": [
          "Aruba",
          "Africa Eastern and Southern",
          "Afghanistan",
          "Africa Western and Central",
          "Angola",
          "Albania",
          "Andorra",
          "Arab World",
          "United Arab Emirates",
          "Argentina",
          "Armenia",
          "American Samoa",
          "Antigua and Barbuda",
          "Australia",
          "Austria",
          "Azerbaijan",
          "Burundi",
          "Belgium",
          "Benin",
          "Burkina Faso",
          "Bangladesh",
          "Bulgaria",
          "Bahrain",
          "Bahamas, The",
          "Bosnia and Herzegovina",
          "Belarus",
          "Belize",
          "Bermuda",
          "Bolivia",
          "Brazil",
          "Barbados",
          "Brunei Darussalam",
          "Bhutan",
          "Botswana",
          "Central African Republic",
          "Canada",
          "Central Europe and the Baltics",
          "Switzerland",
          "Channel Islands",
          "Chile",
          "China",
          "Cote d'Ivoire",
          "Cameroon",
          "Congo, Dem. Rep.",
          "Congo, Rep.",
          "Colombia",
          "Comoros",
          "Cabo Verde",
          "Costa Rica",
          "Caribbean small states",
          "Cuba",
          "Curacao",
          "Cayman Islands",
          "Cyprus",
          "Czechia",
          "Germany",
          "Djibouti",
          "Dominica",
          "Denmark",
          "Dominican Republic",
          "Algeria",
          "East Asia & Pacific (excluding high income)",
          "Early-demographic dividend",
          "East Asia & Pacific",
          "Europe & Central Asia (excluding high income)",
          "Europe & Central Asia",
          "Ecuador",
          "Egypt, Arab Rep.",
          "Euro area",
          "Eritrea",
          "Spain",
          "Estonia",
          "Ethiopia",
          "European Union",
          "Fragile and conflict affected situations",
          "Finland",
          "Fiji",
          "France",
          "Faroe Islands",
          "Micronesia, Fed. Sts.",
          "Gabon",
          "United Kingdom",
          "Georgia",
          "Ghana",
          "Gibraltar",
          "Guinea",
          "Gambia, The",
          "Guinea-Bissau",
          "Equatorial Guinea",
          "Greece",
          "Grenada",
          "Greenland",
          "Guatemala",
          "Guam",
          "Guyana",
          "High income",
          "Hong Kong SAR, China",
          "Honduras",
          "Heavily indebted poor countries (HIPC)",
          "Croatia",
          "Haiti",
          "Hungary",
          "IBRD only",
          "IDA & IBRD total",
          "IDA total",
          "IDA blend",
          "Indonesia",
          "IDA only",
          "Isle of Man",
          "India",
          "Not classified",
          "Ireland",
          "Iran, Islamic Rep.",
          "Iraq",
          "Iceland",
          "Israel",
          "Italy",
          "Jamaica",
          "Jordan",
          "Japan",
          "Kazakhstan",
          "Kenya",
          "Kyrgyz Republic",
          "Cambodia",
          "Kiribati",
          "St. Kitts and Nevis",
          "Korea, Rep.",
          "Kuwait",
          "Latin America & Caribbean (excluding high income)",
          "Lao PDR",
          "Lebanon",
          "Liberia",
          "Libya",
          "St. Lucia",
          "Latin America & Caribbean",
          "Least developed countries: UN classification",
          "Low income",
          "Liechtenstein",
          "Sri Lanka",
          "Lower middle income",
          "Low & middle income",
          "Lesotho",
          "Late-demographic dividend",
          "Lithuania",
          "Luxembourg",
          "Latvia",
          "Macao SAR, China",
          "St. Martin (French part)",
          "Morocco",
          "Monaco",
          "Moldova",
          "Madagascar",
          "Maldives",
          "Middle East & North Africa",
          "Mexico",
          "Marshall Islands",
          "Middle income",
          "North Macedonia",
          "Mali",
          "Malta",
          "Myanmar",
          "Middle East & North Africa (excluding high income)",
          "Montenegro",
          "Mongolia",
          "Northern Mariana Islands",
          "Mozambique",
          "Mauritania",
          "Mauritius",
          "Malawi",
          "Malaysia",
          "North America",
          "Namibia",
          "New Caledonia",
          "Niger",
          "Nigeria",
          "Nicaragua",
          "Netherlands",
          "Norway",
          "Nepal",
          "Nauru",
          "New Zealand",
          "OECD members",
          "Oman",
          "Other small states",
          "Pakistan",
          "Panama",
          "Peru",
          "Philippines",
          "Palau",
          "Papua New Guinea",
          "Poland",
          "Pre-demographic dividend",
          "Puerto Rico",
          "Korea, Dem. People's Rep.",
          "Portugal",
          "Paraguay",
          "West Bank and Gaza",
          "Pacific island small states",
          "Post-demographic dividend",
          "French Polynesia",
          "Qatar",
          "Romania",
          "Russian Federation",
          "Rwanda",
          "South Asia",
          "Saudi Arabia",
          "Sudan",
          "Senegal",
          "Singapore",
          "Solomon Islands",
          "Sierra Leone",
          "El Salvador",
          "San Marino",
          "Somalia",
          "Serbia",
          "Sub-Saharan Africa (excluding high income)",
          "South Sudan",
          "Sub-Saharan Africa",
          "Small states",
          "Sao Tome and Principe",
          "Suriname",
          "Slovak Republic",
          "Slovenia",
          "Sweden",
          "Eswatini",
          "Sint Maarten (Dutch part)",
          "Seychelles",
          "Syrian Arab Republic",
          "Turks and Caicos Islands",
          "Chad",
          "East Asia & Pacific (IDA & IBRD countries)",
          "Europe & Central Asia (IDA & IBRD countries)",
          "Togo",
          "Thailand",
          "Tajikistan",
          "Turkmenistan",
          "Latin America & the Caribbean (IDA & IBRD countries)",
          "Timor-Leste",
          "Middle East & North Africa (IDA & IBRD countries)",
          "Tonga",
          "South Asia (IDA & IBRD)",
          "Sub-Saharan Africa (IDA & IBRD countries)",
          "Trinidad and Tobago",
          "Tunisia",
          "Turkiye",
          "Tuvalu",
          "Tanzania",
          "Uganda",
          "Ukraine",
          "Upper middle income",
          "Uruguay",
          "United States",
          "Uzbekistan",
          "St. Vincent and the Grenadines",
          "Venezuela, RB",
          "British Virgin Islands",
          "Virgin Islands (U.S.)",
          "Viet Nam",
          "Vanuatu",
          "World",
          "Samoa",
          "Kosovo",
          "Yemen, Rep.",
          "South Africa",
          "Zambia",
          "Zimbabwe"
         ],
         "locations": [
          "ABW",
          "AFE",
          "AFG",
          "AFW",
          "AGO",
          "ALB",
          "AND",
          "ARB",
          "ARE",
          "ARG",
          "ARM",
          "ASM",
          "ATG",
          "AUS",
          "AUT",
          "AZE",
          "BDI",
          "BEL",
          "BEN",
          "BFA",
          "BGD",
          "BGR",
          "BHR",
          "BHS",
          "BIH",
          "BLR",
          "BLZ",
          "BMU",
          "BOL",
          "BRA",
          "BRB",
          "BRN",
          "BTN",
          "BWA",
          "CAF",
          "CAN",
          "CEB",
          "CHE",
          "CHI",
          "CHL",
          "CHN",
          "CIV",
          "CMR",
          "COD",
          "COG",
          "COL",
          "COM",
          "CPV",
          "CRI",
          "CSS",
          "CUB",
          "CUW",
          "CYM",
          "CYP",
          "CZE",
          "DEU",
          "DJI",
          "DMA",
          "DNK",
          "DOM",
          "DZA",
          "EAP",
          "EAR",
          "EAS",
          "ECA",
          "ECS",
          "ECU",
          "EGY",
          "EMU",
          "ERI",
          "ESP",
          "EST",
          "ETH",
          "EUU",
          "FCS",
          "FIN",
          "FJI",
          "FRA",
          "FRO",
          "FSM",
          "GAB",
          "GBR",
          "GEO",
          "GHA",
          "GIB",
          "GIN",
          "GMB",
          "GNB",
          "GNQ",
          "GRC",
          "GRD",
          "GRL",
          "GTM",
          "GUM",
          "GUY",
          "HIC",
          "HKG",
          "HND",
          "HPC",
          "HRV",
          "HTI",
          "HUN",
          "IBD",
          "IBT",
          "IDA",
          "IDB",
          "IDN",
          "IDX",
          "IMN",
          "IND",
          "INX",
          "IRL",
          "IRN",
          "IRQ",
          "ISL",
          "ISR",
          "ITA",
          "JAM",
          "JOR",
          "JPN",
          "KAZ",
          "KEN",
          "KGZ",
          "KHM",
          "KIR",
          "KNA",
          "KOR",
          "KWT",
          "LAC",
          "LAO",
          "LBN",
          "LBR",
          "LBY",
          "LCA",
          "LCN",
          "LDC",
          "LIC",
          "LIE",
          "LKA",
          "LMC",
          "LMY",
          "LSO",
          "LTE",
          "LTU",
          "LUX",
          "LVA",
          "MAC",
          "MAF",
          "MAR",
          "MCO",
          "MDA",
          "MDG",
          "MDV",
          "MEA",
          "MEX",
          "MHL",
          "MIC",
          "MKD",
          "MLI",
          "MLT",
          "MMR",
          "MNA",
          "MNE",
          "MNG",
          "MNP",
          "MOZ",
          "MRT",
          "MUS",
          "MWI",
          "MYS",
          "NAC",
          "NAM",
          "NCL",
          "NER",
          "NGA",
          "NIC",
          "NLD",
          "NOR",
          "NPL",
          "NRU",
          "NZL",
          "OED",
          "OMN",
          "OSS",
          "PAK",
          "PAN",
          "PER",
          "PHL",
          "PLW",
          "PNG",
          "POL",
          "PRE",
          "PRI",
          "PRK",
          "PRT",
          "PRY",
          "PSE",
          "PSS",
          "PST",
          "PYF",
          "QAT",
          "ROU",
          "RUS",
          "RWA",
          "SAS",
          "SAU",
          "SDN",
          "SEN",
          "SGP",
          "SLB",
          "SLE",
          "SLV",
          "SMR",
          "SOM",
          "SRB",
          "SSA",
          "SSD",
          "SSF",
          "SST",
          "STP",
          "SUR",
          "SVK",
          "SVN",
          "SWE",
          "SWZ",
          "SXM",
          "SYC",
          "SYR",
          "TCA",
          "TCD",
          "TEA",
          "TEC",
          "TGO",
          "THA",
          "TJK",
          "TKM",
          "TLA",
          "TLS",
          "TMN",
          "TON",
          "TSA",
          "TSS",
          "TTO",
          "TUN",
          "TUR",
          "TUV",
          "TZA",
          "UGA",
          "UKR",
          "UMC",
          "URY",
          "USA",
          "UZB",
          "VCT",
          "VEN",
          "VGB",
          "VIR",
          "VNM",
          "VUT",
          "WLD",
          "WSM",
          "XKX",
          "YEM",
          "ZAF",
          "ZMB",
          "ZWE"
         ],
         "name": "",
         "type": "choropleth",
         "z": [
          2558906303.88098,
          929074086484.093,
          19955929052.1496,
          787146719022.421,
          48501561203.5686,
          15162734205.2462,
          2891001149.3611,
          2576553324185.61,
          349473015330.157,
          385740508436.965,
          12641698583.2152,
          721000000,
          1410796296.2963,
          1330381544909.3,
          435049316955.737,
          42693000000,
          2649680261.44299,
          526021513474.243,
          15686741883.934,
          17725010530.7894,
          373979442653.343,
          70368758395.141,
          34621807712.766,
          9958200000,
          20226036564.4129,
          61371755326.2351,
          2047727810.06777,
          6887147000,
          36629843806.0781,
          1476107231194.11,
          4779756550,
          12005799653.9835,
          2457604042.40959,
          14960291105.9316,
          2326720900.38047,
          1655684730000.19,
          1665817489087.96,
          741999406005.627,
          9301349237.2106,
          254042159309.311,
          14687744162801,
          63027852805.4204,
          40773241177.0505,
          48716961860.1325,
          11468688140.7225,
          270348342541.465,
          1225039196.61091,
          1821565613.68613,
          62395610760.3912,
          31378030000.782,
          107351800000,
          2534327597.76536,
          5655357984.24218,
          25227189744.9083,
          245974558654.043,
          3887727161914.41,
          3185150981.03207,
          504214814.814815,
          354762748338.661,
          78844656298.1776,
          164873415325.201,
          17487334631867.3,
          10981013167791.7,
          27156482410418.4,
          1428327223229.53,
          22156549343244.9,
          95865472000,
          383817841547.099,
          13155164142399.1,
          null,
          1278128867875.49,
          31330419851.1487,
          107657734392.446,
          15381418584246.1,
          1690930063237.89,
          271886077382.102,
          4432466219.87685,
          2647418691598.45,
          3262045883.37293,
          372000000,
          15314577167.8211,
          2697806592293.86,
          16010869215.68,
          70043095503.6675,
          null,
          14177835841.3923,
          1812170891.19069,
          1520479984.56808,
          9893816007.7398,
          188480337285.605,
          1043411111.11111,
          3082884653.2456,
          77715183063.2054,
          5916000000,
          5471256594.72422,
          55791128824226.2,
          344943149590.058,
          23352232483.755,
          811360288084.988,
          58221300897.8838,
          14508222518.3018,
          157288955508.176,
          30103859045527.8,
          32528587315534.1,
          2424027549200.29,
          1009467966729.65,
          1059054842698.48,
          1414559582470.64,
          6684225641.02564,
          2674851578586.86,
          null,
          428608687830.239,
          239735486745.385,
          180898797936.279,
          21629953194.0659,
          413267669231.522,
          1897461635591.91,
          13812421835.7369,
          43700383098.5916,
          5055587093501.59,
          171082365861.423,
          100657505750.545,
          8270468614.24051,
          25872797891.7664,
          222973879.711097,
          883922222.222222,
          1644312831906.17,
          107512998447.021,
          4046822646872.37,
          18981805250.2424,
          31712128253.7961,
          3176126340,
          65688454971.5663,
          1497825994.23221,
          4804924789054.88,
          1162019936698.84,
          439782467036.046,
          6405870210.32293,
          84304298770.5329,
          6081790240107.94,
          29491920680088.1,
          2053338465.24462,
          22531183291578.3,
          56964942999.3651,
          73699366700.2134,
          34390910338.9604,
          25343525935.8358,
          null,
          121353645057.144,
          6739645416.47916,
          11530746234.4492,
          13051441203.9474,
          3712604583.36665,
          3199081953495.53,
          1120832412468.85,
          240751144.40918,
          29051739634677.8,
          12361036913.8409,
          17465392764.3706,
          15249999048.0297,
          79006113643.1906,
          1324364502715.09,
          4769996866.00758,
          13312981429.0891,
          858000000,
          14235420174.1813,
          8260752385.23089,
          11408106446.3144,
          12041250083.8828,
          337456163961.211,
          22985521877000.2,
          10583748541.5258,
          9454629467.91408,
          13744653103.058,
          432198898467.795,
          12681548303.6856,
          909793466661.481,
          367633418886.627,
          33433659301.2466,
          124685688.161094,
          212697530897.56,
          52852896615891.7,
          75909397659.2978,
          178185121948.331,
          300425609817.981,
          57086836900,
          201409694755.934,
          361751145451.597,
          261179138.183594,
          23848445103.9227,
          599442732365.372,
          1309584194481.23,
          103130900000,
          null,
          229031860520.777,
          35432178068.1814,
          15531700000,
          9505064735.52033,
          50004904334179.6,
          5792545870.80614,
          144411363351.648,
          251362514349.697,
          1493075894362.14,
          10174387614.2558,
          3493120726807.89,
          734271200000,
          27034593750,
          24530513037.7518,
          349488382610.662,
          1536145814.17007,
          4062906265.7332,
          24921190000,
          1541247883.99351,
          9204140383.17612,
          53356484591.4378,
          1714838253754.94,
          null,
          1716220805506.51,
          219068216684.633,
          471229484.607144,
          2911807496.20227,
          106737868873.941,
          53734526854.2289,
          547054174235.876,
          3982236693.8316,
          1236428100.55866,
          1382551751.56908,
          11155888304.0023,
          774653669.315186,
          10715396042.3343,
          17465773779184.1,
          3900798423599.77,
          7400284167.78479,
          500461898480.246,
          8133963550.65742,
          45818000000,
          4561296585538.66,
          2162619200,
          1308832802715.09,
          484796854.918756,
          3493120726807.89,
          1716220805506.51,
          20807571314.3043,
          42491816475.7118,
          720338498174.744,
          51746594.3148543,
          66068737786.0639,
          37600368239.8824,
          156617722013.342,
          22969949394569.8,
          53668636567.8667,
          21322950000000,
          60224701296.7885,
          869111111.111111,
          null,
          null,
          4189000000,
          346615738537.796,
          909421043.508407,
          85577718250195.5,
          868898358.266437,
          7717145217.81247,
          null,
          338291396026.698,
          18137764931.2808,
          21509698406.1116
         ]
        }
       ],
       "layout": {
        "coloraxis": {
         "colorbar": {
          "ticksuffix": " tons per capita",
          "title": {
           "text": "CO2 Emissions"
          }
         },
         "colorscale": [
          [
           0,
           "#0d0887"
          ],
          [
           0.1111111111111111,
           "#46039f"
          ],
          [
           0.2222222222222222,
           "#7201a8"
          ],
          [
           0.3333333333333333,
           "#9c179e"
          ],
          [
           0.4444444444444444,
           "#bd3786"
          ],
          [
           0.5555555555555556,
           "#d8576b"
          ],
          [
           0.6666666666666666,
           "#ed7953"
          ],
          [
           0.7777777777777778,
           "#fb9f3a"
          ],
          [
           0.8888888888888888,
           "#fdca26"
          ],
          [
           1,
           "#f0f921"
          ]
         ]
        },
        "geo": {
         "center": {},
         "domain": {
          "x": [
           0,
           1
          ],
          "y": [
           0,
           1
          ]
         },
         "projection": {
          "type": "natural earth"
         },
         "showcountries": true
        },
        "legend": {
         "tracegroupgap": 0
        },
        "template": {
         "data": {
          "bar": [
           {
            "error_x": {
             "color": "#2a3f5f"
            },
            "error_y": {
             "color": "#2a3f5f"
            },
            "marker": {
             "line": {
              "color": "white",
              "width": 0.5
             },
             "pattern": {
              "fillmode": "overlay",
              "size": 10,
              "solidity": 0.2
             }
            },
            "type": "bar"
           }
          ],
          "barpolar": [
           {
            "marker": {
             "line": {
              "color": "white",
              "width": 0.5
             },
             "pattern": {
              "fillmode": "overlay",
              "size": 10,
              "solidity": 0.2
             }
            },
            "type": "barpolar"
           }
          ],
          "carpet": [
           {
            "aaxis": {
             "endlinecolor": "#2a3f5f",
             "gridcolor": "#C8D4E3",
             "linecolor": "#C8D4E3",
             "minorgridcolor": "#C8D4E3",
             "startlinecolor": "#2a3f5f"
            },
            "baxis": {
             "endlinecolor": "#2a3f5f",
             "gridcolor": "#C8D4E3",
             "linecolor": "#C8D4E3",
             "minorgridcolor": "#C8D4E3",
             "startlinecolor": "#2a3f5f"
            },
            "type": "carpet"
           }
          ],
          "choropleth": [
           {
            "colorbar": {
             "outlinewidth": 0,
             "ticks": ""
            },
            "type": "choropleth"
           }
          ],
          "contour": [
           {
            "colorbar": {
             "outlinewidth": 0,
             "ticks": ""
            },
            "colorscale": [
             [
              0,
              "#0d0887"
             ],
             [
              0.1111111111111111,
              "#46039f"
             ],
             [
              0.2222222222222222,
              "#7201a8"
             ],
             [
              0.3333333333333333,
              "#9c179e"
             ],
             [
              0.4444444444444444,
              "#bd3786"
             ],
             [
              0.5555555555555556,
              "#d8576b"
             ],
             [
              0.6666666666666666,
              "#ed7953"
             ],
             [
              0.7777777777777778,
              "#fb9f3a"
             ],
             [
              0.8888888888888888,
              "#fdca26"
             ],
             [
              1,
              "#f0f921"
             ]
            ],
            "type": "contour"
           }
          ],
          "contourcarpet": [
           {
            "colorbar": {
             "outlinewidth": 0,
             "ticks": ""
            },
            "type": "contourcarpet"
           }
          ],
          "heatmap": [
           {
            "colorbar": {
             "outlinewidth": 0,
             "ticks": ""
            },
            "colorscale": [
             [
              0,
              "#0d0887"
             ],
             [
              0.1111111111111111,
              "#46039f"
             ],
             [
              0.2222222222222222,
              "#7201a8"
             ],
             [
              0.3333333333333333,
              "#9c179e"
             ],
             [
              0.4444444444444444,
              "#bd3786"
             ],
             [
              0.5555555555555556,
              "#d8576b"
             ],
             [
              0.6666666666666666,
              "#ed7953"
             ],
             [
              0.7777777777777778,
              "#fb9f3a"
             ],
             [
              0.8888888888888888,
              "#fdca26"
             ],
             [
              1,
              "#f0f921"
             ]
            ],
            "type": "heatmap"
           }
          ],
          "heatmapgl": [
           {
            "colorbar": {
             "outlinewidth": 0,
             "ticks": ""
            },
            "colorscale": [
             [
              0,
              "#0d0887"
             ],
             [
              0.1111111111111111,
              "#46039f"
             ],
             [
              0.2222222222222222,
              "#7201a8"
             ],
             [
              0.3333333333333333,
              "#9c179e"
             ],
             [
              0.4444444444444444,
              "#bd3786"
             ],
             [
              0.5555555555555556,
              "#d8576b"
             ],
             [
              0.6666666666666666,
              "#ed7953"
             ],
             [
              0.7777777777777778,
              "#fb9f3a"
             ],
             [
              0.8888888888888888,
              "#fdca26"
             ],
             [
              1,
              "#f0f921"
             ]
            ],
            "type": "heatmapgl"
           }
          ],
          "histogram": [
           {
            "marker": {
             "pattern": {
              "fillmode": "overlay",
              "size": 10,
              "solidity": 0.2
             }
            },
            "type": "histogram"
           }
          ],
          "histogram2d": [
           {
            "colorbar": {
             "outlinewidth": 0,
             "ticks": ""
            },
            "colorscale": [
             [
              0,
              "#0d0887"
             ],
             [
              0.1111111111111111,
              "#46039f"
             ],
             [
              0.2222222222222222,
              "#7201a8"
             ],
             [
              0.3333333333333333,
              "#9c179e"
             ],
             [
              0.4444444444444444,
              "#bd3786"
             ],
             [
              0.5555555555555556,
              "#d8576b"
             ],
             [
              0.6666666666666666,
              "#ed7953"
             ],
             [
              0.7777777777777778,
              "#fb9f3a"
             ],
             [
              0.8888888888888888,
              "#fdca26"
             ],
             [
              1,
              "#f0f921"
             ]
            ],
            "type": "histogram2d"
           }
          ],
          "histogram2dcontour": [
           {
            "colorbar": {
             "outlinewidth": 0,
             "ticks": ""
            },
            "colorscale": [
             [
              0,
              "#0d0887"
             ],
             [
              0.1111111111111111,
              "#46039f"
             ],
             [
              0.2222222222222222,
              "#7201a8"
             ],
             [
              0.3333333333333333,
              "#9c179e"
             ],
             [
              0.4444444444444444,
              "#bd3786"
             ],
             [
              0.5555555555555556,
              "#d8576b"
             ],
             [
              0.6666666666666666,
              "#ed7953"
             ],
             [
              0.7777777777777778,
              "#fb9f3a"
             ],
             [
              0.8888888888888888,
              "#fdca26"
             ],
             [
              1,
              "#f0f921"
             ]
            ],
            "type": "histogram2dcontour"
           }
          ],
          "mesh3d": [
           {
            "colorbar": {
             "outlinewidth": 0,
             "ticks": ""
            },
            "type": "mesh3d"
           }
          ],
          "parcoords": [
           {
            "line": {
             "colorbar": {
              "outlinewidth": 0,
              "ticks": ""
             }
            },
            "type": "parcoords"
           }
          ],
          "pie": [
           {
            "automargin": true,
            "type": "pie"
           }
          ],
          "scatter": [
           {
            "fillpattern": {
             "fillmode": "overlay",
             "size": 10,
             "solidity": 0.2
            },
            "type": "scatter"
           }
          ],
          "scatter3d": [
           {
            "line": {
             "colorbar": {
              "outlinewidth": 0,
              "ticks": ""
             }
            },
            "marker": {
             "colorbar": {
              "outlinewidth": 0,
              "ticks": ""
             }
            },
            "type": "scatter3d"
           }
          ],
          "scattercarpet": [
           {
            "marker": {
             "colorbar": {
              "outlinewidth": 0,
              "ticks": ""
             }
            },
            "type": "scattercarpet"
           }
          ],
          "scattergeo": [
           {
            "marker": {
             "colorbar": {
              "outlinewidth": 0,
              "ticks": ""
             }
            },
            "type": "scattergeo"
           }
          ],
          "scattergl": [
           {
            "marker": {
             "colorbar": {
              "outlinewidth": 0,
              "ticks": ""
             }
            },
            "type": "scattergl"
           }
          ],
          "scattermapbox": [
           {
            "marker": {
             "colorbar": {
              "outlinewidth": 0,
              "ticks": ""
             }
            },
            "type": "scattermapbox"
           }
          ],
          "scatterpolar": [
           {
            "marker": {
             "colorbar": {
              "outlinewidth": 0,
              "ticks": ""
             }
            },
            "type": "scatterpolar"
           }
          ],
          "scatterpolargl": [
           {
            "marker": {
             "colorbar": {
              "outlinewidth": 0,
              "ticks": ""
             }
            },
            "type": "scatterpolargl"
           }
          ],
          "scatterternary": [
           {
            "marker": {
             "colorbar": {
              "outlinewidth": 0,
              "ticks": ""
             }
            },
            "type": "scatterternary"
           }
          ],
          "surface": [
           {
            "colorbar": {
             "outlinewidth": 0,
             "ticks": ""
            },
            "colorscale": [
             [
              0,
              "#0d0887"
             ],
             [
              0.1111111111111111,
              "#46039f"
             ],
             [
              0.2222222222222222,
              "#7201a8"
             ],
             [
              0.3333333333333333,
              "#9c179e"
             ],
             [
              0.4444444444444444,
              "#bd3786"
             ],
             [
              0.5555555555555556,
              "#d8576b"
             ],
             [
              0.6666666666666666,
              "#ed7953"
             ],
             [
              0.7777777777777778,
              "#fb9f3a"
             ],
             [
              0.8888888888888888,
              "#fdca26"
             ],
             [
              1,
              "#f0f921"
             ]
            ],
            "type": "surface"
           }
          ],
          "table": [
           {
            "cells": {
             "fill": {
              "color": "#EBF0F8"
             },
             "line": {
              "color": "white"
             }
            },
            "header": {
             "fill": {
              "color": "#C8D4E3"
             },
             "line": {
              "color": "white"
             }
            },
            "type": "table"
           }
          ]
         },
         "layout": {
          "annotationdefaults": {
           "arrowcolor": "#2a3f5f",
           "arrowhead": 0,
           "arrowwidth": 1
          },
          "autotypenumbers": "strict",
          "coloraxis": {
           "colorbar": {
            "outlinewidth": 0,
            "ticks": ""
           }
          },
          "colorscale": {
           "diverging": [
            [
             0,
             "#8e0152"
            ],
            [
             0.1,
             "#c51b7d"
            ],
            [
             0.2,
             "#de77ae"
            ],
            [
             0.3,
             "#f1b6da"
            ],
            [
             0.4,
             "#fde0ef"
            ],
            [
             0.5,
             "#f7f7f7"
            ],
            [
             0.6,
             "#e6f5d0"
            ],
            [
             0.7,
             "#b8e186"
            ],
            [
             0.8,
             "#7fbc41"
            ],
            [
             0.9,
             "#4d9221"
            ],
            [
             1,
             "#276419"
            ]
           ],
           "sequential": [
            [
             0,
             "#0d0887"
            ],
            [
             0.1111111111111111,
             "#46039f"
            ],
            [
             0.2222222222222222,
             "#7201a8"
            ],
            [
             0.3333333333333333,
             "#9c179e"
            ],
            [
             0.4444444444444444,
             "#bd3786"
            ],
            [
             0.5555555555555556,
             "#d8576b"
            ],
            [
             0.6666666666666666,
             "#ed7953"
            ],
            [
             0.7777777777777778,
             "#fb9f3a"
            ],
            [
             0.8888888888888888,
             "#fdca26"
            ],
            [
             1,
             "#f0f921"
            ]
           ],
           "sequentialminus": [
            [
             0,
             "#0d0887"
            ],
            [
             0.1111111111111111,
             "#46039f"
            ],
            [
             0.2222222222222222,
             "#7201a8"
            ],
            [
             0.3333333333333333,
             "#9c179e"
            ],
            [
             0.4444444444444444,
             "#bd3786"
            ],
            [
             0.5555555555555556,
             "#d8576b"
            ],
            [
             0.6666666666666666,
             "#ed7953"
            ],
            [
             0.7777777777777778,
             "#fb9f3a"
            ],
            [
             0.8888888888888888,
             "#fdca26"
            ],
            [
             1,
             "#f0f921"
            ]
           ]
          },
          "colorway": [
           "#636efa",
           "#EF553B",
           "#00cc96",
           "#ab63fa",
           "#FFA15A",
           "#19d3f3",
           "#FF6692",
           "#B6E880",
           "#FF97FF",
           "#FECB52"
          ],
          "font": {
           "color": "#2a3f5f"
          },
          "geo": {
           "bgcolor": "white",
           "lakecolor": "white",
           "landcolor": "white",
           "showlakes": true,
           "showland": true,
           "subunitcolor": "#C8D4E3"
          },
          "hoverlabel": {
           "align": "left"
          },
          "hovermode": "closest",
          "mapbox": {
           "style": "light"
          },
          "paper_bgcolor": "white",
          "plot_bgcolor": "white",
          "polar": {
           "angularaxis": {
            "gridcolor": "#EBF0F8",
            "linecolor": "#EBF0F8",
            "ticks": ""
           },
           "bgcolor": "white",
           "radialaxis": {
            "gridcolor": "#EBF0F8",
            "linecolor": "#EBF0F8",
            "ticks": ""
           }
          },
          "scene": {
           "xaxis": {
            "backgroundcolor": "white",
            "gridcolor": "#DFE8F3",
            "gridwidth": 2,
            "linecolor": "#EBF0F8",
            "showbackground": true,
            "ticks": "",
            "zerolinecolor": "#EBF0F8"
           },
           "yaxis": {
            "backgroundcolor": "white",
            "gridcolor": "#DFE8F3",
            "gridwidth": 2,
            "linecolor": "#EBF0F8",
            "showbackground": true,
            "ticks": "",
            "zerolinecolor": "#EBF0F8"
           },
           "zaxis": {
            "backgroundcolor": "white",
            "gridcolor": "#DFE8F3",
            "gridwidth": 2,
            "linecolor": "#EBF0F8",
            "showbackground": true,
            "ticks": "",
            "zerolinecolor": "#EBF0F8"
           }
          },
          "shapedefaults": {
           "line": {
            "color": "#2a3f5f"
           }
          },
          "ternary": {
           "aaxis": {
            "gridcolor": "#DFE8F3",
            "linecolor": "#A2B1C6",
            "ticks": ""
           },
           "baxis": {
            "gridcolor": "#DFE8F3",
            "linecolor": "#A2B1C6",
            "ticks": ""
           },
           "bgcolor": "white",
           "caxis": {
            "gridcolor": "#DFE8F3",
            "linecolor": "#A2B1C6",
            "ticks": ""
           }
          },
          "title": {
           "x": 0.05
          },
          "xaxis": {
           "automargin": true,
           "gridcolor": "#EBF0F8",
           "linecolor": "#EBF0F8",
           "ticks": "",
           "title": {
            "standoff": 15
           },
           "zerolinecolor": "#EBF0F8",
           "zerolinewidth": 2
          },
          "yaxis": {
           "automargin": true,
           "gridcolor": "#EBF0F8",
           "linecolor": "#EBF0F8",
           "ticks": "",
           "title": {
            "standoff": 15
           },
           "zerolinecolor": "#EBF0F8",
           "zerolinewidth": 2
          }
         }
        },
        "title": {
         "text": "CO2 Emissions by Country in 2020"
        }
       }
      }
     },
     "metadata": {},
     "output_type": "display_data"
    }
   ],
   "source": [
    "\n",
    "year_to_visualize = 2020  \n",
    "filtered_df_year = df[df['Year'] == 2020]\n",
    "\n",
    "# Create a choropleth map of CO2 Emissions by Country\n",
    "fig = px.choropleth(\n",
    "    filtered_df_year,\n",
    "    locations=\"Country_Code\",   # ISO country codes for accurate mapping\n",
    "    color=\"CO2_Emissions\",      # CO2 emissions data for color intensity\n",
    "    hover_name=\"Country_Name\",  # Display country name on hover\n",
    "    color_continuous_scale=px.colors.sequential.Plasma,  # Color scale for emissions\n",
    "    title=f\"CO2 Emissions by Country in {year_to_visualize}\",\n",
    "    labels={\"CO2_Emissions\": \"CO2 Emissions (metric tons per capita)\"},\n",
    "    template=\"plotly_white\"\n",
    ")\n",
    "\n",
    "# Customize layout\n",
    "fig.update_geos(\n",
    "    showcountries=True,       # Show country borders\n",
    "    projection_type=\"natural earth\"\n",
    ")\n",
    "fig.update_layout(\n",
    "    coloraxis_colorbar=dict(\n",
    "        title=\"CO2 Emissions\",\n",
    "        ticksuffix=\" tons per capita\"\n",
    "    )\n",
    ")\n",
    "\n",
    "fig.show()\n"
   ]
  },
  {
   "cell_type": "code",
   "execution_count": 25,
   "metadata": {},
   "outputs": [
    {
     "data": {
      "application/vnd.plotly.v1+json": {
       "config": {
        "plotlyServerURL": "https://plot.ly"
       },
       "data": [
        {
         "coloraxis": "coloraxis",
         "geo": "geo",
         "hovertemplate": "<b>%{hovertext}</b><br><br>Country_Code=%{location}<br>Energy Use (kg of oil equivalent per capita)=%{z}<extra></extra>",
         "hovertext": [
          "Aruba",
          "Africa Eastern and Southern",
          "Afghanistan",
          "Africa Western and Central",
          "Angola",
          "Albania",
          "Andorra",
          "Arab World",
          "United Arab Emirates",
          "Argentina",
          "Armenia",
          "American Samoa",
          "Antigua and Barbuda",
          "Australia",
          "Austria",
          "Azerbaijan",
          "Burundi",
          "Belgium",
          "Benin",
          "Burkina Faso",
          "Bangladesh",
          "Bulgaria",
          "Bahrain",
          "Bahamas, The",
          "Bosnia and Herzegovina",
          "Belarus",
          "Belize",
          "Bermuda",
          "Bolivia",
          "Brazil",
          "Barbados",
          "Brunei Darussalam",
          "Bhutan",
          "Botswana",
          "Central African Republic",
          "Canada",
          "Central Europe and the Baltics",
          "Switzerland",
          "Channel Islands",
          "Chile",
          "China",
          "Cote d'Ivoire",
          "Cameroon",
          "Congo, Dem. Rep.",
          "Congo, Rep.",
          "Colombia",
          "Comoros",
          "Cabo Verde",
          "Costa Rica",
          "Caribbean small states",
          "Cuba",
          "Curacao",
          "Cayman Islands",
          "Cyprus",
          "Czechia",
          "Germany",
          "Djibouti",
          "Dominica",
          "Denmark",
          "Dominican Republic",
          "Algeria",
          "East Asia & Pacific (excluding high income)",
          "Early-demographic dividend",
          "East Asia & Pacific",
          "Europe & Central Asia (excluding high income)",
          "Europe & Central Asia",
          "Ecuador",
          "Egypt, Arab Rep.",
          "Euro area",
          "Eritrea",
          "Spain",
          "Estonia",
          "Ethiopia",
          "European Union",
          "Fragile and conflict affected situations",
          "Finland",
          "Fiji",
          "France",
          "Faroe Islands",
          "Micronesia, Fed. Sts.",
          "Gabon",
          "United Kingdom",
          "Georgia",
          "Ghana",
          "Gibraltar",
          "Guinea",
          "Gambia, The",
          "Guinea-Bissau",
          "Equatorial Guinea",
          "Greece",
          "Grenada",
          "Greenland",
          "Guatemala",
          "Guam",
          "Guyana",
          "High income",
          "Hong Kong SAR, China",
          "Honduras",
          "Heavily indebted poor countries (HIPC)",
          "Croatia",
          "Haiti",
          "Hungary",
          "IBRD only",
          "IDA & IBRD total",
          "IDA total",
          "IDA blend",
          "Indonesia",
          "IDA only",
          "Isle of Man",
          "India",
          "Not classified",
          "Ireland",
          "Iran, Islamic Rep.",
          "Iraq",
          "Iceland",
          "Israel",
          "Italy",
          "Jamaica",
          "Jordan",
          "Japan",
          "Kazakhstan",
          "Kenya",
          "Kyrgyz Republic",
          "Cambodia",
          "Kiribati",
          "St. Kitts and Nevis",
          "Korea, Rep.",
          "Kuwait",
          "Latin America & Caribbean (excluding high income)",
          "Lao PDR",
          "Lebanon",
          "Liberia",
          "Libya",
          "St. Lucia",
          "Latin America & Caribbean",
          "Least developed countries: UN classification",
          "Low income",
          "Liechtenstein",
          "Sri Lanka",
          "Lower middle income",
          "Low & middle income",
          "Lesotho",
          "Late-demographic dividend",
          "Lithuania",
          "Luxembourg",
          "Latvia",
          "Macao SAR, China",
          "St. Martin (French part)",
          "Morocco",
          "Monaco",
          "Moldova",
          "Madagascar",
          "Maldives",
          "Middle East & North Africa",
          "Mexico",
          "Marshall Islands",
          "Middle income",
          "North Macedonia",
          "Mali",
          "Malta",
          "Myanmar",
          "Middle East & North Africa (excluding high income)",
          "Montenegro",
          "Mongolia",
          "Northern Mariana Islands",
          "Mozambique",
          "Mauritania",
          "Mauritius",
          "Malawi",
          "Malaysia",
          "North America",
          "Namibia",
          "New Caledonia",
          "Niger",
          "Nigeria",
          "Nicaragua",
          "Netherlands",
          "Norway",
          "Nepal",
          "Nauru",
          "New Zealand",
          "OECD members",
          "Oman",
          "Other small states",
          "Pakistan",
          "Panama",
          "Peru",
          "Philippines",
          "Palau",
          "Papua New Guinea",
          "Poland",
          "Pre-demographic dividend",
          "Puerto Rico",
          "Korea, Dem. People's Rep.",
          "Portugal",
          "Paraguay",
          "West Bank and Gaza",
          "Pacific island small states",
          "Post-demographic dividend",
          "French Polynesia",
          "Qatar",
          "Romania",
          "Russian Federation",
          "Rwanda",
          "South Asia",
          "Saudi Arabia",
          "Sudan",
          "Senegal",
          "Singapore",
          "Solomon Islands",
          "Sierra Leone",
          "El Salvador",
          "San Marino",
          "Somalia",
          "Serbia",
          "Sub-Saharan Africa (excluding high income)",
          "South Sudan",
          "Sub-Saharan Africa",
          "Small states",
          "Sao Tome and Principe",
          "Suriname",
          "Slovak Republic",
          "Slovenia",
          "Sweden",
          "Eswatini",
          "Sint Maarten (Dutch part)",
          "Seychelles",
          "Syrian Arab Republic",
          "Turks and Caicos Islands",
          "Chad",
          "East Asia & Pacific (IDA & IBRD countries)",
          "Europe & Central Asia (IDA & IBRD countries)",
          "Togo",
          "Thailand",
          "Tajikistan",
          "Turkmenistan",
          "Latin America & the Caribbean (IDA & IBRD countries)",
          "Timor-Leste",
          "Middle East & North Africa (IDA & IBRD countries)",
          "Tonga",
          "South Asia (IDA & IBRD)",
          "Sub-Saharan Africa (IDA & IBRD countries)",
          "Trinidad and Tobago",
          "Tunisia",
          "Turkiye",
          "Tuvalu",
          "Tanzania",
          "Uganda",
          "Ukraine",
          "Upper middle income",
          "Uruguay",
          "United States",
          "Uzbekistan",
          "St. Vincent and the Grenadines",
          "Venezuela, RB",
          "British Virgin Islands",
          "Virgin Islands (U.S.)",
          "Viet Nam",
          "Vanuatu",
          "World",
          "Samoa",
          "Kosovo",
          "Yemen, Rep.",
          "South Africa",
          "Zambia",
          "Zimbabwe"
         ],
         "locations": [
          "ABW",
          "AFE",
          "AFG",
          "AFW",
          "AGO",
          "ALB",
          "AND",
          "ARB",
          "ARE",
          "ARG",
          "ARM",
          "ASM",
          "ATG",
          "AUS",
          "AUT",
          "AZE",
          "BDI",
          "BEL",
          "BEN",
          "BFA",
          "BGD",
          "BGR",
          "BHR",
          "BHS",
          "BIH",
          "BLR",
          "BLZ",
          "BMU",
          "BOL",
          "BRA",
          "BRB",
          "BRN",
          "BTN",
          "BWA",
          "CAF",
          "CAN",
          "CEB",
          "CHE",
          "CHI",
          "CHL",
          "CHN",
          "CIV",
          "CMR",
          "COD",
          "COG",
          "COL",
          "COM",
          "CPV",
          "CRI",
          "CSS",
          "CUB",
          "CUW",
          "CYM",
          "CYP",
          "CZE",
          "DEU",
          "DJI",
          "DMA",
          "DNK",
          "DOM",
          "DZA",
          "EAP",
          "EAR",
          "EAS",
          "ECA",
          "ECS",
          "ECU",
          "EGY",
          "EMU",
          "ERI",
          "ESP",
          "EST",
          "ETH",
          "EUU",
          "FCS",
          "FIN",
          "FJI",
          "FRA",
          "FRO",
          "FSM",
          "GAB",
          "GBR",
          "GEO",
          "GHA",
          "GIB",
          "GIN",
          "GMB",
          "GNB",
          "GNQ",
          "GRC",
          "GRD",
          "GRL",
          "GTM",
          "GUM",
          "GUY",
          "HIC",
          "HKG",
          "HND",
          "HPC",
          "HRV",
          "HTI",
          "HUN",
          "IBD",
          "IBT",
          "IDA",
          "IDB",
          "IDN",
          "IDX",
          "IMN",
          "IND",
          "INX",
          "IRL",
          "IRN",
          "IRQ",
          "ISL",
          "ISR",
          "ITA",
          "JAM",
          "JOR",
          "JPN",
          "KAZ",
          "KEN",
          "KGZ",
          "KHM",
          "KIR",
          "KNA",
          "KOR",
          "KWT",
          "LAC",
          "LAO",
          "LBN",
          "LBR",
          "LBY",
          "LCA",
          "LCN",
          "LDC",
          "LIC",
          "LIE",
          "LKA",
          "LMC",
          "LMY",
          "LSO",
          "LTE",
          "LTU",
          "LUX",
          "LVA",
          "MAC",
          "MAF",
          "MAR",
          "MCO",
          "MDA",
          "MDG",
          "MDV",
          "MEA",
          "MEX",
          "MHL",
          "MIC",
          "MKD",
          "MLI",
          "MLT",
          "MMR",
          "MNA",
          "MNE",
          "MNG",
          "MNP",
          "MOZ",
          "MRT",
          "MUS",
          "MWI",
          "MYS",
          "NAC",
          "NAM",
          "NCL",
          "NER",
          "NGA",
          "NIC",
          "NLD",
          "NOR",
          "NPL",
          "NRU",
          "NZL",
          "OED",
          "OMN",
          "OSS",
          "PAK",
          "PAN",
          "PER",
          "PHL",
          "PLW",
          "PNG",
          "POL",
          "PRE",
          "PRI",
          "PRK",
          "PRT",
          "PRY",
          "PSE",
          "PSS",
          "PST",
          "PYF",
          "QAT",
          "ROU",
          "RUS",
          "RWA",
          "SAS",
          "SAU",
          "SDN",
          "SEN",
          "SGP",
          "SLB",
          "SLE",
          "SLV",
          "SMR",
          "SOM",
          "SRB",
          "SSA",
          "SSD",
          "SSF",
          "SST",
          "STP",
          "SUR",
          "SVK",
          "SVN",
          "SWE",
          "SWZ",
          "SXM",
          "SYC",
          "SYR",
          "TCA",
          "TCD",
          "TEA",
          "TEC",
          "TGO",
          "THA",
          "TJK",
          "TKM",
          "TLA",
          "TLS",
          "TMN",
          "TON",
          "TSA",
          "TSS",
          "TTO",
          "TUN",
          "TUR",
          "TUV",
          "TZA",
          "UGA",
          "UKR",
          "UMC",
          "URY",
          "USA",
          "UZB",
          "VCT",
          "VEN",
          "VGB",
          "VIR",
          "VNM",
          "VUT",
          "WLD",
          "WSM",
          "XKX",
          "YEM",
          "ZAF",
          "ZMB",
          "ZWE"
         ],
         "name": "",
         "type": "choropleth",
         "z": [
          null,
          0.795419908400246,
          0.223478872007068,
          0.463150273298324,
          0.592742967779037,
          1.54455011524574,
          5.77714799227799,
          3.92907774447049,
          20.2522716801426,
          3.4056175404138,
          2.40468376195106,
          null,
          5.12173012173012,
          14.7761369066259,
          6.63264573733546,
          3.39884957289227,
          0.0583840218352736,
          7.39813065774681,
          0.631204805964476,
          0.253533188747507,
          0.510647559277094,
          4.92328037940501,
          21.9769078065259,
          6.04225147673512,
          6.31230587447531,
          5.84240729590088,
          1.74110771521393,
          null,
          1.53946469560316,
          1.94252335631484,
          3.90487115816925,
          21.7058124398664,
          1.34005431673023,
          2.2634631138367,
          0.044282072685485,
          13.5916963421093,
          5.85720584954467,
          4.04207281475341,
          null,
          4.39515106359663,
          7.75613790659769,
          0.406347356890383,
          0.37478265803136,
          0.0325847808481787,
          1.25459166977367,
          1.55225942282078,
          0.407112182850678,
          1.06515172319099,
          1.35999554957394,
          10.552169300927,
          2.15276967847473,
          null,
          null,
          5.47199800894842,
          8.30401749583889,
          7.2552210281684,
          0.392329171237878,
          2.26126814362109,
          4.69123730751634,
          2.08018172191441,
          3.7182233703076,
          5.98229692616459,
          2.01685678303252,
          6.22188839531445,
          11.372298356559,
          6.10988342298582,
          1.95757534925331,
          1.96112257208929,
          5.39782521515732,
          0.198657542968412,
          4.2795945712141,
          5.33839981587368,
          0.154431771590205,
          5.50607043589747,
          0.774950951754809,
          6.57014512772575,
          1.11709628844161,
          3.95368245187991,
          null,
          0.958913885073056,
          2.33327357514897,
          4.60114225090135,
          2.75470919618902,
          0.602887453142675,
          null,
          0.34364615086247,
          0.237529598930845,
          0.163208368967987,
          2.72573085162172,
          4.76718493701839,
          2.62406702085507,
          null,
          1.00040733564819,
          null,
          3.47277101663067,
          7.79438969111805,
          null,
          0.872911171700029,
          0.268471052988447,
          3.86070539173057,
          0.283815024249564,
          4.59165290704788,
          4.30518867886807,
          3.29826458792097,
          0.516721490165841,
          0.796458888364843,
          2.07165896221472,
          0.377941163632789,
          null,
          1.57609323191648,
          null,
          6.76822759018266,
          7.06335132057733,
          3.84217781974399,
          3.94746536485266,
          6.34521600416707,
          4.73237277079935,
          2.06904180772051,
          1.9191724264898,
          8.0314958696668,
          11.2977433059429,
          0.374079219355755,
          1.37997537956504,
          1.13758365931038,
          0.449933972782553,
          4.84866294446077,
          10.9900295814285,
          21.1696102506992,
          2.11254497614329,
          2.6202834413044,
          3.79219353680069,
          0.231838923937177,
          6.68280547080212,
          2.78513922906543,
          2.21061802018334,
          0.327343883787407,
          0.269341050173669,
          3.66384799772938,
          0.99668324284867,
          1.63716838538812,
          3.34174447976303,
          1.02564216316934,
          6.68110003513383,
          4.18400041504391,
          12.4569532326913,
          3.64561216849281,
          null,
          null,
          1.81852638730999,
          null,
          3.26784636811087,
          0.0972695405949093,
          2.82638529813116,
          5.03381829765426,
          3.04076637477226,
          2.53380323866123,
          3.69930515802139,
          3.66177044206098,
          0.195565971417317,
          3.12555789277592,
          0.634080348390974,
          3.32905608702325,
          4.06756091201437,
          6.43064533509798,
          null,
          0.222767552715213,
          0.855176405836122,
          2.93851410805884,
          0.0846361581872504,
          7.38371541222915,
          13.0875310181176,
          1.58804514727825,
          null,
          0.0903255776910309,
          0.537510175389551,
          0.678252104273379,
          7.4715534787719,
          6.7250800496331,
          0.509366247354604,
          3.36175395858709,
          6.16079918274331,
          7.71869898525221,
          15.6362010028175,
          13.1146871508436,
          0.81036021551031,
          2.23144302481653,
          1.39856601861908,
          1.18967945167284,
          8.80258179390162,
          0.563251566211675,
          7.36756337292709,
          0.477024614654774,
          null,
          2.02714861876503,
          3.78490758691711,
          1.14459119207034,
          null,
          0.848521068295038,
          8.55084395133424,
          null,
          31.7268424513247,
          3.56413750145988,
          11.1416527318351,
          0.105124140047262,
          1.33779148421422,
          14.2665853675408,
          0.467953928316626,
          0.649800561203009,
          7.68668370206727,
          0.323065549175264,
          0.127277607278142,
          1.01328024350636,
          null,
          0.0399346532651356,
          6.71451717217514,
          0.660412632875853,
          0.16430913651009,
          0.660876172775718,
          11.0945803239756,
          0.645350140184137,
          4.28507655687612,
          5.31905480792852,
          5.93473517885826,
          3.24298914312747,
          0.972087527685903,
          null,
          6.08051837257013,
          1.21480248375323,
          null,
          0.0942281870969025,
          6.03116979498631,
          6.90936530921092,
          0.286061843654428,
          3.71425580600412,
          0.977533024275801,
          10.1840862992321,
          2.22092378392995,
          0.343155165981408,
          3.36834375922243,
          1.12204761814278,
          1.33779148421422,
          0.660876172775718,
          10.1571191722541,
          2.4086225282388,
          4.8858639260833,
          0.596259824735748,
          0.233945592120175,
          0.127793034826946,
          3.7473878451278,
          5.87678956814815,
          1.89971905049917,
          13.0322217290262,
          3.37630378548758,
          2.100695771848,
          2.54502797831961,
          null,
          null,
          3.67644008813984,
          0.389174968317372,
          4.29168404460545,
          0.960782397908146,
          null,
          0.308514614308256,
          6.68756314737781,
          0.40190271250386,
          0.530483547000938
         ]
        }
       ],
       "layout": {
        "coloraxis": {
         "colorbar": {
          "ticksuffix": " kg per capita",
          "title": {
           "text": "Energy Use"
          }
         },
         "colorscale": [
          [
           0,
           "#440154"
          ],
          [
           0.1111111111111111,
           "#482878"
          ],
          [
           0.2222222222222222,
           "#3e4989"
          ],
          [
           0.3333333333333333,
           "#31688e"
          ],
          [
           0.4444444444444444,
           "#26828e"
          ],
          [
           0.5555555555555556,
           "#1f9e89"
          ],
          [
           0.6666666666666666,
           "#35b779"
          ],
          [
           0.7777777777777778,
           "#6ece58"
          ],
          [
           0.8888888888888888,
           "#b5de2b"
          ],
          [
           1,
           "#fde725"
          ]
         ]
        },
        "geo": {
         "center": {},
         "domain": {
          "x": [
           0,
           1
          ],
          "y": [
           0,
           1
          ]
         },
         "projection": {
          "type": "natural earth"
         },
         "showcountries": true
        },
        "legend": {
         "tracegroupgap": 0
        },
        "template": {
         "data": {
          "bar": [
           {
            "error_x": {
             "color": "#2a3f5f"
            },
            "error_y": {
             "color": "#2a3f5f"
            },
            "marker": {
             "line": {
              "color": "white",
              "width": 0.5
             },
             "pattern": {
              "fillmode": "overlay",
              "size": 10,
              "solidity": 0.2
             }
            },
            "type": "bar"
           }
          ],
          "barpolar": [
           {
            "marker": {
             "line": {
              "color": "white",
              "width": 0.5
             },
             "pattern": {
              "fillmode": "overlay",
              "size": 10,
              "solidity": 0.2
             }
            },
            "type": "barpolar"
           }
          ],
          "carpet": [
           {
            "aaxis": {
             "endlinecolor": "#2a3f5f",
             "gridcolor": "#C8D4E3",
             "linecolor": "#C8D4E3",
             "minorgridcolor": "#C8D4E3",
             "startlinecolor": "#2a3f5f"
            },
            "baxis": {
             "endlinecolor": "#2a3f5f",
             "gridcolor": "#C8D4E3",
             "linecolor": "#C8D4E3",
             "minorgridcolor": "#C8D4E3",
             "startlinecolor": "#2a3f5f"
            },
            "type": "carpet"
           }
          ],
          "choropleth": [
           {
            "colorbar": {
             "outlinewidth": 0,
             "ticks": ""
            },
            "type": "choropleth"
           }
          ],
          "contour": [
           {
            "colorbar": {
             "outlinewidth": 0,
             "ticks": ""
            },
            "colorscale": [
             [
              0,
              "#0d0887"
             ],
             [
              0.1111111111111111,
              "#46039f"
             ],
             [
              0.2222222222222222,
              "#7201a8"
             ],
             [
              0.3333333333333333,
              "#9c179e"
             ],
             [
              0.4444444444444444,
              "#bd3786"
             ],
             [
              0.5555555555555556,
              "#d8576b"
             ],
             [
              0.6666666666666666,
              "#ed7953"
             ],
             [
              0.7777777777777778,
              "#fb9f3a"
             ],
             [
              0.8888888888888888,
              "#fdca26"
             ],
             [
              1,
              "#f0f921"
             ]
            ],
            "type": "contour"
           }
          ],
          "contourcarpet": [
           {
            "colorbar": {
             "outlinewidth": 0,
             "ticks": ""
            },
            "type": "contourcarpet"
           }
          ],
          "heatmap": [
           {
            "colorbar": {
             "outlinewidth": 0,
             "ticks": ""
            },
            "colorscale": [
             [
              0,
              "#0d0887"
             ],
             [
              0.1111111111111111,
              "#46039f"
             ],
             [
              0.2222222222222222,
              "#7201a8"
             ],
             [
              0.3333333333333333,
              "#9c179e"
             ],
             [
              0.4444444444444444,
              "#bd3786"
             ],
             [
              0.5555555555555556,
              "#d8576b"
             ],
             [
              0.6666666666666666,
              "#ed7953"
             ],
             [
              0.7777777777777778,
              "#fb9f3a"
             ],
             [
              0.8888888888888888,
              "#fdca26"
             ],
             [
              1,
              "#f0f921"
             ]
            ],
            "type": "heatmap"
           }
          ],
          "heatmapgl": [
           {
            "colorbar": {
             "outlinewidth": 0,
             "ticks": ""
            },
            "colorscale": [
             [
              0,
              "#0d0887"
             ],
             [
              0.1111111111111111,
              "#46039f"
             ],
             [
              0.2222222222222222,
              "#7201a8"
             ],
             [
              0.3333333333333333,
              "#9c179e"
             ],
             [
              0.4444444444444444,
              "#bd3786"
             ],
             [
              0.5555555555555556,
              "#d8576b"
             ],
             [
              0.6666666666666666,
              "#ed7953"
             ],
             [
              0.7777777777777778,
              "#fb9f3a"
             ],
             [
              0.8888888888888888,
              "#fdca26"
             ],
             [
              1,
              "#f0f921"
             ]
            ],
            "type": "heatmapgl"
           }
          ],
          "histogram": [
           {
            "marker": {
             "pattern": {
              "fillmode": "overlay",
              "size": 10,
              "solidity": 0.2
             }
            },
            "type": "histogram"
           }
          ],
          "histogram2d": [
           {
            "colorbar": {
             "outlinewidth": 0,
             "ticks": ""
            },
            "colorscale": [
             [
              0,
              "#0d0887"
             ],
             [
              0.1111111111111111,
              "#46039f"
             ],
             [
              0.2222222222222222,
              "#7201a8"
             ],
             [
              0.3333333333333333,
              "#9c179e"
             ],
             [
              0.4444444444444444,
              "#bd3786"
             ],
             [
              0.5555555555555556,
              "#d8576b"
             ],
             [
              0.6666666666666666,
              "#ed7953"
             ],
             [
              0.7777777777777778,
              "#fb9f3a"
             ],
             [
              0.8888888888888888,
              "#fdca26"
             ],
             [
              1,
              "#f0f921"
             ]
            ],
            "type": "histogram2d"
           }
          ],
          "histogram2dcontour": [
           {
            "colorbar": {
             "outlinewidth": 0,
             "ticks": ""
            },
            "colorscale": [
             [
              0,
              "#0d0887"
             ],
             [
              0.1111111111111111,
              "#46039f"
             ],
             [
              0.2222222222222222,
              "#7201a8"
             ],
             [
              0.3333333333333333,
              "#9c179e"
             ],
             [
              0.4444444444444444,
              "#bd3786"
             ],
             [
              0.5555555555555556,
              "#d8576b"
             ],
             [
              0.6666666666666666,
              "#ed7953"
             ],
             [
              0.7777777777777778,
              "#fb9f3a"
             ],
             [
              0.8888888888888888,
              "#fdca26"
             ],
             [
              1,
              "#f0f921"
             ]
            ],
            "type": "histogram2dcontour"
           }
          ],
          "mesh3d": [
           {
            "colorbar": {
             "outlinewidth": 0,
             "ticks": ""
            },
            "type": "mesh3d"
           }
          ],
          "parcoords": [
           {
            "line": {
             "colorbar": {
              "outlinewidth": 0,
              "ticks": ""
             }
            },
            "type": "parcoords"
           }
          ],
          "pie": [
           {
            "automargin": true,
            "type": "pie"
           }
          ],
          "scatter": [
           {
            "fillpattern": {
             "fillmode": "overlay",
             "size": 10,
             "solidity": 0.2
            },
            "type": "scatter"
           }
          ],
          "scatter3d": [
           {
            "line": {
             "colorbar": {
              "outlinewidth": 0,
              "ticks": ""
             }
            },
            "marker": {
             "colorbar": {
              "outlinewidth": 0,
              "ticks": ""
             }
            },
            "type": "scatter3d"
           }
          ],
          "scattercarpet": [
           {
            "marker": {
             "colorbar": {
              "outlinewidth": 0,
              "ticks": ""
             }
            },
            "type": "scattercarpet"
           }
          ],
          "scattergeo": [
           {
            "marker": {
             "colorbar": {
              "outlinewidth": 0,
              "ticks": ""
             }
            },
            "type": "scattergeo"
           }
          ],
          "scattergl": [
           {
            "marker": {
             "colorbar": {
              "outlinewidth": 0,
              "ticks": ""
             }
            },
            "type": "scattergl"
           }
          ],
          "scattermapbox": [
           {
            "marker": {
             "colorbar": {
              "outlinewidth": 0,
              "ticks": ""
             }
            },
            "type": "scattermapbox"
           }
          ],
          "scatterpolar": [
           {
            "marker": {
             "colorbar": {
              "outlinewidth": 0,
              "ticks": ""
             }
            },
            "type": "scatterpolar"
           }
          ],
          "scatterpolargl": [
           {
            "marker": {
             "colorbar": {
              "outlinewidth": 0,
              "ticks": ""
             }
            },
            "type": "scatterpolargl"
           }
          ],
          "scatterternary": [
           {
            "marker": {
             "colorbar": {
              "outlinewidth": 0,
              "ticks": ""
             }
            },
            "type": "scatterternary"
           }
          ],
          "surface": [
           {
            "colorbar": {
             "outlinewidth": 0,
             "ticks": ""
            },
            "colorscale": [
             [
              0,
              "#0d0887"
             ],
             [
              0.1111111111111111,
              "#46039f"
             ],
             [
              0.2222222222222222,
              "#7201a8"
             ],
             [
              0.3333333333333333,
              "#9c179e"
             ],
             [
              0.4444444444444444,
              "#bd3786"
             ],
             [
              0.5555555555555556,
              "#d8576b"
             ],
             [
              0.6666666666666666,
              "#ed7953"
             ],
             [
              0.7777777777777778,
              "#fb9f3a"
             ],
             [
              0.8888888888888888,
              "#fdca26"
             ],
             [
              1,
              "#f0f921"
             ]
            ],
            "type": "surface"
           }
          ],
          "table": [
           {
            "cells": {
             "fill": {
              "color": "#EBF0F8"
             },
             "line": {
              "color": "white"
             }
            },
            "header": {
             "fill": {
              "color": "#C8D4E3"
             },
             "line": {
              "color": "white"
             }
            },
            "type": "table"
           }
          ]
         },
         "layout": {
          "annotationdefaults": {
           "arrowcolor": "#2a3f5f",
           "arrowhead": 0,
           "arrowwidth": 1
          },
          "autotypenumbers": "strict",
          "coloraxis": {
           "colorbar": {
            "outlinewidth": 0,
            "ticks": ""
           }
          },
          "colorscale": {
           "diverging": [
            [
             0,
             "#8e0152"
            ],
            [
             0.1,
             "#c51b7d"
            ],
            [
             0.2,
             "#de77ae"
            ],
            [
             0.3,
             "#f1b6da"
            ],
            [
             0.4,
             "#fde0ef"
            ],
            [
             0.5,
             "#f7f7f7"
            ],
            [
             0.6,
             "#e6f5d0"
            ],
            [
             0.7,
             "#b8e186"
            ],
            [
             0.8,
             "#7fbc41"
            ],
            [
             0.9,
             "#4d9221"
            ],
            [
             1,
             "#276419"
            ]
           ],
           "sequential": [
            [
             0,
             "#0d0887"
            ],
            [
             0.1111111111111111,
             "#46039f"
            ],
            [
             0.2222222222222222,
             "#7201a8"
            ],
            [
             0.3333333333333333,
             "#9c179e"
            ],
            [
             0.4444444444444444,
             "#bd3786"
            ],
            [
             0.5555555555555556,
             "#d8576b"
            ],
            [
             0.6666666666666666,
             "#ed7953"
            ],
            [
             0.7777777777777778,
             "#fb9f3a"
            ],
            [
             0.8888888888888888,
             "#fdca26"
            ],
            [
             1,
             "#f0f921"
            ]
           ],
           "sequentialminus": [
            [
             0,
             "#0d0887"
            ],
            [
             0.1111111111111111,
             "#46039f"
            ],
            [
             0.2222222222222222,
             "#7201a8"
            ],
            [
             0.3333333333333333,
             "#9c179e"
            ],
            [
             0.4444444444444444,
             "#bd3786"
            ],
            [
             0.5555555555555556,
             "#d8576b"
            ],
            [
             0.6666666666666666,
             "#ed7953"
            ],
            [
             0.7777777777777778,
             "#fb9f3a"
            ],
            [
             0.8888888888888888,
             "#fdca26"
            ],
            [
             1,
             "#f0f921"
            ]
           ]
          },
          "colorway": [
           "#636efa",
           "#EF553B",
           "#00cc96",
           "#ab63fa",
           "#FFA15A",
           "#19d3f3",
           "#FF6692",
           "#B6E880",
           "#FF97FF",
           "#FECB52"
          ],
          "font": {
           "color": "#2a3f5f"
          },
          "geo": {
           "bgcolor": "white",
           "lakecolor": "white",
           "landcolor": "white",
           "showlakes": true,
           "showland": true,
           "subunitcolor": "#C8D4E3"
          },
          "hoverlabel": {
           "align": "left"
          },
          "hovermode": "closest",
          "mapbox": {
           "style": "light"
          },
          "paper_bgcolor": "white",
          "plot_bgcolor": "white",
          "polar": {
           "angularaxis": {
            "gridcolor": "#EBF0F8",
            "linecolor": "#EBF0F8",
            "ticks": ""
           },
           "bgcolor": "white",
           "radialaxis": {
            "gridcolor": "#EBF0F8",
            "linecolor": "#EBF0F8",
            "ticks": ""
           }
          },
          "scene": {
           "xaxis": {
            "backgroundcolor": "white",
            "gridcolor": "#DFE8F3",
            "gridwidth": 2,
            "linecolor": "#EBF0F8",
            "showbackground": true,
            "ticks": "",
            "zerolinecolor": "#EBF0F8"
           },
           "yaxis": {
            "backgroundcolor": "white",
            "gridcolor": "#DFE8F3",
            "gridwidth": 2,
            "linecolor": "#EBF0F8",
            "showbackground": true,
            "ticks": "",
            "zerolinecolor": "#EBF0F8"
           },
           "zaxis": {
            "backgroundcolor": "white",
            "gridcolor": "#DFE8F3",
            "gridwidth": 2,
            "linecolor": "#EBF0F8",
            "showbackground": true,
            "ticks": "",
            "zerolinecolor": "#EBF0F8"
           }
          },
          "shapedefaults": {
           "line": {
            "color": "#2a3f5f"
           }
          },
          "ternary": {
           "aaxis": {
            "gridcolor": "#DFE8F3",
            "linecolor": "#A2B1C6",
            "ticks": ""
           },
           "baxis": {
            "gridcolor": "#DFE8F3",
            "linecolor": "#A2B1C6",
            "ticks": ""
           },
           "bgcolor": "white",
           "caxis": {
            "gridcolor": "#DFE8F3",
            "linecolor": "#A2B1C6",
            "ticks": ""
           }
          },
          "title": {
           "x": 0.05
          },
          "xaxis": {
           "automargin": true,
           "gridcolor": "#EBF0F8",
           "linecolor": "#EBF0F8",
           "ticks": "",
           "title": {
            "standoff": 15
           },
           "zerolinecolor": "#EBF0F8",
           "zerolinewidth": 2
          },
          "yaxis": {
           "automargin": true,
           "gridcolor": "#EBF0F8",
           "linecolor": "#EBF0F8",
           "ticks": "",
           "title": {
            "standoff": 15
           },
           "zerolinecolor": "#EBF0F8",
           "zerolinewidth": 2
          }
         }
        },
        "title": {
         "text": "Energy Use by Country in 2020"
        }
       }
      }
     },
     "metadata": {},
     "output_type": "display_data"
    }
   ],
   "source": [
    "\n",
    "year_to_visualize = 2020  #\n",
    "filtered_df_year = df[df['Year'] == year_to_visualize]\n",
    "\n",
    "fig = px.choropleth(\n",
    "    filtered_df_year,\n",
    "    locations=\"Country_Code\",   # ISO country codes for accurate mapping\n",
    "    color=\"Energy_Use\",         # Energy use data for color intensity\n",
    "    hover_name=\"Country_Name\",  # Display country name on hover\n",
    "    color_continuous_scale=px.colors.sequential.Viridis,  # Color scale for energy use\n",
    "    title=f\"Energy Use by Country in {year_to_visualize}\",\n",
    "    labels={\"Energy_Use\": \"Energy Use (kg of oil equivalent per capita)\"},\n",
    "    template=\"plotly_white\"\n",
    ")\n",
    "\n",
    "\n",
    "fig.update_geos(\n",
    "    showcountries=True,        # Show country borders\n",
    "    projection_type=\"natural earth\"\n",
    ")\n",
    "fig.update_layout(\n",
    "    coloraxis_colorbar=dict(\n",
    "        title=\"Energy Use\",\n",
    "        ticksuffix=\" kg per capita\"\n",
    "    )\n",
    ")\n",
    "\n",
    "fig.show()\n"
   ]
  },
  {
   "cell_type": "code",
   "execution_count": 26,
   "metadata": {},
   "outputs": [
    {
     "data": {
      "application/vnd.plotly.v1+json": {
       "config": {
        "plotlyServerURL": "https://plot.ly"
       },
       "data": [
        {
         "fillpattern": {
          "shape": ""
         },
         "hovertemplate": "Country_Name=China<br>Year=%{x}<br>CO2 Emissions (metric tons per capita)=%{y}<extra></extra>",
         "legendgroup": "China",
         "line": {
          "color": "#636efa"
         },
         "marker": {
          "symbol": "circle"
         },
         "mode": "lines",
         "name": "China",
         "orientation": "v",
         "showlegend": true,
         "stackgroup": "1",
         "type": "scatter",
         "x": [
          1960,
          1961,
          1962,
          1963,
          1964,
          1965,
          1966,
          1967,
          1968,
          1969,
          1970,
          1971,
          1972,
          1973,
          1974,
          1975,
          1976,
          1977,
          1978,
          1979,
          1980,
          1981,
          1982,
          1983,
          1984,
          1985,
          1986,
          1987,
          1988,
          1989,
          1990,
          1991,
          1992,
          1993,
          1994,
          1995,
          1996,
          1997,
          1998,
          1999,
          2000,
          2001,
          2002,
          2003,
          2004,
          2005,
          2006,
          2007,
          2008,
          2009,
          2010,
          2011,
          2012,
          2013,
          2014,
          2015,
          2016,
          2017,
          2018,
          2019,
          2020,
          2021,
          2022,
          2023
         ],
         "xaxis": "x",
         "y": [
          59716249310.9742,
          50056685957.359,
          47209186415.3555,
          50706614526.1472,
          59708125203.8643,
          70436008642.4251,
          76720005491.8964,
          72881364882.4909,
          70846276051.4727,
          79705614854.7674,
          92602634891.6589,
          99800593790.9886,
          113689308020.343,
          138543170458.064,
          144188970821.072,
          163429530659.638,
          153939265947.775,
          174935933078.663,
          149540752829.268,
          178280594413.043,
          191149211575,
          195866382432.54,
          205089699858.779,
          230686747153.257,
          259946510957.143,
          309488028132.653,
          300758100107.246,
          272972974764.574,
          312353631207.819,
          347768051311.741,
          360857912565.966,
          383373318083.624,
          426915712715.856,
          444731282435.515,
          564321854521.013,
          734484834573.582,
          863749314718.538,
          961601980984.623,
          1029060747620.65,
          1094003874937.34,
          1211331651866.09,
          1339400897105.11,
          1470557654799.95,
          1660280543846.79,
          1955346768721.39,
          2285961149879.85,
          2752118657184.02,
          3550327802998.4,
          4594336785737.67,
          5101691124285.21,
          6087191746679.49,
          7551545703440.75,
          8532185381680.59,
          9570471111831.68,
          10475624944355.2,
          11061572618578.7,
          11233313730348.7,
          12310491333980.9,
          13894907857880.6,
          14279968506271.7,
          14687744162801,
          17820459508852.2,
          17881783387000.9,
          17794781986104.5
         ],
         "yaxis": "y"
        },
        {
         "fillpattern": {
          "shape": ""
         },
         "hovertemplate": "Country_Name=Germany<br>Year=%{x}<br>CO2 Emissions (metric tons per capita)=%{y}<extra></extra>",
         "legendgroup": "Germany",
         "line": {
          "color": "#EF553B"
         },
         "marker": {
          "symbol": "circle"
         },
         "mode": "lines",
         "name": "Germany",
         "orientation": "v",
         "showlegend": true,
         "stackgroup": "1",
         "type": "scatter",
         "x": [
          1960,
          1961,
          1962,
          1963,
          1964,
          1965,
          1966,
          1967,
          1968,
          1969,
          1970,
          1971,
          1972,
          1973,
          1974,
          1975,
          1976,
          1977,
          1978,
          1979,
          1980,
          1981,
          1982,
          1983,
          1984,
          1985,
          1986,
          1987,
          1988,
          1989,
          1990,
          1991,
          1992,
          1993,
          1994,
          1995,
          1996,
          1997,
          1998,
          1999,
          2000,
          2001,
          2002,
          2003,
          2004,
          2005,
          2006,
          2007,
          2008,
          2009,
          2010,
          2011,
          2012,
          2013,
          2014,
          2015,
          2016,
          2017,
          2018,
          2019,
          2020,
          2021,
          2022,
          2023
         ],
         "xaxis": "x",
         "y": [
          84310950194.1152,
          96205728657.7269,
          105508875286.241,
          111822811005.912,
          122880200227.839,
          134282707622.241,
          142781158769.18,
          144570993320.91,
          155955906530.699,
          177084689264.145,
          215838448137.658,
          249985055484.303,
          299801542047.476,
          398374021953.897,
          445303484241.554,
          490636517211.225,
          519754453161.411,
          600498238019.035,
          740469983446.933,
          881345176608.686,
          950290856466.538,
          800472055387.278,
          776576439106.956,
          770684323247.798,
          725111123634.115,
          732534887058.198,
          1046259374943.71,
          1298176105549.51,
          1401233225303.49,
          1398967436804.33,
          1771671206875.68,
          1868945197407.19,
          2131571696931.75,
          2071323790370.28,
          2205074123177.05,
          2585792275146.72,
          2497244606186.64,
          2211989623279.95,
          2238990774702.68,
          2194945278872.59,
          1947981991011.77,
          1945790973803.15,
          2078484517474.51,
          2501640388482.35,
          2814353869359.08,
          2846864211175.1,
          2994703642023.53,
          3425578382921.58,
          3745264093617.19,
          3411261212652.34,
          3399667820000.01,
          3749314991050.59,
          3527143188785.16,
          3733804649549.03,
          3889093051023.52,
          3357585719351.56,
          3469853463945.53,
          3690849152517.65,
          3974443355019.6,
          3889177589254.9,
          3887727161914.41,
          4278503934689.85,
          4082469490797.68,
          4456081016705.96
         ],
         "yaxis": "y"
        },
        {
         "fillpattern": {
          "shape": ""
         },
         "hovertemplate": "Country_Name=India<br>Year=%{x}<br>CO2 Emissions (metric tons per capita)=%{y}<extra></extra>",
         "legendgroup": "India",
         "line": {
          "color": "#00cc96"
         },
         "marker": {
          "symbol": "circle"
         },
         "mode": "lines",
         "name": "India",
         "orientation": "v",
         "showlegend": true,
         "stackgroup": "1",
         "type": "scatter",
         "x": [
          1960,
          1961,
          1962,
          1963,
          1964,
          1965,
          1966,
          1967,
          1968,
          1969,
          1970,
          1971,
          1972,
          1973,
          1974,
          1975,
          1976,
          1977,
          1978,
          1979,
          1980,
          1981,
          1982,
          1983,
          1984,
          1985,
          1986,
          1987,
          1988,
          1989,
          1990,
          1991,
          1992,
          1993,
          1994,
          1995,
          1996,
          1997,
          1998,
          1999,
          2000,
          2001,
          2002,
          2003,
          2004,
          2005,
          2006,
          2007,
          2008,
          2009,
          2010,
          2011,
          2012,
          2013,
          2014,
          2015,
          2016,
          2017,
          2018,
          2019,
          2020,
          2021,
          2022,
          2023
         ],
         "xaxis": "x",
         "y": [
          37029883876.1839,
          39232435784.0358,
          42161481858.0819,
          48421923459.1235,
          56480289940.9899,
          59556105229.0052,
          45581230504.071,
          50134942204,
          53085455870.6667,
          58447995017.3333,
          62422483054.6667,
          67351404351.833,
          71464700666.9869,
          85517673172.5513,
          99526597933.6331,
          98473832017.3242,
          102716451979.68,
          121486641441.309,
          137302319828.995,
          152995442497.709,
          186328579302.068,
          193491368445.573,
          200715624830.902,
          218262146413.158,
          212157645177.652,
          232511554840.372,
          248985994040.59,
          279033584092.223,
          296589670895.932,
          296042052944.66,
          320979026420.035,
          270105341879.226,
          288208070278.013,
          279295648982.529,
          327274843459.429,
          360281909643.489,
          392896866204.516,
          415867563592.829,
          421351317224.941,
          458821052615.79,
          468395521654.458,
          485440139204.171,
          514939140318.756,
          607700687237.318,
          709152728830.775,
          820383763511.445,
          940259888787.721,
          1216736438834.96,
          1198895139005.92,
          1341888016994.9,
          1675615519484.96,
          1823051829895.13,
          1827637590410.95,
          1856721507621.46,
          2039126479155.27,
          2103588360044.39,
          2294796885663.67,
          2651474262755.59,
          2702929641648.14,
          2835606256558.84,
          2674851578586.86,
          3167270623260.52,
          3353470496885.95,
          3549918918777.53
         ],
         "yaxis": "y"
        },
        {
         "fillpattern": {
          "shape": ""
         },
         "hovertemplate": "Country_Name=Japan<br>Year=%{x}<br>CO2 Emissions (metric tons per capita)=%{y}<extra></extra>",
         "legendgroup": "Japan",
         "line": {
          "color": "#ab63fa"
         },
         "marker": {
          "symbol": "circle"
         },
         "mode": "lines",
         "name": "Japan",
         "orientation": "v",
         "showlegend": true,
         "stackgroup": "1",
         "type": "scatter",
         "x": [
          1960,
          1961,
          1962,
          1963,
          1964,
          1965,
          1966,
          1967,
          1968,
          1969,
          1970,
          1971,
          1972,
          1973,
          1974,
          1975,
          1976,
          1977,
          1978,
          1979,
          1980,
          1981,
          1982,
          1983,
          1984,
          1985,
          1986,
          1987,
          1988,
          1989,
          1990,
          1991,
          1992,
          1993,
          1994,
          1995,
          1996,
          1997,
          1998,
          1999,
          2000,
          2001,
          2002,
          2003,
          2004,
          2005,
          2006,
          2007,
          2008,
          2009,
          2010,
          2011,
          2012,
          2013,
          2014,
          2015,
          2016,
          2017,
          2018,
          2019,
          2020,
          2021,
          2022,
          2023
         ],
         "xaxis": "x",
         "y": [
          47419238274.4619,
          57266758179.5883,
          64987857541.6256,
          74379284603.3875,
          87490590817.9803,
          97338107605.8236,
          113046784179.289,
          132475614226.519,
          156897496759.128,
          184298841304.667,
          217223652719.444,
          245364056622.363,
          324933841268.585,
          441460582535.921,
          490035789970.299,
          532861438884.724,
          598883902155.605,
          737069290927.712,
          1035611588216.59,
          1077910077676.37,
          1129377244854.04,
          1245221410764.15,
          1158731426905.85,
          1270859919742.9,
          1345824500836.76,
          1427019759717.41,
          2120083812109.91,
          2580748422781.09,
          3125724434400.79,
          3109455047823.93,
          3185904656663.85,
          3648065760648.88,
          3980702922117.66,
          4536940479038.25,
          4998797547740.97,
          5545563663889.7,
          4923391533851.63,
          4492448605638.94,
          4098362709531.24,
          4635982224063.88,
          4968359075956.59,
          4374711694090.87,
          4182846045873.61,
          4519561645253.53,
          4893116005656.56,
          4831467035389.8,
          4601663122649.92,
          4579750920354.81,
          5106679115127.3,
          5289493117993.89,
          5759071769013.11,
          6233147172341.35,
          6272362996105.03,
          5212328181166.18,
          4896994405353.29,
          4444930651964.18,
          5003677627544.24,
          4930837369151.42,
          5040880939324.86,
          5117993853016.51,
          5055587093501.59,
          5034620784584.98,
          4256410760723.75,
          4212945159781.4
         ],
         "yaxis": "y"
        },
        {
         "fillpattern": {
          "shape": ""
         },
         "hovertemplate": "Country_Name=United States<br>Year=%{x}<br>CO2 Emissions (metric tons per capita)=%{y}<extra></extra>",
         "legendgroup": "United States",
         "line": {
          "color": "#FFA15A"
         },
         "marker": {
          "symbol": "circle"
         },
         "mode": "lines",
         "name": "United States",
         "orientation": "v",
         "showlegend": true,
         "stackgroup": "1",
         "type": "scatter",
         "x": [
          1960,
          1961,
          1962,
          1963,
          1964,
          1965,
          1966,
          1967,
          1968,
          1969,
          1970,
          1971,
          1972,
          1973,
          1974,
          1975,
          1976,
          1977,
          1978,
          1979,
          1980,
          1981,
          1982,
          1983,
          1984,
          1985,
          1986,
          1987,
          1988,
          1989,
          1990,
          1991,
          1992,
          1993,
          1994,
          1995,
          1996,
          1997,
          1998,
          1999,
          2000,
          2001,
          2002,
          2003,
          2004,
          2005,
          2006,
          2007,
          2008,
          2009,
          2010,
          2011,
          2012,
          2013,
          2014,
          2015,
          2016,
          2017,
          2018,
          2019,
          2020,
          2021,
          2022,
          2023
         ],
         "xaxis": "x",
         "y": [
          541988586206.897,
          561940310344.828,
          603639413793.103,
          637058551724.138,
          684144620689.655,
          741904862068.965,
          813032758620.69,
          859620034482.759,
          940225000000,
          1017438172413.79,
          1073303000000,
          1164850000000,
          1279110000000,
          1425376000000,
          1545243000000,
          1684904000000,
          1873412000000,
          2081826000000,
          2351599000000,
          2627333000000,
          2857307000000,
          3207041000000,
          3343789000000,
          3634038000000,
          4037613000000,
          4338979000000,
          4579631000000,
          4855215000000,
          5236438000000,
          5641580000000,
          5963144000000,
          6158129000000,
          6520327000000,
          6858559000000,
          7287236000000,
          7639749000000,
          8073122000000,
          8577552000000,
          9062817000000,
          9631172000000,
          10250952000000,
          10581929000000,
          10929108000000,
          11456450000000,
          12217196000000,
          13039197000000,
          13815583000000,
          14474228000000,
          14769862000000,
          14478067000000,
          15048971000000,
          15599732000000,
          16253970000000,
          16880683000000,
          17608138000000,
          18295019000000,
          18804913000000,
          19612102000000,
          20656516000000,
          21521395000000,
          21322950000000,
          23594031000000,
          25744108000000,
          27360935000000
         ],
         "yaxis": "y"
        }
       ],
       "layout": {
        "legend": {
         "title": {
          "text": "Country"
         },
         "tracegroupgap": 0
        },
        "template": {
         "data": {
          "bar": [
           {
            "error_x": {
             "color": "#2a3f5f"
            },
            "error_y": {
             "color": "#2a3f5f"
            },
            "marker": {
             "line": {
              "color": "white",
              "width": 0.5
             },
             "pattern": {
              "fillmode": "overlay",
              "size": 10,
              "solidity": 0.2
             }
            },
            "type": "bar"
           }
          ],
          "barpolar": [
           {
            "marker": {
             "line": {
              "color": "white",
              "width": 0.5
             },
             "pattern": {
              "fillmode": "overlay",
              "size": 10,
              "solidity": 0.2
             }
            },
            "type": "barpolar"
           }
          ],
          "carpet": [
           {
            "aaxis": {
             "endlinecolor": "#2a3f5f",
             "gridcolor": "#C8D4E3",
             "linecolor": "#C8D4E3",
             "minorgridcolor": "#C8D4E3",
             "startlinecolor": "#2a3f5f"
            },
            "baxis": {
             "endlinecolor": "#2a3f5f",
             "gridcolor": "#C8D4E3",
             "linecolor": "#C8D4E3",
             "minorgridcolor": "#C8D4E3",
             "startlinecolor": "#2a3f5f"
            },
            "type": "carpet"
           }
          ],
          "choropleth": [
           {
            "colorbar": {
             "outlinewidth": 0,
             "ticks": ""
            },
            "type": "choropleth"
           }
          ],
          "contour": [
           {
            "colorbar": {
             "outlinewidth": 0,
             "ticks": ""
            },
            "colorscale": [
             [
              0,
              "#0d0887"
             ],
             [
              0.1111111111111111,
              "#46039f"
             ],
             [
              0.2222222222222222,
              "#7201a8"
             ],
             [
              0.3333333333333333,
              "#9c179e"
             ],
             [
              0.4444444444444444,
              "#bd3786"
             ],
             [
              0.5555555555555556,
              "#d8576b"
             ],
             [
              0.6666666666666666,
              "#ed7953"
             ],
             [
              0.7777777777777778,
              "#fb9f3a"
             ],
             [
              0.8888888888888888,
              "#fdca26"
             ],
             [
              1,
              "#f0f921"
             ]
            ],
            "type": "contour"
           }
          ],
          "contourcarpet": [
           {
            "colorbar": {
             "outlinewidth": 0,
             "ticks": ""
            },
            "type": "contourcarpet"
           }
          ],
          "heatmap": [
           {
            "colorbar": {
             "outlinewidth": 0,
             "ticks": ""
            },
            "colorscale": [
             [
              0,
              "#0d0887"
             ],
             [
              0.1111111111111111,
              "#46039f"
             ],
             [
              0.2222222222222222,
              "#7201a8"
             ],
             [
              0.3333333333333333,
              "#9c179e"
             ],
             [
              0.4444444444444444,
              "#bd3786"
             ],
             [
              0.5555555555555556,
              "#d8576b"
             ],
             [
              0.6666666666666666,
              "#ed7953"
             ],
             [
              0.7777777777777778,
              "#fb9f3a"
             ],
             [
              0.8888888888888888,
              "#fdca26"
             ],
             [
              1,
              "#f0f921"
             ]
            ],
            "type": "heatmap"
           }
          ],
          "heatmapgl": [
           {
            "colorbar": {
             "outlinewidth": 0,
             "ticks": ""
            },
            "colorscale": [
             [
              0,
              "#0d0887"
             ],
             [
              0.1111111111111111,
              "#46039f"
             ],
             [
              0.2222222222222222,
              "#7201a8"
             ],
             [
              0.3333333333333333,
              "#9c179e"
             ],
             [
              0.4444444444444444,
              "#bd3786"
             ],
             [
              0.5555555555555556,
              "#d8576b"
             ],
             [
              0.6666666666666666,
              "#ed7953"
             ],
             [
              0.7777777777777778,
              "#fb9f3a"
             ],
             [
              0.8888888888888888,
              "#fdca26"
             ],
             [
              1,
              "#f0f921"
             ]
            ],
            "type": "heatmapgl"
           }
          ],
          "histogram": [
           {
            "marker": {
             "pattern": {
              "fillmode": "overlay",
              "size": 10,
              "solidity": 0.2
             }
            },
            "type": "histogram"
           }
          ],
          "histogram2d": [
           {
            "colorbar": {
             "outlinewidth": 0,
             "ticks": ""
            },
            "colorscale": [
             [
              0,
              "#0d0887"
             ],
             [
              0.1111111111111111,
              "#46039f"
             ],
             [
              0.2222222222222222,
              "#7201a8"
             ],
             [
              0.3333333333333333,
              "#9c179e"
             ],
             [
              0.4444444444444444,
              "#bd3786"
             ],
             [
              0.5555555555555556,
              "#d8576b"
             ],
             [
              0.6666666666666666,
              "#ed7953"
             ],
             [
              0.7777777777777778,
              "#fb9f3a"
             ],
             [
              0.8888888888888888,
              "#fdca26"
             ],
             [
              1,
              "#f0f921"
             ]
            ],
            "type": "histogram2d"
           }
          ],
          "histogram2dcontour": [
           {
            "colorbar": {
             "outlinewidth": 0,
             "ticks": ""
            },
            "colorscale": [
             [
              0,
              "#0d0887"
             ],
             [
              0.1111111111111111,
              "#46039f"
             ],
             [
              0.2222222222222222,
              "#7201a8"
             ],
             [
              0.3333333333333333,
              "#9c179e"
             ],
             [
              0.4444444444444444,
              "#bd3786"
             ],
             [
              0.5555555555555556,
              "#d8576b"
             ],
             [
              0.6666666666666666,
              "#ed7953"
             ],
             [
              0.7777777777777778,
              "#fb9f3a"
             ],
             [
              0.8888888888888888,
              "#fdca26"
             ],
             [
              1,
              "#f0f921"
             ]
            ],
            "type": "histogram2dcontour"
           }
          ],
          "mesh3d": [
           {
            "colorbar": {
             "outlinewidth": 0,
             "ticks": ""
            },
            "type": "mesh3d"
           }
          ],
          "parcoords": [
           {
            "line": {
             "colorbar": {
              "outlinewidth": 0,
              "ticks": ""
             }
            },
            "type": "parcoords"
           }
          ],
          "pie": [
           {
            "automargin": true,
            "type": "pie"
           }
          ],
          "scatter": [
           {
            "fillpattern": {
             "fillmode": "overlay",
             "size": 10,
             "solidity": 0.2
            },
            "type": "scatter"
           }
          ],
          "scatter3d": [
           {
            "line": {
             "colorbar": {
              "outlinewidth": 0,
              "ticks": ""
             }
            },
            "marker": {
             "colorbar": {
              "outlinewidth": 0,
              "ticks": ""
             }
            },
            "type": "scatter3d"
           }
          ],
          "scattercarpet": [
           {
            "marker": {
             "colorbar": {
              "outlinewidth": 0,
              "ticks": ""
             }
            },
            "type": "scattercarpet"
           }
          ],
          "scattergeo": [
           {
            "marker": {
             "colorbar": {
              "outlinewidth": 0,
              "ticks": ""
             }
            },
            "type": "scattergeo"
           }
          ],
          "scattergl": [
           {
            "marker": {
             "colorbar": {
              "outlinewidth": 0,
              "ticks": ""
             }
            },
            "type": "scattergl"
           }
          ],
          "scattermapbox": [
           {
            "marker": {
             "colorbar": {
              "outlinewidth": 0,
              "ticks": ""
             }
            },
            "type": "scattermapbox"
           }
          ],
          "scatterpolar": [
           {
            "marker": {
             "colorbar": {
              "outlinewidth": 0,
              "ticks": ""
             }
            },
            "type": "scatterpolar"
           }
          ],
          "scatterpolargl": [
           {
            "marker": {
             "colorbar": {
              "outlinewidth": 0,
              "ticks": ""
             }
            },
            "type": "scatterpolargl"
           }
          ],
          "scatterternary": [
           {
            "marker": {
             "colorbar": {
              "outlinewidth": 0,
              "ticks": ""
             }
            },
            "type": "scatterternary"
           }
          ],
          "surface": [
           {
            "colorbar": {
             "outlinewidth": 0,
             "ticks": ""
            },
            "colorscale": [
             [
              0,
              "#0d0887"
             ],
             [
              0.1111111111111111,
              "#46039f"
             ],
             [
              0.2222222222222222,
              "#7201a8"
             ],
             [
              0.3333333333333333,
              "#9c179e"
             ],
             [
              0.4444444444444444,
              "#bd3786"
             ],
             [
              0.5555555555555556,
              "#d8576b"
             ],
             [
              0.6666666666666666,
              "#ed7953"
             ],
             [
              0.7777777777777778,
              "#fb9f3a"
             ],
             [
              0.8888888888888888,
              "#fdca26"
             ],
             [
              1,
              "#f0f921"
             ]
            ],
            "type": "surface"
           }
          ],
          "table": [
           {
            "cells": {
             "fill": {
              "color": "#EBF0F8"
             },
             "line": {
              "color": "white"
             }
            },
            "header": {
             "fill": {
              "color": "#C8D4E3"
             },
             "line": {
              "color": "white"
             }
            },
            "type": "table"
           }
          ]
         },
         "layout": {
          "annotationdefaults": {
           "arrowcolor": "#2a3f5f",
           "arrowhead": 0,
           "arrowwidth": 1
          },
          "autotypenumbers": "strict",
          "coloraxis": {
           "colorbar": {
            "outlinewidth": 0,
            "ticks": ""
           }
          },
          "colorscale": {
           "diverging": [
            [
             0,
             "#8e0152"
            ],
            [
             0.1,
             "#c51b7d"
            ],
            [
             0.2,
             "#de77ae"
            ],
            [
             0.3,
             "#f1b6da"
            ],
            [
             0.4,
             "#fde0ef"
            ],
            [
             0.5,
             "#f7f7f7"
            ],
            [
             0.6,
             "#e6f5d0"
            ],
            [
             0.7,
             "#b8e186"
            ],
            [
             0.8,
             "#7fbc41"
            ],
            [
             0.9,
             "#4d9221"
            ],
            [
             1,
             "#276419"
            ]
           ],
           "sequential": [
            [
             0,
             "#0d0887"
            ],
            [
             0.1111111111111111,
             "#46039f"
            ],
            [
             0.2222222222222222,
             "#7201a8"
            ],
            [
             0.3333333333333333,
             "#9c179e"
            ],
            [
             0.4444444444444444,
             "#bd3786"
            ],
            [
             0.5555555555555556,
             "#d8576b"
            ],
            [
             0.6666666666666666,
             "#ed7953"
            ],
            [
             0.7777777777777778,
             "#fb9f3a"
            ],
            [
             0.8888888888888888,
             "#fdca26"
            ],
            [
             1,
             "#f0f921"
            ]
           ],
           "sequentialminus": [
            [
             0,
             "#0d0887"
            ],
            [
             0.1111111111111111,
             "#46039f"
            ],
            [
             0.2222222222222222,
             "#7201a8"
            ],
            [
             0.3333333333333333,
             "#9c179e"
            ],
            [
             0.4444444444444444,
             "#bd3786"
            ],
            [
             0.5555555555555556,
             "#d8576b"
            ],
            [
             0.6666666666666666,
             "#ed7953"
            ],
            [
             0.7777777777777778,
             "#fb9f3a"
            ],
            [
             0.8888888888888888,
             "#fdca26"
            ],
            [
             1,
             "#f0f921"
            ]
           ]
          },
          "colorway": [
           "#636efa",
           "#EF553B",
           "#00cc96",
           "#ab63fa",
           "#FFA15A",
           "#19d3f3",
           "#FF6692",
           "#B6E880",
           "#FF97FF",
           "#FECB52"
          ],
          "font": {
           "color": "#2a3f5f"
          },
          "geo": {
           "bgcolor": "white",
           "lakecolor": "white",
           "landcolor": "white",
           "showlakes": true,
           "showland": true,
           "subunitcolor": "#C8D4E3"
          },
          "hoverlabel": {
           "align": "left"
          },
          "hovermode": "closest",
          "mapbox": {
           "style": "light"
          },
          "paper_bgcolor": "white",
          "plot_bgcolor": "white",
          "polar": {
           "angularaxis": {
            "gridcolor": "#EBF0F8",
            "linecolor": "#EBF0F8",
            "ticks": ""
           },
           "bgcolor": "white",
           "radialaxis": {
            "gridcolor": "#EBF0F8",
            "linecolor": "#EBF0F8",
            "ticks": ""
           }
          },
          "scene": {
           "xaxis": {
            "backgroundcolor": "white",
            "gridcolor": "#DFE8F3",
            "gridwidth": 2,
            "linecolor": "#EBF0F8",
            "showbackground": true,
            "ticks": "",
            "zerolinecolor": "#EBF0F8"
           },
           "yaxis": {
            "backgroundcolor": "white",
            "gridcolor": "#DFE8F3",
            "gridwidth": 2,
            "linecolor": "#EBF0F8",
            "showbackground": true,
            "ticks": "",
            "zerolinecolor": "#EBF0F8"
           },
           "zaxis": {
            "backgroundcolor": "white",
            "gridcolor": "#DFE8F3",
            "gridwidth": 2,
            "linecolor": "#EBF0F8",
            "showbackground": true,
            "ticks": "",
            "zerolinecolor": "#EBF0F8"
           }
          },
          "shapedefaults": {
           "line": {
            "color": "#2a3f5f"
           }
          },
          "ternary": {
           "aaxis": {
            "gridcolor": "#DFE8F3",
            "linecolor": "#A2B1C6",
            "ticks": ""
           },
           "baxis": {
            "gridcolor": "#DFE8F3",
            "linecolor": "#A2B1C6",
            "ticks": ""
           },
           "bgcolor": "white",
           "caxis": {
            "gridcolor": "#DFE8F3",
            "linecolor": "#A2B1C6",
            "ticks": ""
           }
          },
          "title": {
           "x": 0.05
          },
          "xaxis": {
           "automargin": true,
           "gridcolor": "#EBF0F8",
           "linecolor": "#EBF0F8",
           "ticks": "",
           "title": {
            "standoff": 15
           },
           "zerolinecolor": "#EBF0F8",
           "zerolinewidth": 2
          },
          "yaxis": {
           "automargin": true,
           "gridcolor": "#EBF0F8",
           "linecolor": "#EBF0F8",
           "ticks": "",
           "title": {
            "standoff": 15
           },
           "zerolinecolor": "#EBF0F8",
           "zerolinewidth": 2
          }
         }
        },
        "title": {
         "text": "CO2 Emissions Over Time by Country (Area Chart)"
        },
        "xaxis": {
         "anchor": "y",
         "domain": [
          0,
          1
         ],
         "title": {
          "text": "Year"
         }
        },
        "yaxis": {
         "anchor": "x",
         "domain": [
          0,
          1
         ],
         "title": {
          "text": "CO2 Emissions (metric tons per capita)"
         }
        }
       }
      }
     },
     "metadata": {},
     "output_type": "display_data"
    }
   ],
   "source": [
    "countries_to_filter = ['China', 'Japan', 'India', 'United States', 'Russia', 'Germany']\n",
    "\n",
    "# Filter the DataFrame to include only the specified countries\n",
    "filtered_df = df[df['Country_Name'].isin(countries_to_filter)]\n",
    "\n",
    "# Create an area chart of CO2 Emissions over time for each country\n",
    "fig = px.area(\n",
    "    filtered_df,\n",
    "    x=\"Year\",                  # Year on the x-axis\n",
    "    y=\"CO2_Emissions\",         # CO2 emissions on the y-axis\n",
    "    color=\"Country_Name\",      # Color by country to distinguish areas\n",
    "    title=\"CO2 Emissions Over Time by Country (Area Chart)\",\n",
    "    labels={\n",
    "        \"Year\": \"Year\",\n",
    "        \"CO2_Emissions\": \"CO2 Emissions (metric tons per capita)\"\n",
    "    },\n",
    "    template=\"plotly_white\"\n",
    ")\n",
    "\n",
    "# Customize the layout\n",
    "fig.update_layout(\n",
    "    xaxis_title=\"Year\",\n",
    "    yaxis_title=\"CO2 Emissions (metric tons per capita)\",\n",
    "    legend_title=\"Country\",\n",
    ")\n",
    "\n",
    "fig.show()\n"
   ]
  }
 ],
 "metadata": {
  "kernelspec": {
   "display_name": "Python 3.11.9 64-bit (microsoft store)",
   "language": "python",
   "name": "python3"
  },
  "language_info": {
   "codemirror_mode": {
    "name": "ipython",
    "version": 3
   },
   "file_extension": ".py",
   "mimetype": "text/x-python",
   "name": "python",
   "nbconvert_exporter": "python",
   "pygments_lexer": "ipython3",
   "version": "3.11.9"
  },
  "orig_nbformat": 4,
  "vscode": {
   "interpreter": {
    "hash": "727938b0e2cd8aed49f65c52f1cb53b81369d6935fa90dadb3ccee4eaf44266b"
   }
  }
 },
 "nbformat": 4,
 "nbformat_minor": 2
}
